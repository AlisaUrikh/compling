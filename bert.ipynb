{
  "nbformat": 4,
  "nbformat_minor": 0,
  "metadata": {
    "colab": {
      "provenance": [],
      "toc_visible": true,
      "gpuType": "T4",
      "authorship_tag": "ABX9TyONL2sIekKe/aCIJcgWYM5p",
      "include_colab_link": true
    },
    "kernelspec": {
      "name": "python3",
      "display_name": "Python 3"
    },
    "language_info": {
      "name": "python"
    },
    "accelerator": "GPU",
    "widgets": {
      "application/vnd.jupyter.widget-state+json": {
        "6d3356ef87f44e098e69ad9d665b3e45": {
          "model_module": "@jupyter-widgets/controls",
          "model_name": "HBoxModel",
          "model_module_version": "1.5.0",
          "state": {
            "_dom_classes": [],
            "_model_module": "@jupyter-widgets/controls",
            "_model_module_version": "1.5.0",
            "_model_name": "HBoxModel",
            "_view_count": null,
            "_view_module": "@jupyter-widgets/controls",
            "_view_module_version": "1.5.0",
            "_view_name": "HBoxView",
            "box_style": "",
            "children": [
              "IPY_MODEL_ec732739bd8f4e1da7b980b237c708eb",
              "IPY_MODEL_a87a3d0b427c4cba9f8c29cf25081daa",
              "IPY_MODEL_285cd417c7e540a5b40a43f8a56a6611"
            ],
            "layout": "IPY_MODEL_597d1fcf3f7442d9aa0fbc14395cac4b"
          }
        },
        "ec732739bd8f4e1da7b980b237c708eb": {
          "model_module": "@jupyter-widgets/controls",
          "model_name": "HTMLModel",
          "model_module_version": "1.5.0",
          "state": {
            "_dom_classes": [],
            "_model_module": "@jupyter-widgets/controls",
            "_model_module_version": "1.5.0",
            "_model_name": "HTMLModel",
            "_view_count": null,
            "_view_module": "@jupyter-widgets/controls",
            "_view_module_version": "1.5.0",
            "_view_name": "HTMLView",
            "description": "",
            "description_tooltip": null,
            "layout": "IPY_MODEL_88ade95dbc544ebeb2078a3b3ce4c525",
            "placeholder": "​",
            "style": "IPY_MODEL_a9c5e9ad6e60411b9bca72f83d3b4204",
            "value": "tokenizer_config.json: 100%"
          }
        },
        "a87a3d0b427c4cba9f8c29cf25081daa": {
          "model_module": "@jupyter-widgets/controls",
          "model_name": "FloatProgressModel",
          "model_module_version": "1.5.0",
          "state": {
            "_dom_classes": [],
            "_model_module": "@jupyter-widgets/controls",
            "_model_module_version": "1.5.0",
            "_model_name": "FloatProgressModel",
            "_view_count": null,
            "_view_module": "@jupyter-widgets/controls",
            "_view_module_version": "1.5.0",
            "_view_name": "ProgressView",
            "bar_style": "success",
            "description": "",
            "description_tooltip": null,
            "layout": "IPY_MODEL_559acc56c53645f69c562418d0aa1564",
            "max": 48,
            "min": 0,
            "orientation": "horizontal",
            "style": "IPY_MODEL_3fbfb1807df747baadde33857745462b",
            "value": 48
          }
        },
        "285cd417c7e540a5b40a43f8a56a6611": {
          "model_module": "@jupyter-widgets/controls",
          "model_name": "HTMLModel",
          "model_module_version": "1.5.0",
          "state": {
            "_dom_classes": [],
            "_model_module": "@jupyter-widgets/controls",
            "_model_module_version": "1.5.0",
            "_model_name": "HTMLModel",
            "_view_count": null,
            "_view_module": "@jupyter-widgets/controls",
            "_view_module_version": "1.5.0",
            "_view_name": "HTMLView",
            "description": "",
            "description_tooltip": null,
            "layout": "IPY_MODEL_9136ed664efb4ec896bdd3da24fea197",
            "placeholder": "​",
            "style": "IPY_MODEL_45ab0c7072824fe9bfef396a24231b3a",
            "value": " 48.0/48.0 [00:00&lt;00:00, 1.15kB/s]"
          }
        },
        "597d1fcf3f7442d9aa0fbc14395cac4b": {
          "model_module": "@jupyter-widgets/base",
          "model_name": "LayoutModel",
          "model_module_version": "1.2.0",
          "state": {
            "_model_module": "@jupyter-widgets/base",
            "_model_module_version": "1.2.0",
            "_model_name": "LayoutModel",
            "_view_count": null,
            "_view_module": "@jupyter-widgets/base",
            "_view_module_version": "1.2.0",
            "_view_name": "LayoutView",
            "align_content": null,
            "align_items": null,
            "align_self": null,
            "border": null,
            "bottom": null,
            "display": null,
            "flex": null,
            "flex_flow": null,
            "grid_area": null,
            "grid_auto_columns": null,
            "grid_auto_flow": null,
            "grid_auto_rows": null,
            "grid_column": null,
            "grid_gap": null,
            "grid_row": null,
            "grid_template_areas": null,
            "grid_template_columns": null,
            "grid_template_rows": null,
            "height": null,
            "justify_content": null,
            "justify_items": null,
            "left": null,
            "margin": null,
            "max_height": null,
            "max_width": null,
            "min_height": null,
            "min_width": null,
            "object_fit": null,
            "object_position": null,
            "order": null,
            "overflow": null,
            "overflow_x": null,
            "overflow_y": null,
            "padding": null,
            "right": null,
            "top": null,
            "visibility": null,
            "width": null
          }
        },
        "88ade95dbc544ebeb2078a3b3ce4c525": {
          "model_module": "@jupyter-widgets/base",
          "model_name": "LayoutModel",
          "model_module_version": "1.2.0",
          "state": {
            "_model_module": "@jupyter-widgets/base",
            "_model_module_version": "1.2.0",
            "_model_name": "LayoutModel",
            "_view_count": null,
            "_view_module": "@jupyter-widgets/base",
            "_view_module_version": "1.2.0",
            "_view_name": "LayoutView",
            "align_content": null,
            "align_items": null,
            "align_self": null,
            "border": null,
            "bottom": null,
            "display": null,
            "flex": null,
            "flex_flow": null,
            "grid_area": null,
            "grid_auto_columns": null,
            "grid_auto_flow": null,
            "grid_auto_rows": null,
            "grid_column": null,
            "grid_gap": null,
            "grid_row": null,
            "grid_template_areas": null,
            "grid_template_columns": null,
            "grid_template_rows": null,
            "height": null,
            "justify_content": null,
            "justify_items": null,
            "left": null,
            "margin": null,
            "max_height": null,
            "max_width": null,
            "min_height": null,
            "min_width": null,
            "object_fit": null,
            "object_position": null,
            "order": null,
            "overflow": null,
            "overflow_x": null,
            "overflow_y": null,
            "padding": null,
            "right": null,
            "top": null,
            "visibility": null,
            "width": null
          }
        },
        "a9c5e9ad6e60411b9bca72f83d3b4204": {
          "model_module": "@jupyter-widgets/controls",
          "model_name": "DescriptionStyleModel",
          "model_module_version": "1.5.0",
          "state": {
            "_model_module": "@jupyter-widgets/controls",
            "_model_module_version": "1.5.0",
            "_model_name": "DescriptionStyleModel",
            "_view_count": null,
            "_view_module": "@jupyter-widgets/base",
            "_view_module_version": "1.2.0",
            "_view_name": "StyleView",
            "description_width": ""
          }
        },
        "559acc56c53645f69c562418d0aa1564": {
          "model_module": "@jupyter-widgets/base",
          "model_name": "LayoutModel",
          "model_module_version": "1.2.0",
          "state": {
            "_model_module": "@jupyter-widgets/base",
            "_model_module_version": "1.2.0",
            "_model_name": "LayoutModel",
            "_view_count": null,
            "_view_module": "@jupyter-widgets/base",
            "_view_module_version": "1.2.0",
            "_view_name": "LayoutView",
            "align_content": null,
            "align_items": null,
            "align_self": null,
            "border": null,
            "bottom": null,
            "display": null,
            "flex": null,
            "flex_flow": null,
            "grid_area": null,
            "grid_auto_columns": null,
            "grid_auto_flow": null,
            "grid_auto_rows": null,
            "grid_column": null,
            "grid_gap": null,
            "grid_row": null,
            "grid_template_areas": null,
            "grid_template_columns": null,
            "grid_template_rows": null,
            "height": null,
            "justify_content": null,
            "justify_items": null,
            "left": null,
            "margin": null,
            "max_height": null,
            "max_width": null,
            "min_height": null,
            "min_width": null,
            "object_fit": null,
            "object_position": null,
            "order": null,
            "overflow": null,
            "overflow_x": null,
            "overflow_y": null,
            "padding": null,
            "right": null,
            "top": null,
            "visibility": null,
            "width": null
          }
        },
        "3fbfb1807df747baadde33857745462b": {
          "model_module": "@jupyter-widgets/controls",
          "model_name": "ProgressStyleModel",
          "model_module_version": "1.5.0",
          "state": {
            "_model_module": "@jupyter-widgets/controls",
            "_model_module_version": "1.5.0",
            "_model_name": "ProgressStyleModel",
            "_view_count": null,
            "_view_module": "@jupyter-widgets/base",
            "_view_module_version": "1.2.0",
            "_view_name": "StyleView",
            "bar_color": null,
            "description_width": ""
          }
        },
        "9136ed664efb4ec896bdd3da24fea197": {
          "model_module": "@jupyter-widgets/base",
          "model_name": "LayoutModel",
          "model_module_version": "1.2.0",
          "state": {
            "_model_module": "@jupyter-widgets/base",
            "_model_module_version": "1.2.0",
            "_model_name": "LayoutModel",
            "_view_count": null,
            "_view_module": "@jupyter-widgets/base",
            "_view_module_version": "1.2.0",
            "_view_name": "LayoutView",
            "align_content": null,
            "align_items": null,
            "align_self": null,
            "border": null,
            "bottom": null,
            "display": null,
            "flex": null,
            "flex_flow": null,
            "grid_area": null,
            "grid_auto_columns": null,
            "grid_auto_flow": null,
            "grid_auto_rows": null,
            "grid_column": null,
            "grid_gap": null,
            "grid_row": null,
            "grid_template_areas": null,
            "grid_template_columns": null,
            "grid_template_rows": null,
            "height": null,
            "justify_content": null,
            "justify_items": null,
            "left": null,
            "margin": null,
            "max_height": null,
            "max_width": null,
            "min_height": null,
            "min_width": null,
            "object_fit": null,
            "object_position": null,
            "order": null,
            "overflow": null,
            "overflow_x": null,
            "overflow_y": null,
            "padding": null,
            "right": null,
            "top": null,
            "visibility": null,
            "width": null
          }
        },
        "45ab0c7072824fe9bfef396a24231b3a": {
          "model_module": "@jupyter-widgets/controls",
          "model_name": "DescriptionStyleModel",
          "model_module_version": "1.5.0",
          "state": {
            "_model_module": "@jupyter-widgets/controls",
            "_model_module_version": "1.5.0",
            "_model_name": "DescriptionStyleModel",
            "_view_count": null,
            "_view_module": "@jupyter-widgets/base",
            "_view_module_version": "1.2.0",
            "_view_name": "StyleView",
            "description_width": ""
          }
        },
        "3ac06352282f4550a2138fb8b509a4eb": {
          "model_module": "@jupyter-widgets/controls",
          "model_name": "HBoxModel",
          "model_module_version": "1.5.0",
          "state": {
            "_dom_classes": [],
            "_model_module": "@jupyter-widgets/controls",
            "_model_module_version": "1.5.0",
            "_model_name": "HBoxModel",
            "_view_count": null,
            "_view_module": "@jupyter-widgets/controls",
            "_view_module_version": "1.5.0",
            "_view_name": "HBoxView",
            "box_style": "",
            "children": [
              "IPY_MODEL_e50ad0f86d58405eb7ced8e7c2e533d9",
              "IPY_MODEL_4001dfc2d79e42729a909dcb13e0c480",
              "IPY_MODEL_75ebe76e68b343f9aa3fae8842844633"
            ],
            "layout": "IPY_MODEL_ab85f16732a84fa8982830a3e50cb1f2"
          }
        },
        "e50ad0f86d58405eb7ced8e7c2e533d9": {
          "model_module": "@jupyter-widgets/controls",
          "model_name": "HTMLModel",
          "model_module_version": "1.5.0",
          "state": {
            "_dom_classes": [],
            "_model_module": "@jupyter-widgets/controls",
            "_model_module_version": "1.5.0",
            "_model_name": "HTMLModel",
            "_view_count": null,
            "_view_module": "@jupyter-widgets/controls",
            "_view_module_version": "1.5.0",
            "_view_name": "HTMLView",
            "description": "",
            "description_tooltip": null,
            "layout": "IPY_MODEL_f61e910d5fb34dde9a1ee6f028ae914e",
            "placeholder": "​",
            "style": "IPY_MODEL_931ccfb44c824e958f419be29eeed358",
            "value": "vocab.txt: 100%"
          }
        },
        "4001dfc2d79e42729a909dcb13e0c480": {
          "model_module": "@jupyter-widgets/controls",
          "model_name": "FloatProgressModel",
          "model_module_version": "1.5.0",
          "state": {
            "_dom_classes": [],
            "_model_module": "@jupyter-widgets/controls",
            "_model_module_version": "1.5.0",
            "_model_name": "FloatProgressModel",
            "_view_count": null,
            "_view_module": "@jupyter-widgets/controls",
            "_view_module_version": "1.5.0",
            "_view_name": "ProgressView",
            "bar_style": "success",
            "description": "",
            "description_tooltip": null,
            "layout": "IPY_MODEL_faef983f0cd6463b875f5f5b6643a42c",
            "max": 231508,
            "min": 0,
            "orientation": "horizontal",
            "style": "IPY_MODEL_e8f2f99dec9f4af88873ca7b5190e235",
            "value": 231508
          }
        },
        "75ebe76e68b343f9aa3fae8842844633": {
          "model_module": "@jupyter-widgets/controls",
          "model_name": "HTMLModel",
          "model_module_version": "1.5.0",
          "state": {
            "_dom_classes": [],
            "_model_module": "@jupyter-widgets/controls",
            "_model_module_version": "1.5.0",
            "_model_name": "HTMLModel",
            "_view_count": null,
            "_view_module": "@jupyter-widgets/controls",
            "_view_module_version": "1.5.0",
            "_view_name": "HTMLView",
            "description": "",
            "description_tooltip": null,
            "layout": "IPY_MODEL_e3f88cd28d87410d898c1d6ed3fb8540",
            "placeholder": "​",
            "style": "IPY_MODEL_770526f1260c4384bd49e0b293d8b58e",
            "value": " 232k/232k [00:00&lt;00:00, 4.17MB/s]"
          }
        },
        "ab85f16732a84fa8982830a3e50cb1f2": {
          "model_module": "@jupyter-widgets/base",
          "model_name": "LayoutModel",
          "model_module_version": "1.2.0",
          "state": {
            "_model_module": "@jupyter-widgets/base",
            "_model_module_version": "1.2.0",
            "_model_name": "LayoutModel",
            "_view_count": null,
            "_view_module": "@jupyter-widgets/base",
            "_view_module_version": "1.2.0",
            "_view_name": "LayoutView",
            "align_content": null,
            "align_items": null,
            "align_self": null,
            "border": null,
            "bottom": null,
            "display": null,
            "flex": null,
            "flex_flow": null,
            "grid_area": null,
            "grid_auto_columns": null,
            "grid_auto_flow": null,
            "grid_auto_rows": null,
            "grid_column": null,
            "grid_gap": null,
            "grid_row": null,
            "grid_template_areas": null,
            "grid_template_columns": null,
            "grid_template_rows": null,
            "height": null,
            "justify_content": null,
            "justify_items": null,
            "left": null,
            "margin": null,
            "max_height": null,
            "max_width": null,
            "min_height": null,
            "min_width": null,
            "object_fit": null,
            "object_position": null,
            "order": null,
            "overflow": null,
            "overflow_x": null,
            "overflow_y": null,
            "padding": null,
            "right": null,
            "top": null,
            "visibility": null,
            "width": null
          }
        },
        "f61e910d5fb34dde9a1ee6f028ae914e": {
          "model_module": "@jupyter-widgets/base",
          "model_name": "LayoutModel",
          "model_module_version": "1.2.0",
          "state": {
            "_model_module": "@jupyter-widgets/base",
            "_model_module_version": "1.2.0",
            "_model_name": "LayoutModel",
            "_view_count": null,
            "_view_module": "@jupyter-widgets/base",
            "_view_module_version": "1.2.0",
            "_view_name": "LayoutView",
            "align_content": null,
            "align_items": null,
            "align_self": null,
            "border": null,
            "bottom": null,
            "display": null,
            "flex": null,
            "flex_flow": null,
            "grid_area": null,
            "grid_auto_columns": null,
            "grid_auto_flow": null,
            "grid_auto_rows": null,
            "grid_column": null,
            "grid_gap": null,
            "grid_row": null,
            "grid_template_areas": null,
            "grid_template_columns": null,
            "grid_template_rows": null,
            "height": null,
            "justify_content": null,
            "justify_items": null,
            "left": null,
            "margin": null,
            "max_height": null,
            "max_width": null,
            "min_height": null,
            "min_width": null,
            "object_fit": null,
            "object_position": null,
            "order": null,
            "overflow": null,
            "overflow_x": null,
            "overflow_y": null,
            "padding": null,
            "right": null,
            "top": null,
            "visibility": null,
            "width": null
          }
        },
        "931ccfb44c824e958f419be29eeed358": {
          "model_module": "@jupyter-widgets/controls",
          "model_name": "DescriptionStyleModel",
          "model_module_version": "1.5.0",
          "state": {
            "_model_module": "@jupyter-widgets/controls",
            "_model_module_version": "1.5.0",
            "_model_name": "DescriptionStyleModel",
            "_view_count": null,
            "_view_module": "@jupyter-widgets/base",
            "_view_module_version": "1.2.0",
            "_view_name": "StyleView",
            "description_width": ""
          }
        },
        "faef983f0cd6463b875f5f5b6643a42c": {
          "model_module": "@jupyter-widgets/base",
          "model_name": "LayoutModel",
          "model_module_version": "1.2.0",
          "state": {
            "_model_module": "@jupyter-widgets/base",
            "_model_module_version": "1.2.0",
            "_model_name": "LayoutModel",
            "_view_count": null,
            "_view_module": "@jupyter-widgets/base",
            "_view_module_version": "1.2.0",
            "_view_name": "LayoutView",
            "align_content": null,
            "align_items": null,
            "align_self": null,
            "border": null,
            "bottom": null,
            "display": null,
            "flex": null,
            "flex_flow": null,
            "grid_area": null,
            "grid_auto_columns": null,
            "grid_auto_flow": null,
            "grid_auto_rows": null,
            "grid_column": null,
            "grid_gap": null,
            "grid_row": null,
            "grid_template_areas": null,
            "grid_template_columns": null,
            "grid_template_rows": null,
            "height": null,
            "justify_content": null,
            "justify_items": null,
            "left": null,
            "margin": null,
            "max_height": null,
            "max_width": null,
            "min_height": null,
            "min_width": null,
            "object_fit": null,
            "object_position": null,
            "order": null,
            "overflow": null,
            "overflow_x": null,
            "overflow_y": null,
            "padding": null,
            "right": null,
            "top": null,
            "visibility": null,
            "width": null
          }
        },
        "e8f2f99dec9f4af88873ca7b5190e235": {
          "model_module": "@jupyter-widgets/controls",
          "model_name": "ProgressStyleModel",
          "model_module_version": "1.5.0",
          "state": {
            "_model_module": "@jupyter-widgets/controls",
            "_model_module_version": "1.5.0",
            "_model_name": "ProgressStyleModel",
            "_view_count": null,
            "_view_module": "@jupyter-widgets/base",
            "_view_module_version": "1.2.0",
            "_view_name": "StyleView",
            "bar_color": null,
            "description_width": ""
          }
        },
        "e3f88cd28d87410d898c1d6ed3fb8540": {
          "model_module": "@jupyter-widgets/base",
          "model_name": "LayoutModel",
          "model_module_version": "1.2.0",
          "state": {
            "_model_module": "@jupyter-widgets/base",
            "_model_module_version": "1.2.0",
            "_model_name": "LayoutModel",
            "_view_count": null,
            "_view_module": "@jupyter-widgets/base",
            "_view_module_version": "1.2.0",
            "_view_name": "LayoutView",
            "align_content": null,
            "align_items": null,
            "align_self": null,
            "border": null,
            "bottom": null,
            "display": null,
            "flex": null,
            "flex_flow": null,
            "grid_area": null,
            "grid_auto_columns": null,
            "grid_auto_flow": null,
            "grid_auto_rows": null,
            "grid_column": null,
            "grid_gap": null,
            "grid_row": null,
            "grid_template_areas": null,
            "grid_template_columns": null,
            "grid_template_rows": null,
            "height": null,
            "justify_content": null,
            "justify_items": null,
            "left": null,
            "margin": null,
            "max_height": null,
            "max_width": null,
            "min_height": null,
            "min_width": null,
            "object_fit": null,
            "object_position": null,
            "order": null,
            "overflow": null,
            "overflow_x": null,
            "overflow_y": null,
            "padding": null,
            "right": null,
            "top": null,
            "visibility": null,
            "width": null
          }
        },
        "770526f1260c4384bd49e0b293d8b58e": {
          "model_module": "@jupyter-widgets/controls",
          "model_name": "DescriptionStyleModel",
          "model_module_version": "1.5.0",
          "state": {
            "_model_module": "@jupyter-widgets/controls",
            "_model_module_version": "1.5.0",
            "_model_name": "DescriptionStyleModel",
            "_view_count": null,
            "_view_module": "@jupyter-widgets/base",
            "_view_module_version": "1.2.0",
            "_view_name": "StyleView",
            "description_width": ""
          }
        },
        "dece70df42714fc9adc6cb20ab09063e": {
          "model_module": "@jupyter-widgets/controls",
          "model_name": "HBoxModel",
          "model_module_version": "1.5.0",
          "state": {
            "_dom_classes": [],
            "_model_module": "@jupyter-widgets/controls",
            "_model_module_version": "1.5.0",
            "_model_name": "HBoxModel",
            "_view_count": null,
            "_view_module": "@jupyter-widgets/controls",
            "_view_module_version": "1.5.0",
            "_view_name": "HBoxView",
            "box_style": "",
            "children": [
              "IPY_MODEL_b81e6f7c280e4474a600eb4421ab7d12",
              "IPY_MODEL_7e6efb93816041cca5f0f4b4bd11733f",
              "IPY_MODEL_2c3f9dca79394f10b31a200d930e6557"
            ],
            "layout": "IPY_MODEL_a7cc3c9bd0ad4ae1b3cc6e776c9d1a1f"
          }
        },
        "b81e6f7c280e4474a600eb4421ab7d12": {
          "model_module": "@jupyter-widgets/controls",
          "model_name": "HTMLModel",
          "model_module_version": "1.5.0",
          "state": {
            "_dom_classes": [],
            "_model_module": "@jupyter-widgets/controls",
            "_model_module_version": "1.5.0",
            "_model_name": "HTMLModel",
            "_view_count": null,
            "_view_module": "@jupyter-widgets/controls",
            "_view_module_version": "1.5.0",
            "_view_name": "HTMLView",
            "description": "",
            "description_tooltip": null,
            "layout": "IPY_MODEL_05ee8964e627471e9b87a5b2644ae89e",
            "placeholder": "​",
            "style": "IPY_MODEL_0c4a8d3c8ea648c7b87e246b0e538a32",
            "value": "tokenizer.json: 100%"
          }
        },
        "7e6efb93816041cca5f0f4b4bd11733f": {
          "model_module": "@jupyter-widgets/controls",
          "model_name": "FloatProgressModel",
          "model_module_version": "1.5.0",
          "state": {
            "_dom_classes": [],
            "_model_module": "@jupyter-widgets/controls",
            "_model_module_version": "1.5.0",
            "_model_name": "FloatProgressModel",
            "_view_count": null,
            "_view_module": "@jupyter-widgets/controls",
            "_view_module_version": "1.5.0",
            "_view_name": "ProgressView",
            "bar_style": "success",
            "description": "",
            "description_tooltip": null,
            "layout": "IPY_MODEL_bfe809f3e52f4a92ac4d1b9b42f043d4",
            "max": 466062,
            "min": 0,
            "orientation": "horizontal",
            "style": "IPY_MODEL_b4414f3abf5a4d4780814760744d81cb",
            "value": 466062
          }
        },
        "2c3f9dca79394f10b31a200d930e6557": {
          "model_module": "@jupyter-widgets/controls",
          "model_name": "HTMLModel",
          "model_module_version": "1.5.0",
          "state": {
            "_dom_classes": [],
            "_model_module": "@jupyter-widgets/controls",
            "_model_module_version": "1.5.0",
            "_model_name": "HTMLModel",
            "_view_count": null,
            "_view_module": "@jupyter-widgets/controls",
            "_view_module_version": "1.5.0",
            "_view_name": "HTMLView",
            "description": "",
            "description_tooltip": null,
            "layout": "IPY_MODEL_b4bc1a466eb5493fac53c4c56f7eea58",
            "placeholder": "​",
            "style": "IPY_MODEL_5a5212fa3b0742359e7e7d83f5e8f1b2",
            "value": " 466k/466k [00:00&lt;00:00, 2.55MB/s]"
          }
        },
        "a7cc3c9bd0ad4ae1b3cc6e776c9d1a1f": {
          "model_module": "@jupyter-widgets/base",
          "model_name": "LayoutModel",
          "model_module_version": "1.2.0",
          "state": {
            "_model_module": "@jupyter-widgets/base",
            "_model_module_version": "1.2.0",
            "_model_name": "LayoutModel",
            "_view_count": null,
            "_view_module": "@jupyter-widgets/base",
            "_view_module_version": "1.2.0",
            "_view_name": "LayoutView",
            "align_content": null,
            "align_items": null,
            "align_self": null,
            "border": null,
            "bottom": null,
            "display": null,
            "flex": null,
            "flex_flow": null,
            "grid_area": null,
            "grid_auto_columns": null,
            "grid_auto_flow": null,
            "grid_auto_rows": null,
            "grid_column": null,
            "grid_gap": null,
            "grid_row": null,
            "grid_template_areas": null,
            "grid_template_columns": null,
            "grid_template_rows": null,
            "height": null,
            "justify_content": null,
            "justify_items": null,
            "left": null,
            "margin": null,
            "max_height": null,
            "max_width": null,
            "min_height": null,
            "min_width": null,
            "object_fit": null,
            "object_position": null,
            "order": null,
            "overflow": null,
            "overflow_x": null,
            "overflow_y": null,
            "padding": null,
            "right": null,
            "top": null,
            "visibility": null,
            "width": null
          }
        },
        "05ee8964e627471e9b87a5b2644ae89e": {
          "model_module": "@jupyter-widgets/base",
          "model_name": "LayoutModel",
          "model_module_version": "1.2.0",
          "state": {
            "_model_module": "@jupyter-widgets/base",
            "_model_module_version": "1.2.0",
            "_model_name": "LayoutModel",
            "_view_count": null,
            "_view_module": "@jupyter-widgets/base",
            "_view_module_version": "1.2.0",
            "_view_name": "LayoutView",
            "align_content": null,
            "align_items": null,
            "align_self": null,
            "border": null,
            "bottom": null,
            "display": null,
            "flex": null,
            "flex_flow": null,
            "grid_area": null,
            "grid_auto_columns": null,
            "grid_auto_flow": null,
            "grid_auto_rows": null,
            "grid_column": null,
            "grid_gap": null,
            "grid_row": null,
            "grid_template_areas": null,
            "grid_template_columns": null,
            "grid_template_rows": null,
            "height": null,
            "justify_content": null,
            "justify_items": null,
            "left": null,
            "margin": null,
            "max_height": null,
            "max_width": null,
            "min_height": null,
            "min_width": null,
            "object_fit": null,
            "object_position": null,
            "order": null,
            "overflow": null,
            "overflow_x": null,
            "overflow_y": null,
            "padding": null,
            "right": null,
            "top": null,
            "visibility": null,
            "width": null
          }
        },
        "0c4a8d3c8ea648c7b87e246b0e538a32": {
          "model_module": "@jupyter-widgets/controls",
          "model_name": "DescriptionStyleModel",
          "model_module_version": "1.5.0",
          "state": {
            "_model_module": "@jupyter-widgets/controls",
            "_model_module_version": "1.5.0",
            "_model_name": "DescriptionStyleModel",
            "_view_count": null,
            "_view_module": "@jupyter-widgets/base",
            "_view_module_version": "1.2.0",
            "_view_name": "StyleView",
            "description_width": ""
          }
        },
        "bfe809f3e52f4a92ac4d1b9b42f043d4": {
          "model_module": "@jupyter-widgets/base",
          "model_name": "LayoutModel",
          "model_module_version": "1.2.0",
          "state": {
            "_model_module": "@jupyter-widgets/base",
            "_model_module_version": "1.2.0",
            "_model_name": "LayoutModel",
            "_view_count": null,
            "_view_module": "@jupyter-widgets/base",
            "_view_module_version": "1.2.0",
            "_view_name": "LayoutView",
            "align_content": null,
            "align_items": null,
            "align_self": null,
            "border": null,
            "bottom": null,
            "display": null,
            "flex": null,
            "flex_flow": null,
            "grid_area": null,
            "grid_auto_columns": null,
            "grid_auto_flow": null,
            "grid_auto_rows": null,
            "grid_column": null,
            "grid_gap": null,
            "grid_row": null,
            "grid_template_areas": null,
            "grid_template_columns": null,
            "grid_template_rows": null,
            "height": null,
            "justify_content": null,
            "justify_items": null,
            "left": null,
            "margin": null,
            "max_height": null,
            "max_width": null,
            "min_height": null,
            "min_width": null,
            "object_fit": null,
            "object_position": null,
            "order": null,
            "overflow": null,
            "overflow_x": null,
            "overflow_y": null,
            "padding": null,
            "right": null,
            "top": null,
            "visibility": null,
            "width": null
          }
        },
        "b4414f3abf5a4d4780814760744d81cb": {
          "model_module": "@jupyter-widgets/controls",
          "model_name": "ProgressStyleModel",
          "model_module_version": "1.5.0",
          "state": {
            "_model_module": "@jupyter-widgets/controls",
            "_model_module_version": "1.5.0",
            "_model_name": "ProgressStyleModel",
            "_view_count": null,
            "_view_module": "@jupyter-widgets/base",
            "_view_module_version": "1.2.0",
            "_view_name": "StyleView",
            "bar_color": null,
            "description_width": ""
          }
        },
        "b4bc1a466eb5493fac53c4c56f7eea58": {
          "model_module": "@jupyter-widgets/base",
          "model_name": "LayoutModel",
          "model_module_version": "1.2.0",
          "state": {
            "_model_module": "@jupyter-widgets/base",
            "_model_module_version": "1.2.0",
            "_model_name": "LayoutModel",
            "_view_count": null,
            "_view_module": "@jupyter-widgets/base",
            "_view_module_version": "1.2.0",
            "_view_name": "LayoutView",
            "align_content": null,
            "align_items": null,
            "align_self": null,
            "border": null,
            "bottom": null,
            "display": null,
            "flex": null,
            "flex_flow": null,
            "grid_area": null,
            "grid_auto_columns": null,
            "grid_auto_flow": null,
            "grid_auto_rows": null,
            "grid_column": null,
            "grid_gap": null,
            "grid_row": null,
            "grid_template_areas": null,
            "grid_template_columns": null,
            "grid_template_rows": null,
            "height": null,
            "justify_content": null,
            "justify_items": null,
            "left": null,
            "margin": null,
            "max_height": null,
            "max_width": null,
            "min_height": null,
            "min_width": null,
            "object_fit": null,
            "object_position": null,
            "order": null,
            "overflow": null,
            "overflow_x": null,
            "overflow_y": null,
            "padding": null,
            "right": null,
            "top": null,
            "visibility": null,
            "width": null
          }
        },
        "5a5212fa3b0742359e7e7d83f5e8f1b2": {
          "model_module": "@jupyter-widgets/controls",
          "model_name": "DescriptionStyleModel",
          "model_module_version": "1.5.0",
          "state": {
            "_model_module": "@jupyter-widgets/controls",
            "_model_module_version": "1.5.0",
            "_model_name": "DescriptionStyleModel",
            "_view_count": null,
            "_view_module": "@jupyter-widgets/base",
            "_view_module_version": "1.2.0",
            "_view_name": "StyleView",
            "description_width": ""
          }
        },
        "a341f77ca32c4e5e806ad9b7d37f6b98": {
          "model_module": "@jupyter-widgets/controls",
          "model_name": "HBoxModel",
          "model_module_version": "1.5.0",
          "state": {
            "_dom_classes": [],
            "_model_module": "@jupyter-widgets/controls",
            "_model_module_version": "1.5.0",
            "_model_name": "HBoxModel",
            "_view_count": null,
            "_view_module": "@jupyter-widgets/controls",
            "_view_module_version": "1.5.0",
            "_view_name": "HBoxView",
            "box_style": "",
            "children": [
              "IPY_MODEL_a3f73926ebfe4d7fbc66d397685cc958",
              "IPY_MODEL_bc525b0736154406b8be18852e8aee77",
              "IPY_MODEL_c7f78cc7db054bcb91541e58a09f734f"
            ],
            "layout": "IPY_MODEL_ae440bb8d74e46dcaf51efacf3e69d2e"
          }
        },
        "a3f73926ebfe4d7fbc66d397685cc958": {
          "model_module": "@jupyter-widgets/controls",
          "model_name": "HTMLModel",
          "model_module_version": "1.5.0",
          "state": {
            "_dom_classes": [],
            "_model_module": "@jupyter-widgets/controls",
            "_model_module_version": "1.5.0",
            "_model_name": "HTMLModel",
            "_view_count": null,
            "_view_module": "@jupyter-widgets/controls",
            "_view_module_version": "1.5.0",
            "_view_name": "HTMLView",
            "description": "",
            "description_tooltip": null,
            "layout": "IPY_MODEL_b18cf50ae9f7447a908316ba1007303f",
            "placeholder": "​",
            "style": "IPY_MODEL_a7d2098efd024ed88cd1e346837ccce6",
            "value": "config.json: 100%"
          }
        },
        "bc525b0736154406b8be18852e8aee77": {
          "model_module": "@jupyter-widgets/controls",
          "model_name": "FloatProgressModel",
          "model_module_version": "1.5.0",
          "state": {
            "_dom_classes": [],
            "_model_module": "@jupyter-widgets/controls",
            "_model_module_version": "1.5.0",
            "_model_name": "FloatProgressModel",
            "_view_count": null,
            "_view_module": "@jupyter-widgets/controls",
            "_view_module_version": "1.5.0",
            "_view_name": "ProgressView",
            "bar_style": "success",
            "description": "",
            "description_tooltip": null,
            "layout": "IPY_MODEL_ba4d008d7cb849bcaca4c9f1c3d90d95",
            "max": 570,
            "min": 0,
            "orientation": "horizontal",
            "style": "IPY_MODEL_e6ad1748ca8042f0a0fa57f785dfe47f",
            "value": 570
          }
        },
        "c7f78cc7db054bcb91541e58a09f734f": {
          "model_module": "@jupyter-widgets/controls",
          "model_name": "HTMLModel",
          "model_module_version": "1.5.0",
          "state": {
            "_dom_classes": [],
            "_model_module": "@jupyter-widgets/controls",
            "_model_module_version": "1.5.0",
            "_model_name": "HTMLModel",
            "_view_count": null,
            "_view_module": "@jupyter-widgets/controls",
            "_view_module_version": "1.5.0",
            "_view_name": "HTMLView",
            "description": "",
            "description_tooltip": null,
            "layout": "IPY_MODEL_eac9d8dce9b042b9a7b2e2487ef79bb8",
            "placeholder": "​",
            "style": "IPY_MODEL_b79d6e7fa04f4d14a27e7d1a4dbaf347",
            "value": " 570/570 [00:00&lt;00:00, 8.78kB/s]"
          }
        },
        "ae440bb8d74e46dcaf51efacf3e69d2e": {
          "model_module": "@jupyter-widgets/base",
          "model_name": "LayoutModel",
          "model_module_version": "1.2.0",
          "state": {
            "_model_module": "@jupyter-widgets/base",
            "_model_module_version": "1.2.0",
            "_model_name": "LayoutModel",
            "_view_count": null,
            "_view_module": "@jupyter-widgets/base",
            "_view_module_version": "1.2.0",
            "_view_name": "LayoutView",
            "align_content": null,
            "align_items": null,
            "align_self": null,
            "border": null,
            "bottom": null,
            "display": null,
            "flex": null,
            "flex_flow": null,
            "grid_area": null,
            "grid_auto_columns": null,
            "grid_auto_flow": null,
            "grid_auto_rows": null,
            "grid_column": null,
            "grid_gap": null,
            "grid_row": null,
            "grid_template_areas": null,
            "grid_template_columns": null,
            "grid_template_rows": null,
            "height": null,
            "justify_content": null,
            "justify_items": null,
            "left": null,
            "margin": null,
            "max_height": null,
            "max_width": null,
            "min_height": null,
            "min_width": null,
            "object_fit": null,
            "object_position": null,
            "order": null,
            "overflow": null,
            "overflow_x": null,
            "overflow_y": null,
            "padding": null,
            "right": null,
            "top": null,
            "visibility": null,
            "width": null
          }
        },
        "b18cf50ae9f7447a908316ba1007303f": {
          "model_module": "@jupyter-widgets/base",
          "model_name": "LayoutModel",
          "model_module_version": "1.2.0",
          "state": {
            "_model_module": "@jupyter-widgets/base",
            "_model_module_version": "1.2.0",
            "_model_name": "LayoutModel",
            "_view_count": null,
            "_view_module": "@jupyter-widgets/base",
            "_view_module_version": "1.2.0",
            "_view_name": "LayoutView",
            "align_content": null,
            "align_items": null,
            "align_self": null,
            "border": null,
            "bottom": null,
            "display": null,
            "flex": null,
            "flex_flow": null,
            "grid_area": null,
            "grid_auto_columns": null,
            "grid_auto_flow": null,
            "grid_auto_rows": null,
            "grid_column": null,
            "grid_gap": null,
            "grid_row": null,
            "grid_template_areas": null,
            "grid_template_columns": null,
            "grid_template_rows": null,
            "height": null,
            "justify_content": null,
            "justify_items": null,
            "left": null,
            "margin": null,
            "max_height": null,
            "max_width": null,
            "min_height": null,
            "min_width": null,
            "object_fit": null,
            "object_position": null,
            "order": null,
            "overflow": null,
            "overflow_x": null,
            "overflow_y": null,
            "padding": null,
            "right": null,
            "top": null,
            "visibility": null,
            "width": null
          }
        },
        "a7d2098efd024ed88cd1e346837ccce6": {
          "model_module": "@jupyter-widgets/controls",
          "model_name": "DescriptionStyleModel",
          "model_module_version": "1.5.0",
          "state": {
            "_model_module": "@jupyter-widgets/controls",
            "_model_module_version": "1.5.0",
            "_model_name": "DescriptionStyleModel",
            "_view_count": null,
            "_view_module": "@jupyter-widgets/base",
            "_view_module_version": "1.2.0",
            "_view_name": "StyleView",
            "description_width": ""
          }
        },
        "ba4d008d7cb849bcaca4c9f1c3d90d95": {
          "model_module": "@jupyter-widgets/base",
          "model_name": "LayoutModel",
          "model_module_version": "1.2.0",
          "state": {
            "_model_module": "@jupyter-widgets/base",
            "_model_module_version": "1.2.0",
            "_model_name": "LayoutModel",
            "_view_count": null,
            "_view_module": "@jupyter-widgets/base",
            "_view_module_version": "1.2.0",
            "_view_name": "LayoutView",
            "align_content": null,
            "align_items": null,
            "align_self": null,
            "border": null,
            "bottom": null,
            "display": null,
            "flex": null,
            "flex_flow": null,
            "grid_area": null,
            "grid_auto_columns": null,
            "grid_auto_flow": null,
            "grid_auto_rows": null,
            "grid_column": null,
            "grid_gap": null,
            "grid_row": null,
            "grid_template_areas": null,
            "grid_template_columns": null,
            "grid_template_rows": null,
            "height": null,
            "justify_content": null,
            "justify_items": null,
            "left": null,
            "margin": null,
            "max_height": null,
            "max_width": null,
            "min_height": null,
            "min_width": null,
            "object_fit": null,
            "object_position": null,
            "order": null,
            "overflow": null,
            "overflow_x": null,
            "overflow_y": null,
            "padding": null,
            "right": null,
            "top": null,
            "visibility": null,
            "width": null
          }
        },
        "e6ad1748ca8042f0a0fa57f785dfe47f": {
          "model_module": "@jupyter-widgets/controls",
          "model_name": "ProgressStyleModel",
          "model_module_version": "1.5.0",
          "state": {
            "_model_module": "@jupyter-widgets/controls",
            "_model_module_version": "1.5.0",
            "_model_name": "ProgressStyleModel",
            "_view_count": null,
            "_view_module": "@jupyter-widgets/base",
            "_view_module_version": "1.2.0",
            "_view_name": "StyleView",
            "bar_color": null,
            "description_width": ""
          }
        },
        "eac9d8dce9b042b9a7b2e2487ef79bb8": {
          "model_module": "@jupyter-widgets/base",
          "model_name": "LayoutModel",
          "model_module_version": "1.2.0",
          "state": {
            "_model_module": "@jupyter-widgets/base",
            "_model_module_version": "1.2.0",
            "_model_name": "LayoutModel",
            "_view_count": null,
            "_view_module": "@jupyter-widgets/base",
            "_view_module_version": "1.2.0",
            "_view_name": "LayoutView",
            "align_content": null,
            "align_items": null,
            "align_self": null,
            "border": null,
            "bottom": null,
            "display": null,
            "flex": null,
            "flex_flow": null,
            "grid_area": null,
            "grid_auto_columns": null,
            "grid_auto_flow": null,
            "grid_auto_rows": null,
            "grid_column": null,
            "grid_gap": null,
            "grid_row": null,
            "grid_template_areas": null,
            "grid_template_columns": null,
            "grid_template_rows": null,
            "height": null,
            "justify_content": null,
            "justify_items": null,
            "left": null,
            "margin": null,
            "max_height": null,
            "max_width": null,
            "min_height": null,
            "min_width": null,
            "object_fit": null,
            "object_position": null,
            "order": null,
            "overflow": null,
            "overflow_x": null,
            "overflow_y": null,
            "padding": null,
            "right": null,
            "top": null,
            "visibility": null,
            "width": null
          }
        },
        "b79d6e7fa04f4d14a27e7d1a4dbaf347": {
          "model_module": "@jupyter-widgets/controls",
          "model_name": "DescriptionStyleModel",
          "model_module_version": "1.5.0",
          "state": {
            "_model_module": "@jupyter-widgets/controls",
            "_model_module_version": "1.5.0",
            "_model_name": "DescriptionStyleModel",
            "_view_count": null,
            "_view_module": "@jupyter-widgets/base",
            "_view_module_version": "1.2.0",
            "_view_name": "StyleView",
            "description_width": ""
          }
        },
        "4b8c4a43cb1e42b38957262fed86eb10": {
          "model_module": "@jupyter-widgets/controls",
          "model_name": "HBoxModel",
          "model_module_version": "1.5.0",
          "state": {
            "_dom_classes": [],
            "_model_module": "@jupyter-widgets/controls",
            "_model_module_version": "1.5.0",
            "_model_name": "HBoxModel",
            "_view_count": null,
            "_view_module": "@jupyter-widgets/controls",
            "_view_module_version": "1.5.0",
            "_view_name": "HBoxView",
            "box_style": "",
            "children": [
              "IPY_MODEL_edf2b90aee3b4f02be842d36e1a401aa",
              "IPY_MODEL_ab8b72da3b2d42dcb37829a26338f5f6",
              "IPY_MODEL_06971e5970224b2fb251c2f4a6f54d39"
            ],
            "layout": "IPY_MODEL_f8171f471711415cbce1a2fe8e040612"
          }
        },
        "edf2b90aee3b4f02be842d36e1a401aa": {
          "model_module": "@jupyter-widgets/controls",
          "model_name": "HTMLModel",
          "model_module_version": "1.5.0",
          "state": {
            "_dom_classes": [],
            "_model_module": "@jupyter-widgets/controls",
            "_model_module_version": "1.5.0",
            "_model_name": "HTMLModel",
            "_view_count": null,
            "_view_module": "@jupyter-widgets/controls",
            "_view_module_version": "1.5.0",
            "_view_name": "HTMLView",
            "description": "",
            "description_tooltip": null,
            "layout": "IPY_MODEL_1fe26b73a9bf4194b921c27cfd6a82a7",
            "placeholder": "​",
            "style": "IPY_MODEL_0f7325f45b3c42bc94ac32c12eee2afc",
            "value": "Map: 100%"
          }
        },
        "ab8b72da3b2d42dcb37829a26338f5f6": {
          "model_module": "@jupyter-widgets/controls",
          "model_name": "FloatProgressModel",
          "model_module_version": "1.5.0",
          "state": {
            "_dom_classes": [],
            "_model_module": "@jupyter-widgets/controls",
            "_model_module_version": "1.5.0",
            "_model_name": "FloatProgressModel",
            "_view_count": null,
            "_view_module": "@jupyter-widgets/controls",
            "_view_module_version": "1.5.0",
            "_view_name": "ProgressView",
            "bar_style": "success",
            "description": "",
            "description_tooltip": null,
            "layout": "IPY_MODEL_4b1d79a3c3b24a26b0a482527d376ad1",
            "max": 3668,
            "min": 0,
            "orientation": "horizontal",
            "style": "IPY_MODEL_e0e6d69e3e9141138941664fd27e3903",
            "value": 3668
          }
        },
        "06971e5970224b2fb251c2f4a6f54d39": {
          "model_module": "@jupyter-widgets/controls",
          "model_name": "HTMLModel",
          "model_module_version": "1.5.0",
          "state": {
            "_dom_classes": [],
            "_model_module": "@jupyter-widgets/controls",
            "_model_module_version": "1.5.0",
            "_model_name": "HTMLModel",
            "_view_count": null,
            "_view_module": "@jupyter-widgets/controls",
            "_view_module_version": "1.5.0",
            "_view_name": "HTMLView",
            "description": "",
            "description_tooltip": null,
            "layout": "IPY_MODEL_80181fdf411c4e3b897635d5b0ee22ec",
            "placeholder": "​",
            "style": "IPY_MODEL_a860376e5a024c9aa9f738e2d18f3380",
            "value": " 3668/3668 [00:09&lt;00:00, 359.10 examples/s]"
          }
        },
        "f8171f471711415cbce1a2fe8e040612": {
          "model_module": "@jupyter-widgets/base",
          "model_name": "LayoutModel",
          "model_module_version": "1.2.0",
          "state": {
            "_model_module": "@jupyter-widgets/base",
            "_model_module_version": "1.2.0",
            "_model_name": "LayoutModel",
            "_view_count": null,
            "_view_module": "@jupyter-widgets/base",
            "_view_module_version": "1.2.0",
            "_view_name": "LayoutView",
            "align_content": null,
            "align_items": null,
            "align_self": null,
            "border": null,
            "bottom": null,
            "display": null,
            "flex": null,
            "flex_flow": null,
            "grid_area": null,
            "grid_auto_columns": null,
            "grid_auto_flow": null,
            "grid_auto_rows": null,
            "grid_column": null,
            "grid_gap": null,
            "grid_row": null,
            "grid_template_areas": null,
            "grid_template_columns": null,
            "grid_template_rows": null,
            "height": null,
            "justify_content": null,
            "justify_items": null,
            "left": null,
            "margin": null,
            "max_height": null,
            "max_width": null,
            "min_height": null,
            "min_width": null,
            "object_fit": null,
            "object_position": null,
            "order": null,
            "overflow": null,
            "overflow_x": null,
            "overflow_y": null,
            "padding": null,
            "right": null,
            "top": null,
            "visibility": null,
            "width": null
          }
        },
        "1fe26b73a9bf4194b921c27cfd6a82a7": {
          "model_module": "@jupyter-widgets/base",
          "model_name": "LayoutModel",
          "model_module_version": "1.2.0",
          "state": {
            "_model_module": "@jupyter-widgets/base",
            "_model_module_version": "1.2.0",
            "_model_name": "LayoutModel",
            "_view_count": null,
            "_view_module": "@jupyter-widgets/base",
            "_view_module_version": "1.2.0",
            "_view_name": "LayoutView",
            "align_content": null,
            "align_items": null,
            "align_self": null,
            "border": null,
            "bottom": null,
            "display": null,
            "flex": null,
            "flex_flow": null,
            "grid_area": null,
            "grid_auto_columns": null,
            "grid_auto_flow": null,
            "grid_auto_rows": null,
            "grid_column": null,
            "grid_gap": null,
            "grid_row": null,
            "grid_template_areas": null,
            "grid_template_columns": null,
            "grid_template_rows": null,
            "height": null,
            "justify_content": null,
            "justify_items": null,
            "left": null,
            "margin": null,
            "max_height": null,
            "max_width": null,
            "min_height": null,
            "min_width": null,
            "object_fit": null,
            "object_position": null,
            "order": null,
            "overflow": null,
            "overflow_x": null,
            "overflow_y": null,
            "padding": null,
            "right": null,
            "top": null,
            "visibility": null,
            "width": null
          }
        },
        "0f7325f45b3c42bc94ac32c12eee2afc": {
          "model_module": "@jupyter-widgets/controls",
          "model_name": "DescriptionStyleModel",
          "model_module_version": "1.5.0",
          "state": {
            "_model_module": "@jupyter-widgets/controls",
            "_model_module_version": "1.5.0",
            "_model_name": "DescriptionStyleModel",
            "_view_count": null,
            "_view_module": "@jupyter-widgets/base",
            "_view_module_version": "1.2.0",
            "_view_name": "StyleView",
            "description_width": ""
          }
        },
        "4b1d79a3c3b24a26b0a482527d376ad1": {
          "model_module": "@jupyter-widgets/base",
          "model_name": "LayoutModel",
          "model_module_version": "1.2.0",
          "state": {
            "_model_module": "@jupyter-widgets/base",
            "_model_module_version": "1.2.0",
            "_model_name": "LayoutModel",
            "_view_count": null,
            "_view_module": "@jupyter-widgets/base",
            "_view_module_version": "1.2.0",
            "_view_name": "LayoutView",
            "align_content": null,
            "align_items": null,
            "align_self": null,
            "border": null,
            "bottom": null,
            "display": null,
            "flex": null,
            "flex_flow": null,
            "grid_area": null,
            "grid_auto_columns": null,
            "grid_auto_flow": null,
            "grid_auto_rows": null,
            "grid_column": null,
            "grid_gap": null,
            "grid_row": null,
            "grid_template_areas": null,
            "grid_template_columns": null,
            "grid_template_rows": null,
            "height": null,
            "justify_content": null,
            "justify_items": null,
            "left": null,
            "margin": null,
            "max_height": null,
            "max_width": null,
            "min_height": null,
            "min_width": null,
            "object_fit": null,
            "object_position": null,
            "order": null,
            "overflow": null,
            "overflow_x": null,
            "overflow_y": null,
            "padding": null,
            "right": null,
            "top": null,
            "visibility": null,
            "width": null
          }
        },
        "e0e6d69e3e9141138941664fd27e3903": {
          "model_module": "@jupyter-widgets/controls",
          "model_name": "ProgressStyleModel",
          "model_module_version": "1.5.0",
          "state": {
            "_model_module": "@jupyter-widgets/controls",
            "_model_module_version": "1.5.0",
            "_model_name": "ProgressStyleModel",
            "_view_count": null,
            "_view_module": "@jupyter-widgets/base",
            "_view_module_version": "1.2.0",
            "_view_name": "StyleView",
            "bar_color": null,
            "description_width": ""
          }
        },
        "80181fdf411c4e3b897635d5b0ee22ec": {
          "model_module": "@jupyter-widgets/base",
          "model_name": "LayoutModel",
          "model_module_version": "1.2.0",
          "state": {
            "_model_module": "@jupyter-widgets/base",
            "_model_module_version": "1.2.0",
            "_model_name": "LayoutModel",
            "_view_count": null,
            "_view_module": "@jupyter-widgets/base",
            "_view_module_version": "1.2.0",
            "_view_name": "LayoutView",
            "align_content": null,
            "align_items": null,
            "align_self": null,
            "border": null,
            "bottom": null,
            "display": null,
            "flex": null,
            "flex_flow": null,
            "grid_area": null,
            "grid_auto_columns": null,
            "grid_auto_flow": null,
            "grid_auto_rows": null,
            "grid_column": null,
            "grid_gap": null,
            "grid_row": null,
            "grid_template_areas": null,
            "grid_template_columns": null,
            "grid_template_rows": null,
            "height": null,
            "justify_content": null,
            "justify_items": null,
            "left": null,
            "margin": null,
            "max_height": null,
            "max_width": null,
            "min_height": null,
            "min_width": null,
            "object_fit": null,
            "object_position": null,
            "order": null,
            "overflow": null,
            "overflow_x": null,
            "overflow_y": null,
            "padding": null,
            "right": null,
            "top": null,
            "visibility": null,
            "width": null
          }
        },
        "a860376e5a024c9aa9f738e2d18f3380": {
          "model_module": "@jupyter-widgets/controls",
          "model_name": "DescriptionStyleModel",
          "model_module_version": "1.5.0",
          "state": {
            "_model_module": "@jupyter-widgets/controls",
            "_model_module_version": "1.5.0",
            "_model_name": "DescriptionStyleModel",
            "_view_count": null,
            "_view_module": "@jupyter-widgets/base",
            "_view_module_version": "1.2.0",
            "_view_name": "StyleView",
            "description_width": ""
          }
        },
        "085afb3046c549dbab0f4b34d1020f13": {
          "model_module": "@jupyter-widgets/controls",
          "model_name": "HBoxModel",
          "model_module_version": "1.5.0",
          "state": {
            "_dom_classes": [],
            "_model_module": "@jupyter-widgets/controls",
            "_model_module_version": "1.5.0",
            "_model_name": "HBoxModel",
            "_view_count": null,
            "_view_module": "@jupyter-widgets/controls",
            "_view_module_version": "1.5.0",
            "_view_name": "HBoxView",
            "box_style": "",
            "children": [
              "IPY_MODEL_4a3d1a2c7ce3439aa54efcc875386fbb",
              "IPY_MODEL_e383f50fffcb49cda8c0240dfda7e118",
              "IPY_MODEL_10bb62f23b064bb08050d098cc46c9ea"
            ],
            "layout": "IPY_MODEL_141f8672561f481799001436ae165de4"
          }
        },
        "4a3d1a2c7ce3439aa54efcc875386fbb": {
          "model_module": "@jupyter-widgets/controls",
          "model_name": "HTMLModel",
          "model_module_version": "1.5.0",
          "state": {
            "_dom_classes": [],
            "_model_module": "@jupyter-widgets/controls",
            "_model_module_version": "1.5.0",
            "_model_name": "HTMLModel",
            "_view_count": null,
            "_view_module": "@jupyter-widgets/controls",
            "_view_module_version": "1.5.0",
            "_view_name": "HTMLView",
            "description": "",
            "description_tooltip": null,
            "layout": "IPY_MODEL_05ff313bdba84f948363cb960bc4429d",
            "placeholder": "​",
            "style": "IPY_MODEL_395dc20d6eb846a98a327d0a2fdfcbe4",
            "value": "Map: 100%"
          }
        },
        "e383f50fffcb49cda8c0240dfda7e118": {
          "model_module": "@jupyter-widgets/controls",
          "model_name": "FloatProgressModel",
          "model_module_version": "1.5.0",
          "state": {
            "_dom_classes": [],
            "_model_module": "@jupyter-widgets/controls",
            "_model_module_version": "1.5.0",
            "_model_name": "FloatProgressModel",
            "_view_count": null,
            "_view_module": "@jupyter-widgets/controls",
            "_view_module_version": "1.5.0",
            "_view_name": "ProgressView",
            "bar_style": "success",
            "description": "",
            "description_tooltip": null,
            "layout": "IPY_MODEL_c1a276da693740129e042e5e2e22edf3",
            "max": 408,
            "min": 0,
            "orientation": "horizontal",
            "style": "IPY_MODEL_3107f822a3c9412e88a1393a86fdfdee",
            "value": 408
          }
        },
        "10bb62f23b064bb08050d098cc46c9ea": {
          "model_module": "@jupyter-widgets/controls",
          "model_name": "HTMLModel",
          "model_module_version": "1.5.0",
          "state": {
            "_dom_classes": [],
            "_model_module": "@jupyter-widgets/controls",
            "_model_module_version": "1.5.0",
            "_model_name": "HTMLModel",
            "_view_count": null,
            "_view_module": "@jupyter-widgets/controls",
            "_view_module_version": "1.5.0",
            "_view_name": "HTMLView",
            "description": "",
            "description_tooltip": null,
            "layout": "IPY_MODEL_ba0b3169e2d74534bc002c549a706bb2",
            "placeholder": "​",
            "style": "IPY_MODEL_514434e63cd84d018df69ae4e42f4e81",
            "value": " 408/408 [00:01&lt;00:00, 359.40 examples/s]"
          }
        },
        "141f8672561f481799001436ae165de4": {
          "model_module": "@jupyter-widgets/base",
          "model_name": "LayoutModel",
          "model_module_version": "1.2.0",
          "state": {
            "_model_module": "@jupyter-widgets/base",
            "_model_module_version": "1.2.0",
            "_model_name": "LayoutModel",
            "_view_count": null,
            "_view_module": "@jupyter-widgets/base",
            "_view_module_version": "1.2.0",
            "_view_name": "LayoutView",
            "align_content": null,
            "align_items": null,
            "align_self": null,
            "border": null,
            "bottom": null,
            "display": null,
            "flex": null,
            "flex_flow": null,
            "grid_area": null,
            "grid_auto_columns": null,
            "grid_auto_flow": null,
            "grid_auto_rows": null,
            "grid_column": null,
            "grid_gap": null,
            "grid_row": null,
            "grid_template_areas": null,
            "grid_template_columns": null,
            "grid_template_rows": null,
            "height": null,
            "justify_content": null,
            "justify_items": null,
            "left": null,
            "margin": null,
            "max_height": null,
            "max_width": null,
            "min_height": null,
            "min_width": null,
            "object_fit": null,
            "object_position": null,
            "order": null,
            "overflow": null,
            "overflow_x": null,
            "overflow_y": null,
            "padding": null,
            "right": null,
            "top": null,
            "visibility": null,
            "width": null
          }
        },
        "05ff313bdba84f948363cb960bc4429d": {
          "model_module": "@jupyter-widgets/base",
          "model_name": "LayoutModel",
          "model_module_version": "1.2.0",
          "state": {
            "_model_module": "@jupyter-widgets/base",
            "_model_module_version": "1.2.0",
            "_model_name": "LayoutModel",
            "_view_count": null,
            "_view_module": "@jupyter-widgets/base",
            "_view_module_version": "1.2.0",
            "_view_name": "LayoutView",
            "align_content": null,
            "align_items": null,
            "align_self": null,
            "border": null,
            "bottom": null,
            "display": null,
            "flex": null,
            "flex_flow": null,
            "grid_area": null,
            "grid_auto_columns": null,
            "grid_auto_flow": null,
            "grid_auto_rows": null,
            "grid_column": null,
            "grid_gap": null,
            "grid_row": null,
            "grid_template_areas": null,
            "grid_template_columns": null,
            "grid_template_rows": null,
            "height": null,
            "justify_content": null,
            "justify_items": null,
            "left": null,
            "margin": null,
            "max_height": null,
            "max_width": null,
            "min_height": null,
            "min_width": null,
            "object_fit": null,
            "object_position": null,
            "order": null,
            "overflow": null,
            "overflow_x": null,
            "overflow_y": null,
            "padding": null,
            "right": null,
            "top": null,
            "visibility": null,
            "width": null
          }
        },
        "395dc20d6eb846a98a327d0a2fdfcbe4": {
          "model_module": "@jupyter-widgets/controls",
          "model_name": "DescriptionStyleModel",
          "model_module_version": "1.5.0",
          "state": {
            "_model_module": "@jupyter-widgets/controls",
            "_model_module_version": "1.5.0",
            "_model_name": "DescriptionStyleModel",
            "_view_count": null,
            "_view_module": "@jupyter-widgets/base",
            "_view_module_version": "1.2.0",
            "_view_name": "StyleView",
            "description_width": ""
          }
        },
        "c1a276da693740129e042e5e2e22edf3": {
          "model_module": "@jupyter-widgets/base",
          "model_name": "LayoutModel",
          "model_module_version": "1.2.0",
          "state": {
            "_model_module": "@jupyter-widgets/base",
            "_model_module_version": "1.2.0",
            "_model_name": "LayoutModel",
            "_view_count": null,
            "_view_module": "@jupyter-widgets/base",
            "_view_module_version": "1.2.0",
            "_view_name": "LayoutView",
            "align_content": null,
            "align_items": null,
            "align_self": null,
            "border": null,
            "bottom": null,
            "display": null,
            "flex": null,
            "flex_flow": null,
            "grid_area": null,
            "grid_auto_columns": null,
            "grid_auto_flow": null,
            "grid_auto_rows": null,
            "grid_column": null,
            "grid_gap": null,
            "grid_row": null,
            "grid_template_areas": null,
            "grid_template_columns": null,
            "grid_template_rows": null,
            "height": null,
            "justify_content": null,
            "justify_items": null,
            "left": null,
            "margin": null,
            "max_height": null,
            "max_width": null,
            "min_height": null,
            "min_width": null,
            "object_fit": null,
            "object_position": null,
            "order": null,
            "overflow": null,
            "overflow_x": null,
            "overflow_y": null,
            "padding": null,
            "right": null,
            "top": null,
            "visibility": null,
            "width": null
          }
        },
        "3107f822a3c9412e88a1393a86fdfdee": {
          "model_module": "@jupyter-widgets/controls",
          "model_name": "ProgressStyleModel",
          "model_module_version": "1.5.0",
          "state": {
            "_model_module": "@jupyter-widgets/controls",
            "_model_module_version": "1.5.0",
            "_model_name": "ProgressStyleModel",
            "_view_count": null,
            "_view_module": "@jupyter-widgets/base",
            "_view_module_version": "1.2.0",
            "_view_name": "StyleView",
            "bar_color": null,
            "description_width": ""
          }
        },
        "ba0b3169e2d74534bc002c549a706bb2": {
          "model_module": "@jupyter-widgets/base",
          "model_name": "LayoutModel",
          "model_module_version": "1.2.0",
          "state": {
            "_model_module": "@jupyter-widgets/base",
            "_model_module_version": "1.2.0",
            "_model_name": "LayoutModel",
            "_view_count": null,
            "_view_module": "@jupyter-widgets/base",
            "_view_module_version": "1.2.0",
            "_view_name": "LayoutView",
            "align_content": null,
            "align_items": null,
            "align_self": null,
            "border": null,
            "bottom": null,
            "display": null,
            "flex": null,
            "flex_flow": null,
            "grid_area": null,
            "grid_auto_columns": null,
            "grid_auto_flow": null,
            "grid_auto_rows": null,
            "grid_column": null,
            "grid_gap": null,
            "grid_row": null,
            "grid_template_areas": null,
            "grid_template_columns": null,
            "grid_template_rows": null,
            "height": null,
            "justify_content": null,
            "justify_items": null,
            "left": null,
            "margin": null,
            "max_height": null,
            "max_width": null,
            "min_height": null,
            "min_width": null,
            "object_fit": null,
            "object_position": null,
            "order": null,
            "overflow": null,
            "overflow_x": null,
            "overflow_y": null,
            "padding": null,
            "right": null,
            "top": null,
            "visibility": null,
            "width": null
          }
        },
        "514434e63cd84d018df69ae4e42f4e81": {
          "model_module": "@jupyter-widgets/controls",
          "model_name": "DescriptionStyleModel",
          "model_module_version": "1.5.0",
          "state": {
            "_model_module": "@jupyter-widgets/controls",
            "_model_module_version": "1.5.0",
            "_model_name": "DescriptionStyleModel",
            "_view_count": null,
            "_view_module": "@jupyter-widgets/base",
            "_view_module_version": "1.2.0",
            "_view_name": "StyleView",
            "description_width": ""
          }
        },
        "2a332029ec7d421da17ec8880deef359": {
          "model_module": "@jupyter-widgets/controls",
          "model_name": "HBoxModel",
          "model_module_version": "1.5.0",
          "state": {
            "_dom_classes": [],
            "_model_module": "@jupyter-widgets/controls",
            "_model_module_version": "1.5.0",
            "_model_name": "HBoxModel",
            "_view_count": null,
            "_view_module": "@jupyter-widgets/controls",
            "_view_module_version": "1.5.0",
            "_view_name": "HBoxView",
            "box_style": "",
            "children": [
              "IPY_MODEL_8c1ed845c5164c5d9094db5a9a6a987e",
              "IPY_MODEL_d97a3d60f47d434c9b7b5cbdcee8ec33",
              "IPY_MODEL_47a43e88a022414dbfb62d243b373127"
            ],
            "layout": "IPY_MODEL_9958bb5af96144819951ada137a1a3e4"
          }
        },
        "8c1ed845c5164c5d9094db5a9a6a987e": {
          "model_module": "@jupyter-widgets/controls",
          "model_name": "HTMLModel",
          "model_module_version": "1.5.0",
          "state": {
            "_dom_classes": [],
            "_model_module": "@jupyter-widgets/controls",
            "_model_module_version": "1.5.0",
            "_model_name": "HTMLModel",
            "_view_count": null,
            "_view_module": "@jupyter-widgets/controls",
            "_view_module_version": "1.5.0",
            "_view_name": "HTMLView",
            "description": "",
            "description_tooltip": null,
            "layout": "IPY_MODEL_f70df9f5a8a4407c88f84eaec60ef7aa",
            "placeholder": "​",
            "style": "IPY_MODEL_14e0d61d55a44bfda9c9be3bbcf8b0c3",
            "value": "Map: 100%"
          }
        },
        "d97a3d60f47d434c9b7b5cbdcee8ec33": {
          "model_module": "@jupyter-widgets/controls",
          "model_name": "FloatProgressModel",
          "model_module_version": "1.5.0",
          "state": {
            "_dom_classes": [],
            "_model_module": "@jupyter-widgets/controls",
            "_model_module_version": "1.5.0",
            "_model_name": "FloatProgressModel",
            "_view_count": null,
            "_view_module": "@jupyter-widgets/controls",
            "_view_module_version": "1.5.0",
            "_view_name": "ProgressView",
            "bar_style": "success",
            "description": "",
            "description_tooltip": null,
            "layout": "IPY_MODEL_5903e7085e4a4cf18fe9b46cd6078754",
            "max": 1725,
            "min": 0,
            "orientation": "horizontal",
            "style": "IPY_MODEL_298883926a9646db801a4475f9d4dcdd",
            "value": 1725
          }
        },
        "47a43e88a022414dbfb62d243b373127": {
          "model_module": "@jupyter-widgets/controls",
          "model_name": "HTMLModel",
          "model_module_version": "1.5.0",
          "state": {
            "_dom_classes": [],
            "_model_module": "@jupyter-widgets/controls",
            "_model_module_version": "1.5.0",
            "_model_name": "HTMLModel",
            "_view_count": null,
            "_view_module": "@jupyter-widgets/controls",
            "_view_module_version": "1.5.0",
            "_view_name": "HTMLView",
            "description": "",
            "description_tooltip": null,
            "layout": "IPY_MODEL_a6212ec1bffa4a91a819ff4137e9c814",
            "placeholder": "​",
            "style": "IPY_MODEL_083bb02d7e4847c389d560321d41050a",
            "value": " 1725/1725 [00:06&lt;00:00, 249.95 examples/s]"
          }
        },
        "9958bb5af96144819951ada137a1a3e4": {
          "model_module": "@jupyter-widgets/base",
          "model_name": "LayoutModel",
          "model_module_version": "1.2.0",
          "state": {
            "_model_module": "@jupyter-widgets/base",
            "_model_module_version": "1.2.0",
            "_model_name": "LayoutModel",
            "_view_count": null,
            "_view_module": "@jupyter-widgets/base",
            "_view_module_version": "1.2.0",
            "_view_name": "LayoutView",
            "align_content": null,
            "align_items": null,
            "align_self": null,
            "border": null,
            "bottom": null,
            "display": null,
            "flex": null,
            "flex_flow": null,
            "grid_area": null,
            "grid_auto_columns": null,
            "grid_auto_flow": null,
            "grid_auto_rows": null,
            "grid_column": null,
            "grid_gap": null,
            "grid_row": null,
            "grid_template_areas": null,
            "grid_template_columns": null,
            "grid_template_rows": null,
            "height": null,
            "justify_content": null,
            "justify_items": null,
            "left": null,
            "margin": null,
            "max_height": null,
            "max_width": null,
            "min_height": null,
            "min_width": null,
            "object_fit": null,
            "object_position": null,
            "order": null,
            "overflow": null,
            "overflow_x": null,
            "overflow_y": null,
            "padding": null,
            "right": null,
            "top": null,
            "visibility": null,
            "width": null
          }
        },
        "f70df9f5a8a4407c88f84eaec60ef7aa": {
          "model_module": "@jupyter-widgets/base",
          "model_name": "LayoutModel",
          "model_module_version": "1.2.0",
          "state": {
            "_model_module": "@jupyter-widgets/base",
            "_model_module_version": "1.2.0",
            "_model_name": "LayoutModel",
            "_view_count": null,
            "_view_module": "@jupyter-widgets/base",
            "_view_module_version": "1.2.0",
            "_view_name": "LayoutView",
            "align_content": null,
            "align_items": null,
            "align_self": null,
            "border": null,
            "bottom": null,
            "display": null,
            "flex": null,
            "flex_flow": null,
            "grid_area": null,
            "grid_auto_columns": null,
            "grid_auto_flow": null,
            "grid_auto_rows": null,
            "grid_column": null,
            "grid_gap": null,
            "grid_row": null,
            "grid_template_areas": null,
            "grid_template_columns": null,
            "grid_template_rows": null,
            "height": null,
            "justify_content": null,
            "justify_items": null,
            "left": null,
            "margin": null,
            "max_height": null,
            "max_width": null,
            "min_height": null,
            "min_width": null,
            "object_fit": null,
            "object_position": null,
            "order": null,
            "overflow": null,
            "overflow_x": null,
            "overflow_y": null,
            "padding": null,
            "right": null,
            "top": null,
            "visibility": null,
            "width": null
          }
        },
        "14e0d61d55a44bfda9c9be3bbcf8b0c3": {
          "model_module": "@jupyter-widgets/controls",
          "model_name": "DescriptionStyleModel",
          "model_module_version": "1.5.0",
          "state": {
            "_model_module": "@jupyter-widgets/controls",
            "_model_module_version": "1.5.0",
            "_model_name": "DescriptionStyleModel",
            "_view_count": null,
            "_view_module": "@jupyter-widgets/base",
            "_view_module_version": "1.2.0",
            "_view_name": "StyleView",
            "description_width": ""
          }
        },
        "5903e7085e4a4cf18fe9b46cd6078754": {
          "model_module": "@jupyter-widgets/base",
          "model_name": "LayoutModel",
          "model_module_version": "1.2.0",
          "state": {
            "_model_module": "@jupyter-widgets/base",
            "_model_module_version": "1.2.0",
            "_model_name": "LayoutModel",
            "_view_count": null,
            "_view_module": "@jupyter-widgets/base",
            "_view_module_version": "1.2.0",
            "_view_name": "LayoutView",
            "align_content": null,
            "align_items": null,
            "align_self": null,
            "border": null,
            "bottom": null,
            "display": null,
            "flex": null,
            "flex_flow": null,
            "grid_area": null,
            "grid_auto_columns": null,
            "grid_auto_flow": null,
            "grid_auto_rows": null,
            "grid_column": null,
            "grid_gap": null,
            "grid_row": null,
            "grid_template_areas": null,
            "grid_template_columns": null,
            "grid_template_rows": null,
            "height": null,
            "justify_content": null,
            "justify_items": null,
            "left": null,
            "margin": null,
            "max_height": null,
            "max_width": null,
            "min_height": null,
            "min_width": null,
            "object_fit": null,
            "object_position": null,
            "order": null,
            "overflow": null,
            "overflow_x": null,
            "overflow_y": null,
            "padding": null,
            "right": null,
            "top": null,
            "visibility": null,
            "width": null
          }
        },
        "298883926a9646db801a4475f9d4dcdd": {
          "model_module": "@jupyter-widgets/controls",
          "model_name": "ProgressStyleModel",
          "model_module_version": "1.5.0",
          "state": {
            "_model_module": "@jupyter-widgets/controls",
            "_model_module_version": "1.5.0",
            "_model_name": "ProgressStyleModel",
            "_view_count": null,
            "_view_module": "@jupyter-widgets/base",
            "_view_module_version": "1.2.0",
            "_view_name": "StyleView",
            "bar_color": null,
            "description_width": ""
          }
        },
        "a6212ec1bffa4a91a819ff4137e9c814": {
          "model_module": "@jupyter-widgets/base",
          "model_name": "LayoutModel",
          "model_module_version": "1.2.0",
          "state": {
            "_model_module": "@jupyter-widgets/base",
            "_model_module_version": "1.2.0",
            "_model_name": "LayoutModel",
            "_view_count": null,
            "_view_module": "@jupyter-widgets/base",
            "_view_module_version": "1.2.0",
            "_view_name": "LayoutView",
            "align_content": null,
            "align_items": null,
            "align_self": null,
            "border": null,
            "bottom": null,
            "display": null,
            "flex": null,
            "flex_flow": null,
            "grid_area": null,
            "grid_auto_columns": null,
            "grid_auto_flow": null,
            "grid_auto_rows": null,
            "grid_column": null,
            "grid_gap": null,
            "grid_row": null,
            "grid_template_areas": null,
            "grid_template_columns": null,
            "grid_template_rows": null,
            "height": null,
            "justify_content": null,
            "justify_items": null,
            "left": null,
            "margin": null,
            "max_height": null,
            "max_width": null,
            "min_height": null,
            "min_width": null,
            "object_fit": null,
            "object_position": null,
            "order": null,
            "overflow": null,
            "overflow_x": null,
            "overflow_y": null,
            "padding": null,
            "right": null,
            "top": null,
            "visibility": null,
            "width": null
          }
        },
        "083bb02d7e4847c389d560321d41050a": {
          "model_module": "@jupyter-widgets/controls",
          "model_name": "DescriptionStyleModel",
          "model_module_version": "1.5.0",
          "state": {
            "_model_module": "@jupyter-widgets/controls",
            "_model_module_version": "1.5.0",
            "_model_name": "DescriptionStyleModel",
            "_view_count": null,
            "_view_module": "@jupyter-widgets/base",
            "_view_module_version": "1.2.0",
            "_view_name": "StyleView",
            "description_width": ""
          }
        },
        "71a017a663a84d569d4cea583bb7f04d": {
          "model_module": "@jupyter-widgets/controls",
          "model_name": "HBoxModel",
          "model_module_version": "1.5.0",
          "state": {
            "_dom_classes": [],
            "_model_module": "@jupyter-widgets/controls",
            "_model_module_version": "1.5.0",
            "_model_name": "HBoxModel",
            "_view_count": null,
            "_view_module": "@jupyter-widgets/controls",
            "_view_module_version": "1.5.0",
            "_view_name": "HBoxView",
            "box_style": "",
            "children": [
              "IPY_MODEL_78507dd3fe694cb9a6b978f69dd75870",
              "IPY_MODEL_3f748b25e4b8494282d6dce28d0fec6d",
              "IPY_MODEL_ce5c80bb58fa4579828b609f61a9412e"
            ],
            "layout": "IPY_MODEL_aafa228cd32843c08e2215a0857a2815"
          }
        },
        "78507dd3fe694cb9a6b978f69dd75870": {
          "model_module": "@jupyter-widgets/controls",
          "model_name": "HTMLModel",
          "model_module_version": "1.5.0",
          "state": {
            "_dom_classes": [],
            "_model_module": "@jupyter-widgets/controls",
            "_model_module_version": "1.5.0",
            "_model_name": "HTMLModel",
            "_view_count": null,
            "_view_module": "@jupyter-widgets/controls",
            "_view_module_version": "1.5.0",
            "_view_name": "HTMLView",
            "description": "",
            "description_tooltip": null,
            "layout": "IPY_MODEL_4386c090fecd4287aad2b80a8c239490",
            "placeholder": "​",
            "style": "IPY_MODEL_b6a426c4c8b64614b53b69a2ddc56357",
            "value": "model.safetensors: 100%"
          }
        },
        "3f748b25e4b8494282d6dce28d0fec6d": {
          "model_module": "@jupyter-widgets/controls",
          "model_name": "FloatProgressModel",
          "model_module_version": "1.5.0",
          "state": {
            "_dom_classes": [],
            "_model_module": "@jupyter-widgets/controls",
            "_model_module_version": "1.5.0",
            "_model_name": "FloatProgressModel",
            "_view_count": null,
            "_view_module": "@jupyter-widgets/controls",
            "_view_module_version": "1.5.0",
            "_view_name": "ProgressView",
            "bar_style": "success",
            "description": "",
            "description_tooltip": null,
            "layout": "IPY_MODEL_b6d1a4921b114fdca8d060ef085c532f",
            "max": 440449768,
            "min": 0,
            "orientation": "horizontal",
            "style": "IPY_MODEL_f5e0d63804164eb2b90959f8a98820f7",
            "value": 440449768
          }
        },
        "ce5c80bb58fa4579828b609f61a9412e": {
          "model_module": "@jupyter-widgets/controls",
          "model_name": "HTMLModel",
          "model_module_version": "1.5.0",
          "state": {
            "_dom_classes": [],
            "_model_module": "@jupyter-widgets/controls",
            "_model_module_version": "1.5.0",
            "_model_name": "HTMLModel",
            "_view_count": null,
            "_view_module": "@jupyter-widgets/controls",
            "_view_module_version": "1.5.0",
            "_view_name": "HTMLView",
            "description": "",
            "description_tooltip": null,
            "layout": "IPY_MODEL_e0d84cf9eb2745fe8d9ebab6c442c401",
            "placeholder": "​",
            "style": "IPY_MODEL_518e0ba4951f41ce9ed61a3840238515",
            "value": " 440M/440M [00:02&lt;00:00, 164MB/s]"
          }
        },
        "aafa228cd32843c08e2215a0857a2815": {
          "model_module": "@jupyter-widgets/base",
          "model_name": "LayoutModel",
          "model_module_version": "1.2.0",
          "state": {
            "_model_module": "@jupyter-widgets/base",
            "_model_module_version": "1.2.0",
            "_model_name": "LayoutModel",
            "_view_count": null,
            "_view_module": "@jupyter-widgets/base",
            "_view_module_version": "1.2.0",
            "_view_name": "LayoutView",
            "align_content": null,
            "align_items": null,
            "align_self": null,
            "border": null,
            "bottom": null,
            "display": null,
            "flex": null,
            "flex_flow": null,
            "grid_area": null,
            "grid_auto_columns": null,
            "grid_auto_flow": null,
            "grid_auto_rows": null,
            "grid_column": null,
            "grid_gap": null,
            "grid_row": null,
            "grid_template_areas": null,
            "grid_template_columns": null,
            "grid_template_rows": null,
            "height": null,
            "justify_content": null,
            "justify_items": null,
            "left": null,
            "margin": null,
            "max_height": null,
            "max_width": null,
            "min_height": null,
            "min_width": null,
            "object_fit": null,
            "object_position": null,
            "order": null,
            "overflow": null,
            "overflow_x": null,
            "overflow_y": null,
            "padding": null,
            "right": null,
            "top": null,
            "visibility": null,
            "width": null
          }
        },
        "4386c090fecd4287aad2b80a8c239490": {
          "model_module": "@jupyter-widgets/base",
          "model_name": "LayoutModel",
          "model_module_version": "1.2.0",
          "state": {
            "_model_module": "@jupyter-widgets/base",
            "_model_module_version": "1.2.0",
            "_model_name": "LayoutModel",
            "_view_count": null,
            "_view_module": "@jupyter-widgets/base",
            "_view_module_version": "1.2.0",
            "_view_name": "LayoutView",
            "align_content": null,
            "align_items": null,
            "align_self": null,
            "border": null,
            "bottom": null,
            "display": null,
            "flex": null,
            "flex_flow": null,
            "grid_area": null,
            "grid_auto_columns": null,
            "grid_auto_flow": null,
            "grid_auto_rows": null,
            "grid_column": null,
            "grid_gap": null,
            "grid_row": null,
            "grid_template_areas": null,
            "grid_template_columns": null,
            "grid_template_rows": null,
            "height": null,
            "justify_content": null,
            "justify_items": null,
            "left": null,
            "margin": null,
            "max_height": null,
            "max_width": null,
            "min_height": null,
            "min_width": null,
            "object_fit": null,
            "object_position": null,
            "order": null,
            "overflow": null,
            "overflow_x": null,
            "overflow_y": null,
            "padding": null,
            "right": null,
            "top": null,
            "visibility": null,
            "width": null
          }
        },
        "b6a426c4c8b64614b53b69a2ddc56357": {
          "model_module": "@jupyter-widgets/controls",
          "model_name": "DescriptionStyleModel",
          "model_module_version": "1.5.0",
          "state": {
            "_model_module": "@jupyter-widgets/controls",
            "_model_module_version": "1.5.0",
            "_model_name": "DescriptionStyleModel",
            "_view_count": null,
            "_view_module": "@jupyter-widgets/base",
            "_view_module_version": "1.2.0",
            "_view_name": "StyleView",
            "description_width": ""
          }
        },
        "b6d1a4921b114fdca8d060ef085c532f": {
          "model_module": "@jupyter-widgets/base",
          "model_name": "LayoutModel",
          "model_module_version": "1.2.0",
          "state": {
            "_model_module": "@jupyter-widgets/base",
            "_model_module_version": "1.2.0",
            "_model_name": "LayoutModel",
            "_view_count": null,
            "_view_module": "@jupyter-widgets/base",
            "_view_module_version": "1.2.0",
            "_view_name": "LayoutView",
            "align_content": null,
            "align_items": null,
            "align_self": null,
            "border": null,
            "bottom": null,
            "display": null,
            "flex": null,
            "flex_flow": null,
            "grid_area": null,
            "grid_auto_columns": null,
            "grid_auto_flow": null,
            "grid_auto_rows": null,
            "grid_column": null,
            "grid_gap": null,
            "grid_row": null,
            "grid_template_areas": null,
            "grid_template_columns": null,
            "grid_template_rows": null,
            "height": null,
            "justify_content": null,
            "justify_items": null,
            "left": null,
            "margin": null,
            "max_height": null,
            "max_width": null,
            "min_height": null,
            "min_width": null,
            "object_fit": null,
            "object_position": null,
            "order": null,
            "overflow": null,
            "overflow_x": null,
            "overflow_y": null,
            "padding": null,
            "right": null,
            "top": null,
            "visibility": null,
            "width": null
          }
        },
        "f5e0d63804164eb2b90959f8a98820f7": {
          "model_module": "@jupyter-widgets/controls",
          "model_name": "ProgressStyleModel",
          "model_module_version": "1.5.0",
          "state": {
            "_model_module": "@jupyter-widgets/controls",
            "_model_module_version": "1.5.0",
            "_model_name": "ProgressStyleModel",
            "_view_count": null,
            "_view_module": "@jupyter-widgets/base",
            "_view_module_version": "1.2.0",
            "_view_name": "StyleView",
            "bar_color": null,
            "description_width": ""
          }
        },
        "e0d84cf9eb2745fe8d9ebab6c442c401": {
          "model_module": "@jupyter-widgets/base",
          "model_name": "LayoutModel",
          "model_module_version": "1.2.0",
          "state": {
            "_model_module": "@jupyter-widgets/base",
            "_model_module_version": "1.2.0",
            "_model_name": "LayoutModel",
            "_view_count": null,
            "_view_module": "@jupyter-widgets/base",
            "_view_module_version": "1.2.0",
            "_view_name": "LayoutView",
            "align_content": null,
            "align_items": null,
            "align_self": null,
            "border": null,
            "bottom": null,
            "display": null,
            "flex": null,
            "flex_flow": null,
            "grid_area": null,
            "grid_auto_columns": null,
            "grid_auto_flow": null,
            "grid_auto_rows": null,
            "grid_column": null,
            "grid_gap": null,
            "grid_row": null,
            "grid_template_areas": null,
            "grid_template_columns": null,
            "grid_template_rows": null,
            "height": null,
            "justify_content": null,
            "justify_items": null,
            "left": null,
            "margin": null,
            "max_height": null,
            "max_width": null,
            "min_height": null,
            "min_width": null,
            "object_fit": null,
            "object_position": null,
            "order": null,
            "overflow": null,
            "overflow_x": null,
            "overflow_y": null,
            "padding": null,
            "right": null,
            "top": null,
            "visibility": null,
            "width": null
          }
        },
        "518e0ba4951f41ce9ed61a3840238515": {
          "model_module": "@jupyter-widgets/controls",
          "model_name": "DescriptionStyleModel",
          "model_module_version": "1.5.0",
          "state": {
            "_model_module": "@jupyter-widgets/controls",
            "_model_module_version": "1.5.0",
            "_model_name": "DescriptionStyleModel",
            "_view_count": null,
            "_view_module": "@jupyter-widgets/base",
            "_view_module_version": "1.2.0",
            "_view_name": "StyleView",
            "description_width": ""
          }
        },
        "2dfb15dd75c94f9181fcf6db99d231e1": {
          "model_module": "@jupyter-widgets/controls",
          "model_name": "HBoxModel",
          "model_module_version": "1.5.0",
          "state": {
            "_dom_classes": [],
            "_model_module": "@jupyter-widgets/controls",
            "_model_module_version": "1.5.0",
            "_model_name": "HBoxModel",
            "_view_count": null,
            "_view_module": "@jupyter-widgets/controls",
            "_view_module_version": "1.5.0",
            "_view_name": "HBoxView",
            "box_style": "",
            "children": [
              "IPY_MODEL_d6b6047ec3e74fa6ba9eabf7f11e5d95",
              "IPY_MODEL_fad59f44ffbe466d93826353e72b5fb6",
              "IPY_MODEL_b3985737f175497ab5da84cb48b708bd"
            ],
            "layout": "IPY_MODEL_e6659a1e6a3747a5bec628b287de702d"
          }
        },
        "d6b6047ec3e74fa6ba9eabf7f11e5d95": {
          "model_module": "@jupyter-widgets/controls",
          "model_name": "HTMLModel",
          "model_module_version": "1.5.0",
          "state": {
            "_dom_classes": [],
            "_model_module": "@jupyter-widgets/controls",
            "_model_module_version": "1.5.0",
            "_model_name": "HTMLModel",
            "_view_count": null,
            "_view_module": "@jupyter-widgets/controls",
            "_view_module_version": "1.5.0",
            "_view_name": "HTMLView",
            "description": "",
            "description_tooltip": null,
            "layout": "IPY_MODEL_fe2350f5761e4b4e841e919f279aefae",
            "placeholder": "​",
            "style": "IPY_MODEL_a91869e0a4bd4a88926c81f9192338db",
            "value": "Downloading builder script: 100%"
          }
        },
        "fad59f44ffbe466d93826353e72b5fb6": {
          "model_module": "@jupyter-widgets/controls",
          "model_name": "FloatProgressModel",
          "model_module_version": "1.5.0",
          "state": {
            "_dom_classes": [],
            "_model_module": "@jupyter-widgets/controls",
            "_model_module_version": "1.5.0",
            "_model_name": "FloatProgressModel",
            "_view_count": null,
            "_view_module": "@jupyter-widgets/controls",
            "_view_module_version": "1.5.0",
            "_view_name": "ProgressView",
            "bar_style": "success",
            "description": "",
            "description_tooltip": null,
            "layout": "IPY_MODEL_86b069df10b9400eb226a9c7e99e8474",
            "max": 5749,
            "min": 0,
            "orientation": "horizontal",
            "style": "IPY_MODEL_f1419f40f73546e99c8dfbc3b053c820",
            "value": 5749
          }
        },
        "b3985737f175497ab5da84cb48b708bd": {
          "model_module": "@jupyter-widgets/controls",
          "model_name": "HTMLModel",
          "model_module_version": "1.5.0",
          "state": {
            "_dom_classes": [],
            "_model_module": "@jupyter-widgets/controls",
            "_model_module_version": "1.5.0",
            "_model_name": "HTMLModel",
            "_view_count": null,
            "_view_module": "@jupyter-widgets/controls",
            "_view_module_version": "1.5.0",
            "_view_name": "HTMLView",
            "description": "",
            "description_tooltip": null,
            "layout": "IPY_MODEL_6d4e78f0945c4444b119953888fa1694",
            "placeholder": "​",
            "style": "IPY_MODEL_f06dd53b931b4292bc5b3e096d830ac2",
            "value": " 5.75k/5.75k [00:00&lt;00:00, 362kB/s]"
          }
        },
        "e6659a1e6a3747a5bec628b287de702d": {
          "model_module": "@jupyter-widgets/base",
          "model_name": "LayoutModel",
          "model_module_version": "1.2.0",
          "state": {
            "_model_module": "@jupyter-widgets/base",
            "_model_module_version": "1.2.0",
            "_model_name": "LayoutModel",
            "_view_count": null,
            "_view_module": "@jupyter-widgets/base",
            "_view_module_version": "1.2.0",
            "_view_name": "LayoutView",
            "align_content": null,
            "align_items": null,
            "align_self": null,
            "border": null,
            "bottom": null,
            "display": null,
            "flex": null,
            "flex_flow": null,
            "grid_area": null,
            "grid_auto_columns": null,
            "grid_auto_flow": null,
            "grid_auto_rows": null,
            "grid_column": null,
            "grid_gap": null,
            "grid_row": null,
            "grid_template_areas": null,
            "grid_template_columns": null,
            "grid_template_rows": null,
            "height": null,
            "justify_content": null,
            "justify_items": null,
            "left": null,
            "margin": null,
            "max_height": null,
            "max_width": null,
            "min_height": null,
            "min_width": null,
            "object_fit": null,
            "object_position": null,
            "order": null,
            "overflow": null,
            "overflow_x": null,
            "overflow_y": null,
            "padding": null,
            "right": null,
            "top": null,
            "visibility": null,
            "width": null
          }
        },
        "fe2350f5761e4b4e841e919f279aefae": {
          "model_module": "@jupyter-widgets/base",
          "model_name": "LayoutModel",
          "model_module_version": "1.2.0",
          "state": {
            "_model_module": "@jupyter-widgets/base",
            "_model_module_version": "1.2.0",
            "_model_name": "LayoutModel",
            "_view_count": null,
            "_view_module": "@jupyter-widgets/base",
            "_view_module_version": "1.2.0",
            "_view_name": "LayoutView",
            "align_content": null,
            "align_items": null,
            "align_self": null,
            "border": null,
            "bottom": null,
            "display": null,
            "flex": null,
            "flex_flow": null,
            "grid_area": null,
            "grid_auto_columns": null,
            "grid_auto_flow": null,
            "grid_auto_rows": null,
            "grid_column": null,
            "grid_gap": null,
            "grid_row": null,
            "grid_template_areas": null,
            "grid_template_columns": null,
            "grid_template_rows": null,
            "height": null,
            "justify_content": null,
            "justify_items": null,
            "left": null,
            "margin": null,
            "max_height": null,
            "max_width": null,
            "min_height": null,
            "min_width": null,
            "object_fit": null,
            "object_position": null,
            "order": null,
            "overflow": null,
            "overflow_x": null,
            "overflow_y": null,
            "padding": null,
            "right": null,
            "top": null,
            "visibility": null,
            "width": null
          }
        },
        "a91869e0a4bd4a88926c81f9192338db": {
          "model_module": "@jupyter-widgets/controls",
          "model_name": "DescriptionStyleModel",
          "model_module_version": "1.5.0",
          "state": {
            "_model_module": "@jupyter-widgets/controls",
            "_model_module_version": "1.5.0",
            "_model_name": "DescriptionStyleModel",
            "_view_count": null,
            "_view_module": "@jupyter-widgets/base",
            "_view_module_version": "1.2.0",
            "_view_name": "StyleView",
            "description_width": ""
          }
        },
        "86b069df10b9400eb226a9c7e99e8474": {
          "model_module": "@jupyter-widgets/base",
          "model_name": "LayoutModel",
          "model_module_version": "1.2.0",
          "state": {
            "_model_module": "@jupyter-widgets/base",
            "_model_module_version": "1.2.0",
            "_model_name": "LayoutModel",
            "_view_count": null,
            "_view_module": "@jupyter-widgets/base",
            "_view_module_version": "1.2.0",
            "_view_name": "LayoutView",
            "align_content": null,
            "align_items": null,
            "align_self": null,
            "border": null,
            "bottom": null,
            "display": null,
            "flex": null,
            "flex_flow": null,
            "grid_area": null,
            "grid_auto_columns": null,
            "grid_auto_flow": null,
            "grid_auto_rows": null,
            "grid_column": null,
            "grid_gap": null,
            "grid_row": null,
            "grid_template_areas": null,
            "grid_template_columns": null,
            "grid_template_rows": null,
            "height": null,
            "justify_content": null,
            "justify_items": null,
            "left": null,
            "margin": null,
            "max_height": null,
            "max_width": null,
            "min_height": null,
            "min_width": null,
            "object_fit": null,
            "object_position": null,
            "order": null,
            "overflow": null,
            "overflow_x": null,
            "overflow_y": null,
            "padding": null,
            "right": null,
            "top": null,
            "visibility": null,
            "width": null
          }
        },
        "f1419f40f73546e99c8dfbc3b053c820": {
          "model_module": "@jupyter-widgets/controls",
          "model_name": "ProgressStyleModel",
          "model_module_version": "1.5.0",
          "state": {
            "_model_module": "@jupyter-widgets/controls",
            "_model_module_version": "1.5.0",
            "_model_name": "ProgressStyleModel",
            "_view_count": null,
            "_view_module": "@jupyter-widgets/base",
            "_view_module_version": "1.2.0",
            "_view_name": "StyleView",
            "bar_color": null,
            "description_width": ""
          }
        },
        "6d4e78f0945c4444b119953888fa1694": {
          "model_module": "@jupyter-widgets/base",
          "model_name": "LayoutModel",
          "model_module_version": "1.2.0",
          "state": {
            "_model_module": "@jupyter-widgets/base",
            "_model_module_version": "1.2.0",
            "_model_name": "LayoutModel",
            "_view_count": null,
            "_view_module": "@jupyter-widgets/base",
            "_view_module_version": "1.2.0",
            "_view_name": "LayoutView",
            "align_content": null,
            "align_items": null,
            "align_self": null,
            "border": null,
            "bottom": null,
            "display": null,
            "flex": null,
            "flex_flow": null,
            "grid_area": null,
            "grid_auto_columns": null,
            "grid_auto_flow": null,
            "grid_auto_rows": null,
            "grid_column": null,
            "grid_gap": null,
            "grid_row": null,
            "grid_template_areas": null,
            "grid_template_columns": null,
            "grid_template_rows": null,
            "height": null,
            "justify_content": null,
            "justify_items": null,
            "left": null,
            "margin": null,
            "max_height": null,
            "max_width": null,
            "min_height": null,
            "min_width": null,
            "object_fit": null,
            "object_position": null,
            "order": null,
            "overflow": null,
            "overflow_x": null,
            "overflow_y": null,
            "padding": null,
            "right": null,
            "top": null,
            "visibility": null,
            "width": null
          }
        },
        "f06dd53b931b4292bc5b3e096d830ac2": {
          "model_module": "@jupyter-widgets/controls",
          "model_name": "DescriptionStyleModel",
          "model_module_version": "1.5.0",
          "state": {
            "_model_module": "@jupyter-widgets/controls",
            "_model_module_version": "1.5.0",
            "_model_name": "DescriptionStyleModel",
            "_view_count": null,
            "_view_module": "@jupyter-widgets/base",
            "_view_module_version": "1.2.0",
            "_view_name": "StyleView",
            "description_width": ""
          }
        }
      }
    }
  },
  "cells": [
    {
      "cell_type": "markdown",
      "metadata": {
        "id": "view-in-github",
        "colab_type": "text"
      },
      "source": [
        "<a href=\"https://colab.research.google.com/github/vifirsanova/compling/blob/main/bert.ipynb\" target=\"_parent\"><img src=\"https://colab.research.google.com/assets/colab-badge.svg\" alt=\"Open In Colab\"/></a>"
      ]
    },
    {
      "cell_type": "markdown",
      "source": [
        "`Курс В.И. Фирсановой для факультета филологии НИУ ВШЭ (Санкт-Петербург)`"
      ],
      "metadata": {
        "id": "pOx6whguunRd"
      }
    },
    {
      "cell_type": "code",
      "source": [
        "!pip install accelerate -U"
      ],
      "metadata": {
        "id": "XXpKPi59XqN3"
      },
      "execution_count": null,
      "outputs": []
    },
    {
      "cell_type": "markdown",
      "source": [
        "# Классификация с помощью BERT"
      ],
      "metadata": {
        "id": "iP7fVfo-u1Po"
      }
    },
    {
      "cell_type": "markdown",
      "source": [
        "В этом туториале мы научимся пользоваться библиотеками [Datasets](https://huggingface.co/docs/datasets/), [Transformers](https://huggingface.co/docs/transformers/) и [Evaluate](https://huggingface.co/docs/evaluate/) из платформы для трансферного обучения [HuggingFace](https://huggingface.co/).\n",
        "\n",
        "**Цель:** произвести тонкую настройку (файн-тюнинг) модели BERT для бинарной классификации текстов.\n",
        "\n",
        "**Материал:** датасет [MRPC](https://paperswithcode.com/dataset/mrpc) из бенчмарка [GLUE](https://gluebenchmark.com/).\n",
        "\n",
        "**Задание:** использовать образец из туториала, чтобы зафайнтюнить любую другую модель на любом другом датасете на свой вкус 🤗"
      ],
      "metadata": {
        "id": "QzpBzlfou7K9"
      }
    },
    {
      "cell_type": "markdown",
      "source": [
        "## Немного теории"
      ],
      "metadata": {
        "id": "ABH1DFopw34p"
      }
    },
    {
      "cell_type": "markdown",
      "source": [
        "### Модель: BERT"
      ],
      "metadata": {
        "id": "7m9jps0Uw8fm"
      }
    },
    {
      "cell_type": "markdown",
      "source": [
        "[\"BERT: Pre-training of Deep Bidirectional Transformers for Language Understanding\" (Devlin et al. 2018)](https://aclanthology.org/N19-1423.pdf)\n",
        "\n",
        "- **Файн-тюнинг**: мы используем \"готовую\" модель, обученную на данных открытой предметной области, общей задачи или распространенного языка и *тонко настраиваем* ее параметры для решения *узкой* задачи.\n",
        "\n",
        "- **Кодер Transformer**: двунаправленная модель для создания эмбеддингов.\n",
        "\n",
        "**Masked Language Modeling (MLM)**\n",
        "\n",
        "[\"Cloze procedure: A new tool for measuring readability\" (Taylor, 1953)](https://gwern.net/doc/psychology/writing/1953-taylor.pdf)\n",
        "\n",
        "Психологический тест, инструмент оценки \"читабельности\" текста для журналистов.\n",
        "\n",
        "Источник: гештальт-психология, способность увидеть целостный образ, даже когда часть содержимого скрыта [от читателя].\n",
        "\n",
        "Метод Cloze:\n",
        "1. удалить каждое n-ное слово\n",
        "2. заменить его пропуском длины k, чтобы длина пропуска не влияла на предсказание читателя\n",
        "3. попросить фокус-группу читателей угадать пропущенное слово\n",
        "4. оценить \"читабельность\" как долю правильных предсказаний\n",
        "\n",
        "MLM:\n",
        "1. случайно замаскировать токены входных данных\n",
        "2. обучить модель предсказывать замаскированное слово по его контексту (выводить ID наиболее правдоподобного токена из словаря)\n",
        "\n",
        "*MLM обеспечивает двунаправленность при построении эмбеддингов (улучшенный Skip-Gram)*\n",
        "\n",
        "**Next Sentence Prediction (NSP)**\n",
        "\n",
        "Аналог Natural Language Inference (также основа для вопросно-ответных систем, согласно теории речевых актов):\n",
        "- поиск связи между 2-мя предложениями\n",
        "- данные - любой одноязычный корпус (извлеки 2 предложения как биграммы)\n",
        "- 2 метки: isNext, notNext\n",
        "\n",
        "*NSP позволяет искать связи не только на уровне токенов, но и на уровне предложений*\n",
        "\n",
        "**BERT для классификации**\n",
        "\n",
        "Процесс тонкой настройки не отличается от обучения:\n",
        "\n",
        "1. модель \"заполняет пропуски\"\n",
        "\n",
        "2. модель классифицирует пары предложений\n",
        "\n",
        "Так мы \"уточняем\" предобученные эмбеддинги (тонко настраиваем параметры) для узкой предметной области.\n",
        "\n",
        "Q: Как мы задаем предметную область?\n",
        "\n",
        "A: Используем в качестве \"дообучающих\" данных специальный датасет.\n",
        "\n",
        "Q: Но одних эмбеддингов недостаточно для решения узкой задачи. Что меняется при тонкой настройке BERT?\n",
        "\n",
        "A: Добавляется \"верхний\" слой для классификации токенов.\n",
        "\n",
        "Выходной слой BERT: векторные представления токенов \"скармливаются\" линейному слою для решения вашей задачи. Например, классификация последовательностей, извлечение токенов.\n",
        "\n",
        "*Тонкая настройка модели с обобщенными знаниями о языке быстрее и вычислительно дешевле*"
      ],
      "metadata": {
        "id": "a95pFQ4TyIcm"
      }
    },
    {
      "cell_type": "markdown",
      "source": [
        "### Данные: GLUE"
      ],
      "metadata": {
        "id": "nE_BY0BTw-2U"
      }
    },
    {
      "cell_type": "markdown",
      "source": [
        "Бенчмарк [The General Language Understanding Evaluation (GLUE)](https://huggingface.co/datasets/glue)\n",
        "\n",
        "- коллекция ресурсов (датасетов) для обучения и оценки моделей для понимания ЕЯ + лидерборд\n",
        "  - The Stanford Sentiment Treebank\n",
        "  - Microsoft Research Paraphrase Corpus\n",
        "  - Winograd NLI\n",
        "\n",
        "SST\n",
        "\n",
        "![image.png](data:image/png;base64,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)\n",
        "\n",
        "[Recursive Deep Models for Semantic CompositionalityOver a Sentiment Treebank, Socher et al., 2013](https://aclanthology.org/D13-1170.pdf)\n",
        "\n",
        "- рецензии Rotten Tomatoes\n",
        "\n",
        "- аннотация с помощью Stanford Parser - выделение фраз, присвоение меток {--, -, 0, +, ++}\n",
        "\n",
        "- версии датасетов:\n",
        "  - более мелкие / крупные фразы;\n",
        "  - многоклассовая / бинарная классификация\n",
        "\n",
        "MRPC\n",
        "\n",
        "![image.png](data:image/png;base64,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)\n",
        "\n",
        "![image.png](data:image/png;base64,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)\n",
        "\n",
        "[\"Automatically Constructing a Corpus of Sentential Paraphrases\", Dolan & Brockett](https://aclanthology.org/I05-5002.pdf)\n",
        "\n",
        "- эвристика для выявления схожих фраз: поиск наиболее близких по вектору предложений с помощью SVM\n",
        "\n",
        "- поиск правдоподобных парафраз в корпусе новостей\n",
        "\n",
        "- ручная разметка, бинарная классификация\n",
        "\n",
        "WNLI\n",
        "\n",
        "![image.png](data:image/png;base64,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)\n",
        "\n",
        "![image.png](data:image/png;base64,iVBORw0KGgoAAAANSUhEUgAAAx0AAACGCAYAAAC40OeOAAAABHNCSVQICAgIfAhkiAAAABl0RVh0U29mdHdhcmUAZ25vbWUtc2NyZWVuc2hvdO8Dvz4AAAAuaVRYdENyZWF0aW9uIFRpbWUAAAAAANCh0YAgMjEg0YTQtdCyIDIwMjQgMTI6NTE6MTinxL0jAAAgAElEQVR4nOzddVxVZwPA8d+5l26RkhZEUFTs1tm6qbNrts6YsdB1+86lNXO62TXndPacHRMTxEJEVFSQ7q57z/uHgsTFkWI838/nbnJPPc+5z3nOefJIt6LVMoIgCP9BPyeWdK3qVR0MQRCecyIvEYSXk5ZU1SEQBOG5IfILQRAqgshLBOHlo6jqAAiCIAiCIAiC8GIThQ5BEARBEARBECqVKHQIgiAIgiAIglCpRKFDEARBEARBEIRKJQodgiAIgiAIgiBUKlHoEARBEARBEAShUolChyAIgiAIgiAIlUq8p0MQhBIT+YUgCBVB5CWC8PLREle+IAglJvILQRAqgshLBOGl85x1r1ITtnEELes1ZObe1KoOzHNExYMD3zC+WzNaNKhLk3p1Hn68OjPHJ6fYrTIvLWZUWy9adRjDxpuqpxjesqjgtKG+y7o36tOkyXsczir/7oTyyOHK3O40b9CBH85nV3VgKk72SWa19Xx8PT76NO/6Lb7FX5bCE6m4vXE83Zt40Wnwz/ilV+S+X9B0KAj5yelEXDrEiQP7OOsfgeaUnk2E716O7t9V8PPPce4my085wMLzROu/V1Fxb9UbDF5wBZWWJ29t/4Pxrsp8yzO5+EMvJm8MRW38OvNP/Eh7nUoLr1AGcsIBFs3aQpBdd4Z0s3lcwSSZ0rhGcdVNauL9L3AzIYts6RK+gWmMqG38lEIsvNDUCQT8vZ7fdx7DL/A+MUmZoF+NGq4NaN51EG8M6YCjflUH8ilQ2tN62BhM0h/dpNURXPjrH25VbaiKoSZs4yj6/xhE9yX/MuuVZzWTz+SWz0ViM7OQg87jH6OmkcOT6tael3gJxcoO4Z8v32TW3vtkyaDV4H22bhyP03NWpVocOTGA82eCUDu3paWHeeU3EMkpJMalo1LLpMfGkS7boF3koEoMrV1wNMwtYMikRQUTk1bZgXuacoi8+A/+0RbU6dSSGtpVHZ4XQwkKHY/JOTfYt/Mao2Z6kXf+U8+w+58wVIjW0meVOiSAoFQJo0ZDefv95iX80RVYdZvM5FvW3FI2YFB7o0oOpfBSyLnLzplj+f5oBCpdS9y8WuJprkt2Yig3r5xg2+Vj7Nnehy+W/Y8eDi94Lq9woevUD+ia+3fOBeYcOviMFjqeF/q0HvsBg/X9yHJ5nW52L8iTp6BZ5m12fDSBH47EYt20CVz0JbKqw/S8U5hj5+6KKjoLPRsnjDU+2Ckwtq/L42pINdEZd1+wQodQGUpe6JAUKBUQ+vdf+E7xoqU+gEzC8b84HiehpZR41jvgvKxkVU6ZfhuFZWvGfNW6wsMjvKxk4vbP5eejkSjdRjDvl49oa/04C1Kn3GT//E/4adt+Vv85kI4zmqBbhaEVnkcSxl5v8KHXG1UdEKGypQWweeYkfj6VjNOAuSx8M5JZvUWho/yUGNl5UteuqsMhvIhKXg0kVaNj/04Yxxxk18kkZAB1JId3/kt6rX70rl+qRhNBEF46WVw9fYEUjGg36e0CBQ4AhVFten6xmmXL1rD8XVHgeKaoUwm5G426qsNR0V7UeL3g5ORLrJoyngWn0nAbsZDlX3bF5oWci1MmOy0VMaywCqhSSUsX41MqWokuU+nRf03aDaTbqaPs3XGQ2G4DqX5vD3t8oNH7fXA9tCtv3fz7VEX7sn3VGvae8ON2RCIqXXPs6rSix8gpjOzkhJ7GI2YRdnIVS3/bydkbkaTrWlKrxeuMe28CtYuEq+B2kee2sHrdLk5dvkNMhhYmtu406zaMsWNew61wO6H6LutG9GZhYBd+Ovkheut/YsX2UwTF5mBoV592g6czfUQzqhcqmmWd+Jhu0/Zi89Y2VnS4xrL5azh8KYQ07erUbNaL0e9Moburhk7pcip3Dq1j7R8HOH/9HnEZEobWtWjYYSBjJw2kQTVl0W3KIG3vNDp/fITMwgs2j6bF5nx/K20ZtuoAHzR9+PCnfrCeN3t9z6VCI8eUTuNZvet9NJUrs898xWuTthKb766tqD6IxYe/ovblDSxesoV/r4WSkAlWw1az59P83btUJFzbxbpVf3LUN4jIFBnDGu406zqEMWN742GqqUxc1rRRern7kLLD8V5VsrRRlniV7xw+XeU7r2oy0zNBUY3q5vqa9yWZUq9to2KPK8kZ3D/wM/NX7ME3OBHJzIkGXUcxbfoA6mjuB0B21AX+Wrma3ccvcTcmHYWpPXVb9WTwm6Po5GJYgd1CM3jw7ybWbN7PuWvBRCVlojCojq1bY9r3Hc2I1xtSvYQ/XOF8VJPSxSubM191YPrOaoz9fTtDkjey+JdteF8PJ03bAtdmrzHy7cl0dTF4tJ1M0q4pdPvseJEHnr1Tvdhb4Bsl1m+UJ12quLm0P8NXVeejf1Yx0EoCcvD7oQcTN4ZjOmAFf89qiw4gJ/zFO52+JPLNbWye4oGS4vI7CdO+v3Bg9isUHKVRvniVJx0KBZXrLEkSKpU+9Scs5OfpzTCVKFBwLMn1U2aqVGLuBRESFkVSWiZqhS4GptbUqOmGvYVBkZpcddRF/vUNRc/tFRpbJXDnxi0iE9JQSboYVrfHqbY71kaP7/1y2i18T/qTWOh5Nzv4X44FF/xOMvGgeWt3jPJFVs6M5cGd24RHxZKakY2s0EXfxBJrZ3ccrQ0p+pShJvbaAS6HZFHwkAosGvTAy6703Vw1nns5lfvnjnIry4UGHhL3/YNJzFZiZNeA+nVMSQy4yK0HCWRpGWPt3pQ6dkaF9iOTnRjCvTv3iI5LIiMHlPommFs74+Rij3HhgSdyCvfOHuNWkg31O9dDefcad0KiSMmSUeqbYenogauTBTp5m6mJuXqAy6GFc4ZIAg7vIqDAd0qsG71GPRvRfbO0SneP0G9Gn9412b72L/4J6U2T3bu4odeOWT1qkHCo6Oo5d7fxwbivOZlQDfeW7ej1iikkBuP37z6Wv3sSnw83sGRELQomaTXhez9i/GcHiJINsG3QmhYOBmREHuGHN28zuEtxJc8MAjdMY9rc0yQYu9K8TW/aGecQfeMsx3/9gONHffnh189pb6kpkWTi/8s09hzRoa5XJ7rkhHHlnC975kzAP2IFaz5oUeCizgtp9D7+9/YuQp28aNHVg+Rb57lwbCWf+d0kdfMy+jvku7zlRC7MG8t76wKR7JvQpvsgLHQziLp+Gu9NszhzKoC5G76ibbXyZ5Varp15Y4wjuRPgqKMusPsff9TuPejbwuZxpiiZ0ijfQHLJ2JMeI8dSPzf3VodxdutB7jzhWErbNgwaZUjqwxPCxZ1/E4BMyvm5TH57PSF6VtSwq4m5pKC6Zf4HTRUP9n3MW1/sI1zXheadB9DFUkF8oDfH1nzCiYOn+fq37+hulz+LLGvaKI/Spo3Sx6vs5/B5o4O9sy0K1X18Tl0no1mDYiodiiOT7P0j7+70o3qDpnRwy+C+7xnObv6SK/6x/LZ6Eh6FmkeygjYxc+L3nI43o3b7rgx0NUMVeY1TR5fw4eFDDFvwGzPbVK+Ac5rD3d+nMf7706SY16V1xwF0MdclJyGUm76n2fjVIXbueJOfFr1Dswq4xssTr0Tv73hrsy8mdevQslMtovwv4HfkNz71vUbsmhUMq6UNSOjW6sIbY2o+6popE39pN39fTqVmpyG0zp+3ocC4UY1yTIWoxNbZEW1VEA8i1GClBHUMQTejkZWQdPMG4eq2OClAHRFKhEobByf7vIenIvldrC97910t5lgVEa/Sp0OhYklGXkxa9TdjdXR5qkP/c+II9jlHcLwKHTNrbByNUKpTSYwKIcgnjGi3lni5VtP8YJXxgADfENINq2FubUpOSgzxkUH4xyeR06oFdgaPqne1zLCuWQvT3NtZRjQPwpOQTO2wNS+YY0p65gXiL6fe4+r5y0Rn6WBsYU0NK23ITiEhKpQ7fpHEe7SlobNxoTQtoW9REwet3E7YMqqkMMJii1RbVozsSILvGmFSwxFl1D1iQq4RmGVEptoUawddYkLCibhxEyubxljkXY4y6WEX8bsaSobSGHNrJ6x0ISs5mujgi0RHRFO3eSOs9TXleGqSbp0jPFKJsZkNVnI6ibFxhAWcJTG9JU3rWDz6vR6eB0ft3POQQ0rEPeIyDKjuWAPDAidNgbHh83snrkqlrJjSwr1vf+qtnceerZu5d+Ae1bp+yCvVFOwqsq6axJDbxBq25p3F8xjpaZx3A1RHHeSrETPYv2wZJ/rOp0u+Mcpy8jGWzTlIlLY7wxas4L12Vnk3l4w7f/L1lG/RNJtk9vVf+XLBGbIbTWPlwsl45dUmZxG67wumfPYH//u+CX/M60n1wmkl+wK+ikX8sa9VXs11dugOPhn5Ocf+WMLuN5rxhn2R+gtCvO8zeMVBBrrq5QaeSz+P4a3Vp/h19Vl6ftXmcReR7AiCQ7JwGrSQuZ90yTcTQjo3fh3P+MXbWbrlDVq/Vbvc8xjr1OnH9DqP/8659CMnDgSQ3Wgo7zxhILlk0oTBM5o8/iLbm9n7Dj2x0KFw6sbE97s9OtBlFp7YT0BSKLvX5tDiu92s7epa6GJ9SH1vM7O++ZvYWqNYtOwDWuXlLiqmnJzNpHe38u3Xjai3Yii5Y0HLmjbKpZRpoyzxKus5fP4oqdN3GI22fI/v2ilMThzP8N7taezpTHW9ErTyyXGcDXBk4b5vqJdbm5wRyPopo1h0YTUrDw9mTs9qjx+0s66x6uOfOJPVhCnrFjPOyyRv2Tuhu/lizKds+fR7Gu6cQ5fyFgQyvFm77AxJNfozf8s3tMu/PzmZm3/9yLLrHthWRC14eeKlDuHYhT78vOdrPHNLy+oELi2fxjvLz7Js3i46LR2ItQJ0PQfwtmfuhiqClp1l/+Uw6vSfyXsVPMuTnr0TVngTFp4FDfQhJ4gbt3Ro26sDV44GcCsTnPRBFfGASGxo4/C4Jblwfqe6/jNn/r5KbDHHKne8SpsOhcrxtAsc5BAX6EtwggILzzZ4Opo8bjVwTyLkojdBQb7cMetI7eqF8zOZtJhU7Jt1wS6vVSObhEBv/O5EEXwnmhr1rB7e+3UscHC3yNtSHXuFyIgklOY1qfXE2atkstOSyVRaUqtlU5xMH1fnyplhXD/jQ+StQGLsm2JV4CFAwsDGAzebx/vJuJtAeCUVOmS1IfZezamhC2oLNad97hKXU5vWTZ3RldRYcISL9xJITJGxMH3U7poaTID/A7KMXPFq6kl13dyzIOMSfQW/i/e4cc0ck6bOFCl3yDHES81p0d4yr1VDnXYf/7OXiLp/g3CnNjgYPGwbM6zhgVuN3O0yCE26T1ymEdZunmL2qgpS6kcZhUMv+rXU4/aGeeyKsuPVAa0wKGbX1dt9xNpdyxmVr8ABoLDqyOvtqkPqdfxvF3xMTPHew4k4CdsBnzA930MlgJ5Lf8b2ctIQ6DTObt7KbVUthn48KV+BA0AH+9c+YUpHIxKOb2DvPQ1DqrUa0X9sywJdZbTtezOmlyOKrGv4XtE0JYMCiy6j6euar+ZBMsZr7Eia68rE+vkQnP9QOu4MXribDV90KZR49andpxeeWjkEX71OygvQhVCdGIBWr3nM6F7cw3IWl35fh196TYZ8PiPfgzmAEot2M3irswlp5zey88bjk1i2tFFOpUobZYuXJv99Dp9PCufh/LBoOq1tUri67Sc+Gt2Lbi2a0bXXYKZ+/BObj98mtdhrwIBWw0Y9ftAD0HNn8JgumEkpXPYJyFfolEk+sZY/g6DehP8xNt+DOYC2fS/em9gc7bjD/L43tNx9+uWkcCJS1ShrNqKeWaG7nmRM7QGz+fmLHtiVu19cOeMlVaPjuNGPCxwACjMaTvqSEe5K0s7t4Xjk0x/hoHR0xk6ZTXhYFGpAHRbIrTQn6vVoSM3smwQGqwA1cQ/CyFA64PTEaXArW2nSofCikDNCufcgHaVlXTzyFzgAlCbYe7hgRCrh98I1vNtCQtfaFVuj/FtpY+biirlSJis+9gn5XklJ6FjWo2m7lgUKHACSrg22lrqQk0BSStWOYJJ0jDB4VFqUDAzRkyS0DY0eFQgU6BsaIJFFdnbuCVGTeP82CSoj7D3r5itwAEjoWtbFxVobVewdwpI0nETJHLualvm6UYHCwB4nW0MkdQLxiWIKpKep9Dm3ZEmnAZ0wk9VI7v14vf6Ti38KxaNDqLNJT0kkMSGehPhEshU6SHIG6Zn5E0kOd/1vkI4unk0baBhIKmFsVrhpEMgJxMc3AUwa4OWqocZUMqF+o1oos2/g65dEkWQpGWJUpKlMiZ2zPUpZRVJ8isaHEkOjov3BJSMHHC0UyInxJBbZSIEit6SdmUpyYgKJ8fEkZqjRkkDOTCfjBSh0SDrN6NbZqvjEpQrizJkIZBMPXE2jCXvwoOAnLAEz+xooVPe5cjl3kGcZ00a5I1OKtFGmeBVz2P86h88tBebN32LxnsNsWjabdycOp2cHL6xy7uOzbw1zp/dj4LQNBGp6qZukj5FR0etbx94JG4WalPiEfLO05XDN+yxJUg3q1FQQUfi3eBBOVnUHqiuyuOHnT0Y5YyVVc6e2tZJsn/Us+suH0OTKupGVM16SEaYmGvJIpQuNGlmgyAkkIOjpPzJLxo44mstEhoajAjJuXueufm3cG9WhlskDAm+lIKMmIjQC2dwRh6ocN1GqdCi8KFRxUSSqJAxMDFGlp5FR6JOp0EdfC1QJcWh6rldqa6hx0DJAX0eC7CyyK+jeL0mPrg1ZjSoni+zsLLKzslFLCkCFqqoTZ75LV1JqoSz4FUqlFiAj570CJInYmHTQNsVIO6PIec9Iz0LbQB/kVBITMoo+36GFVpFTr0DP0AAJmZysbA3bCJWlTPVuRm0H0t32KMED++CsgGKfnuRkbu5dwW9bDuIT8ICkLHXBH1dhXWgDNQlx8aglXfT1SzGoWhVNZLQaycKwaNMaABIGRoZIsoroyBhkStb0rXyUUtVyaa5SLbSUgFpd5LTkRJxm8y8r2XvyMsExaagKpfQXpfVOMqiG2ZP6NKsiCI9Uo07Zxxc99z1hRS2SEpIAG8qcNiqJxrRRpnhp9p/n8HmnY4FH+wF4tM/9QkXyrSOsmvUlG0/O4YuVjdk83bNkGZTWwxsXcr5rTk4mMiIZtSqWP6Z2448nBSUpgVQZDMrzHKvdkIk/vMPtGUvY/dVIds/SxdjKHkdnF1zdPWnQqitdW7tgVN5SZKXFS0LfQB/UccTHpSOj83S7BykccLJXkBgWRpqsIvzGTXJcBlNL35UoVxnv67dQve5OeFgMkkNNivR2fRZoSofCC0ImMz0dNWqSbv3L6Se9TEeZVcxbvDVRoFAA6op67M0m5cFNgu+HE5+URnbh/UqlG0X3TJAzyMiQkXNC8T8Z+oQVFeRkZwMle7NsboW4LIsix9OkVaI7i1To33pN6Dt8PCHdrR/W3BdeLgHkcGfDVCbM8QW3Hgz+cDp17c0x0HpY2g7+8zPmHcq/voZjPils+ZdrPH4FbFd4eeF/l2Sb3EqHhJP8MHYqOyItaTZgCsObuWBlrPfw/KV6s/T9VQSWJPxlUVw8Srvdf21b+LwUt74EsgyK6p2Y+kX/hwXXYlY0crFF0nSOS/obl1VZ0kZ541VoX5U7BUsZVVp4lBi7dePt2fe52GceAceOcmeqJ7Vzy5elueaAvJoypSM9P3mfTlbFP6UqzN3ROFFaqUgYNZzA0r97c+20Nxf9A7kTfJf7wf4c3XSYXeuXsKLdxyxeMBy34u77JbreyhGvkuYDCqn4PPmJYSsHpQWOTsaor4QSrk4h6GYYprXdsdSqhqubJbE3AolVmREWocLIwxHzktY7lOb+VpY8rrhjPWvX7bOosu9zlbJ/BcZODalp8YTqEEkfEwUF04qmMGraf7muOzWpwefwvREHxrbY1/HAxEAHpSQBMqkhfgRFlGQ/pQhzmcJZzDrF3eelh4UCSdcGF09Hih+/LaFlaFD8ffUJzyNlCq9QJmXsYayk9shJuGn8dR/JucyOTRdJMezM7FVzebXAgMYc9L31oMikrgrMzM1QyDGkp6socd2/0hIrSwVyaiqap1WWSUtNRZaUWFhVxEw1pSUTd3gj+0JlXCctYfH0ugViJidGsOllStBKK2ysFBBvSq32nWlXohr9MqaNp6lM8RLyU9g6YactcT0hngQ1aJjfsWQkY6ysjVAgYVG3Ix29ntIkw3o21Os0gHqdHn+lTrzB7tnT+Hb/PBbu7cbigZZlz4MqLV4y6WnpIOlTzUyvCvJIBXZO9kgHHxCZeYvAmzIuHWuhRElND1ekvQHcznAkLFzCrrtDmZOFIJSNhK6eHgqSUOibY2FdkVNtVxA5nrB7ceRo2eDZvCk2BUbZq1HGKOF57Pgn6aOnK0GWDkZWNbB4Fls5hRIr+88nKZ580aliiY5VozCzx65I/1uZjDTNfe+cPeugRyb+Plc1vBBHJjkxuWjTtZY7TRubQeIVLt/WcFHJSVzzu4VKy52mjUyrILNQEx8Tg0pWYmNvW6SkJ6envRBjOUpM6Ubz5pZIyRc4fUlT532ZlCsHORacf1kZ08bTVKZ4vUwyCflnDt+tu0paMeldde8W97JlFNUtKTIBTKloU691M4zkB5zxvq1xYK865jyHvB9U0Iu3somNjNN4S1eYetCzf1vMpCzCH0SVM42WM15yCkmaxpuogvHzi0Gt7U6d2lXxFhglNk6O6GaG8eDmdW7G2VC7thkSEka13LFNu8mNgBDCU3RxcLJ5Acc6Cc86pbklJko1KdFRZGrKv+RUYsNjyaqqe7mcSWamjKRtiL6GOjlVznNY4ACQjKlWXQ9yYoiN1xyHnIQwolOe0/i9ZPJ6Rz3pk6sk6+X9rWWPo50CddQl/O5n51tPJi1wM+sPxeTdfPPvw7htbzqYy4Rt+55Fpx4Ots1dlhW8i3V772nYzoDWbwzCVXmLP35cybVkOd+yLMIO/Mgvx1Iw7TCCXs7KUsWtuGVP2q7oMgXWDvboSiqCLlwkWc63LCcS79+2cCWnZOf4aX/+6/yUbX09mg0fQT2dMHbM/o6jD7IKpo+bf/D1ezP4cNI8fDPLmzYqL+5Fl5UtXuU9508zLZRr+0RvVv60ju1zJzDp273cSZULLJcTLrHu+/XcVOng1qUzNRUlPy9Fl0mYdRxN/5oSt9Z+ybKzscj5jxV/kbUfvssnU6az7qaqnOdGxb0/pjHstcG8v+o8MTmFlsuJXDp2gQRZD6eatnkDJ8t2nsseLwDkOI6t2ciNlHznXp3IlV9nsTFQhUGL3nS0Vmg8traWskLSQXEfbQcnahDOvZP+3FHUwqPmw+NpOXvgorxDwL+3iZDscHLULlFaLWk4SxuvJ+27NMd9mT+VdY4q8/wr9B1wstVHHXeDgDvxqPIvlzOIu+HDtUtn8A9JL1UY8tN4XIUir5D9xH1JhhgYSMgZcSSmqgssUycFcz8iM6+it7xhKs/vWnidwscpemwl5s4umCjSCfO/SnR6obgl3yXgog9XL1wnQV3yMP1nHCUJheI/1hGfUn8qr0pL6UH/sR3Y8cVRlowcxKUurXAxVRN/x4dT57PpOKgjJutP47vuG747147RU7tipwDJuCNTP+iKz2cH+f2tVznh1YIGDgZkxdzGP8SBgV08ObLGv8jhtOtNYtY7l5k2fyHjXvubFq0bYm+UQ8yNs5y+HI665kB++LQnFoVT21MhYdJpDIPd/mXt7pkMe9CVDl42aKeFEeB9kts1B9Hb/S477+5j0Te3qd/3fYZ4lX3Alxx/gT/WHCPsUcFfjvIhQVaj9tvCwjnH8y44LZdXmTigft4L2uQkX7auPMKD3AoDdRhXU2Xk7PP8Pu8nDj26AJX2nRgztOnDt8DeO8jKPy89nOpXHc3FeBk56wp/zf+JM3kXrBL7zhMY1Pjx9J5K19HM+vwaU7/ezgd9TtOgTQvcLJQk37/E2XO3SdJ2od+cSTTO10WprGnjaSpLvMp6Dp83kmknPln+BZnv/MCh3z9kyN6F1PGqi0M1HbLj73P9kj/hqWDeciZfjKld/i40eo2Y9MMMbkyey7qJr3K0SVsau5gix93B77QPIWmG1B3/CUPdynskJQ7th9Bj12f8vmAsfX6vT4sW9XGyNIDUSG75nOJ8UDxGTWcwqXu+SSzUdzi4bDvXcvuEqiPwS1ajxpc/5/3EiUe/vaTfgH5TejweI1SeeCkc6ND4Ll+83gdzz9pYG2YRee08F+8mIpu2YubMPlhrbEZQUqOeJ+aKWwT8NY/55wu9RK/xEMZ3dihXC4TSzhkHRSTHd3mT4jgMV8NHC/RrUdsxi817DpAmNcTJtmC8sgJ2sHxvUF6rjxzrS6wMGde2s2jOuUdhUmDeYgSj2hduJan8eAmVQcWt7bNZdSbxcY+JjPvcUYH6/l7mfeD/eAIFo1aM/2IQ5b7M0cbCozFOyee5F3gK7zALqpsZoqXOIDkuisR0NToWnrjZVewLXCVDM4y1IC42mKCA8IL71rPCyfnRdLCSCXY1bXhwNZxbZ06QYGOJoQ5kpcQQEytj5WCD9t0o4oOvcCPWGie3Go8m3pFJCw/kQcLjlwPmJKUhI5MafoOg5NyMSImJgzvWhhKgJin0BpHJeVNMkZYkAxnEBvuTk/t2cEmHas61sNAr3xmRjFzw9IzH79o9rpyMxtTSAmNdiezUOOJik8lWGGPX0A2zCr1QdTA2NUSKSSHypj+pBcbHKTC288CmKmfRe05VYju6ghp957LSYDlLV+/jwt4NnJINsXFvw+B5HzC2RTKu94NYfGIbfwWb0Putro9elqagRu8fWWXiztJfd3I64BTH7lji2uJ1PvxtIu7H32SFxuPpUWfMcja5b2HVup2cOrmbcxlKTO08aD/xXcaN7UXtqkwg+o2ZtnIllouXsv34Ubb5ZaJdzRmvrh+x9J2+WPmpuCEGcI4AACAASURBVPnFFvb/eZXkhm8z2Kvs/arl5Kv8vW4NVwv3vQjYz8aAx3/qtHNlVP/65OYHcpI/B9avwa/w1BsZV9m//vEbfrUbWTFgyMNCh+qBN3+u20pMgT4jgRxeH5jvb20a2wxlYIEHZi2c+s5lo1t71q3axjGfg+xOyELLzB737pMY+OY4XnU3LnQOypo2nqbSx6vs5/D5o197CD9sb85rv6/nr8NnuH7pOAHpMjpG1bGr051RvYYzsl/jcnatekyv7hgW/enJX6vWsufkWQ74JaHSs8CxXh+mjpjI8I7OpXwrumbKGp2YuX4v3fZt5I89J7h4fBunkrOR9Myo4epFvw+HMWpwW+zyj/NRhXL697XsSijc4SqAA+sfX6gKs/40m9SjwMQEZY+XhGnbz/ilwUYWLtvKqTMRpGtVx73zIEa9/RbdXIsfK6XXchpfjg3hxz9+Z9OR7HwT7iixyWrP2PI+nOs74mgjc/RuLCbNPXDM3ZnCntpueiQGxKBwdsa+0OQ02bePsHntkSIjBLl1iE15swwpcdbqzsj2RWeMq/R4CZVATaz/EQ7u1zD1eMIN/v3nRt6fiupG9PmsIgodgLYFtVq8gtm9IELCoogNiyEHJbqGFtg7u+LsZIleRScWHVvcPOO4FhhCSHBOgW7pkokWNZwtH70kUULPvglNtG5y+04o8WF3iJG10DOxwqGRJ87VszFMS+J21D0epGpTw63Go3meZNJjgrkfklWky3t69B3uReceTAfb6rUfFTpUpEbc4V5U4S5NmSSE3iYhL4BGYFMLi3JnsgoM7JvS3DiEu3fuER0XRliWGknHAOMatbF3qYWNSUWP85QwqdkQ1+RL3Au5TWyBmcCUWJu5i0JHGUh3YytsrjZBEF5g2lmxZOtUr+pgCGWSzemvOjB9RzXG/r6LaZ5iKLZQdUReIggvJ1GBIwiCIAiCIAhCpRKFDkEQBEEQBEEQKpUodAiCIAiCIAiCUKm0xDAYQRBKSuQXz6/C00cKQlUSaVAQXj7SPTGQXBCEEtDKiiVHDP4UBKGcRF4iCC8n0b1KEARBEARBEIRKpSXaOAVBKDGRXwiCUBFEXiIILx3R0iEIgiAIgiAIQqUShQ5BEARBEARBECqVKHQIgiAIgiAIglCpRKFDEARBEARBEIRKJd7TIQhCiYn8QhCEiiDyEkF4+bywLR2ZfosZ3tqL5u3HsCFQVdXBebpU11jUqx6N2n3JmeyqDowgPIvS+Ht6Q7y8RrAxVF3VgXn6HuURjXstwP8lyx4FQRCEqlHqQofK/2f61a9H7zmXyKmMEFUINXHXLxCYkEVm7CUuBKZVdYAEQZDj2TnJC6+6dWjc/XsuZhVarrrFrwPr07BuHZpN2k6CeG2pIAiCILwwtKo6AJVDgXW3yUwJsuaWsgGDXzGq6gAJgpCP6sHf7Dz9No07GOZ9l31tJ3sDcxBlDUEQBEF48byghQ5QWLZm3NetqzoYgiAUJinRkuI4uuMYM17phZkEkI7Pjr2EooVSenbbUAVBEARBKJtSdq9SkXD3PvGiKlIQhLLSaUPfPjVI+/cvDkY+HE8hJ51k58EYrPsMoJVOFYdPEARBEIQK958tHer7qxndaw5XClU+xq8ZRpM1hXbmMZ0tf07BTQmow9k8pjs/+uQfyaxN40/2s2pgBgeXzWfNvgvcjkohW6slnx9cxSCrR/NZyKncObSO1b8f4Nz1e8RlSBhZ16Jhh4GMmzwQL3Nl0XCGrmdcz+/xKzRwWuk0nrV73qeBppiq7rJmeG9+DuzC3FMforfuJ37Zdoqg2BwM7erzypDpTB/RDIuihwNUJFzbxZqVf3LUJ4iIFBnDGu407zaEseN6U8e0YHku+/RX9Ji4lZh8Y1YV1Qex7OhXuF3awKIlWzh5NZSETLB+YzX7PmteMc1Q6kSubPmZZZuPcDUkGao507DLcKZOG0BdE03zh5QuXnnkVO4cWsvKTfs5fyOU+ExtqjnVp12/ibw1oiVWGiKjivZl28o17Dnux62IRFS65tjXbcWro6YwqpMTeoU3yPbmf50mstNorIbfVMXNpQMZuiyM15b+y+wOhZ5cc6Lw2bqSTXv+5crtMOLTZfTMbHHxakvPEePp37IGuprilRHCvxt/ZdPeU/jfjyNT2xxnr/b0GjWBIW3tNW8j/AddGg3ow5Vdv7FzdzADJ7oQd+gvTqbUYuSAxtza94eGbdQk+O9m3aptHPO5QWh8Ftqmtrg168qQyRN5zd1Y82w4qhh8Ni1kxZ/H8Q9NQVmtJo1eHcP0qZ2fHERVLFf+Wsma7UfxuxVBKkZY12pMh4ETGNevAYWzIDlxB9Nf+ZSzjb5k75zaHJq/gC1HrxGRpYe1exv6vjWDse3t0C6wVQ6X5/Rk7LpMBq7awxvxy5m3Yg8+dxKRzJzw6jaK6W8PoK6xhphlhuK9eSWb9/3L1TtRpGKAhVN92vQZz8ThrbDRLrpJ2WUQenITqzft56x/MFGJmSgMqmPn1pj2/UYzqk9Dqr+wbeaCIAhCRdGS/mPeOoVJfV4bM5ZGj2Y4UUec5a9/AlF4vkbfZpYFmkoU1o0wV4AkAQoj6r42mtH1H26YdfswW09GgCqE7e/N5DvvDMztbHB0sQZtO0y1H20nJ3J+3ljeXhOI5NCEtj0GYaGbQdT105zaNIvTpwJYsOkr2pkXDLjC1JNXR4+lQe5MLOowzmw9yG0e7ldjPKXcafsyufbLNHYf1sGzYSe65oRx5awvu36awNWIFWz4qAVGBbZX8WDvx0z8bB9hei607DyArpYK4gO9Obr6E44fOM03q7+jh93jJxMt+zYMHmNIqgyoo/Hd8TfXkUk5P5eJ09YTomdFDbuamEsKLCz1UUjlmFIwL77pXF02ka0HJNzrtqKDawyBPhfw3vglfpfCWL7ubbwMyhcvAOQEzs9/k3dWXyfL3INWHftSQz+N0Iv/smvOBM5c/ZY1c17HNt9mOXe3MWPM15yIr4Z7q3a83tEUEoLxPbmPZW+f5MJHG/hlVK2CD2n5Toim3zTv78LL1BHs/2gYn/4TjZFra9r36YSVvpqUiFtcPLOVH4/t5K8hP7Lk887Y5AujnHyR5ZOnsMIvA8sGHXl1uCOG6aH4HdvN/MkHOTZtOUsmexVKGy+2/8ov/nsHD/+nXbsv/RqtYu7unQSMGczFHedQNZxBn9pazH+03uPfWE3Uoc8Z9/5OHui70KJdL1qbK0l9cAXvY6v47N8zBK9cz/RGBgWPJcdz6rtRvLslmGxda+q26EhNkxxiz//M1BsR9NN5HKcC8VKFsOfDsXz9TwS6Do1p/WobqhHH7QvebPrqBEfPzObXOa/jkP8yyN1edZffZy7jQJo7nq90p06MPxfO72fZ1Evcn/8H33SzKJBnPjyuTLL3j7y9ww+LBk3p5JbBPZ8znNn0JZf9Y1mzdhIe+Uu36f6snjSeRT6ZWHm1pdOALhjkxBJ07iQ75kzg1OXvWDf/dWyf1I6tdKLP18tojAPOyif9rjkEb57GmG9Pk2JelzYdB9DNXJfshFBu+pxmw5eH2LnjTeYueYfm1V6iC0Eot3LnJYIgPHf+s35KqtaMN2Y2y/s7+9z/OHDgJnrNh/PeBw2L34FkTKNhM2kEgEzSzmC2nwwn/cwadulPZNXRYTSx0tCPIjuC4PtZOA9eyPzPumCb99SZzo3l4xm9aDuLt7xBmym1C968TZowdGaTfPvxZtbeQ9z+rwgCZF/AR7GI7X+3ovqjB4nskB18NPxzjmxZwq7hzRju8Pho6nub+XLW38TUGsXSFR/QOq8pRMXUE7OZ8PZW/vdlI+r/NhS7R5spnLox+YNuD//Iucz84/u5nhTKzjU5tPxhNxu6uWJUwRMYywkn+VdeyJ9/t8yrmZXTAtkycwI/nljNj5t6snGCa955LEu8QCbl1Hy+WBuAbpuPWLNgFB65T+GqWE5/P4a3t/7C75e6M7NJ7pOTmoT7t4k1aM17S+Yxut7jWmp11EG+GDaDfUuXcbzffLoal/885FzdyLKDUZh0ms2Whf2okf9hMeMeB+f/xAk3R8wKlKVSOLvgI369rMcrX27gh6Fu6Ocuej+QjdPHMnfphyxpvJOPW+gjlJLSjh4D27D0s71s2yRz7YoOrWb3xFZ5rui6cioPbkegqD+BFQvfpnnuRYpM0vkfGD1+AxsW72LQymHY5LuGMi+u4Ietd1E7vM4PK7/hVYfc/CabsEPfMe2jwtNnAai4v/lzvjsQi+vIZSz9sD2WeZdBFKd+nMSMTf/j68YN+W2EY5H+qTn+3iR9t4W9PXJbNVTEHP+aMdO28/eiTYzo/A51CrecynGc8Xdk6f5vqJfbqpERyNrJo/j5/Gp+PTSYeb2qPb5GYu5yJ8mSbrMX8r/+Lo9bBLPv8+f0oXx7+GfW+fTgk+ZP6KcmGePcrD3Oxa/xKBzerF56hqQa/fn5z294JX/BQk4mcPuPLLnugZ2m1hhBEARByOcpv6dDxc3w2nz842jNBQ4AHXeGLN7N5q/yFzgA9Kndtxf1tHK4c+U6KRU5rkSrEQPHtswrcABoO/Rm7OuOKLKu4XMl/5S7WfhtWsfF9JoM+2pGvgdzACWW7WcwtYsJaec2sj3gyRPgqxMD0Oo9jw96VHyBAwC9VoyY1LJAVxDJwJ0hX71Fc70sAvb+TVBeEMsYLzmGgxv3EaFsyLgvRz4ucAAoq9NqxhI27NzKe03yV9UqsGj/ERv2LmdMvYLdYhRWHenzSnVIvc7VOxUzoFgVGUakWoFtAy+sCz/w6TnR7dOlfDvIrUB3LnXEPtbuDEO//bt8MSRfgQNA351hH42kthTC7o2HxdSuZaKgeueBdKoWxa75a7ll1pkBnatrzpAkYxpNXsXO9e/lK3AASJg06UdXFwWZ/le4WSC5ZHNp3z+EymZ0mfEZPRzy5zfa2HaexKD6GqpMcq6xbZMvGVZ9mfFevgIHgNKKtjM+4HWrDC5u2oq/huSprNWH0V3zd6NSYtF+AgPrK1Hd9+FipKZ3ghjQZvioxwUOAD13ho7tgpmUwqULAQWmJ1c49GT2X7v4IX+BA0DbkZ59mqOrjsb/ajgV8fYROSmciBQ1SpdGNDAr3LRojPvA2Sz+sgd2onuVIAiC8B+ecqFDgXPnHtQt0lm/6HqKR/c3dWYqyYkJJMTHk5ipRksCOTOdjIp80JMMMS7SR0aJvbM9SllFYnzK4xu4Kgjv0xHIJh64mkYT9uBBwU9YAmb2NVCo7nPlcvQTb/ySbjN6dLaqtB9B0jPBRMOgA4VlExo7K1Hfv05gbumtrPHKvMKFS+koajSikYb+HJKBE3VcjDXGUaF49K06m/TkRBIS4kmITyRb0kGSM0ivoB9Z27UOtbRVBG5bxCbv2ySU4IWJaT6nuJShwLmOIxlhD4qcj0htaxwMIO2KX6GHXaHEjNrQ/zV7UIFdz4G0euLM1hK5yUXOySAl6VF6SchC0paQMzPIzL+6KoyA67GotTxo2ljDeA+FCaYmRVOlOvQCPg/UaHk2pp6mfEqvAQ3raqEKvYBPaNFKBcnQCMPCB1PY4OSgh6ROJCFRQ5qW9DE0KjpwTMfeiRoKNcnxCRQ5kkLx6JpSk5WWTGLCwzwyVaVAiUxmRkaFTD0sVXPH3UZJts96ft7uQ0iyeJOgIAiCUDZPuX5Kgam52X+OVciJOM3GpSvZfeIywTFpqArdPSt0jOQTKLUenh61Ot+NVhVBeKQadco+Puux7wlba5GUkATYFLuGZFANs/8sgFUCSR8DfQk5J564BDWYKsscL3VCJNHpMpKdQdGB308iJxO4ZwUrNh/kQsADkrLUBR+SFNaljlZxFK4jmfXpdd778QBz3jzIXG1DLOwccXZxo3ZdL5p37kF7j2o8fuxTER0WQbacw7Vlw3ltWfH7lrISSBItHWWkQ8MBfXDbephO/RvyxEmrMu5yZNUyNu7z5tr9eDILZwqFC9dyAnHx8sO0rlfyrj/qqAhiZNA2NCwmPDoYGWkjyVFERMn8d/+kh5RaSkCNqjTND9paD9OkrC5UeaEm3u8Plq/YxnHfm0Sk5iAXOB0aZ74oG+2GTP7xHW69t4SdX4xk51e6GFvZ41jTBTd3T7xad6VbG5fKaakVBEEQXijPXKO4nHCS70ZPZXuEJc0HTmFkMxesTfQetnykerN4xipuVHUYZVBU78T0L/tTs9j7u4RRTduyDwavAmWNV+mfuXO4vX4q437yhdo9GPrRdDztzTHQVgAq7mz9jDkHyxCBYunhNmQBO7rc4Nyp81y9cYvg4Lvcu3WSbcd3s/mXRTScspSlbzXOGxQuyzKgRZ03ZjOp9ROq4BVWaOqlI5SMolZfhk6wpmWtJzwoqyPY88FIvjySin2HYbwzqSGO1Q3RUUqgjuTA95+zPfTphbmqpfstYtL4Xwky8OL1cZ/Tyt0WU30tJCDn0kreX6xhXEyZSRg1nMDy/b255u2Nj38gd4Lvci/Yn8MbD7Nj3RKWtfuYZQuHU7sqKlAEQRCE58Yz9rgkE3d4I3tCZGpNXsKyt+sWaNWQEyPYUNVP8UoralgpIN4Ut1c60/55nDNVziA9XUZSmmFu9qiKsozxUphZY6knIaenk1HS4+dc5q+NF0kx6sz3q+fyWoFZb3LQP6UHBTvL5B7tYeFTlVO0u0kJaFf3oG0fD9r2yf1GJvXuQRa8/SF/Lv+eLd238KarElBgUcMaLSkQbbtGdOhcdMCwUEEUtvSb3B/pCSdYfXc3m4/HomzyCSuWjCw4K5PqLgFF+jMBkhnm1SSISCctQ4YSDnRWWNpgIUF8aipZoKG1I4vU1GyQrLC2rIrMKJ2zW7YQmGXNwMWr+KJNwRm7sjJ3VU6mrmdDvc4DqJdvpmF14g12/m8a3+yfx4K93Vg20PK5qmQRBEEQnq5n7FlKTXx0DCpZiY29bZGbp5yeVrFjOcpC6UaLFpZIyRc45ZeuYQWZlCsHOXpH07KnS85IIknDs7s62hffuyoUTp6451btlzVeOvVp5qWHOuwifmEa+o6oo/E7cYWE/KUEVSzRsWoUZvYaZr2RyUgrpj+6wgRTUwl17D1CiswkIJOakqppK1DFExWjaaYiCUPnLgzs4oRCFU5ouDrve6Mmraivq+Lmv6eI0NQlRhXC6f2+xIou7uUmKZ78qKqOjSJWBl07eyyK5FgZDwsVhSltqVPHHEXODXz9koumJ3USiUlFf1iFQ1Oa2irIue6Hv6ZSdMZVLvnnoLBtShOHCuzGVFJyCtHR6ciSFfZ2RWsGstPTKcGQpVLIJiYyTmMhX2HqQe+BbakmZREeGlUhA9cFQRCEF5dC4uEU8yX9KLS00X70jFDabXMVv44Cawd7dCUVNy9cJEnOtywnklO/buFyTumO/V/r5leyMOvRfMQI6uuE8dfs7zj8ICvfMpm0wD/44p0ZzJw4D5/M8oWtPB8AMs6weeV5ElT5lqUFsnXWMi5kaFOn56u4KcsZL4Ul3Ye/ipXqEmtmbyIoLd8yORn/1R/x7tQxfLg1HDn3ey17HO0UqCMvcfFedsHj3NjM2oMxqDXFS+lK08bVkTLOsnnNJVLzpY+sOzvYdCiq6HbqCA5+OphefSey+HgIWYWXp93guHcIai0nXJ2Ued8rbV9ndE9rss8v4evVV0gplBa9581g5vtv8kn+eL3gn4pKr/zHvii0jtLWCTslpF3zISA9/7qZhOz7ld23VRr2qU2jXq9iLyVwaN63/BOSPz3nEHnsV7ZdzSm6nVZ9Bg5vjG7kTuYvPE1c/mtHFcOZn+ewO0qXRsMHU1+r9PEq7fdF9imZ4OhgikJ9l4u+0QXSu5zgy5p13nkVM+X/rVTc3TKNwT0GM2PVeaJzCi2XE/E7eoF4WQ8nF1uUFXJM8XkZPjwDYRAf8RGfp/8pdUu80qU+dQzh3PlNLPjpIFL+ZdbtGDmy1cPaSDmZi1t+5WhI7ssBb6NCzYOjK5gXYZS3nWToxcDJ3XFSAkiYdB7DkNr/smbXTIaEdqVDQxt0UsO47n2SWzUH8brHXXYE72PB/27ToN/7DPN62JFYTvJly29HeJDv5YBX0mTk7PNsmvsTB3N7Edl3YtywppjmD3hpz4HraGZ/cY1JX21nZu/TeLVpQW1LJcn3LnHm3G0StV0YMHcS+WeJVd07yG9bLz2c6lcdjW+8jJx9he3zfuJ0Xu2tEvvOExjSxIRyBC+PZNaetqp5DOylTZ06dpjIMQRe8CEoNhuDepP5eEStAkNOyxIvkDB+5X2+GRnAe+u+Z1iPnbRq1QBbwwzCr3hz+nosuo2m807fGo+b1ZQeDBjXge2fH2XRiEFc6toKF1M18Xd8OHkum86DO2Ky7jQ+675h9rl2jJ3W9dF7QfRoOW4yLQ/N5vRvY3j9VEua1jIlJ+YWl+/UoGc7JxTbIgqeBIUVzQf0o+HZX1g5pTc767SgpZcrVsZKMmODuXTqFP5RSjzGv0N/+3zV6JIJ7T/4kXFB01k1fzg9d7ekVUMHDLOiuXn+FFcisjFr+T4z+tV41poLXzgK216MeX09721fy1sDAunSrg7VFcmEXD6Jd2RTBve0Zf2+62z7ZhaXm7zBjL5uKAHdxhP5eNBJ3v1jNx/3Oc+GZo2paaYi/q4/twwH0qe5DkGnCx9NidMb3/CJ7zhmrZtIr+NNadPUhWokcOfCKXzvp2PddRZfv+FUkcO1S0GXZsPH0HD/PE7OGszIU11o4mBIVtQNzp+4glGf/jQL3MTN48uZHVuPbtPG0cq8rLmJEsdXhvDazs/YNG8svTbVp2XL+jhbGkBqJEE+pzh3Mx6jpjN4q3u1CsmzBEEQhBdXqQsdUrUezPjqIp/O3c3mtWnk5Js2RauOEb1GtMICQE4h4O91rPMp2Ngfee5P1ucb56ioPohWE3MLHYB+Y95etRKrRUvZduwof/plol3NmYbdPmL5u32x9lNx87Mt/L31KskN32aolx4SICf588+6NVws3Lcg/Sp/r7ua96d2YysGDS1foQO0cOo3l9/d2rN21TaOXjjIzoQstMzs8eg+icETxvGaR8FpOtUPvPlj7VZiCvRBCOTgusB8f2vT2GYogyuo0AH61J/2K61sF7B40xGOhiSBWU3ajBjOtGkD8TQovH7p4wWAVI1WH25gk9dqftv0D+eP7sA7U4mJXR06T/6MtyZ0p2aBF10osO03lzUGy1myeh/n9mzgpGyIjXsbhs7/gPEtk3G9H8Si49vYdseE16d0zXsZodJ5GAvWG7NswWr2XzjDwduG2DfswVtL36H+sbGsL3IOFFRrPoUVezpzePNGdh45j/euMyRmgo6JFc71ejPt0zEM7+paZKpTybQ5b6/bRqNNv7Fp3ym8954lVTbAsmZzBo0Zy4RhLbF5WlOpvcykanT4cj2L7X/mtx2n+GfzWdT6lrg268Wsb6fSRfsQcQHf8vf2rVxXdeCdR4UOJHPafb6OFc6L+GXrMa6dPcLdajVp/Op0lk3rTNDHv2g+npYTfedvpeb231i9/Sjn910kBSOs3Vow/OvxjBvQsMA7fZ42rdpjWbLWjF8Wb+Sg93Y2pCkwcajHK28tY8ZwD+6aBvHhb4fYfiMcpzFjaGVe9sAqa3Tig4176b53I1t2n8D32Db+Tc5G0jPD1tWLAR8NY8yQtmjo6SUIgiAIBUih8eqqHiUhCMJzQMqIRdarXtXBEAThOSfyEkF4OYmeIYIgCIIgCIIgVCot0RFXEIQSE/mFIAgVQeQlgvDSES0dgiAIgiAIgiBUKi1R2SAIQkmJ/EIQhIog8hJBePmIlg5BEARBEARBECqVKHQIgiAIgiAIglCptEQjpyAIJSfyC0EQKoLISwThZSNaOgRBEARBEARBqFSi0CEIgiAIgiAIQqUShQ5BEARBEARBECqVKHQIgiAIgiAIglCpxHs6BEEoERkx9FMQhPITeYkgvJwqtaUj6/jHtKrjSf8lgagq80BPVRK73/LC08Oj4Kdef5YHvTixfNoy/BYztGUDGrcdzbrAij2PTzMdvphpvuKoQ9cxsr4HjaftJa2qA1NCGTe38smA9jT1rEO9vGu+HoOW36rg31jFrfXj6eDVgNYDFuCbXqE7rwRp7JvmhWf94awPVVd1YARBEIRnnNZTqW6QeIGqNXRx7TqKMTVzHv2t5t7xTRy/zzMZT5X/AvoNWkn2mE3s+bAhWlUdII3UxPuf50ZCFtnSJc4HpjLaw+SJW5QpXk/z93kG00KFKG+cpGL+/axSP2D7t9+xL6IuvUb1pFpemJVYN6yGokLjkEmQz0ViMrOQb57nWoyaJo7PSQ/YFzW9C5VHpBdBeOk8m8+gzzRdPAfMxDPv7ywORW59WOgQykiBdY+3mBZkTZDSi6EdjKs6QILwkOoWAYFZSDXaMOaDqdRWVubB9Gk7/n2G6fmR5dqHHvbPSYFDEARBEEpAFDqEZ4LCsjVv/q91VQdDEAqS1ahU8lM6mIRxw+F81nD4UzqeIAiCIDw9oirthaYiIfg+8U/rmempeVHjJQiCIAiC8GIqRUuHTErQAdb/9geHLlznflQKOVpGWDrWoVnXQYwZ8yruJsWVYWSS/f9k8Zw1HLwUQqqWBS7NezJ+xlReraWveZP0+5zY+Csbd5/iWkgcWdrmODVoz+tjJzK0rT16pY5qZcSrDEoZr9Q9U2n3/knqffYPv3a4wcp5v7Ln7E2iM/WxrtOaPpPeY1wHO3Qera+6t5qRr/3E5ZyC+4lbNRSvVQW/06oznT+3l73LSPbZWXQbt4smC04zt/vDkGcc/oAO0/aQ5jKJ3/e8h6cSUN1l1dBeLNb/lANr38Ba8XBA8ege33Mxu+A+lc7j2bDvA7wKpcyKiVcZ0mGZVXKaV4ezcVQ3vr+Q/wRq0+Szf1gzKIODS+axau8FbkWlkK3Vki+PrGaIZnOXYgAAIABJREFU1bPViVpOu8mexQtYt9+X4DgVRg716TB4KtNHNMNCU5pUxXJ5+0pWbzvCxaAIUjDC2q0JnQa9yZv9vTDPv03OFeb3HsaaxF4sOvgjHY007C/9FF93n8hfhuPZtGcm9bWKT5cELKZf3cX5vtCi7rs72fJWLZSouL6wD0OXFRxYrttlLqeWtCd460IWbjiAX3Ac6Sodui88z7zuD6/Yh9f3ETILHEzCtP9yjn//St51rUl25AX+/HUVO49e4k5MOv9v777Dorj2Bo5/Z3cBKSKIiI2iiKBYEQsaNVbshdyYWGKLJaYnlrQb7027MWpuktfkmqiR2JIYTVSUWGKJgkZFsYsiMRaaCiIgSNud9w8pSxVkUYy/z/OcR3dn58w5Z88Oc2ZO0dZypkXXgYyeOp4+7tZFuszncGzeIMYFZjAycDNjkhaxYNEmDl1IRrFzpa3/OF555R9425ZQR/QJhK36gkU/7ebUlVtoazfBZ8AEXnmpdxmpE0IIIQor95S5t49/xZRJX3FSX4+2Pfx5ytkOXWYil04eYMeimfy6dgOvL/qc8S0L/tjl/ate28ycFzYS7doGv77NSYk6yMFdS5l9NJJbaxYx0qXwFYaaGs7/pk5n0dEM6rbpycAxrtjcjiZ8dxALpmxn18vfsOi5NtiY4BrqXvJVlHF+y0rSveQrvwzjg3l70mouNmxJm+6NSL9ynEPHgvny+SNEfrKaT4c0QANobVsxeMJEfHInkzHEHWDd1nNovAcS0NGx0KMtjVM7HJR7H8+nc3bDWZNFXPQ1VFzQoOfymXPcVrSo0RFEpqi0tFfAEEtMnIptT1ccNHeOp7H1ZuD4ibTJm/TGEMv+NduJKqUcK5Ove62H9+K+1XnFGu9BE5jY6k4rLCtqBz/ujYecy/z8ygw+CM2gdsN6uLo7gVlD7HSVH7dpimku8/fP+YvvX1jAmmR3Wvo+jlvyBcIPHWTdx+Ec+etLVv2ru9GgbUB/mY0zJjJnazwWLj50HdAVe27w5+F9rHz3d3bu+5BvPx2Gc16x6rwZPsyL5Z/vYsPuJHoOsS+W9tSQDey4rsFz1DC8daXUS/0V9v6wk79qtmPo0DbFBpJrAQWFOj4BjJ90HRVQU07x6/owksnk7OJpTP/8JIpjQ+o1tkODBfVtlPy0mLv3YdwkF/KnpUgIZ+PmE/llXVp5Z0au5uVJ/yE0yQ7PHv14uqkdOVdPsnfHl7y2/TfGLlzKm485lDBuXyU1ZC4vrj9KnTYd6N3sNpcOH2D/qjkcO32DFcun0dzCaCc1iZAPnuGlH/8i28IJ7069aFwrh8SDnzH9bDwB5gVxV68mrajOZMpcIR5N5XvSod5g26JlnMzwYNKqH5jRztpoo54bR1fw8dIkPOpZlnAiMXAp5DKjlv7GU01z79WqKYR/OoHJS0NZtPQAQ9/vanQX9xZ/fDqbr4/X4PF/r2L+0x7k3xeedY4VL05g3sJZ/J/PRt7uVMm705XKV0VVJl85nN4WwduLt/GZe15J6bm2dy7TXlrFb3O/4Pcec+llq6DYd2DMrA75e2YffJ+t2yKx6DSWGSaevUrj6IaLtcr+6Fj0uKAhjciz0Tj0H0LT3Qc5e14PHXWot+KITdbg7OZM3jWhYuvL6Fm+BZFl7+Nfm38jqpRjVT5fFa2HlXEf6rxii8+oGfjciZyU9X+xdm8ct/cHst5qKt/9PhrfumXdJ3+wsg5uJ27e92zt1wCz3PcyL21mzuQ32fzTRywZ2pnZPvnP77i8+p98uO0G7uMW8fUb3ambV5H01wiZO5VXVr3Pu+3b8e0zLrl1TEvjoQH4LPqQfeu3c3XQU9Qzbpmqiexa/zvJ5u14fmiT0utl1m4Sf9nJpbplDSTX4NRtEjO75Sbp0jKObggj6cZ2lu124411/2O4tz0l7WreYgSvtSh4rT/9GaHBJ0gos/BOsXjWJ+zLas/Lq79kalvb/PPTzCtBvPnMW6x+4z/4bF6Av32RM5d6g/1nXFm09UNa5T3VuH2OwGnP8Omhb/l6+0g+N2qgZYZ/w0c/XcTgMox5Sz9gkEved5JN7PaPmD47q6yUCiGEEPnK12/IkEBsfBZYetKuuXWRjVpqt5vI/K9ep2udkqLT4NhvAk80NbqcU2xpN3kcnWuoJISHccGoT4IhPphlG2Kx6vEa/37K6OILwNKTMW8+g6dyhQ0rdnCzsn36K5WvCh6qUvnS4Dp0KgHuxpfEWup2n8FbTzZESdzFptBblU5jhWkb4dpI4WZsHOkqkPMnEZEqTTsOoEWDJM6evY4BMMRGE2ewxNnN6QEOIqpYPbyfxzJdnddzLt6Tt+dNqNYNDgBd66eZ1qegwQFg4TqId2b6Y6deYUtQOPk9nHJO8dPqI2Q4DWPWa0YNDgBtXbq9PpthThkcWbWG00bd7zT1+zOiizUZYevZcqXwl2uI387GP9Kx9Augf4OqqZU5Ean4fvwhT5TS4Lg3Kqm7A/kxElpP+4DJRg0OADPnwcx6rhPmiTtYFRRN8dUzrOg6dlxBgwPA0pNRk/pgp9ziaFgEBUWYzdFNW4hW7eg34x0GuhjXKTMa9JnGyNYyF4kQQojyKd9fW20DmjerhZK2h28/C+ZEXHqFFsWyrlm8a5Ji44yLgwb1ZhLJRn8Z08JCOZqhwa25C7djY4iJKRzizerhYgXpJ8I5V6R/f4VVMl8VUbl8aahpb1vC05YatO7QCgvSOXv6ApUtjgrTNsDNxQJ9bDTxBlBvnONsQl08m7fFy0PLnxGRZAM58TFcpSFuLg/2AqUi9fB+Hst0dV6DW+/+eJtuwFOV0dSsRfGhUgo123XAU2cgMeIMcbk/Rn30IcKiDehatKdVSQ83LVvj01yHPjqMsGijX7DiQK+AntjnnCQo6LzRb1vP5eANhGfa8viI3tSuon4eOu/+9HM19Ry7OZwIPUCyUp8WTRTiY4rWlziyHBrhoMniTPgpMorurlhiY1M8TWbObjTQGEhNSiooJ30sZyISMei86OBTs/j5R1OLWjVlLhIhhBDlU86rQBt6zJ7LhMuzWb58Bk8v11KjVj2cGzfGvZkXLX2608+/A40sK/LXW4dOB2SoRnfj9FyPjSNbzeHkV6Px/6r0vZWsmyRXevaiqshXSaouX1orKywUA0mJN0u4q1nVzHF2awD7YojTQ5PzZ4jSNCPA3YamXq7c/u0sMfpuWMTEkmHmjFuDKl3k4B6VVA/v57FMWTc02DnYPdR9pRVLK6wUUJMSSFLBBVCvXeW6CmbW1qUMrDbHxsYMRb1O/DUV3Aq21Ow2gn5Ov7J2cxAnn/OirRmgjyI46BT6uk8wvHtJjXnT0NjVxs7U1+RqKvFxqRj0iXz/XD++L+Oj5snJ3FLBqjwZ1OnuPI0xGNVN9SaJSSoolljVeJhrlRBCiOqg3LeeNXW6MfOHHTx1JJQ/jp4hMuoCFy/9xbHNf7Btzbcs/N9gPlg2l8GNKnlhqaqAjhZjPmR6l5KmnMmldaKVCW6c/13zdX9oadTYGV16DDGJOcSdPcct5+40s9Li7OmB+dIIIjP0OEbHQX0fnB+CO/APxN+yblSSYqKL3BodGT7YhbXLtrDpyCu07WxBzqlN/BoFjcaPoKOpJy0rwvSX6uqd6qJ1Zeg7M+nrVPoRNLW9qCVtBSGEENVExS5hFGucff1x9vUveC87kaPL3+SlT4P5+At/es7vQ9HREeWnoU59J3TKOcwa+vB4HxcT9oUuw0OcL336bTJVDY4Odg9kvISlsyuO7CA6Lp3IiL8w95iKixbM3T1pkrOOiAtp5MQkonF2QxZYLskDqvPVlJqRTroKip1D/kxRiqMTjgokpaWRBSU87cgiLS0bFEecHIteZevwHj4Mr8D/47egA8zo3JlTm7ZwGQ+eG9660JiSh4JSEycnGzRAHe+e9G5bha1QxQ4HewXiMkjPUKGmtGCEEELcO03+XId3CRnXr5JKCdvMHWg3djjtzVRuxcbcGehqvD1PSfEW26Zg06ELrS30nAsJ4WrRuBTAcJnQLUdINJQv3VWWr5LyUVo+K5MvAAykJqeiFos3gxNhJ8jEEq+WTe7Mf1zhtFUuaF0a46IkEBMdydnILJp4e2CugKaBJx42sZyNiORKnIE6bi7YaO4SX0XSWdF8lfVZU5dPhY5lwjpv6nyUFL+J4jGkJpNSLK8qqeFhnMvR4NCiOfV15NaxDvg21JATEc6pzBLiyzhB+JkcNA198XXRFq+j7kMY3t6cGzuDCLl2kM3b4tG2Hc7QZsU/a7JyvdfvgiL/FgtmtHqsAzZqDPtC/ySnhM8YEg6xNTSGrNLSVFrcRbfpGtCieW00OREcPlrC+UdNJjnVUI58Gsi4GU/8zQwMVVU3JTxcgWqQBgkSJNz3oCnP5zJPfs2kQQMYPftHTt3UF9mu59ru3ZzMUajVuAl1NIX35S5xF92ubTCUiYPrkX3wS95deoJbqtH2nKuEzn+d116fzOw1cZTVDqjqfN0tH0VDZfIFBi5tXELQxYxC6bu+91PmrotBdejFkMdsSjyuxswsfzGWqqhDmlouuNjriTsbwukrNjTzrH9n7QKdO15NVc6fCuFSrJI/Xe7dyrC86axovu72OVOWT0WPZao6X5Hyq4p8VSTknFjDkt1x6I3ey7oczH8WbOOmxpn+Q3wwz9uma8VTY32wiN/Ags/3c0NvFJc+gf2fL2DjVQt8xj5Fa10Jx9M0YECAH1Ype/j+veXsSLCgc8BAnO/ym65MuVbmuyh7XwX73hMY2UTh/LJ3+b8/EjFuixqSwlk68xVmTnuRbyOLntPKjrv4NjN8hg6kkXKTbQs+YsvlLKNtOVzdvYS1J3Lukk89F1dO4nG/nvT2687klX9hovtFEh7iQDVIgwQJEu5/KNez+Roe/RjV51feX/8eo3YF0q5rR1o418ZCn0JcxAH2HrpImkMv3pvapfLrHCi29HjjEyaff5Eln47GP6gzXdq6YJN1jXOH9nE8Lgv7zjOZNaJ+pbsT3Vu+Mjm97kuCo/KX8+JSRDYYrhKybAEpdrlva2rT6Zln6VFfY4J86fDu14w9zw5gtUsrmjiak375GAePxZCucaLfG6/Ss6SVhAFtk1a0sIaDB1exYO62QnFrnboxfnwXKjUjsNYZN2fYsGkDV/QevOaRW6U0dfDwqE3C1iD2p9rQy612oWOryYf5YfFO8icbUmM5kaaiZh9i1fxP2KbkRd+byaN9i/VNr/J83U/3UjfUFI78sISdl/MWB/wTPQZidn7D/DijBTqt2/Lk8/64VbM+W+ad+uC0cjQDvvbA280ezc0/OXroNPEZZjR++m2m+hivUKfFdcyHvHN4Iv8KnMKA3b481sEdO5K4cCiUw5du49TvfT4Y41pK1zQFhz4BPD53D5t37ENTqz/D+zlS4i/GEMeepas4eCNvFcornM4Ew7V9BM6/hX1ejDVaEvDSINzvjL7m6t7vWLn/zhTRauop4lTIidrM53NPF5xkNY74jZ9AN6eCipl1Zj1fBkUWLA6YGE6iATJO/syncw/k5keDg99YJvbI/f5rtOOF+a9zZsoCvp3Un986PEaHJrUw3LjAkdDDXE63puWUtxnrUfkv3cJnKu+M3MNLP25k1pCDLO/YnsZ2Ody8eJpI6ycZ0cmcyH1lxZDD+SPHSTWoqKRy/Mh5cp5p/Eh3IRRCiEdV+ToE12jC0I/X0nHYelb8GExI+DZ+2nGLbK01Dg2b4Td+As9MeoL2dU3zp0Sp1ZFXV6zDZ/VSVm4KIXTTAdJUKxybdOCpCROZNsaPeqbojH1P+cokascKAndlFokskfBfAgnPe6lzQ9t/Ej3qmyZfSr3BfBLozuIF3xC0O4rrWRbUazuIZ6e9yqSeDUptgCn2/Zn13hHemB/E6sB0ctSC6Y90zW0YMq4LdSpWaoVpHHFztSbz8FWyGg2gWf78o1rcvZqiXRVCgq4tbs6F64aaeppfvwvkSHaR+G6fZHPgyfyXZj51GTmqeKOjyvN1n1W4bqhpnAn+jsCwwgUYf+AnvjtQ8FpTZyRdnqt+jQ50TRj72TfUX/hfAoN38VeSHptGHfnHUy/y8rgOxaex1bkS8Plamqxbwrdrd3JgUzi3sKGeRyfGvj+ZKf9oi0NZeazZjYD+Tmz54Sq1+46gR2kjrA3XCFv3HYEXi0yenRjOhmX5v26UmsPwfT6v0aGSGP4L3y2LKjzl9sXfWbnsd6M8NMV84Hi6ORW8lR21gxXLdlL0bML57aw4n/dCS2Oz/kwwOpnU8J7I1+tbsnZxIBt+P0DwkRT0Nerg2moYr4ybxvjebqZZ6FKpTfc5K1jq9gVfrdnNyT92cNG+MT6DXuKbl/oQOet/d4nAjNZ9/WkSsplLuOLft9XDN45GCCGESSjxKWqlJ54VVSct6AW6ztxLy3e2smJ8wwe4uJ541OnTEtBaP0xNOWPZHPtkMGO/MzBmZTBv+VbvxROF+Dt7uM8lQoh7JdewQoi/v9thbAiOBvchDG8nDQ4hhBDifpNGhxDiby815Be2X9PScvhQmlW3rmZCCCHEI+BRWWpMCPGIyTj1M19tjkKPSuy+naTU6sm4EaUNNhdCCCFEVdKVMpxSVBOK0b+K0WshHoSHp/6pZJ//jRXL9pCttcC+iR/T//suAxyUhygPQvx9ye9QiEePclUGkgshyiEnLQGdDP4UQlSSnEuEeDTJmA4hhBBCCCFElZJGhxBCCCGEEKJKSaNDCCGEEEIIUaV0MppLCFFucr4QQpiCnEuEeOTIkw4hhBBCCCFElZIpc4UQ5SbnCyGEKci5RIhHjzzpEEIIIYQQQlSp8jU69Kf4b39vmvvNITS7ilNkImrKUZa+MAS/Vt54NfPC0+NOaDXxJxJMvDJJRvhCnuzQmtZdxhN4Tm/ayE3OQMzysbT0aMPzQWkPOjFCCCGEEOIRoHvQCagaeiKWzeGznWl0HDkOL6uCLdrGnliZ9LmugRunDhFxM4ts5RiHItKY6GlrygMIIYQQQgjxUPubNjrSiIy4TI7WB/8XZ/N03arsPaqh3oDpvHzeiUhtG0b3rFmFxxJCCCGEEOLh8/dsdKh69HoT96Eqg8axC1M/6HLfjieEEEIIIcTDRAaSCyGEEEIIIapUxRsdhmSOff9vJg3sRvuWbfHtNpwpH67ldHJpTxayiPtjBf+eEkDPDu1o2dKXrv5jmfFZMOdSiu6Tzp63utHcy5+5R0oZsa4msemFDjT3HsWyS7mDtnMHuucNFvds5sfbe7Ig6w/+1bV5wftFBpJn75tDV0+vQtvvDJbXk3AokLfG+OPX2huvZt48/v4hcvKKIHo5o1sU3s/Tw4sWfedzLKfEVBe4fZnfF/+TSYMfp2Pr1rRp/zjDJs1hWUg0GSWV3u436djMm2ELz3Lz9Fr+PX4gfq1b0dqnJyOmLyA46nap5R7z+yJmPu2PX5s2tO3Qh5EvL2Tnlay7JFAIIYQQQgjTqtg6HWo6JxZO4fstCs29/ejtnsjZsEOELJ/DkfA4lq16mXZWxjtkEPHdCzw7dz83a7rT+bEh9KyZzdWIA+xcNJOdOw7z2Xfv0ssxr+1jRZcnBtJw/Up+3XCIV9t3xbJIEgzXtrM+9BYWnUYw2Fl7Z65vpQ4d/jGB7ARD7qcyOb9tDSFxTnQZ6V9oILmusSfWyp05wrUNH2P0JGtuqYDhOmG//MppVG4dWMCE6cu5ZOlEw4aNcVA01HG0RMOd/TQ1vRk8YSJt8g5niGXfj9uJyt1eWpmqqeF8OWU6X4VnULdNTwaNdcXmdjSHdwUxb/J2dr7yDYunt8HGKIK8/6rXNvPO9I1ccWtDl37NSTl/kAM7lzIzPJK0tYt4ykVrXErEBs1mzBvbiDdY0bBtF7o4W5FxdQfvjY9irL8hP26ZK11UhNQXIYQpyLlEiEdPhcZ0qMl72aN+QdB2Pxxyr3HV9HOsfnUyH/7+LR+uHMhP05qSd/mbfWoxs+f/QbbPi6xaNB2fWnmNiywub/onk2av4Z33fQn6v0E45p6BzNsNZ1jTVfxv2y/sndUFf1vjU5OBK8EbCcuoSc+AftTNi05Tj+6TZ9E9P6FJrItaR8g1V/xfnM2oUgaSa9368eIb/e68yDnOvN1bOJ18hZ+/1dNl3ibW9HfHpoRnQUotX8bM9i14I3sf/9z0G1Fllt4t9i+YzaJjNej13io+HeVR0KCafY7vnp/A3IWz+MxnI+92LtbU4mLIZUYv+41RTWvk5jGFIwsmMHFJKF8uOcCwD7pSIy/7Kbv4/OPtxJt5Mm7hYt7sUTf/O7n950+8Nfkj7vZARgghhBBCCFPR5N/uvlsAsPBjwvN+OOgK3lesPRn9/vN0rpFFxKYtnDfkbUsndNUazhua8syc5/Cx0xjFZ47LkLd5tY8NSbtWsPGSvmCbrhnDAlqju7mH9TtvoBqnwRDFpg0nyHHoTUAvO5S7pZdy5s1oH0NyBGbDPuWtQe7YaCu2b1nHM1wNZumGWCx7vMZ7ozywNN5u5ckzbz+DF1dYv2IHNykarwZH/wk86VGj4H2NLT5Tx+FXQyXxSBh/Ggr2SQ3dxM5EhYZPvs2Mx+uiNTqWZdMnmDbc9U4jpCJlI0EC1SANEiRIePgD1SANEiRIuO+hQmM6FMta2FoUf19Ttz2+blr0l04TkZo7YCLnHAfDboJtG9o11RbfSbGlrU9TtNlnOXgkhYLRHVqcB4+gk2Ua+3/ZSpyhYJfskxvZdF6lwYAAulhXJOXlp1h0ZGDfuiYfYZ92KJTw2xoae7uQERNDTHThEG9WDxcrSD8eztkSHkPY2FijFE2rjTOudTQYkpNIzi+nHC6cOks6FrTu2Dr/6YfRXtja2RaLSwghhBBCiKpimilzFUusrRTUnCQSbxrATgv668RfN6DUsca6xCtcBaua1iiqnmvxCRiwz+8CpKnrT0CPBezbEUTwxaeZ0kQLZHJkw69cpjFTA9pRQtvHNFmxsse++JV6Jem5HhtHtprDiYWj6b2wjONn3aTUMfnF6NBpAYNKQdvMQFJiEgbFAiurEhp7QgghhBBC3GfVc50OpRY9n+iLw7YNBG2OYtLLnmjTD7Bx21U03q8xvHkVJruKHgGoqgro8B77IS90tSn9g1onWlfPb0UIIYQQQoh7YprLWzWD9HQVRWuPg11uxyStI/XqaFDT0kgr8c69SnpqGqqixdHJoVh3JqsuIxjUcAOrNm/i1PPNaLw3iJ2JFvi+OBjXh+4GvoY69Z0wU85h1siHnn1dqLosaLCvbY9GvU56uh4wq7IjCSGEEEIIUR6aiowBUW8nk5JZwvvXjxB2UY/WzZsWNZU77+s86dTBDlKOczRKXzw+NYXjR6PQ67zo3L5W/nS0+cG8HQHD3eHSFjYdjmf3hr2kWHfliQH1KO/4biqQt8rsc/d9FWx9u9DaQs+5PSFcNZTwGf1lQoOPkKgvOd6y0lV4mw73Vl5YksmJsJNkFfu8SmpywRiasvJjSE8k/moK2WqVjy2S8BAEqkEaJEiQ8PAHqkEaJEiQcP9DxcZLZ/7Bim8OcUNv9F76Ob6f8xUHM8xoMWQAHvm38K3oNvZJPDRRrPpoKccLLQSYRfSWuXyx4xZ2vccyvHFJ9/21NBs2nFbaOLYs/ogf9qVh33sEvWsrFUpydaFpOJRnh9Qj6+CXvL3kBIWKI+cqe+e9zkuvTWbGj3FG4zPuTc1uQ+jtoBLz03+Yv/c6xl9XxoWNLN5wqdB7Jck6vpCAzo/R/TE/er4SzLXKJkoIIYQQQjyyKtS9SqnVne6GBQztb0aLFo2oZUjgbFgY5xKysWr1HP8c17RQtyGz1s/xyYzjPDvvc57uE0yXbm1xscnhWsQBQo/GYWjyJJ/NKVijoyityyACOi5kzt4dXNfWZ0xAV0oeDaHnz+CvWHfidu4d/EwiL+hBf4mtX87jUt6yFxp7Oo6dTK+Gd9pa+ovbWfTj0TuLA6rXCUtSUbOOs2b+J4Tmp0mHc98pjPYtmPFJTT7M6m92Ep135a7GcjxNRc0+xIp5n7A194Ma595MG+NLLQVQbHn8jU+YGvki3ywYTZ+NnenazoWaWdc4e3Afx+KysPebyRsB9Ss9c5Zi24vX3urLwTe2s2Jyf3a260Q7ZysyEy5w8lIjRvl7s23p6TJiULl5KpyodBXQkxgezl+GQQXrogghhBBCCFEBFRvToVjR5uUldG3wXz5buZPfLqeAXWO6jxvDKy8/SSurojvUwPvZb/jF6we+XraRPb8Hsf+2FrtGXvSa/hrTJg/Gy7aMJxeauvT/R3cW7N9GmttgAjqWNq2Unit7V/Ptz8kUHj4Sy/7vA9mf91Lrgtp3Un6jwxAdyvfLfuJ6obv459i67JzRazN86z/NKONGR+ppggMDOZxdJBm3T7Jp2cmCPdvXZdTo3EYHoNh15PVV6/BZtZQVQSGEBh3glmpF3SYdeHriRKaP9aO+SYZgaGg4bB4/1PTkv19vIORMKDv+dMTDbxjvLp9Ki12TKWMCLUDBoXNfHmt0nL3XzPEc2BOvh24cjRBCCCGEqC6UhFtquSdofRDSdr1Fn+c24fTqBn5+vmkVDsAWQpQlMzUBi5p1HnQyhBAPOTmXCPFoqt4dZtSb7P5lJzfM2xEwtIk0OIQQQgghhHgIVetGh+HaNn7eewvLLgEMbFitkyqEEEIIIYQoRbVbhk5NCmPlkl3E6iH7wi4OZNZn5Hh/6jyck1YJIYQQQgjxyNMp1exi3pB6kk3LAjmu12JZ15P+b/6LmV2tqG7pFOJRJL9DIYQpyLlEiEePkphWvQeSCyGqh4yUBGrYyuBPIUTlyLlEiEeTDJQQQgghhBBCVClpdAghhBBCCCGqlDQ6hBBCCCGEEFVKGh1CCCGEEEKIKiWNDiGEEEIIIUSV0smsdUKI8pLzhRDCFORcIsSUQgopAAAAM0lEQVSjR550CCGEEEIIIaqUNDqEEEIIIYQQVUoaHUIIIYQQQogqJY0OIYQQQgghRJX6f484GCNuPttnAAAAAElFTkSuQmCC)\n",
        "\n",
        "[\"The Winograd Schema Challenge\", Levesque et al.](https://cdn.aaai.org/ocs/4492/4492-21843-1-PB.pdf)\n",
        "\n",
        "- распознавание логического следования\n",
        "\n",
        "- в основе тест на разрешение анафоры (-> понимание текста) Терри Винограда, автора [SHRDLU](https://hci.stanford.edu/winograd/shrdlu/)\n",
        "\n",
        "  - *The trophy doesn’t fit in the brown suitcase because it’s too big. What is too big? Answer 0: the trophy Answer 1: the suitcase*"
      ],
      "metadata": {
        "id": "CBsBf0Ng93ST"
      }
    },
    {
      "cell_type": "markdown",
      "source": [
        "## Данные"
      ],
      "metadata": {
        "id": "up96C-ibGePr"
      }
    },
    {
      "cell_type": "markdown",
      "source": [
        "### Загрузка данных из Datasets"
      ],
      "metadata": {
        "id": "s6XPinryJozG"
      }
    },
    {
      "cell_type": "markdown",
      "source": [
        "Загружаем библиотеку для работы с датасетами HuggingFace (здесь и далее HF)"
      ],
      "metadata": {
        "id": "PHEZuqMmIA1j"
      }
    },
    {
      "cell_type": "code",
      "source": [
        "!pip install datasets"
      ],
      "metadata": {
        "id": "tAklkxnyH-do"
      },
      "execution_count": null,
      "outputs": []
    },
    {
      "cell_type": "markdown",
      "source": [
        "Загрузим данные MRPC"
      ],
      "metadata": {
        "id": "CXH9-rfDIJLT"
      }
    },
    {
      "cell_type": "code",
      "source": [
        "from datasets import load_dataset\n",
        "\n",
        "dataset = load_dataset(\"glue\", \"mrpc\")"
      ],
      "metadata": {
        "id": "Pip1cn-sIHoK"
      },
      "execution_count": null,
      "outputs": []
    },
    {
      "cell_type": "markdown",
      "source": [
        "Выведем случайные примеры с разными метками"
      ],
      "metadata": {
        "id": "FEp6OyvyIqdE"
      }
    },
    {
      "cell_type": "code",
      "source": [
        "import random\n",
        "\n",
        "print(\"Случайный пример с меткой 0:\")\n",
        "print(random.choice([example for example in dataset['train'] if example['label'] == 0]))\n",
        "# обратите внимание: данные уже разделены на 3 выборки\n",
        "\n",
        "print(\"\\nСлучайный пример с меткой 1:\")\n",
        "print(random.choice([example for example in dataset['train'] if example['label'] == 1]))"
      ],
      "metadata": {
        "colab": {
          "base_uri": "https://localhost:8080/"
        },
        "id": "ZXd7B3DHIWEA",
        "outputId": "45614f41-b48c-46e5-b569-8ae8d4456df5"
      },
      "execution_count": 4,
      "outputs": [
        {
          "output_type": "stream",
          "name": "stdout",
          "text": [
            "Случайный пример с меткой 0:\n",
            "{'sentence1': 'The Foreign Office says that Heaton is in detention but has not yet been charged with any offence .', 'sentence2': 'The Foreign Office said Heaton was in Saudi detention but had not been charged , and that consul officials had visited him on Thursday .', 'label': 0, 'idx': 1844}\n",
            "\n",
            "Случайный пример с меткой 1:\n",
            "{'sentence1': \"The Standard & Poor 's 500 Index lost 6.77 , or 0.7 percent , to 927.62 as of 10 : 33 a.m. in New York .\", 'sentence2': \"The broad Standard & Poor 's 500 Index .SPX shed 0.17 of a point , or just 0.02 percent , to 934 .\", 'label': 1, 'idx': 1251}\n"
          ]
        }
      ]
    },
    {
      "cell_type": "markdown",
      "source": [
        "### Препроцессинг"
      ],
      "metadata": {
        "id": "r-0IHNayJwa1"
      }
    },
    {
      "cell_type": "markdown",
      "source": [
        "Загружаем HF Transformers"
      ],
      "metadata": {
        "id": "DKJ9Dcl2J1wj"
      }
    },
    {
      "cell_type": "code",
      "source": [
        "!pip install transformers"
      ],
      "metadata": {
        "id": "wyWic7yAJvuP"
      },
      "execution_count": null,
      "outputs": []
    },
    {
      "cell_type": "markdown",
      "source": [
        "Разным архитектурам соответсвуют разные инструменты предобработки."
      ],
      "metadata": {
        "id": "Ku4EGin1G8Dj"
      }
    },
    {
      "cell_type": "code",
      "source": [
        "from transformers import BertTokenizer\n",
        "\n",
        "# прописываем точное название модели из хаба HF\n",
        "tokenizer = BertTokenizer.from_pretrained('bert-base-uncased')"
      ],
      "metadata": {
        "colab": {
          "base_uri": "https://localhost:8080/",
          "height": 145,
          "referenced_widgets": [
            "6d3356ef87f44e098e69ad9d665b3e45",
            "ec732739bd8f4e1da7b980b237c708eb",
            "a87a3d0b427c4cba9f8c29cf25081daa",
            "285cd417c7e540a5b40a43f8a56a6611",
            "597d1fcf3f7442d9aa0fbc14395cac4b",
            "88ade95dbc544ebeb2078a3b3ce4c525",
            "a9c5e9ad6e60411b9bca72f83d3b4204",
            "559acc56c53645f69c562418d0aa1564",
            "3fbfb1807df747baadde33857745462b",
            "9136ed664efb4ec896bdd3da24fea197",
            "45ab0c7072824fe9bfef396a24231b3a",
            "3ac06352282f4550a2138fb8b509a4eb",
            "e50ad0f86d58405eb7ced8e7c2e533d9",
            "4001dfc2d79e42729a909dcb13e0c480",
            "75ebe76e68b343f9aa3fae8842844633",
            "ab85f16732a84fa8982830a3e50cb1f2",
            "f61e910d5fb34dde9a1ee6f028ae914e",
            "931ccfb44c824e958f419be29eeed358",
            "faef983f0cd6463b875f5f5b6643a42c",
            "e8f2f99dec9f4af88873ca7b5190e235",
            "e3f88cd28d87410d898c1d6ed3fb8540",
            "770526f1260c4384bd49e0b293d8b58e",
            "dece70df42714fc9adc6cb20ab09063e",
            "b81e6f7c280e4474a600eb4421ab7d12",
            "7e6efb93816041cca5f0f4b4bd11733f",
            "2c3f9dca79394f10b31a200d930e6557",
            "a7cc3c9bd0ad4ae1b3cc6e776c9d1a1f",
            "05ee8964e627471e9b87a5b2644ae89e",
            "0c4a8d3c8ea648c7b87e246b0e538a32",
            "bfe809f3e52f4a92ac4d1b9b42f043d4",
            "b4414f3abf5a4d4780814760744d81cb",
            "b4bc1a466eb5493fac53c4c56f7eea58",
            "5a5212fa3b0742359e7e7d83f5e8f1b2",
            "a341f77ca32c4e5e806ad9b7d37f6b98",
            "a3f73926ebfe4d7fbc66d397685cc958",
            "bc525b0736154406b8be18852e8aee77",
            "c7f78cc7db054bcb91541e58a09f734f",
            "ae440bb8d74e46dcaf51efacf3e69d2e",
            "b18cf50ae9f7447a908316ba1007303f",
            "a7d2098efd024ed88cd1e346837ccce6",
            "ba4d008d7cb849bcaca4c9f1c3d90d95",
            "e6ad1748ca8042f0a0fa57f785dfe47f",
            "eac9d8dce9b042b9a7b2e2487ef79bb8",
            "b79d6e7fa04f4d14a27e7d1a4dbaf347"
          ]
        },
        "id": "6KMP414CJWfo",
        "outputId": "f411ae7f-d345-461d-9c88-0e4bba6a0aea"
      },
      "execution_count": 6,
      "outputs": [
        {
          "output_type": "display_data",
          "data": {
            "text/plain": [
              "tokenizer_config.json:   0%|          | 0.00/48.0 [00:00<?, ?B/s]"
            ],
            "application/vnd.jupyter.widget-view+json": {
              "version_major": 2,
              "version_minor": 0,
              "model_id": "6d3356ef87f44e098e69ad9d665b3e45"
            }
          },
          "metadata": {}
        },
        {
          "output_type": "display_data",
          "data": {
            "text/plain": [
              "vocab.txt:   0%|          | 0.00/232k [00:00<?, ?B/s]"
            ],
            "application/vnd.jupyter.widget-view+json": {
              "version_major": 2,
              "version_minor": 0,
              "model_id": "3ac06352282f4550a2138fb8b509a4eb"
            }
          },
          "metadata": {}
        },
        {
          "output_type": "display_data",
          "data": {
            "text/plain": [
              "tokenizer.json:   0%|          | 0.00/466k [00:00<?, ?B/s]"
            ],
            "application/vnd.jupyter.widget-view+json": {
              "version_major": 2,
              "version_minor": 0,
              "model_id": "dece70df42714fc9adc6cb20ab09063e"
            }
          },
          "metadata": {}
        },
        {
          "output_type": "display_data",
          "data": {
            "text/plain": [
              "config.json:   0%|          | 0.00/570 [00:00<?, ?B/s]"
            ],
            "application/vnd.jupyter.widget-view+json": {
              "version_major": 2,
              "version_minor": 0,
              "model_id": "a341f77ca32c4e5e806ad9b7d37f6b98"
            }
          },
          "metadata": {}
        }
      ]
    },
    {
      "cell_type": "markdown",
      "source": [
        "Рассмотрим [процесс предобработки](https://huggingface.co/docs/transformers/en/preprocessing) в HF шаг за шагом"
      ],
      "metadata": {
        "id": "2X64nsQPNbzQ"
      }
    },
    {
      "cell_type": "code",
      "source": [
        "sample = [random.choice([example['sentence1'] for example in dataset['train']])]\n",
        "\n",
        "print(\"Образец для токенизации:\\n\", sample)\n",
        "\n",
        "encoded = tokenizer(sample)\n",
        "print(\"\\nОбразец после замены токенов на ID:\\n\", encoded)\n",
        "\n",
        "print(\"\\nСоответствия токен-ID:\")\n",
        "for i in range(5):\n",
        "  print(encoded['input_ids'][0][i], '\\t', tokenizer.decode(encoded['input_ids'][0][i]))"
      ],
      "metadata": {
        "colab": {
          "base_uri": "https://localhost:8080/"
        },
        "id": "O3LjeB3yNEO1",
        "outputId": "d4f0484e-8f41-42c4-c4c9-9de847f94498"
      },
      "execution_count": 7,
      "outputs": [
        {
          "output_type": "stream",
          "name": "stdout",
          "text": [
            "Образец для токенизации:\n",
            " [\"Starting on Saturday , every computer infected with MSBlast is expected to start flooding Microsoft 's Windows Update service with legitimate-looking connection requests .\"]\n",
            "\n",
            "Образец после замены токенов на ID:\n",
            " {'input_ids': [[101, 3225, 2006, 5095, 1010, 2296, 3274, 10372, 2007, 5796, 28522, 3367, 2003, 3517, 2000, 2707, 9451, 7513, 1005, 1055, 3645, 10651, 2326, 2007, 11476, 1011, 2559, 4434, 11186, 1012, 102]], 'token_type_ids': [[0, 0, 0, 0, 0, 0, 0, 0, 0, 0, 0, 0, 0, 0, 0, 0, 0, 0, 0, 0, 0, 0, 0, 0, 0, 0, 0, 0, 0, 0, 0]], 'attention_mask': [[1, 1, 1, 1, 1, 1, 1, 1, 1, 1, 1, 1, 1, 1, 1, 1, 1, 1, 1, 1, 1, 1, 1, 1, 1, 1, 1, 1, 1, 1, 1]]}\n",
            "\n",
            "Соответствия токен-ID:\n",
            "101 \t [ C L S ]\n",
            "3225 \t s t a r t i n g\n",
            "2006 \t o n\n",
            "5095 \t s a t u r d a y\n",
            "1010 \t ,\n"
          ]
        }
      ]
    },
    {
      "cell_type": "markdown",
      "source": [
        "Токенизируем датасет!"
      ],
      "metadata": {
        "id": "HcKkNNWpHvbe"
      }
    },
    {
      "cell_type": "code",
      "source": [
        "def tokenize_data(example):\n",
        "  # данные из предложений 1 и 2;\n",
        "  # обрезка текстов до максимальной длины, которую обрабатывает модель (для BERT это 512 символов);\n",
        "  # паддинг для коротких предложений;\n",
        "  # pt - PyTorch\n",
        "  return tokenizer(example['sentence1'], example['sentence2'], truncation=True, padding='max_length', return_tensors=\"pt\")\n",
        "\n",
        "tokenized_dataset = dataset.map(tokenize_data, batched=True)"
      ],
      "metadata": {
        "colab": {
          "base_uri": "https://localhost:8080/",
          "height": 113,
          "referenced_widgets": [
            "4b8c4a43cb1e42b38957262fed86eb10",
            "edf2b90aee3b4f02be842d36e1a401aa",
            "ab8b72da3b2d42dcb37829a26338f5f6",
            "06971e5970224b2fb251c2f4a6f54d39",
            "f8171f471711415cbce1a2fe8e040612",
            "1fe26b73a9bf4194b921c27cfd6a82a7",
            "0f7325f45b3c42bc94ac32c12eee2afc",
            "4b1d79a3c3b24a26b0a482527d376ad1",
            "e0e6d69e3e9141138941664fd27e3903",
            "80181fdf411c4e3b897635d5b0ee22ec",
            "a860376e5a024c9aa9f738e2d18f3380",
            "085afb3046c549dbab0f4b34d1020f13",
            "4a3d1a2c7ce3439aa54efcc875386fbb",
            "e383f50fffcb49cda8c0240dfda7e118",
            "10bb62f23b064bb08050d098cc46c9ea",
            "141f8672561f481799001436ae165de4",
            "05ff313bdba84f948363cb960bc4429d",
            "395dc20d6eb846a98a327d0a2fdfcbe4",
            "c1a276da693740129e042e5e2e22edf3",
            "3107f822a3c9412e88a1393a86fdfdee",
            "ba0b3169e2d74534bc002c549a706bb2",
            "514434e63cd84d018df69ae4e42f4e81",
            "2a332029ec7d421da17ec8880deef359",
            "8c1ed845c5164c5d9094db5a9a6a987e",
            "d97a3d60f47d434c9b7b5cbdcee8ec33",
            "47a43e88a022414dbfb62d243b373127",
            "9958bb5af96144819951ada137a1a3e4",
            "f70df9f5a8a4407c88f84eaec60ef7aa",
            "14e0d61d55a44bfda9c9be3bbcf8b0c3",
            "5903e7085e4a4cf18fe9b46cd6078754",
            "298883926a9646db801a4475f9d4dcdd",
            "a6212ec1bffa4a91a819ff4137e9c814",
            "083bb02d7e4847c389d560321d41050a"
          ]
        },
        "id": "PWWYnUKcP9iY",
        "outputId": "ee8f102b-1790-4a64-f7d9-987f132b554b"
      },
      "execution_count": 8,
      "outputs": [
        {
          "output_type": "display_data",
          "data": {
            "text/plain": [
              "Map:   0%|          | 0/3668 [00:00<?, ? examples/s]"
            ],
            "application/vnd.jupyter.widget-view+json": {
              "version_major": 2,
              "version_minor": 0,
              "model_id": "4b8c4a43cb1e42b38957262fed86eb10"
            }
          },
          "metadata": {}
        },
        {
          "output_type": "display_data",
          "data": {
            "text/plain": [
              "Map:   0%|          | 0/408 [00:00<?, ? examples/s]"
            ],
            "application/vnd.jupyter.widget-view+json": {
              "version_major": 2,
              "version_minor": 0,
              "model_id": "085afb3046c549dbab0f4b34d1020f13"
            }
          },
          "metadata": {}
        },
        {
          "output_type": "display_data",
          "data": {
            "text/plain": [
              "Map:   0%|          | 0/1725 [00:00<?, ? examples/s]"
            ],
            "application/vnd.jupyter.widget-view+json": {
              "version_major": 2,
              "version_minor": 0,
              "model_id": "2a332029ec7d421da17ec8880deef359"
            }
          },
          "metadata": {}
        }
      ]
    },
    {
      "cell_type": "code",
      "source": [
        "print(\"Случайный пример:\")\n",
        "print(random.choice([example for example in tokenized_dataset['train']]))\n",
        "# обратите внимание на token_type_id - в этом списке указано, к какой последовательности относятся токены (предложение 1 или предложение 2)"
      ],
      "metadata": {
        "colab": {
          "base_uri": "https://localhost:8080/"
        },
        "id": "44KnwbKiRheG",
        "outputId": "cf1e91b1-993e-40b7-e75b-71c5ab089760"
      },
      "execution_count": 9,
      "outputs": [
        {
          "output_type": "stream",
          "name": "stdout",
          "text": [
            "Случайный пример:\n",
            "{'sentence1': '\" We condemn and denounce the Governing Council , which is headed by the United States , \" Moqtada al-Sadr said .', 'sentence2': '\" We condemn the Governing Council headed by the United States , \" Sadr said in a fiery sermon at Koufa mosque near Najaf .', 'label': 1, 'idx': 2149, 'input_ids': [101, 1000, 2057, 28887, 1998, 7939, 23709, 3401, 1996, 8677, 2473, 1010, 2029, 2003, 3753, 2011, 1996, 2142, 2163, 1010, 1000, 9587, 4160, 17713, 2050, 2632, 1011, 6517, 2099, 2056, 1012, 102, 1000, 2057, 28887, 1996, 8677, 2473, 3753, 2011, 1996, 2142, 2163, 1010, 1000, 6517, 2099, 2056, 1999, 1037, 15443, 18408, 2012, 12849, 16093, 2050, 8806, 2379, 6583, 3900, 2546, 1012, 102, 0, 0, 0, 0, 0, 0, 0, 0, 0, 0, 0, 0, 0, 0, 0, 0, 0, 0, 0, 0, 0, 0, 0, 0, 0, 0, 0, 0, 0, 0, 0, 0, 0, 0, 0, 0, 0, 0, 0, 0, 0, 0, 0, 0, 0, 0, 0, 0, 0, 0, 0, 0, 0, 0, 0, 0, 0, 0, 0, 0, 0, 0, 0, 0, 0, 0, 0, 0, 0, 0, 0, 0, 0, 0, 0, 0, 0, 0, 0, 0, 0, 0, 0, 0, 0, 0, 0, 0, 0, 0, 0, 0, 0, 0, 0, 0, 0, 0, 0, 0, 0, 0, 0, 0, 0, 0, 0, 0, 0, 0, 0, 0, 0, 0, 0, 0, 0, 0, 0, 0, 0, 0, 0, 0, 0, 0, 0, 0, 0, 0, 0, 0, 0, 0, 0, 0, 0, 0, 0, 0, 0, 0, 0, 0, 0, 0, 0, 0, 0, 0, 0, 0, 0, 0, 0, 0, 0, 0, 0, 0, 0, 0, 0, 0, 0, 0, 0, 0, 0, 0, 0, 0, 0, 0, 0, 0, 0, 0, 0, 0, 0, 0, 0, 0, 0, 0, 0, 0, 0, 0, 0, 0, 0, 0, 0, 0, 0, 0, 0, 0, 0, 0, 0, 0, 0, 0, 0, 0, 0, 0, 0, 0, 0, 0, 0, 0, 0, 0, 0, 0, 0, 0, 0, 0, 0, 0, 0, 0, 0, 0, 0, 0, 0, 0, 0, 0, 0, 0, 0, 0, 0, 0, 0, 0, 0, 0, 0, 0, 0, 0, 0, 0, 0, 0, 0, 0, 0, 0, 0, 0, 0, 0, 0, 0, 0, 0, 0, 0, 0, 0, 0, 0, 0, 0, 0, 0, 0, 0, 0, 0, 0, 0, 0, 0, 0, 0, 0, 0, 0, 0, 0, 0, 0, 0, 0, 0, 0, 0, 0, 0, 0, 0, 0, 0, 0, 0, 0, 0, 0, 0, 0, 0, 0, 0, 0, 0, 0, 0, 0, 0, 0, 0, 0, 0, 0, 0, 0, 0, 0, 0, 0, 0, 0, 0, 0, 0, 0, 0, 0, 0, 0, 0, 0, 0, 0, 0, 0, 0, 0, 0, 0, 0, 0, 0, 0, 0, 0, 0, 0, 0, 0, 0, 0, 0, 0, 0, 0, 0, 0, 0, 0, 0, 0, 0, 0, 0, 0, 0, 0, 0, 0, 0, 0, 0, 0, 0, 0, 0, 0, 0, 0, 0, 0, 0, 0, 0, 0, 0, 0, 0, 0, 0, 0, 0, 0, 0, 0, 0, 0, 0, 0, 0, 0, 0, 0, 0, 0, 0, 0, 0, 0, 0, 0, 0, 0, 0, 0, 0, 0, 0, 0, 0, 0, 0, 0, 0, 0, 0, 0, 0, 0, 0, 0, 0, 0, 0, 0, 0, 0], 'token_type_ids': [0, 0, 0, 0, 0, 0, 0, 0, 0, 0, 0, 0, 0, 0, 0, 0, 0, 0, 0, 0, 0, 0, 0, 0, 0, 0, 0, 0, 0, 0, 0, 0, 1, 1, 1, 1, 1, 1, 1, 1, 1, 1, 1, 1, 1, 1, 1, 1, 1, 1, 1, 1, 1, 1, 1, 1, 1, 1, 1, 1, 1, 1, 1, 0, 0, 0, 0, 0, 0, 0, 0, 0, 0, 0, 0, 0, 0, 0, 0, 0, 0, 0, 0, 0, 0, 0, 0, 0, 0, 0, 0, 0, 0, 0, 0, 0, 0, 0, 0, 0, 0, 0, 0, 0, 0, 0, 0, 0, 0, 0, 0, 0, 0, 0, 0, 0, 0, 0, 0, 0, 0, 0, 0, 0, 0, 0, 0, 0, 0, 0, 0, 0, 0, 0, 0, 0, 0, 0, 0, 0, 0, 0, 0, 0, 0, 0, 0, 0, 0, 0, 0, 0, 0, 0, 0, 0, 0, 0, 0, 0, 0, 0, 0, 0, 0, 0, 0, 0, 0, 0, 0, 0, 0, 0, 0, 0, 0, 0, 0, 0, 0, 0, 0, 0, 0, 0, 0, 0, 0, 0, 0, 0, 0, 0, 0, 0, 0, 0, 0, 0, 0, 0, 0, 0, 0, 0, 0, 0, 0, 0, 0, 0, 0, 0, 0, 0, 0, 0, 0, 0, 0, 0, 0, 0, 0, 0, 0, 0, 0, 0, 0, 0, 0, 0, 0, 0, 0, 0, 0, 0, 0, 0, 0, 0, 0, 0, 0, 0, 0, 0, 0, 0, 0, 0, 0, 0, 0, 0, 0, 0, 0, 0, 0, 0, 0, 0, 0, 0, 0, 0, 0, 0, 0, 0, 0, 0, 0, 0, 0, 0, 0, 0, 0, 0, 0, 0, 0, 0, 0, 0, 0, 0, 0, 0, 0, 0, 0, 0, 0, 0, 0, 0, 0, 0, 0, 0, 0, 0, 0, 0, 0, 0, 0, 0, 0, 0, 0, 0, 0, 0, 0, 0, 0, 0, 0, 0, 0, 0, 0, 0, 0, 0, 0, 0, 0, 0, 0, 0, 0, 0, 0, 0, 0, 0, 0, 0, 0, 0, 0, 0, 0, 0, 0, 0, 0, 0, 0, 0, 0, 0, 0, 0, 0, 0, 0, 0, 0, 0, 0, 0, 0, 0, 0, 0, 0, 0, 0, 0, 0, 0, 0, 0, 0, 0, 0, 0, 0, 0, 0, 0, 0, 0, 0, 0, 0, 0, 0, 0, 0, 0, 0, 0, 0, 0, 0, 0, 0, 0, 0, 0, 0, 0, 0, 0, 0, 0, 0, 0, 0, 0, 0, 0, 0, 0, 0, 0, 0, 0, 0, 0, 0, 0, 0, 0, 0, 0, 0, 0, 0, 0, 0, 0, 0, 0, 0, 0, 0, 0, 0, 0, 0, 0, 0, 0, 0, 0, 0, 0, 0, 0, 0, 0, 0, 0, 0, 0, 0, 0, 0, 0, 0, 0, 0, 0, 0, 0, 0, 0, 0, 0, 0, 0, 0, 0, 0, 0, 0, 0, 0, 0, 0, 0, 0, 0, 0, 0, 0, 0, 0, 0, 0, 0, 0, 0, 0, 0, 0, 0, 0, 0, 0, 0], 'attention_mask': [1, 1, 1, 1, 1, 1, 1, 1, 1, 1, 1, 1, 1, 1, 1, 1, 1, 1, 1, 1, 1, 1, 1, 1, 1, 1, 1, 1, 1, 1, 1, 1, 1, 1, 1, 1, 1, 1, 1, 1, 1, 1, 1, 1, 1, 1, 1, 1, 1, 1, 1, 1, 1, 1, 1, 1, 1, 1, 1, 1, 1, 1, 1, 0, 0, 0, 0, 0, 0, 0, 0, 0, 0, 0, 0, 0, 0, 0, 0, 0, 0, 0, 0, 0, 0, 0, 0, 0, 0, 0, 0, 0, 0, 0, 0, 0, 0, 0, 0, 0, 0, 0, 0, 0, 0, 0, 0, 0, 0, 0, 0, 0, 0, 0, 0, 0, 0, 0, 0, 0, 0, 0, 0, 0, 0, 0, 0, 0, 0, 0, 0, 0, 0, 0, 0, 0, 0, 0, 0, 0, 0, 0, 0, 0, 0, 0, 0, 0, 0, 0, 0, 0, 0, 0, 0, 0, 0, 0, 0, 0, 0, 0, 0, 0, 0, 0, 0, 0, 0, 0, 0, 0, 0, 0, 0, 0, 0, 0, 0, 0, 0, 0, 0, 0, 0, 0, 0, 0, 0, 0, 0, 0, 0, 0, 0, 0, 0, 0, 0, 0, 0, 0, 0, 0, 0, 0, 0, 0, 0, 0, 0, 0, 0, 0, 0, 0, 0, 0, 0, 0, 0, 0, 0, 0, 0, 0, 0, 0, 0, 0, 0, 0, 0, 0, 0, 0, 0, 0, 0, 0, 0, 0, 0, 0, 0, 0, 0, 0, 0, 0, 0, 0, 0, 0, 0, 0, 0, 0, 0, 0, 0, 0, 0, 0, 0, 0, 0, 0, 0, 0, 0, 0, 0, 0, 0, 0, 0, 0, 0, 0, 0, 0, 0, 0, 0, 0, 0, 0, 0, 0, 0, 0, 0, 0, 0, 0, 0, 0, 0, 0, 0, 0, 0, 0, 0, 0, 0, 0, 0, 0, 0, 0, 0, 0, 0, 0, 0, 0, 0, 0, 0, 0, 0, 0, 0, 0, 0, 0, 0, 0, 0, 0, 0, 0, 0, 0, 0, 0, 0, 0, 0, 0, 0, 0, 0, 0, 0, 0, 0, 0, 0, 0, 0, 0, 0, 0, 0, 0, 0, 0, 0, 0, 0, 0, 0, 0, 0, 0, 0, 0, 0, 0, 0, 0, 0, 0, 0, 0, 0, 0, 0, 0, 0, 0, 0, 0, 0, 0, 0, 0, 0, 0, 0, 0, 0, 0, 0, 0, 0, 0, 0, 0, 0, 0, 0, 0, 0, 0, 0, 0, 0, 0, 0, 0, 0, 0, 0, 0, 0, 0, 0, 0, 0, 0, 0, 0, 0, 0, 0, 0, 0, 0, 0, 0, 0, 0, 0, 0, 0, 0, 0, 0, 0, 0, 0, 0, 0, 0, 0, 0, 0, 0, 0, 0, 0, 0, 0, 0, 0, 0, 0, 0, 0, 0, 0, 0, 0, 0, 0, 0, 0, 0, 0, 0, 0, 0, 0, 0, 0, 0, 0, 0, 0, 0, 0, 0, 0, 0, 0, 0, 0, 0, 0, 0, 0, 0, 0, 0, 0, 0, 0, 0, 0, 0, 0, 0, 0, 0, 0, 0, 0, 0]}\n"
          ]
        }
      ]
    },
    {
      "cell_type": "markdown",
      "source": [
        "## Модель"
      ],
      "metadata": {
        "id": "Bd63e3ssG8nU"
      }
    },
    {
      "cell_type": "markdown",
      "source": [
        "### Конфигурация"
      ],
      "metadata": {
        "id": "9iEnYjotSg16"
      }
    },
    {
      "cell_type": "markdown",
      "source": [
        "Загрузим уже собранную версию [BERT для классификации последовательностей](https://huggingface.co/docs/transformers/model_doc/bert#transformers.BertForNextSentencePrediction)"
      ],
      "metadata": {
        "id": "RRkGKnzGuj-K"
      }
    },
    {
      "cell_type": "code",
      "source": [
        "from transformers import BertForSequenceClassification\n",
        "\n",
        "# прописываем ту же модель из хаба, которую мы указывали в токенизаторе\n",
        "model = BertForSequenceClassification.from_pretrained('bert-base-uncased')\n",
        "\n",
        "model.config"
      ],
      "metadata": {
        "colab": {
          "base_uri": "https://localhost:8080/",
          "height": 538,
          "referenced_widgets": [
            "71a017a663a84d569d4cea583bb7f04d",
            "78507dd3fe694cb9a6b978f69dd75870",
            "3f748b25e4b8494282d6dce28d0fec6d",
            "ce5c80bb58fa4579828b609f61a9412e",
            "aafa228cd32843c08e2215a0857a2815",
            "4386c090fecd4287aad2b80a8c239490",
            "b6a426c4c8b64614b53b69a2ddc56357",
            "b6d1a4921b114fdca8d060ef085c532f",
            "f5e0d63804164eb2b90959f8a98820f7",
            "e0d84cf9eb2745fe8d9ebab6c442c401",
            "518e0ba4951f41ce9ed61a3840238515"
          ]
        },
        "id": "8W4_nd0kKTWk",
        "outputId": "8f851010-7009-48bb-ae9e-03231c1acc1c"
      },
      "execution_count": 10,
      "outputs": [
        {
          "output_type": "display_data",
          "data": {
            "text/plain": [
              "model.safetensors:   0%|          | 0.00/440M [00:00<?, ?B/s]"
            ],
            "application/vnd.jupyter.widget-view+json": {
              "version_major": 2,
              "version_minor": 0,
              "model_id": "71a017a663a84d569d4cea583bb7f04d"
            }
          },
          "metadata": {}
        },
        {
          "output_type": "stream",
          "name": "stderr",
          "text": [
            "Some weights of BertForSequenceClassification were not initialized from the model checkpoint at bert-base-uncased and are newly initialized: ['classifier.bias', 'classifier.weight']\n",
            "You should probably TRAIN this model on a down-stream task to be able to use it for predictions and inference.\n"
          ]
        },
        {
          "output_type": "execute_result",
          "data": {
            "text/plain": [
              "BertConfig {\n",
              "  \"_name_or_path\": \"bert-base-uncased\",\n",
              "  \"architectures\": [\n",
              "    \"BertForMaskedLM\"\n",
              "  ],\n",
              "  \"attention_probs_dropout_prob\": 0.1,\n",
              "  \"classifier_dropout\": null,\n",
              "  \"gradient_checkpointing\": false,\n",
              "  \"hidden_act\": \"gelu\",\n",
              "  \"hidden_dropout_prob\": 0.1,\n",
              "  \"hidden_size\": 768,\n",
              "  \"initializer_range\": 0.02,\n",
              "  \"intermediate_size\": 3072,\n",
              "  \"layer_norm_eps\": 1e-12,\n",
              "  \"max_position_embeddings\": 512,\n",
              "  \"model_type\": \"bert\",\n",
              "  \"num_attention_heads\": 12,\n",
              "  \"num_hidden_layers\": 12,\n",
              "  \"pad_token_id\": 0,\n",
              "  \"position_embedding_type\": \"absolute\",\n",
              "  \"transformers_version\": \"4.37.2\",\n",
              "  \"type_vocab_size\": 2,\n",
              "  \"use_cache\": true,\n",
              "  \"vocab_size\": 30522\n",
              "}"
            ]
          },
          "metadata": {},
          "execution_count": 10
        }
      ]
    },
    {
      "cell_type": "markdown",
      "source": [
        "Разберемся в конфигурации модели (из чего состоит лазанья)\n",
        "\n",
        "* *архитектура*, которая строит эмбеддинги: \"BertForMaskedLM\" # Bert Model with a language modeling head on top.\n",
        "* *дропаут* - способ избежать переобучения, в котором указанная доля слоев \"выкидывается\" из первоначальной модели; создается несколько сеток и финальный результат усредняется\n",
        "* *чекпоинт* - если планируете обучать долго, промежуточные результаты обучения можно сразу сохранять и позже использовать или дообучить\n",
        "* другие гиперпараметры сети: разновидность *функции активации*, *размерность* вектора (количество параметров, которые ищет сеточка)\n",
        "* гиперпараметры трансформера: количество эмбеддингов для *позиционного кодирования* (размерность матрицы позиционного кодирования, из синусов и косинусов), количество *голов внимания* (сколько ~уровней языка мы хотим отобразить)\n",
        "\n",
        "Все параметры можно изменить"
      ],
      "metadata": {
        "id": "7ZrOx6v9S9PN"
      }
    },
    {
      "cell_type": "code",
      "source": [
        "from transformers import BertConfig\n",
        "\n",
        "custom_config = BertConfig.from_pretrained('bert-base-uncased')  # дефолтная конфигурация\n",
        "custom_config.num_attention_heads = 16  # увеличим количество голов внимания (NB! значения должны быть совместимы с количеством скрытых слоев)\n",
        "\n",
        "\n",
        "custom_model = BertForSequenceClassification.from_pretrained('bert-base-uncased', config=custom_config)\n",
        "custom_model.config"
      ],
      "metadata": {
        "colab": {
          "base_uri": "https://localhost:8080/"
        },
        "id": "_U-3lbVOT7u4",
        "outputId": "f0c1bb2d-c567-43ce-d79c-380409ab698e"
      },
      "execution_count": 11,
      "outputs": [
        {
          "output_type": "stream",
          "name": "stderr",
          "text": [
            "Some weights of BertForSequenceClassification were not initialized from the model checkpoint at bert-base-uncased and are newly initialized: ['classifier.bias', 'classifier.weight']\n",
            "You should probably TRAIN this model on a down-stream task to be able to use it for predictions and inference.\n"
          ]
        },
        {
          "output_type": "execute_result",
          "data": {
            "text/plain": [
              "BertConfig {\n",
              "  \"_name_or_path\": \"bert-base-uncased\",\n",
              "  \"architectures\": [\n",
              "    \"BertForMaskedLM\"\n",
              "  ],\n",
              "  \"attention_probs_dropout_prob\": 0.1,\n",
              "  \"classifier_dropout\": null,\n",
              "  \"gradient_checkpointing\": false,\n",
              "  \"hidden_act\": \"gelu\",\n",
              "  \"hidden_dropout_prob\": 0.1,\n",
              "  \"hidden_size\": 768,\n",
              "  \"initializer_range\": 0.02,\n",
              "  \"intermediate_size\": 3072,\n",
              "  \"layer_norm_eps\": 1e-12,\n",
              "  \"max_position_embeddings\": 512,\n",
              "  \"model_type\": \"bert\",\n",
              "  \"num_attention_heads\": 16,\n",
              "  \"num_hidden_layers\": 12,\n",
              "  \"pad_token_id\": 0,\n",
              "  \"position_embedding_type\": \"absolute\",\n",
              "  \"transformers_version\": \"4.37.2\",\n",
              "  \"type_vocab_size\": 2,\n",
              "  \"use_cache\": true,\n",
              "  \"vocab_size\": 30522\n",
              "}"
            ]
          },
          "metadata": {},
          "execution_count": 11
        }
      ]
    },
    {
      "cell_type": "markdown",
      "source": [
        "### Обучение"
      ],
      "metadata": {
        "id": "ufX2D-mUWUia"
      }
    },
    {
      "cell_type": "markdown",
      "source": [
        "Для обучения будем использовать HF Trainer (заранее проверьте, что вы включили GPU)"
      ],
      "metadata": {
        "id": "QuD7pBIoSgv-"
      }
    },
    {
      "cell_type": "code",
      "source": [
        "from transformers import Trainer, TrainingArguments\n",
        "\n",
        "training_args = TrainingArguments(\n",
        "    per_device_train_batch_size=8, # батч - кусочек данных, который мы подаем за 1 шаг обучения\n",
        "    per_device_eval_batch_size=8, # батч - кусочек данных, который мы подаем за 1 шаг оценки\n",
        "    num_train_epochs=3, # количество эпох обучения\n",
        "    evaluation_strategy=\"epoch\", # как часто будет производится оценка\n",
        "    logging_dir=\"logs\", # \"журнал\" обучения\n",
        "    output_dir=\"model\", # позже вы сможете выгрузить отсюда вашу готовую модель\n",
        ")\n",
        "\n",
        "trainer = Trainer(\n",
        "    model=model, # в какой переменной хранится скомпилированная модель (попробуйте заменить на custom_model!)\n",
        "    args=training_args, # параметры обучения мы задали выше\n",
        "    train_dataset=tokenized_dataset['train'], # путь к обучающей выборке\n",
        "    eval_dataset=tokenized_dataset['validation'], # путь к проверочной выборке\n",
        ")\n",
        "\n",
        "trainer.train()"
      ],
      "metadata": {
        "colab": {
          "base_uri": "https://localhost:8080/",
          "height": 204
        },
        "id": "0hLehS7bW-4q",
        "outputId": "10e766eb-fddf-42d8-dd8e-b51ebd19ea98"
      },
      "execution_count": 12,
      "outputs": [
        {
          "output_type": "display_data",
          "data": {
            "text/plain": [
              "<IPython.core.display.HTML object>"
            ],
            "text/html": [
              "\n",
              "    <div>\n",
              "      \n",
              "      <progress value='1377' max='1377' style='width:300px; height:20px; vertical-align: middle;'></progress>\n",
              "      [1377/1377 18:27, Epoch 3/3]\n",
              "    </div>\n",
              "    <table border=\"1\" class=\"dataframe\">\n",
              "  <thead>\n",
              " <tr style=\"text-align: left;\">\n",
              "      <th>Epoch</th>\n",
              "      <th>Training Loss</th>\n",
              "      <th>Validation Loss</th>\n",
              "    </tr>\n",
              "  </thead>\n",
              "  <tbody>\n",
              "    <tr>\n",
              "      <td>1</td>\n",
              "      <td>No log</td>\n",
              "      <td>0.420865</td>\n",
              "    </tr>\n",
              "    <tr>\n",
              "      <td>2</td>\n",
              "      <td>0.529800</td>\n",
              "      <td>0.588529</td>\n",
              "    </tr>\n",
              "    <tr>\n",
              "      <td>3</td>\n",
              "      <td>0.334700</td>\n",
              "      <td>0.513595</td>\n",
              "    </tr>\n",
              "  </tbody>\n",
              "</table><p>"
            ]
          },
          "metadata": {}
        },
        {
          "output_type": "execute_result",
          "data": {
            "text/plain": [
              "TrainOutput(global_step=1377, training_loss=0.36637416886694635, metrics={'train_runtime': 1110.4709, 'train_samples_per_second': 9.909, 'train_steps_per_second': 1.24, 'total_flos': 2895274053181440.0, 'train_loss': 0.36637416886694635, 'epoch': 3.0})"
            ]
          },
          "metadata": {},
          "execution_count": 12
        }
      ]
    },
    {
      "cell_type": "markdown",
      "source": [
        "## Оценка"
      ],
      "metadata": {
        "id": "cMiW_3IOHIEf"
      }
    },
    {
      "cell_type": "markdown",
      "source": [
        "### Получаем предсказания"
      ],
      "metadata": {
        "id": "8kzQY9jIhh0m"
      }
    },
    {
      "cell_type": "markdown",
      "source": [
        "Для оценки моделей в HF существует отдельная библиотека Evaluate"
      ],
      "metadata": {
        "id": "iH5v6nyyacDT"
      }
    },
    {
      "cell_type": "code",
      "source": [
        "!pip install evaluate"
      ],
      "metadata": {
        "colab": {
          "base_uri": "https://localhost:8080/"
        },
        "id": "I3c7XgJsaZl9",
        "outputId": "44668a0e-9231-4c39-88db-670e07e9b034"
      },
      "execution_count": 13,
      "outputs": [
        {
          "output_type": "stream",
          "name": "stdout",
          "text": [
            "Installing collected packages: responses, evaluate\n",
            "Successfully installed evaluate-0.4.1 responses-0.18.0\n"
          ]
        }
      ]
    },
    {
      "cell_type": "markdown",
      "source": [
        "Получим предсказания на тестовой выборке"
      ],
      "metadata": {
        "id": "ne_wyjFGgVsb"
      }
    },
    {
      "cell_type": "code",
      "source": [
        "predictions = trainer.predict(tokenized_dataset[\"test\"])"
      ],
      "metadata": {
        "id": "TYmFTIwigTt5"
      },
      "execution_count": null,
      "outputs": []
    },
    {
      "cell_type": "markdown",
      "source": [
        "Максимизируем результаты с помощью argmax"
      ],
      "metadata": {
        "id": "KUnFvI4rgjIp"
      }
    },
    {
      "cell_type": "code",
      "source": [
        "import numpy as np\n",
        "\n",
        "preds = np.argmax(predictions.predictions, axis=-1)"
      ],
      "metadata": {
        "id": "UUWEcrTugeGA"
      },
      "execution_count": 18,
      "outputs": []
    },
    {
      "cell_type": "markdown",
      "source": [
        "Сравним результаты до и после максимизации"
      ],
      "metadata": {
        "id": "NrwFu31rg4qt"
      }
    },
    {
      "cell_type": "code",
      "source": [
        "print(\"Предсказания модели:\", predictions.predictions[0])\n",
        "print(\"\\nПосле argmax:\", preds[0])"
      ],
      "metadata": {
        "colab": {
          "base_uri": "https://localhost:8080/"
        },
        "id": "XYgJztrOgq4_",
        "outputId": "1100aeb2-afad-45e8-89db-2312d4c407c7"
      },
      "execution_count": 24,
      "outputs": [
        {
          "output_type": "stream",
          "name": "stdout",
          "text": [
            "Предсказания модели: [-2.7105749  3.1642852]\n",
            "\n",
            "После argmax: 1\n"
          ]
        }
      ]
    },
    {
      "cell_type": "markdown",
      "source": [
        "Посмотрим, какую дополнительную информацию можно извлечь из `predictions`"
      ],
      "metadata": {
        "id": "-r-dsAxThXjN"
      }
    },
    {
      "cell_type": "code",
      "source": [
        "predictions"
      ],
      "metadata": {
        "colab": {
          "base_uri": "https://localhost:8080/"
        },
        "id": "XHZOZlnyhLCT",
        "outputId": "2f4f738a-cf81-4706-e971-aa5f4cafb592"
      },
      "execution_count": 25,
      "outputs": [
        {
          "output_type": "execute_result",
          "data": {
            "text/plain": [
              "PredictionOutput(predictions=array([[-2.7105749,  3.1642852],\n",
              "       [-2.38004  ,  2.718539 ],\n",
              "       [-2.7457948,  3.170613 ],\n",
              "       ...,\n",
              "       [-2.7567718,  3.223147 ],\n",
              "       [-2.778326 ,  3.184412 ],\n",
              "       [-2.8133502,  3.025076 ]], dtype=float32), label_ids=array([1, 1, 1, ..., 0, 1, 1]), metrics={'test_loss': 0.6235123872756958, 'test_runtime': 62.0073, 'test_samples_per_second': 27.819, 'test_steps_per_second': 3.483})"
            ]
          },
          "metadata": {},
          "execution_count": 25
        }
      ]
    },
    {
      "cell_type": "markdown",
      "source": [
        "### Оцениваем результаты"
      ],
      "metadata": {
        "id": "_P2B2CyShlXO"
      }
    },
    {
      "cell_type": "markdown",
      "source": [
        "Чтобы использовать Evaluate, нужно заранее выбрать или узнать, какие метрики оценки используются для ваших датасетов и задач. Для известных бенчмарков и попуярных задач в HF эти данные прописаны автоматически."
      ],
      "metadata": {
        "id": "um6wsJx3ajiV"
      }
    },
    {
      "cell_type": "code",
      "source": [
        "import evaluate\n",
        "\n",
        "metric = evaluate.load(\"glue\", \"mrpc\")\n",
        "\n",
        "metric.compute(predictions=preds, references=predictions.label_ids)"
      ],
      "metadata": {
        "colab": {
          "base_uri": "https://localhost:8080/",
          "height": 66,
          "referenced_widgets": [
            "2dfb15dd75c94f9181fcf6db99d231e1",
            "d6b6047ec3e74fa6ba9eabf7f11e5d95",
            "fad59f44ffbe466d93826353e72b5fb6",
            "b3985737f175497ab5da84cb48b708bd",
            "e6659a1e6a3747a5bec628b287de702d",
            "fe2350f5761e4b4e841e919f279aefae",
            "a91869e0a4bd4a88926c81f9192338db",
            "86b069df10b9400eb226a9c7e99e8474",
            "f1419f40f73546e99c8dfbc3b053c820",
            "6d4e78f0945c4444b119953888fa1694",
            "f06dd53b931b4292bc5b3e096d830ac2"
          ]
        },
        "id": "YZOOpOPqeoIg",
        "outputId": "c172d994-19fb-4e4c-d8a0-d79a1a629ae9"
      },
      "execution_count": 26,
      "outputs": [
        {
          "output_type": "display_data",
          "data": {
            "text/plain": [
              "Downloading builder script:   0%|          | 0.00/5.75k [00:00<?, ?B/s]"
            ],
            "application/vnd.jupyter.widget-view+json": {
              "version_major": 2,
              "version_minor": 0,
              "model_id": "2dfb15dd75c94f9181fcf6db99d231e1"
            }
          },
          "metadata": {}
        },
        {
          "output_type": "execute_result",
          "data": {
            "text/plain": [
              "{'accuracy': 0.8457971014492753, 'f1': 0.8869047619047619}"
            ]
          },
          "metadata": {},
          "execution_count": 26
        }
      ]
    },
    {
      "cell_type": "markdown",
      "source": [
        "Результаты оценки можно визуализировать с помощью матрицы ошибок"
      ],
      "metadata": {
        "id": "e5mSWDFqinlg"
      }
    },
    {
      "cell_type": "code",
      "source": [
        "from sklearn.metrics import confusion_matrix, ConfusionMatrixDisplay\n",
        "\n",
        "disp = ConfusionMatrixDisplay(confusion_matrix=confusion_matrix(predictions.label_ids, preds),\n",
        "                              display_labels=['not_equivalent', 'equivalent'])\n",
        "disp.plot()"
      ],
      "metadata": {
        "colab": {
          "base_uri": "https://localhost:8080/",
          "height": 467
        },
        "id": "1zOyhxM2bAYM",
        "outputId": "279d08f5-5ad5-4b6b-a588-213e0ca89950"
      },
      "execution_count": 30,
      "outputs": [
        {
          "output_type": "execute_result",
          "data": {
            "text/plain": [
              "<sklearn.metrics._plot.confusion_matrix.ConfusionMatrixDisplay at 0x7fee6994dea0>"
            ]
          },
          "metadata": {},
          "execution_count": 30
        },
        {
          "output_type": "display_data",
          "data": {
            "text/plain": [
              "<Figure size 640x480 with 2 Axes>"
            ],
            "image/png": "[encoded data removed]"
          },
          "metadata": {}
        }
      ]
    },
    {
      "cell_type": "markdown",
      "source": [
        "`(с) В.И. Фирсанова`"
      ],
      "metadata": {
        "id": "jZsq3f7dcyfg"
      }
    }
  ]
}