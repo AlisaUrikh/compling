{
  "nbformat": 4,
  "nbformat_minor": 0,
  "metadata": {
    "colab": {
      "provenance": [],
      "gpuType": "T4",
      "authorship_tag": "ABX9TyOGdZ89XaIUmJCY8cTpHccR",
      "include_colab_link": true
    },
    "kernelspec": {
      "name": "python3",
      "display_name": "Python 3"
    },
    "language_info": {
      "name": "python"
    },
    "accelerator": "GPU",
    "widgets": {
      "application/vnd.jupyter.widget-state+json": {
        "014ad5be8b834b25a0d90b1da57f6561": {
          "model_module": "@jupyter-widgets/controls",
          "model_name": "HBoxModel",
          "model_module_version": "1.5.0",
          "state": {
            "_dom_classes": [],
            "_model_module": "@jupyter-widgets/controls",
            "_model_module_version": "1.5.0",
            "_model_name": "HBoxModel",
            "_view_count": null,
            "_view_module": "@jupyter-widgets/controls",
            "_view_module_version": "1.5.0",
            "_view_name": "HBoxView",
            "box_style": "",
            "children": [
              "IPY_MODEL_2a5a2b38e10b44748bdb426f35e60a85",
              "IPY_MODEL_bb32866f0f0945628d23fc542d1b9418",
              "IPY_MODEL_a40e91af18ef41fabf0eedeeb3f4d499"
            ],
            "layout": "IPY_MODEL_a67a6ed5d4354d23bf72019aa0a72e56"
          }
        },
        "2a5a2b38e10b44748bdb426f35e60a85": {
          "model_module": "@jupyter-widgets/controls",
          "model_name": "HTMLModel",
          "model_module_version": "1.5.0",
          "state": {
            "_dom_classes": [],
            "_model_module": "@jupyter-widgets/controls",
            "_model_module_version": "1.5.0",
            "_model_name": "HTMLModel",
            "_view_count": null,
            "_view_module": "@jupyter-widgets/controls",
            "_view_module_version": "1.5.0",
            "_view_name": "HTMLView",
            "description": "",
            "description_tooltip": null,
            "layout": "IPY_MODEL_f6f0ee25c7724fc7acdfeb83a510e4de",
            "placeholder": "​",
            "style": "IPY_MODEL_64bc3323523a48f8ac8c6c0637f2d55e",
            "value": "Loading checkpoint shards: 100%"
          }
        },
        "bb32866f0f0945628d23fc542d1b9418": {
          "model_module": "@jupyter-widgets/controls",
          "model_name": "FloatProgressModel",
          "model_module_version": "1.5.0",
          "state": {
            "_dom_classes": [],
            "_model_module": "@jupyter-widgets/controls",
            "_model_module_version": "1.5.0",
            "_model_name": "FloatProgressModel",
            "_view_count": null,
            "_view_module": "@jupyter-widgets/controls",
            "_view_module_version": "1.5.0",
            "_view_name": "ProgressView",
            "bar_style": "success",
            "description": "",
            "description_tooltip": null,
            "layout": "IPY_MODEL_e6a879f56dcd4d6fadf14747af02fa43",
            "max": 2,
            "min": 0,
            "orientation": "horizontal",
            "style": "IPY_MODEL_e8270b6eb18b475ab9578226d1a2531d",
            "value": 2
          }
        },
        "a40e91af18ef41fabf0eedeeb3f4d499": {
          "model_module": "@jupyter-widgets/controls",
          "model_name": "HTMLModel",
          "model_module_version": "1.5.0",
          "state": {
            "_dom_classes": [],
            "_model_module": "@jupyter-widgets/controls",
            "_model_module_version": "1.5.0",
            "_model_name": "HTMLModel",
            "_view_count": null,
            "_view_module": "@jupyter-widgets/controls",
            "_view_module_version": "1.5.0",
            "_view_name": "HTMLView",
            "description": "",
            "description_tooltip": null,
            "layout": "IPY_MODEL_fd39149154714a03bb5d34d5e5f13964",
            "placeholder": "​",
            "style": "IPY_MODEL_3fd62552a76e468fad7a0c48479d7e09",
            "value": " 2/2 [01:15&lt;00:00, 35.52s/it]"
          }
        },
        "a67a6ed5d4354d23bf72019aa0a72e56": {
          "model_module": "@jupyter-widgets/base",
          "model_name": "LayoutModel",
          "model_module_version": "1.2.0",
          "state": {
            "_model_module": "@jupyter-widgets/base",
            "_model_module_version": "1.2.0",
            "_model_name": "LayoutModel",
            "_view_count": null,
            "_view_module": "@jupyter-widgets/base",
            "_view_module_version": "1.2.0",
            "_view_name": "LayoutView",
            "align_content": null,
            "align_items": null,
            "align_self": null,
            "border": null,
            "bottom": null,
            "display": null,
            "flex": null,
            "flex_flow": null,
            "grid_area": null,
            "grid_auto_columns": null,
            "grid_auto_flow": null,
            "grid_auto_rows": null,
            "grid_column": null,
            "grid_gap": null,
            "grid_row": null,
            "grid_template_areas": null,
            "grid_template_columns": null,
            "grid_template_rows": null,
            "height": null,
            "justify_content": null,
            "justify_items": null,
            "left": null,
            "margin": null,
            "max_height": null,
            "max_width": null,
            "min_height": null,
            "min_width": null,
            "object_fit": null,
            "object_position": null,
            "order": null,
            "overflow": null,
            "overflow_x": null,
            "overflow_y": null,
            "padding": null,
            "right": null,
            "top": null,
            "visibility": null,
            "width": null
          }
        },
        "f6f0ee25c7724fc7acdfeb83a510e4de": {
          "model_module": "@jupyter-widgets/base",
          "model_name": "LayoutModel",
          "model_module_version": "1.2.0",
          "state": {
            "_model_module": "@jupyter-widgets/base",
            "_model_module_version": "1.2.0",
            "_model_name": "LayoutModel",
            "_view_count": null,
            "_view_module": "@jupyter-widgets/base",
            "_view_module_version": "1.2.0",
            "_view_name": "LayoutView",
            "align_content": null,
            "align_items": null,
            "align_self": null,
            "border": null,
            "bottom": null,
            "display": null,
            "flex": null,
            "flex_flow": null,
            "grid_area": null,
            "grid_auto_columns": null,
            "grid_auto_flow": null,
            "grid_auto_rows": null,
            "grid_column": null,
            "grid_gap": null,
            "grid_row": null,
            "grid_template_areas": null,
            "grid_template_columns": null,
            "grid_template_rows": null,
            "height": null,
            "justify_content": null,
            "justify_items": null,
            "left": null,
            "margin": null,
            "max_height": null,
            "max_width": null,
            "min_height": null,
            "min_width": null,
            "object_fit": null,
            "object_position": null,
            "order": null,
            "overflow": null,
            "overflow_x": null,
            "overflow_y": null,
            "padding": null,
            "right": null,
            "top": null,
            "visibility": null,
            "width": null
          }
        },
        "64bc3323523a48f8ac8c6c0637f2d55e": {
          "model_module": "@jupyter-widgets/controls",
          "model_name": "DescriptionStyleModel",
          "model_module_version": "1.5.0",
          "state": {
            "_model_module": "@jupyter-widgets/controls",
            "_model_module_version": "1.5.0",
            "_model_name": "DescriptionStyleModel",
            "_view_count": null,
            "_view_module": "@jupyter-widgets/base",
            "_view_module_version": "1.2.0",
            "_view_name": "StyleView",
            "description_width": ""
          }
        },
        "e6a879f56dcd4d6fadf14747af02fa43": {
          "model_module": "@jupyter-widgets/base",
          "model_name": "LayoutModel",
          "model_module_version": "1.2.0",
          "state": {
            "_model_module": "@jupyter-widgets/base",
            "_model_module_version": "1.2.0",
            "_model_name": "LayoutModel",
            "_view_count": null,
            "_view_module": "@jupyter-widgets/base",
            "_view_module_version": "1.2.0",
            "_view_name": "LayoutView",
            "align_content": null,
            "align_items": null,
            "align_self": null,
            "border": null,
            "bottom": null,
            "display": null,
            "flex": null,
            "flex_flow": null,
            "grid_area": null,
            "grid_auto_columns": null,
            "grid_auto_flow": null,
            "grid_auto_rows": null,
            "grid_column": null,
            "grid_gap": null,
            "grid_row": null,
            "grid_template_areas": null,
            "grid_template_columns": null,
            "grid_template_rows": null,
            "height": null,
            "justify_content": null,
            "justify_items": null,
            "left": null,
            "margin": null,
            "max_height": null,
            "max_width": null,
            "min_height": null,
            "min_width": null,
            "object_fit": null,
            "object_position": null,
            "order": null,
            "overflow": null,
            "overflow_x": null,
            "overflow_y": null,
            "padding": null,
            "right": null,
            "top": null,
            "visibility": null,
            "width": null
          }
        },
        "e8270b6eb18b475ab9578226d1a2531d": {
          "model_module": "@jupyter-widgets/controls",
          "model_name": "ProgressStyleModel",
          "model_module_version": "1.5.0",
          "state": {
            "_model_module": "@jupyter-widgets/controls",
            "_model_module_version": "1.5.0",
            "_model_name": "ProgressStyleModel",
            "_view_count": null,
            "_view_module": "@jupyter-widgets/base",
            "_view_module_version": "1.2.0",
            "_view_name": "StyleView",
            "bar_color": null,
            "description_width": ""
          }
        },
        "fd39149154714a03bb5d34d5e5f13964": {
          "model_module": "@jupyter-widgets/base",
          "model_name": "LayoutModel",
          "model_module_version": "1.2.0",
          "state": {
            "_model_module": "@jupyter-widgets/base",
            "_model_module_version": "1.2.0",
            "_model_name": "LayoutModel",
            "_view_count": null,
            "_view_module": "@jupyter-widgets/base",
            "_view_module_version": "1.2.0",
            "_view_name": "LayoutView",
            "align_content": null,
            "align_items": null,
            "align_self": null,
            "border": null,
            "bottom": null,
            "display": null,
            "flex": null,
            "flex_flow": null,
            "grid_area": null,
            "grid_auto_columns": null,
            "grid_auto_flow": null,
            "grid_auto_rows": null,
            "grid_column": null,
            "grid_gap": null,
            "grid_row": null,
            "grid_template_areas": null,
            "grid_template_columns": null,
            "grid_template_rows": null,
            "height": null,
            "justify_content": null,
            "justify_items": null,
            "left": null,
            "margin": null,
            "max_height": null,
            "max_width": null,
            "min_height": null,
            "min_width": null,
            "object_fit": null,
            "object_position": null,
            "order": null,
            "overflow": null,
            "overflow_x": null,
            "overflow_y": null,
            "padding": null,
            "right": null,
            "top": null,
            "visibility": null,
            "width": null
          }
        },
        "3fd62552a76e468fad7a0c48479d7e09": {
          "model_module": "@jupyter-widgets/controls",
          "model_name": "DescriptionStyleModel",
          "model_module_version": "1.5.0",
          "state": {
            "_model_module": "@jupyter-widgets/controls",
            "_model_module_version": "1.5.0",
            "_model_name": "DescriptionStyleModel",
            "_view_count": null,
            "_view_module": "@jupyter-widgets/base",
            "_view_module_version": "1.2.0",
            "_view_name": "StyleView",
            "description_width": ""
          }
        }
      }
    }
  },
  "cells": [
    {
      "cell_type": "markdown",
      "metadata": {
        "id": "view-in-github",
        "colab_type": "text"
      },
      "source": [
        "<a href=\"https://colab.research.google.com/github/vifirsanova/compling/blob/main/llms/langchain_youtube_summarization.ipynb\" target=\"_parent\"><img src=\"https://colab.research.google.com/assets/colab-badge.svg\" alt=\"Open In Colab\"/></a>"
      ]
    },
    {
      "cell_type": "markdown",
      "source": [
        "# Загрузка библиотек"
      ],
      "metadata": {
        "id": "IbpWvklYNa4z"
      }
    },
    {
      "cell_type": "code",
      "source": [
        "! pip install -q -U langchain langchain-community youtube_transcript_api bitsandbytes accelerate\n",
        "! pip install --upgrade tensorflow"
      ],
      "metadata": {
        "id": "VcH-XhGjMHCS"
      },
      "execution_count": null,
      "outputs": []
    },
    {
      "cell_type": "code",
      "source": [
        "import torch\n",
        "from transformers import pipeline\n",
        "from transformers import BitsAndBytesConfig\n",
        "from transformers import AutoModelForCausalLM, AutoTokenizer\n",
        "from langchain_community.llms.huggingface_pipeline import HuggingFacePipeline\n",
        "from langchain_community.document_loaders import YoutubeLoader"
      ],
      "metadata": {
        "id": "Q2dGSBStTkJP"
      },
      "execution_count": 2,
      "outputs": []
    },
    {
      "cell_type": "markdown",
      "source": [
        "# Загрузка видео"
      ],
      "metadata": {
        "id": "sPc6ZBNRO6nt"
      }
    },
    {
      "cell_type": "code",
      "execution_count": 3,
      "metadata": {
        "colab": {
          "base_uri": "https://localhost:8080/"
        },
        "id": "Z79s5Mh2Lvf3",
        "outputId": "82538fe9-6c46-4d1b-b34f-c8d97ea8cf11"
      },
      "outputs": [
        {
          "output_type": "execute_result",
          "data": {
            "text/plain": [
              "[Document(page_content='соцсети небезопасны Травля угрозы преследования по данным социологических исследований более 10% пользователей интернета сталкивались с ситуациями представляющими реальную опасность и не менее 40% хотя бы раз страдали от нарушения личных границ в онлайн пространстве соцсети недоступны для всех по данным всемирной организации здравоохранения каждый шестой человек в мире имеет ограничение здоровья чтобы интернет доступным для каждого консорциум всемирной паутины разработал минимальные требования руководство по обеспечению доступности веб-контенту 97% веб-страниц игнорируют эти требования такими сайтами не может пользоваться человек с ограничениями слуха зрения опорнодвигательного аппарата ментальными особенностями социальные сети вызывают зависимость научно доказано что яркие привлекательные интерфейсы мобильных приложений прово в нашем мозге выработку гормона дофамина гормона удовольствия результат настоящая зависимость наш организм постоянно просит листать ленту Он нуждается в этом На физическом уровне поэтому сегодня большинство людей не способны отложить телефон в сторону мпи - другая социальная сеть мпи - это закрытая система это значит что стать пользователю можно только по приглашению потому что безопасность важнее мпи доступен для всех мы не просто придерживаемся рекомендаций из руководства по обеспечению доступности веб-контенту мы ориентированы на тех для кого доступность жизненно необходима наша разработка инклюзивная это значит она для всех эмби про ответственность любые разработки связанные с определёнными рисками мы проводим научные исследования о том как снизить любые риски как грамотно внедрить искусственный интеллект Как сделать интерфейс нашего программного комплекса не только комфортно для использования но и безопасным для наших будущих пользователей Потому что м - это про любовь Меня зовут Виктория фирсанова Я основательница проекта эмпи эмпатия и процессоры для инклюзии Сегодня я расскажу вам о миссии нашего проекта и поделюсь частичкой этого удивительного путешествия мой интерес к инклюзии и созданию безопасной доступной среды связан с личные истории я училась в инклюзивной среде и собственными глазами видела С какими трудностями сталкиваются студенты с особыми потребностями эмпатия вот причина по которой появился наш проект миссия эмпи осознанно использовать технологии искусственного интеллекта чтобы создать безопасное виртуальное пространство для поддержки инклюзивного образования стирать границы укреплять развитие общества в котором У каждого есть возможность быть услышанным где каждый включён каждый оцен по достоинству наша целевая аудитория включает родителей которым нуж поддержка ребят с особыми образовательными потребностями и без них медицинских экспертов преподавателей тьюторов и учебных ассистентов Что отличает мпи от других проектов для инклюзивного образования доступность в основе нашего дизайна мобильное приложение мпи направлено на разнообразную целевую аудиторию А ещё пользователей будет сопровождать Дружелюбный виртуальный ассистент по имени МК поможет вам разобраться в сложных вопросах расскажет о том какие существуют инклюзивные образовательные программы А ещё он будет вашим личным и верным навигатором по мобильному приложению небольшой секрет М - это приложение для умных часов на платформе Android несколько инструментов для психологического и ментального благополучия приложение для часов ответ на мои собственные потребности я хочу поделиться с друзьями тем что разрабатываю для себя самой техники релаксации и дыхательные упражнения будут в вашем кармане о главном эмпи ориентирован на русскоязычную аудиторию в основе нашей разработки осознанное использование генеративного искусственного интеллекта и этичное использование умных алгоритмов Спасибо что присоединились к нам в этом путешествии Только вместе мы сможем построить настоящее инклюзивное общество Добро пожаловать в эмпи', metadata={'source': '-WBPm68eB9E'})]"
            ]
          },
          "metadata": {},
          "execution_count": 3
        }
      ],
      "source": [
        "loader = YoutubeLoader.from_youtube_url(\"https://youtu.be/-WBPm68eB9E\", language='ru')\n",
        "transcript = loader.load()\n",
        "transcript"
      ]
    },
    {
      "cell_type": "markdown",
      "source": [
        "# Загрузка модели"
      ],
      "metadata": {
        "id": "YhGXjFIxO8qM"
      }
    },
    {
      "cell_type": "code",
      "source": [
        "!huggingface-cli login"
      ],
      "metadata": {
        "colab": {
          "base_uri": "https://localhost:8080/"
        },
        "id": "pXYQT-0cPH40",
        "outputId": "f6f53883-3032-4636-d665-8ab0f15112fb"
      },
      "execution_count": 4,
      "outputs": [
        {
          "output_type": "stream",
          "name": "stdout",
          "text": [
            "\n",
            "    _|    _|  _|    _|    _|_|_|    _|_|_|  _|_|_|  _|      _|    _|_|_|      _|_|_|_|    _|_|      _|_|_|  _|_|_|_|\n",
            "    _|    _|  _|    _|  _|        _|          _|    _|_|    _|  _|            _|        _|    _|  _|        _|\n",
            "    _|_|_|_|  _|    _|  _|  _|_|  _|  _|_|    _|    _|  _|  _|  _|  _|_|      _|_|_|    _|_|_|_|  _|        _|_|_|\n",
            "    _|    _|  _|    _|  _|    _|  _|    _|    _|    _|    _|_|  _|    _|      _|        _|    _|  _|        _|\n",
            "    _|    _|    _|_|      _|_|_|    _|_|_|  _|_|_|  _|      _|    _|_|_|      _|        _|    _|    _|_|_|  _|_|_|_|\n",
            "\n",
            "    To login, `huggingface_hub` requires a token generated from https://huggingface.co/settings/tokens .\n",
            "Enter your token (input will not be visible): \n",
            "Add token as git credential? (Y/n) n\n",
            "Token is valid (permission: write).\n",
            "Your token has been saved to /root/.cache/huggingface/token\n",
            "Login successful\n"
          ]
        }
      ]
    },
    {
      "cell_type": "code",
      "source": [
        "model_4bit = AutoModelForCausalLM.from_pretrained(\n",
        "    \"mistralai/Mistral-7B-Instruct-v0.1\",\n",
        "    device_map=\"auto\",\n",
        "    quantization_config=BitsAndBytesConfig(\n",
        "        load_in_4bit=True,\n",
        "        bnb_4bit_compute_dtype=torch.float16,\n",
        "        bnb_4bit_quant_type=\"nf4\",\n",
        "        bnb_4bit_use_double_quant=True\n",
        "        ))\n",
        "\n",
        "tokenizer = AutoTokenizer.from_pretrained(\"mistralai/Mistral-7B-Instruct-v0.1\")\n",
        "\n",
        "pipe = pipeline(\"text-generation\", model=model_4bit, tokenizer=tokenizer, max_new_tokens=100)\n",
        "hf = HuggingFacePipeline(pipeline=pipe)"
      ],
      "metadata": {
        "colab": {
          "base_uri": "https://localhost:8080/",
          "height": 69,
          "referenced_widgets": [
            "014ad5be8b834b25a0d90b1da57f6561",
            "2a5a2b38e10b44748bdb426f35e60a85",
            "bb32866f0f0945628d23fc542d1b9418",
            "a40e91af18ef41fabf0eedeeb3f4d499",
            "a67a6ed5d4354d23bf72019aa0a72e56",
            "f6f0ee25c7724fc7acdfeb83a510e4de",
            "64bc3323523a48f8ac8c6c0637f2d55e",
            "e6a879f56dcd4d6fadf14747af02fa43",
            "e8270b6eb18b475ab9578226d1a2531d",
            "fd39149154714a03bb5d34d5e5f13964",
            "3fd62552a76e468fad7a0c48479d7e09"
          ]
        },
        "collapsed": true,
        "id": "xvLyim_5MK9G",
        "outputId": "8031aadf-5150-4454-c195-a705c18deb74"
      },
      "execution_count": 36,
      "outputs": [
        {
          "output_type": "display_data",
          "data": {
            "text/plain": [
              "Loading checkpoint shards:   0%|          | 0/2 [00:00<?, ?it/s]"
            ],
            "application/vnd.jupyter.widget-view+json": {
              "version_major": 2,
              "version_minor": 0,
              "model_id": "014ad5be8b834b25a0d90b1da57f6561"
            }
          },
          "metadata": {}
        }
      ]
    },
    {
      "cell_type": "code",
      "source": [
        "from langchain.text_splitter import RecursiveCharacterTextSplitter\n",
        "\n",
        "text_splitter = RecursiveCharacterTextSplitter(chunk_size=1024, chunk_overlap=50)\n",
        "texts = text_splitter.split_documents(transcript)"
      ],
      "metadata": {
        "id": "alXXHiOLVRnl"
      },
      "execution_count": 7,
      "outputs": []
    },
    {
      "cell_type": "code",
      "source": [
        "texts"
      ],
      "metadata": {
        "colab": {
          "base_uri": "https://localhost:8080/"
        },
        "id": "-cVnREuyW_H9",
        "outputId": "c353a65c-5e06-41d4-e3b5-ae70b6932a2f"
      },
      "execution_count": 17,
      "outputs": [
        {
          "output_type": "execute_result",
          "data": {
            "text/plain": [
              "[Document(page_content='соцсети небезопасны Травля угрозы преследования по данным социологических исследований более 10% пользователей интернета сталкивались с ситуациями представляющими реальную опасность и не менее 40% хотя бы раз страдали от нарушения личных границ в онлайн пространстве соцсети недоступны для всех по данным всемирной организации здравоохранения каждый шестой человек в мире имеет ограничение здоровья чтобы интернет доступным для каждого консорциум всемирной паутины разработал минимальные требования руководство по обеспечению доступности веб-контенту 97% веб-страниц игнорируют эти требования такими сайтами не может пользоваться человек с ограничениями слуха зрения опорнодвигательного аппарата ментальными особенностями социальные сети вызывают зависимость научно доказано что яркие привлекательные интерфейсы мобильных приложений прово в нашем мозге выработку гормона дофамина гормона удовольствия результат настоящая зависимость наш организм постоянно просит листать ленту Он нуждается в этом На физическом уровне', metadata={'source': '-WBPm68eB9E'}),\n",
              " Document(page_content='ленту Он нуждается в этом На физическом уровне поэтому сегодня большинство людей не способны отложить телефон в сторону мпи - другая социальная сеть мпи - это закрытая система это значит что стать пользователю можно только по приглашению потому что безопасность важнее мпи доступен для всех мы не просто придерживаемся рекомендаций из руководства по обеспечению доступности веб-контенту мы ориентированы на тех для кого доступность жизненно необходима наша разработка инклюзивная это значит она для всех эмби про ответственность любые разработки связанные с определёнными рисками мы проводим научные исследования о том как снизить любые риски как грамотно внедрить искусственный интеллект Как сделать интерфейс нашего программного комплекса не только комфортно для использования но и безопасным для наших будущих пользователей Потому что м - это про любовь Меня зовут Виктория фирсанова Я основательница проекта эмпи эмпатия и процессоры для инклюзии Сегодня я расскажу вам о миссии нашего проекта и поделюсь частичкой', metadata={'source': '-WBPm68eB9E'}),\n",
              " Document(page_content='вам о миссии нашего проекта и поделюсь частичкой этого удивительного путешествия мой интерес к инклюзии и созданию безопасной доступной среды связан с личные истории я училась в инклюзивной среде и собственными глазами видела С какими трудностями сталкиваются студенты с особыми потребностями эмпатия вот причина по которой появился наш проект миссия эмпи осознанно использовать технологии искусственного интеллекта чтобы создать безопасное виртуальное пространство для поддержки инклюзивного образования стирать границы укреплять развитие общества в котором У каждого есть возможность быть услышанным где каждый включён каждый оцен по достоинству наша целевая аудитория включает родителей которым нуж поддержка ребят с особыми образовательными потребностями и без них медицинских экспертов преподавателей тьюторов и учебных ассистентов Что отличает мпи от других проектов для инклюзивного образования доступность в основе нашего дизайна мобильное приложение мпи направлено на разнообразную целевую аудиторию А ещё', metadata={'source': '-WBPm68eB9E'}),\n",
              " Document(page_content='на разнообразную целевую аудиторию А ещё пользователей будет сопровождать Дружелюбный виртуальный ассистент по имени МК поможет вам разобраться в сложных вопросах расскажет о том какие существуют инклюзивные образовательные программы А ещё он будет вашим личным и верным навигатором по мобильному приложению небольшой секрет М - это приложение для умных часов на платформе Android несколько инструментов для психологического и ментального благополучия приложение для часов ответ на мои собственные потребности я хочу поделиться с друзьями тем что разрабатываю для себя самой техники релаксации и дыхательные упражнения будут в вашем кармане о главном эмпи ориентирован на русскоязычную аудиторию в основе нашей разработки осознанное использование генеративного искусственного интеллекта и этичное использование умных алгоритмов Спасибо что присоединились к нам в этом путешествии Только вместе мы сможем построить настоящее инклюзивное общество Добро пожаловать в эмпи', metadata={'source': '-WBPm68eB9E'})]"
            ]
          },
          "metadata": {},
          "execution_count": 17
        }
      ]
    },
    {
      "cell_type": "code",
      "source": [
        "from langchain.chains.summarize import load_summarize_chain\n",
        "\n",
        "chain = load_summarize_chain(llm=hf, chain_type='stuff', verbose=True)\n",
        "print(chain.llm_chain.prompt.template)"
      ],
      "metadata": {
        "colab": {
          "base_uri": "https://localhost:8080/"
        },
        "id": "VF_rtvi-Rjge",
        "outputId": "ad2f7867-256c-4abc-91e5-e2deb54fa63c"
      },
      "execution_count": 52,
      "outputs": [
        {
          "output_type": "stream",
          "name": "stdout",
          "text": [
            "Write a concise summary of the following:\n",
            "\n",
            "\n",
            "\"{text}\"\n",
            "\n",
            "\n",
            "CONCISE SUMMARY:\n"
          ]
        }
      ]
    },
    {
      "cell_type": "code",
      "source": [
        "summary = chain.run(input_documents=texts)"
      ],
      "metadata": {
        "colab": {
          "base_uri": "https://localhost:8080/"
        },
        "id": "CR36Mrm4VZIS",
        "outputId": "eff7e87b-6585-4bc8-e91d-2542a423c633"
      },
      "execution_count": 39,
      "outputs": [
        {
          "output_type": "stream",
          "name": "stderr",
          "text": [
            "Setting `pad_token_id` to `eos_token_id`:2 for open-end generation.\n"
          ]
        },
        {
          "output_type": "stream",
          "name": "stdout",
          "text": [
            "\n",
            "\n",
            "\u001b[1m> Entering new StuffDocumentsChain chain...\u001b[0m\n",
            "\n",
            "\n",
            "\u001b[1m> Entering new LLMChain chain...\u001b[0m\n",
            "Prompt after formatting:\n",
            "\u001b[32;1m\u001b[1;3mWrite a concise summary of the following:\n",
            "\n",
            "\n",
            "\"соцсети небезопасны Травля угрозы преследования по данным социологических исследований более 10% пользователей интернета сталкивались с ситуациями представляющими реальную опасность и не менее 40% хотя бы раз страдали от нарушения личных границ в онлайн пространстве соцсети недоступны для всех по данным всемирной организации здравоохранения каждый шестой человек в мире имеет ограничение здоровья чтобы интернет доступным для каждого консорциум всемирной паутины разработал минимальные требования руководство по обеспечению доступности веб-контенту 97% веб-страниц игнорируют эти требования такими сайтами не может пользоваться человек с ограничениями слуха зрения опорнодвигательного аппарата ментальными особенностями социальные сети вызывают зависимость научно доказано что яркие привлекательные интерфейсы мобильных приложений прово в нашем мозге выработку гормона дофамина гормона удовольствия результат настоящая зависимость наш организм постоянно просит листать ленту Он нуждается в этом На физическом уровне\n",
            "\n",
            "ленту Он нуждается в этом На физическом уровне поэтому сегодня большинство людей не способны отложить телефон в сторону мпи - другая социальная сеть мпи - это закрытая система это значит что стать пользователю можно только по приглашению потому что безопасность важнее мпи доступен для всех мы не просто придерживаемся рекомендаций из руководства по обеспечению доступности веб-контенту мы ориентированы на тех для кого доступность жизненно необходима наша разработка инклюзивная это значит она для всех эмби про ответственность любые разработки связанные с определёнными рисками мы проводим научные исследования о том как снизить любые риски как грамотно внедрить искусственный интеллект Как сделать интерфейс нашего программного комплекса не только комфортно для использования но и безопасным для наших будущих пользователей Потому что м - это про любовь Меня зовут Виктория фирсанова Я основательница проекта эмпи эмпатия и процессоры для инклюзии Сегодня я расскажу вам о миссии нашего проекта и поделюсь частичкой\n",
            "\n",
            "вам о миссии нашего проекта и поделюсь частичкой этого удивительного путешествия мой интерес к инклюзии и созданию безопасной доступной среды связан с личные истории я училась в инклюзивной среде и собственными глазами видела С какими трудностями сталкиваются студенты с особыми потребностями эмпатия вот причина по которой появился наш проект миссия эмпи осознанно использовать технологии искусственного интеллекта чтобы создать безопасное виртуальное пространство для поддержки инклюзивного образования стирать границы укреплять развитие общества в котором У каждого есть возможность быть услышанным где каждый включён каждый оцен по достоинству наша целевая аудитория включает родителей которым нуж поддержка ребят с особыми образовательными потребностями и без них медицинских экспертов преподавателей тьюторов и учебных ассистентов Что отличает мпи от других проектов для инклюзивного образования доступность в основе нашего дизайна мобильное приложение мпи направлено на разнообразную целевую аудиторию А ещё\n",
            "\n",
            "на разнообразную целевую аудиторию А ещё пользователей будет сопровождать Дружелюбный виртуальный ассистент по имени МК поможет вам разобраться в сложных вопросах расскажет о том какие существуют инклюзивные образовательные программы А ещё он будет вашим личным и верным навигатором по мобильному приложению небольшой секрет М - это приложение для умных часов на платформе Android несколько инструментов для психологического и ментального благополучия приложение для часов ответ на мои собственные потребности я хочу поделиться с друзьями тем что разрабатываю для себя самой техники релаксации и дыхательные упражнения будут в вашем кармане о главном эмпи ориентирован на русскоязычную аудиторию в основе нашей разработки осознанное использование генеративного искусственного интеллекта и этичное использование умных алгоритмов Спасибо что присоединились к нам в этом путешествии Только вместе мы сможем построить настоящее инклюзивное общество Добро пожаловать в эмпи\"\n",
            "\n",
            "\n",
            "CONCISE SUMMARY:\u001b[0m\n",
            "\n",
            "\u001b[1m> Finished chain.\u001b[0m\n",
            "\n",
            "\u001b[1m> Finished chain.\u001b[0m\n"
          ]
        }
      ]
    },
    {
      "cell_type": "code",
      "source": [
        "summary[-500:]"
      ],
      "metadata": {
        "colab": {
          "base_uri": "https://localhost:8080/",
          "height": 89
        },
        "id": "2HTpTLeQV27M",
        "outputId": "0a5898bf-0b1f-4614-8cfa-bfd7ec5fff9c"
      },
      "execution_count": 42,
      "outputs": [
        {
          "output_type": "execute_result",
          "data": {
            "text/plain": [
              "':\\n\\nThe text discusses the dangers of social media and the addiction it can cause. It also talks about the importance of accessibility in web content and the need for guidelines to ensure it. The text describes a project called \"МПИ\" (MPI) which is a closed system that requires an invitation to join. The project aims to create a safe and accessible virtual space for inclusive education. The project uses artificial intelligence to create a friendly virtual assistant named MK to help users navigate'"
            ],
            "application/vnd.google.colaboratory.intrinsic+json": {
              "type": "string"
            }
          },
          "metadata": {},
          "execution_count": 42
        }
      ]
    },
    {
      "cell_type": "code",
      "source": [
        "chain = load_summarize_chain(llm=hf, chain_type='map_reduce', verbose=True)\n",
        "summary = chain.run(input_documents=texts)"
      ],
      "metadata": {
        "colab": {
          "base_uri": "https://localhost:8080/",
          "height": 1000
        },
        "id": "bR6loXWgbvab",
        "outputId": "09eb0bfa-0c19-48fe-c82f-56772d89f8b1"
      },
      "execution_count": 43,
      "outputs": [
        {
          "output_type": "stream",
          "name": "stderr",
          "text": [
            "Setting `pad_token_id` to `eos_token_id`:2 for open-end generation.\n"
          ]
        },
        {
          "output_type": "stream",
          "name": "stdout",
          "text": [
            "\n",
            "\n",
            "\u001b[1m> Entering new MapReduceDocumentsChain chain...\u001b[0m\n",
            "\n",
            "\n",
            "\u001b[1m> Entering new LLMChain chain...\u001b[0m\n",
            "Prompt after formatting:\n",
            "\u001b[32;1m\u001b[1;3mWrite a concise summary of the following:\n",
            "\n",
            "\n",
            "\"соцсети небезопасны Травля угрозы преследования по данным социологических исследований более 10% пользователей интернета сталкивались с ситуациями представляющими реальную опасность и не менее 40% хотя бы раз страдали от нарушения личных границ в онлайн пространстве соцсети недоступны для всех по данным всемирной организации здравоохранения каждый шестой человек в мире имеет ограничение здоровья чтобы интернет доступным для каждого консорциум всемирной паутины разработал минимальные требования руководство по обеспечению доступности веб-контенту 97% веб-страниц игнорируют эти требования такими сайтами не может пользоваться человек с ограничениями слуха зрения опорнодвигательного аппарата ментальными особенностями социальные сети вызывают зависимость научно доказано что яркие привлекательные интерфейсы мобильных приложений прово в нашем мозге выработку гормона дофамина гормона удовольствия результат настоящая зависимость наш организм постоянно просит листать ленту Он нуждается в этом На физическом уровне\"\n",
            "\n",
            "\n",
            "CONCISE SUMMARY:\u001b[0m\n",
            "Prompt after formatting:\n",
            "\u001b[32;1m\u001b[1;3mWrite a concise summary of the following:\n",
            "\n",
            "\n",
            "\"ленту Он нуждается в этом На физическом уровне поэтому сегодня большинство людей не способны отложить телефон в сторону мпи - другая социальная сеть мпи - это закрытая система это значит что стать пользователю можно только по приглашению потому что безопасность важнее мпи доступен для всех мы не просто придерживаемся рекомендаций из руководства по обеспечению доступности веб-контенту мы ориентированы на тех для кого доступность жизненно необходима наша разработка инклюзивная это значит она для всех эмби про ответственность любые разработки связанные с определёнными рисками мы проводим научные исследования о том как снизить любые риски как грамотно внедрить искусственный интеллект Как сделать интерфейс нашего программного комплекса не только комфортно для использования но и безопасным для наших будущих пользователей Потому что м - это про любовь Меня зовут Виктория фирсанова Я основательница проекта эмпи эмпатия и процессоры для инклюзии Сегодня я расскажу вам о миссии нашего проекта и поделюсь частичкой\"\n",
            "\n",
            "\n",
            "CONCISE SUMMARY:\u001b[0m\n",
            "Prompt after formatting:\n",
            "\u001b[32;1m\u001b[1;3mWrite a concise summary of the following:\n",
            "\n",
            "\n",
            "\"вам о миссии нашего проекта и поделюсь частичкой этого удивительного путешествия мой интерес к инклюзии и созданию безопасной доступной среды связан с личные истории я училась в инклюзивной среде и собственными глазами видела С какими трудностями сталкиваются студенты с особыми потребностями эмпатия вот причина по которой появился наш проект миссия эмпи осознанно использовать технологии искусственного интеллекта чтобы создать безопасное виртуальное пространство для поддержки инклюзивного образования стирать границы укреплять развитие общества в котором У каждого есть возможность быть услышанным где каждый включён каждый оцен по достоинству наша целевая аудитория включает родителей которым нуж поддержка ребят с особыми образовательными потребностями и без них медицинских экспертов преподавателей тьюторов и учебных ассистентов Что отличает мпи от других проектов для инклюзивного образования доступность в основе нашего дизайна мобильное приложение мпи направлено на разнообразную целевую аудиторию А ещё\"\n",
            "\n",
            "\n",
            "CONCISE SUMMARY:\u001b[0m\n",
            "Prompt after formatting:\n",
            "\u001b[32;1m\u001b[1;3mWrite a concise summary of the following:\n",
            "\n",
            "\n",
            "\"на разнообразную целевую аудиторию А ещё пользователей будет сопровождать Дружелюбный виртуальный ассистент по имени МК поможет вам разобраться в сложных вопросах расскажет о том какие существуют инклюзивные образовательные программы А ещё он будет вашим личным и верным навигатором по мобильному приложению небольшой секрет М - это приложение для умных часов на платформе Android несколько инструментов для психологического и ментального благополучия приложение для часов ответ на мои собственные потребности я хочу поделиться с друзьями тем что разрабатываю для себя самой техники релаксации и дыхательные упражнения будут в вашем кармане о главном эмпи ориентирован на русскоязычную аудиторию в основе нашей разработки осознанное использование генеративного искусственного интеллекта и этичное использование умных алгоритмов Спасибо что присоединились к нам в этом путешествии Только вместе мы сможем построить настоящее инклюзивное общество Добро пожаловать в эмпи\"\n",
            "\n",
            "\n",
            "CONCISE SUMMARY:\u001b[0m\n"
          ]
        },
        {
          "output_type": "stream",
          "name": "stderr",
          "text": [
            "Setting `pad_token_id` to `eos_token_id`:2 for open-end generation.\n",
            "Setting `pad_token_id` to `eos_token_id`:2 for open-end generation.\n",
            "Setting `pad_token_id` to `eos_token_id`:2 for open-end generation.\n",
            "Setting `pad_token_id` to `eos_token_id`:2 for open-end generation.\n"
          ]
        },
        {
          "output_type": "stream",
          "name": "stdout",
          "text": [
            "\n",
            "\u001b[1m> Finished chain.\u001b[0m\n",
            "\n",
            "\n",
            "\u001b[1m> Entering new StuffDocumentsChain chain...\u001b[0m\n",
            "\n",
            "\n",
            "\u001b[1m> Entering new LLMChain chain...\u001b[0m\n",
            "Prompt after formatting:\n",
            "\u001b[32;1m\u001b[1;3mWrite a concise summary of the following:\n",
            "\n",
            "\n",
            "\"Write a concise summary of the following:\n",
            "\n",
            "\n",
            "\"соцсети небезопасны Травля угрозы преследования по данным социологических исследований более 10% пользователей интернета сталкивались с ситуациями представляющими реальную опасность и не менее 40% хотя бы раз страдали от нарушения личных границ в онлайн пространстве соцсети недоступны для всех по данным всемирной организации здравоохранения каждый шестой человек в мире имеет ограничение здоровья чтобы интернет доступным для каждого консорциум всемирной паутины разработал минимальные требования руководство по обеспечению доступности веб-контенту 97% веб-страниц игнорируют эти требования такими сайтами не может пользоваться человек с ограничениями слуха зрения опорнодвигательного аппарата ментальными особенностями социальные сети вызывают зависимость научно доказано что яркие привлекательные интерфейсы мобильных приложений прово в нашем мозге выработку гормона дофамина гормона удовольствия результат настоящая зависимость наш организм постоянно просит листать ленту Он нуждается в этом На физическом уровне\"\n",
            "\n",
            "\n",
            "CONCISE SUMMARY:\n",
            "\n",
            "Social media is not safe according to sociological research, more than 10% of internet users have encountered situations that posed a real threat, and at least 40% have experienced violations of personal boundaries in online spaces. Social media is not accessible to everyone due to various disabilities, and only 3% of websites meet the minimum accessibility requirements set by the World Health Organization. Scientific research has shown that social media addiction is caused by the release of dop\n",
            "\n",
            "Write a concise summary of the following:\n",
            "\n",
            "\n",
            "\"ленту Он нуждается в этом На физическом уровне поэтому сегодня большинство людей не способны отложить телефон в сторону мпи - другая социальная сеть мпи - это закрытая система это значит что стать пользователю можно только по приглашению потому что безопасность важнее мпи доступен для всех мы не просто придерживаемся рекомендаций из руководства по обеспечению доступности веб-контенту мы ориентированы на тех для кого доступность жизненно необходима наша разработка инклюзивная это значит она для всех эмби про ответственность любые разработки связанные с определёнными рисками мы проводим научные исследования о том как снизить любые риски как грамотно внедрить искусственный интеллект Как сделать интерфейс нашего программного комплекса не только комфортно для использования но и безопасным для наших будущих пользователей Потому что м - это про любовь Меня зовут Виктория фирсанова Я основательница проекта эмпи эмпатия и процессоры для инклюзии Сегодня я расскажу вам о миссии нашего проекта и поделюсь частичкой\"\n",
            "\n",
            "\n",
            "CONCISE SUMMARY:\n",
            "\n",
            "The speaker, Victoria Firsanova, is the founder of a project called \"Эмпатия и процессоры для инклюзии\" (Empathy and Processors for Inclusion). The project aims to create an inclusive and accessible platform for all users, with a focus on those who require it for their daily lives. The speaker emphasizes the importance of accessibility and the need for scientific research to ensure that the platform is safe and secure for all users. The\"\n",
            "\n",
            "\n",
            "CONCISE SUMMARY:\u001b[0m\n"
          ]
        },
        {
          "output_type": "stream",
          "name": "stderr",
          "text": [
            "Setting `pad_token_id` to `eos_token_id`:2 for open-end generation.\n"
          ]
        },
        {
          "output_type": "stream",
          "name": "stdout",
          "text": [
            "\n",
            "\u001b[1m> Finished chain.\u001b[0m\n",
            "\n",
            "\u001b[1m> Finished chain.\u001b[0m\n",
            "\n",
            "\n",
            "\u001b[1m> Entering new StuffDocumentsChain chain...\u001b[0m\n",
            "\n",
            "\n",
            "\u001b[1m> Entering new LLMChain chain...\u001b[0m\n",
            "Prompt after formatting:\n",
            "\u001b[32;1m\u001b[1;3mWrite a concise summary of the following:\n",
            "\n",
            "\n",
            "\"Write a concise summary of the following:\n",
            "\n",
            "\n",
            "\"вам о миссии нашего проекта и поделюсь частичкой этого удивительного путешествия мой интерес к инклюзии и созданию безопасной доступной среды связан с личные истории я училась в инклюзивной среде и собственными глазами видела С какими трудностями сталкиваются студенты с особыми потребностями эмпатия вот причина по которой появился наш проект миссия эмпи осознанно использовать технологии искусственного интеллекта чтобы создать безопасное виртуальное пространство для поддержки инклюзивного образования стирать границы укреплять развитие общества в котором У каждого есть возможность быть услышанным где каждый включён каждый оцен по достоинству наша целевая аудитория включает родителей которым нуж поддержка ребят с особыми образовательными потребностями и без них медицинских экспертов преподавателей тьюторов и учебных ассистентов Что отличает мпи от других проектов для инклюзивного образования доступность в основе нашего дизайна мобильное приложение мпи направлено на разнообразную целевую аудиторию А ещё\"\n",
            "\n",
            "\n",
            "CONCISE SUMMARY:\n",
            "\n",
            "The project's mission is to create a safe and accessible virtual space for inclusive education using artificial intelligence technology. The project is driven by personal experiences and a desire to address the challenges faced by students with special needs. The target audience includes parents, medical experts, teachers, tutors, and assistants. The project's unique feature is its focus on accessibility, with a mobile app designed to cater to a diverse range of users.\n",
            "\n",
            "Write a concise summary of the following:\n",
            "\n",
            "\n",
            "\"на разнообразную целевую аудиторию А ещё пользователей будет сопровождать Дружелюбный виртуальный ассистент по имени МК поможет вам разобраться в сложных вопросах расскажет о том какие существуют инклюзивные образовательные программы А ещё он будет вашим личным и верным навигатором по мобильному приложению небольшой секрет М - это приложение для умных часов на платформе Android несколько инструментов для психологического и ментального благополучия приложение для часов ответ на мои собственные потребности я хочу поделиться с друзьями тем что разрабатываю для себя самой техники релаксации и дыхательные упражнения будут в вашем кармане о главном эмпи ориентирован на русскоязычную аудиторию в основе нашей разработки осознанное использование генеративного искусственного интеллекта и этичное использование умных алгоритмов Спасибо что присоединились к нам в этом путешествии Только вместе мы сможем построить настоящее инклюзивное общество Добро пожаловать в эмпи\"\n",
            "\n",
            "\n",
            "CONCISE SUMMARY:\n",
            "\n",
            "The Friendly Virtual Assistant named MK will help users understand complex questions and provide information on inclusive educational programs. MK will also serve as a personal and loyal guide through a mobile application called M, which includes tools for psychological and mental well-being. The application is designed for smartwatches on the Android platform. The main focus of the development is on the Russian-speaking audience. The use of generative artificial intelligence and ethical use of smart algorithms are emphasized in the\"\n",
            "\n",
            "\n",
            "CONCISE SUMMARY:\u001b[0m\n"
          ]
        },
        {
          "output_type": "stream",
          "name": "stderr",
          "text": [
            "Setting `pad_token_id` to `eos_token_id`:2 for open-end generation.\n"
          ]
        },
        {
          "output_type": "stream",
          "name": "stdout",
          "text": [
            "\n",
            "\u001b[1m> Finished chain.\u001b[0m\n",
            "\n",
            "\u001b[1m> Finished chain.\u001b[0m\n",
            "\n",
            "\n",
            "\u001b[1m> Entering new StuffDocumentsChain chain...\u001b[0m\n",
            "\n",
            "\n",
            "\u001b[1m> Entering new LLMChain chain...\u001b[0m\n",
            "Prompt after formatting:\n",
            "\u001b[32;1m\u001b[1;3mWrite a concise summary of the following:\n",
            "\n",
            "\n",
            "\"Write a concise summary of the following:\n",
            "\n",
            "\n",
            "\"Write a concise summary of the following:\n",
            "\n",
            "\n",
            "\"соцсети небезопасны Травля угрозы преследования по данным социологических исследований более 10% пользователей интернета сталкивались с ситуациями представляющими реальную опасность и не менее 40% хотя бы раз страдали от нарушения личных границ в онлайн пространстве соцсети недоступны для всех по данным всемирной организации здравоохранения каждый шестой человек в мире имеет ограничение здоровья чтобы интернет доступным для каждого консорциум всемирной паутины разработал минимальные требования руководство по обеспечению доступности веб-контенту 97% веб-страниц игнорируют эти требования такими сайтами не может пользоваться человек с ограничениями слуха зрения опорнодвигательного аппарата ментальными особенностями социальные сети вызывают зависимость научно доказано что яркие привлекательные интерфейсы мобильных приложений прово в нашем мозге выработку гормона дофамина гормона удовольствия результат настоящая зависимость наш организм постоянно просит листать ленту Он нуждается в этом На физическом уровне\"\n",
            "\n",
            "\n",
            "CONCISE SUMMARY:\n",
            "\n",
            "Social media is not safe according to sociological research, more than 10% of internet users have encountered situations that posed a real threat, and at least 40% have experienced violations of personal boundaries in online spaces. Social media is not accessible to everyone due to various disabilities, and only 3% of websites meet the minimum accessibility requirements set by the World Health Organization. Scientific research has shown that social media addiction is caused by the release of dop\n",
            "\n",
            "Write a concise summary of the following:\n",
            "\n",
            "\n",
            "\"ленту Он нуждается в этом На физическом уровне поэтому сегодня большинство людей не способны отложить телефон в сторону мпи - другая социальная сеть мпи - это закрытая система это значит что стать пользователю можно только по приглашению потому что безопасность важнее мпи доступен для всех мы не просто придерживаемся рекомендаций из руководства по обеспечению доступности веб-контенту мы ориентированы на тех для кого доступность жизненно необходима наша разработка инклюзивная это значит она для всех эмби про ответственность любые разработки связанные с определёнными рисками мы проводим научные исследования о том как снизить любые риски как грамотно внедрить искусственный интеллект Как сделать интерфейс нашего программного комплекса не только комфортно для использования но и безопасным для наших будущих пользователей Потому что м - это про любовь Меня зовут Виктория фирсанова Я основательница проекта эмпи эмпатия и процессоры для инклюзии Сегодня я расскажу вам о миссии нашего проекта и поделюсь частичкой\"\n",
            "\n",
            "\n",
            "CONCISE SUMMARY:\n",
            "\n",
            "The speaker, Victoria Firsanova, is the founder of a project called \"Эмпатия и процессоры для инклюзии\" (Empathy and Processors for Inclusion). The project aims to create an inclusive and accessible platform for all users, with a focus on those who require it for their daily lives. The speaker emphasizes the importance of accessibility and the need for scientific research to ensure that the platform is safe and secure for all users. The\"\n",
            "\n",
            "\n",
            "CONCISE SUMMARY:\n",
            "\n",
            "The speaker, Victoria Firsanova, is the founder of a project called \"Эмпатия и процессоры для инклюзии\" (Empathy and Processors for Inclusion). The project aims to create an inclusive and accessible platform for all users, with a focus on those who require it for their daily lives. The speaker emphasizes the importance of accessibility and the need for scientific research to ensure that the platform is safe and secure for all users. The\"\n",
            "\n",
            "\n",
            "CONCISE SUMMARY:\u001b[0m\n"
          ]
        },
        {
          "output_type": "stream",
          "name": "stderr",
          "text": [
            "Setting `pad_token_id` to `eos_token_id`:2 for open-end generation.\n"
          ]
        },
        {
          "output_type": "stream",
          "name": "stdout",
          "text": [
            "\n",
            "\u001b[1m> Finished chain.\u001b[0m\n",
            "\n",
            "\u001b[1m> Finished chain.\u001b[0m\n",
            "\n",
            "\n",
            "\u001b[1m> Entering new StuffDocumentsChain chain...\u001b[0m\n",
            "\n",
            "\n",
            "\u001b[1m> Entering new LLMChain chain...\u001b[0m\n",
            "Prompt after formatting:\n",
            "\u001b[32;1m\u001b[1;3mWrite a concise summary of the following:\n",
            "\n",
            "\n",
            "\"Write a concise summary of the following:\n",
            "\n",
            "\n",
            "\"Write a concise summary of the following:\n",
            "\n",
            "\n",
            "\"вам о миссии нашего проекта и поделюсь частичкой этого удивительного путешествия мой интерес к инклюзии и созданию безопасной доступной среды связан с личные истории я училась в инклюзивной среде и собственными глазами видела С какими трудностями сталкиваются студенты с особыми потребностями эмпатия вот причина по которой появился наш проект миссия эмпи осознанно использовать технологии искусственного интеллекта чтобы создать безопасное виртуальное пространство для поддержки инклюзивного образования стирать границы укреплять развитие общества в котором У каждого есть возможность быть услышанным где каждый включён каждый оцен по достоинству наша целевая аудитория включает родителей которым нуж поддержка ребят с особыми образовательными потребностями и без них медицинских экспертов преподавателей тьюторов и учебных ассистентов Что отличает мпи от других проектов для инклюзивного образования доступность в основе нашего дизайна мобильное приложение мпи направлено на разнообразную целевую аудиторию А ещё\"\n",
            "\n",
            "\n",
            "CONCISE SUMMARY:\n",
            "\n",
            "The project's mission is to create a safe and accessible virtual space for inclusive education using artificial intelligence technology. The project is driven by personal experiences and a desire to address the challenges faced by students with special needs. The target audience includes parents, medical experts, teachers, tutors, and assistants. The project's unique feature is its focus on accessibility, with a mobile app designed to cater to a diverse range of users.\n",
            "\n",
            "Write a concise summary of the following:\n",
            "\n",
            "\n",
            "\"на разнообразную целевую аудиторию А ещё пользователей будет сопровождать Дружелюбный виртуальный ассистент по имени МК поможет вам разобраться в сложных вопросах расскажет о том какие существуют инклюзивные образовательные программы А ещё он будет вашим личным и верным навигатором по мобильному приложению небольшой секрет М - это приложение для умных часов на платформе Android несколько инструментов для психологического и ментального благополучия приложение для часов ответ на мои собственные потребности я хочу поделиться с друзьями тем что разрабатываю для себя самой техники релаксации и дыхательные упражнения будут в вашем кармане о главном эмпи ориентирован на русскоязычную аудиторию в основе нашей разработки осознанное использование генеративного искусственного интеллекта и этичное использование умных алгоритмов Спасибо что присоединились к нам в этом путешествии Только вместе мы сможем построить настоящее инклюзивное общество Добро пожаловать в эмпи\"\n",
            "\n",
            "\n",
            "CONCISE SUMMARY:\n",
            "\n",
            "The Friendly Virtual Assistant named MK will help users understand complex questions and provide information on inclusive educational programs. MK will also serve as a personal and loyal guide through a mobile application called M, which includes tools for psychological and mental well-being. The application is designed for smartwatches on the Android platform. The main focus of the development is on the Russian-speaking audience. The use of generative artificial intelligence and ethical use of smart algorithms are emphasized in the\"\n",
            "\n",
            "\n",
            "CONCISE SUMMARY:\n",
            "\n",
            "The Friendly Virtual Assistant named MK will help users understand complex questions and provide information on inclusive educational programs. MK will also serve as a personal and loyal guide through a mobile application called M, which includes tools for psychological and mental well-being. The application is designed for smartwatches on the Android platform. The main focus of the development is on the Russian-speaking audience. The use of generative artificial intelligence and ethical use of smart algorithms are emphasized in the\"\n",
            "\n",
            "\n",
            "CONCISE SUMMARY:\u001b[0m\n"
          ]
        },
        {
          "output_type": "stream",
          "name": "stderr",
          "text": [
            "Setting `pad_token_id` to `eos_token_id`:2 for open-end generation.\n"
          ]
        },
        {
          "output_type": "stream",
          "name": "stdout",
          "text": [
            "\n",
            "\u001b[1m> Finished chain.\u001b[0m\n",
            "\n",
            "\u001b[1m> Finished chain.\u001b[0m\n",
            "\n",
            "\n",
            "\u001b[1m> Entering new StuffDocumentsChain chain...\u001b[0m\n",
            "\n",
            "\n",
            "\u001b[1m> Entering new LLMChain chain...\u001b[0m\n",
            "Prompt after formatting:\n",
            "\u001b[32;1m\u001b[1;3mWrite a concise summary of the following:\n",
            "\n",
            "\n",
            "\"Write a concise summary of the following:\n",
            "\n",
            "\n",
            "\"Write a concise summary of the following:\n",
            "\n",
            "\n",
            "\"Write a concise summary of the following:\n",
            "\n",
            "\n",
            "\"соцсети небезопасны Травля угрозы преследования по данным социологических исследований более 10% пользователей интернета сталкивались с ситуациями представляющими реальную опасность и не менее 40% хотя бы раз страдали от нарушения личных границ в онлайн пространстве соцсети недоступны для всех по данным всемирной организации здравоохранения каждый шестой человек в мире имеет ограничение здоровья чтобы интернет доступным для каждого консорциум всемирной паутины разработал минимальные требования руководство по обеспечению доступности веб-контенту 97% веб-страниц игнорируют эти требования такими сайтами не может пользоваться человек с ограничениями слуха зрения опорнодвигательного аппарата ментальными особенностями социальные сети вызывают зависимость научно доказано что яркие привлекательные интерфейсы мобильных приложений прово в нашем мозге выработку гормона дофамина гормона удовольствия результат настоящая зависимость наш организм постоянно просит листать ленту Он нуждается в этом На физическом уровне\"\n",
            "\n",
            "\n",
            "CONCISE SUMMARY:\n",
            "\n",
            "Social media is not safe according to sociological research, more than 10% of internet users have encountered situations that posed a real threat, and at least 40% have experienced violations of personal boundaries in online spaces. Social media is not accessible to everyone due to various disabilities, and only 3% of websites meet the minimum accessibility requirements set by the World Health Organization. Scientific research has shown that social media addiction is caused by the release of dop\n",
            "\n",
            "Write a concise summary of the following:\n",
            "\n",
            "\n",
            "\"ленту Он нуждается в этом На физическом уровне поэтому сегодня большинство людей не способны отложить телефон в сторону мпи - другая социальная сеть мпи - это закрытая система это значит что стать пользователю можно только по приглашению потому что безопасность важнее мпи доступен для всех мы не просто придерживаемся рекомендаций из руководства по обеспечению доступности веб-контенту мы ориентированы на тех для кого доступность жизненно необходима наша разработка инклюзивная это значит она для всех эмби про ответственность любые разработки связанные с определёнными рисками мы проводим научные исследования о том как снизить любые риски как грамотно внедрить искусственный интеллект Как сделать интерфейс нашего программного комплекса не только комфортно для использования но и безопасным для наших будущих пользователей Потому что м - это про любовь Меня зовут Виктория фирсанова Я основательница проекта эмпи эмпатия и процессоры для инклюзии Сегодня я расскажу вам о миссии нашего проекта и поделюсь частичкой\"\n",
            "\n",
            "\n",
            "CONCISE SUMMARY:\n",
            "\n",
            "The speaker, Victoria Firsanova, is the founder of a project called \"Эмпатия и процессоры для инклюзии\" (Empathy and Processors for Inclusion). The project aims to create an inclusive and accessible platform for all users, with a focus on those who require it for their daily lives. The speaker emphasizes the importance of accessibility and the need for scientific research to ensure that the platform is safe and secure for all users. The\"\n",
            "\n",
            "\n",
            "CONCISE SUMMARY:\n",
            "\n",
            "The speaker, Victoria Firsanova, is the founder of a project called \"Эмпатия и процессоры для инклюзии\" (Empathy and Processors for Inclusion). The project aims to create an inclusive and accessible platform for all users, with a focus on those who require it for their daily lives. The speaker emphasizes the importance of accessibility and the need for scientific research to ensure that the platform is safe and secure for all users. The\"\n",
            "\n",
            "\n",
            "CONCISE SUMMARY:\n",
            "\n",
            "The speaker, Victoria Firsanova, is the founder of a project called \"Эмпатия и процессоры для инклюзии\" (Empathy and Processors for Inclusion). The project aims to create an inclusive and accessible platform for all users, with a focus on those who require it for their daily lives. The speaker emphasizes the importance of accessibility and the need for scientific research to ensure that the platform is safe and secure for all users. The\"\n",
            "\n",
            "\n",
            "CONCISE SUMMARY:\u001b[0m\n"
          ]
        },
        {
          "output_type": "stream",
          "name": "stderr",
          "text": [
            "Setting `pad_token_id` to `eos_token_id`:2 for open-end generation.\n"
          ]
        },
        {
          "output_type": "stream",
          "name": "stdout",
          "text": [
            "\n",
            "\u001b[1m> Finished chain.\u001b[0m\n",
            "\n",
            "\u001b[1m> Finished chain.\u001b[0m\n",
            "\n",
            "\n",
            "\u001b[1m> Entering new StuffDocumentsChain chain...\u001b[0m\n",
            "\n",
            "\n",
            "\u001b[1m> Entering new LLMChain chain...\u001b[0m\n",
            "Prompt after formatting:\n",
            "\u001b[32;1m\u001b[1;3mWrite a concise summary of the following:\n",
            "\n",
            "\n",
            "\"Write a concise summary of the following:\n",
            "\n",
            "\n",
            "\"Write a concise summary of the following:\n",
            "\n",
            "\n",
            "\"Write a concise summary of the following:\n",
            "\n",
            "\n",
            "\"вам о миссии нашего проекта и поделюсь частичкой этого удивительного путешествия мой интерес к инклюзии и созданию безопасной доступной среды связан с личные истории я училась в инклюзивной среде и собственными глазами видела С какими трудностями сталкиваются студенты с особыми потребностями эмпатия вот причина по которой появился наш проект миссия эмпи осознанно использовать технологии искусственного интеллекта чтобы создать безопасное виртуальное пространство для поддержки инклюзивного образования стирать границы укреплять развитие общества в котором У каждого есть возможность быть услышанным где каждый включён каждый оцен по достоинству наша целевая аудитория включает родителей которым нуж поддержка ребят с особыми образовательными потребностями и без них медицинских экспертов преподавателей тьюторов и учебных ассистентов Что отличает мпи от других проектов для инклюзивного образования доступность в основе нашего дизайна мобильное приложение мпи направлено на разнообразную целевую аудиторию А ещё\"\n",
            "\n",
            "\n",
            "CONCISE SUMMARY:\n",
            "\n",
            "The project's mission is to create a safe and accessible virtual space for inclusive education using artificial intelligence technology. The project is driven by personal experiences and a desire to address the challenges faced by students with special needs. The target audience includes parents, medical experts, teachers, tutors, and assistants. The project's unique feature is its focus on accessibility, with a mobile app designed to cater to a diverse range of users.\n",
            "\n",
            "Write a concise summary of the following:\n",
            "\n",
            "\n",
            "\"на разнообразную целевую аудиторию А ещё пользователей будет сопровождать Дружелюбный виртуальный ассистент по имени МК поможет вам разобраться в сложных вопросах расскажет о том какие существуют инклюзивные образовательные программы А ещё он будет вашим личным и верным навигатором по мобильному приложению небольшой секрет М - это приложение для умных часов на платформе Android несколько инструментов для психологического и ментального благополучия приложение для часов ответ на мои собственные потребности я хочу поделиться с друзьями тем что разрабатываю для себя самой техники релаксации и дыхательные упражнения будут в вашем кармане о главном эмпи ориентирован на русскоязычную аудиторию в основе нашей разработки осознанное использование генеративного искусственного интеллекта и этичное использование умных алгоритмов Спасибо что присоединились к нам в этом путешествии Только вместе мы сможем построить настоящее инклюзивное общество Добро пожаловать в эмпи\"\n",
            "\n",
            "\n",
            "CONCISE SUMMARY:\n",
            "\n",
            "The Friendly Virtual Assistant named MK will help users understand complex questions and provide information on inclusive educational programs. MK will also serve as a personal and loyal guide through a mobile application called M, which includes tools for psychological and mental well-being. The application is designed for smartwatches on the Android platform. The main focus of the development is on the Russian-speaking audience. The use of generative artificial intelligence and ethical use of smart algorithms are emphasized in the\"\n",
            "\n",
            "\n",
            "CONCISE SUMMARY:\n",
            "\n",
            "The Friendly Virtual Assistant named MK will help users understand complex questions and provide information on inclusive educational programs. MK will also serve as a personal and loyal guide through a mobile application called M, which includes tools for psychological and mental well-being. The application is designed for smartwatches on the Android platform. The main focus of the development is on the Russian-speaking audience. The use of generative artificial intelligence and ethical use of smart algorithms are emphasized in the\"\n",
            "\n",
            "\n",
            "CONCISE SUMMARY:\n",
            "\n",
            "The Friendly Virtual Assistant named MK will help users understand complex questions and provide information on inclusive educational programs. MK will also serve as a personal and loyal guide through a mobile application called M, which includes tools for psychological and mental well-being. The application is designed for smartwatches on the Android platform. The main focus of the development is on the Russian-speaking audience. The use of generative artificial intelligence and ethical use of smart algorithms are emphasized in the\"\n",
            "\n",
            "\n",
            "CONCISE SUMMARY:\u001b[0m\n"
          ]
        },
        {
          "output_type": "stream",
          "name": "stderr",
          "text": [
            "Setting `pad_token_id` to `eos_token_id`:2 for open-end generation.\n"
          ]
        },
        {
          "output_type": "stream",
          "name": "stdout",
          "text": [
            "\n",
            "\u001b[1m> Finished chain.\u001b[0m\n",
            "\n",
            "\u001b[1m> Finished chain.\u001b[0m\n",
            "\n",
            "\n",
            "\u001b[1m> Entering new StuffDocumentsChain chain...\u001b[0m\n",
            "\n",
            "\n",
            "\u001b[1m> Entering new LLMChain chain...\u001b[0m\n",
            "Prompt after formatting:\n",
            "\u001b[32;1m\u001b[1;3mWrite a concise summary of the following:\n",
            "\n",
            "\n",
            "\"Write a concise summary of the following:\n",
            "\n",
            "\n",
            "\"Write a concise summary of the following:\n",
            "\n",
            "\n",
            "\"Write a concise summary of the following:\n",
            "\n",
            "\n",
            "\"Write a concise summary of the following:\n",
            "\n",
            "\n",
            "\"соцсети небезопасны Травля угрозы преследования по данным социологических исследований более 10% пользователей интернета сталкивались с ситуациями представляющими реальную опасность и не менее 40% хотя бы раз страдали от нарушения личных границ в онлайн пространстве соцсети недоступны для всех по данным всемирной организации здравоохранения каждый шестой человек в мире имеет ограничение здоровья чтобы интернет доступным для каждого консорциум всемирной паутины разработал минимальные требования руководство по обеспечению доступности веб-контенту 97% веб-страниц игнорируют эти требования такими сайтами не может пользоваться человек с ограничениями слуха зрения опорнодвигательного аппарата ментальными особенностями социальные сети вызывают зависимость научно доказано что яркие привлекательные интерфейсы мобильных приложений прово в нашем мозге выработку гормона дофамина гормона удовольствия результат настоящая зависимость наш организм постоянно просит листать ленту Он нуждается в этом На физическом уровне\"\n",
            "\n",
            "\n",
            "CONCISE SUMMARY:\n",
            "\n",
            "Social media is not safe according to sociological research, more than 10% of internet users have encountered situations that posed a real threat, and at least 40% have experienced violations of personal boundaries in online spaces. Social media is not accessible to everyone due to various disabilities, and only 3% of websites meet the minimum accessibility requirements set by the World Health Organization. Scientific research has shown that social media addiction is caused by the release of dop\n",
            "\n",
            "Write a concise summary of the following:\n",
            "\n",
            "\n",
            "\"ленту Он нуждается в этом На физическом уровне поэтому сегодня большинство людей не способны отложить телефон в сторону мпи - другая социальная сеть мпи - это закрытая система это значит что стать пользователю можно только по приглашению потому что безопасность важнее мпи доступен для всех мы не просто придерживаемся рекомендаций из руководства по обеспечению доступности веб-контенту мы ориентированы на тех для кого доступность жизненно необходима наша разработка инклюзивная это значит она для всех эмби про ответственность любые разработки связанные с определёнными рисками мы проводим научные исследования о том как снизить любые риски как грамотно внедрить искусственный интеллект Как сделать интерфейс нашего программного комплекса не только комфортно для использования но и безопасным для наших будущих пользователей Потому что м - это про любовь Меня зовут Виктория фирсанова Я основательница проекта эмпи эмпатия и процессоры для инклюзии Сегодня я расскажу вам о миссии нашего проекта и поделюсь частичкой\"\n",
            "\n",
            "\n",
            "CONCISE SUMMARY:\n",
            "\n",
            "The speaker, Victoria Firsanova, is the founder of a project called \"Эмпатия и процессоры для инклюзии\" (Empathy and Processors for Inclusion). The project aims to create an inclusive and accessible platform for all users, with a focus on those who require it for their daily lives. The speaker emphasizes the importance of accessibility and the need for scientific research to ensure that the platform is safe and secure for all users. The\"\n",
            "\n",
            "\n",
            "CONCISE SUMMARY:\n",
            "\n",
            "The speaker, Victoria Firsanova, is the founder of a project called \"Эмпатия и процессоры для инклюзии\" (Empathy and Processors for Inclusion). The project aims to create an inclusive and accessible platform for all users, with a focus on those who require it for their daily lives. The speaker emphasizes the importance of accessibility and the need for scientific research to ensure that the platform is safe and secure for all users. The\"\n",
            "\n",
            "\n",
            "CONCISE SUMMARY:\n",
            "\n",
            "The speaker, Victoria Firsanova, is the founder of a project called \"Эмпатия и процессоры для инклюзии\" (Empathy and Processors for Inclusion). The project aims to create an inclusive and accessible platform for all users, with a focus on those who require it for their daily lives. The speaker emphasizes the importance of accessibility and the need for scientific research to ensure that the platform is safe and secure for all users. The\"\n",
            "\n",
            "\n",
            "CONCISE SUMMARY:\n",
            "\n",
            "The speaker, Victoria Firsanova, is the founder of a project called \"Эмпатия и процессоры для инклюзии\" (Empathy and Processors for Inclusion). The project aims to create an inclusive and accessible platform for all users, with a focus on those who require it for their daily lives. The speaker emphasizes the importance of accessibility and the need for scientific research to ensure that the platform is safe and secure for all users. The\"\n",
            "\n",
            "\n",
            "CONCISE SUMMARY:\u001b[0m\n"
          ]
        },
        {
          "output_type": "stream",
          "name": "stderr",
          "text": [
            "Setting `pad_token_id` to `eos_token_id`:2 for open-end generation.\n"
          ]
        },
        {
          "output_type": "stream",
          "name": "stdout",
          "text": [
            "\n",
            "\u001b[1m> Finished chain.\u001b[0m\n",
            "\n",
            "\u001b[1m> Finished chain.\u001b[0m\n",
            "\n",
            "\n",
            "\u001b[1m> Entering new StuffDocumentsChain chain...\u001b[0m\n",
            "\n",
            "\n",
            "\u001b[1m> Entering new LLMChain chain...\u001b[0m\n",
            "Prompt after formatting:\n",
            "\u001b[32;1m\u001b[1;3mWrite a concise summary of the following:\n",
            "\n",
            "\n",
            "\"Write a concise summary of the following:\n",
            "\n",
            "\n",
            "\"Write a concise summary of the following:\n",
            "\n",
            "\n",
            "\"Write a concise summary of the following:\n",
            "\n",
            "\n",
            "\"Write a concise summary of the following:\n",
            "\n",
            "\n",
            "\"вам о миссии нашего проекта и поделюсь частичкой этого удивительного путешествия мой интерес к инклюзии и созданию безопасной доступной среды связан с личные истории я училась в инклюзивной среде и собственными глазами видела С какими трудностями сталкиваются студенты с особыми потребностями эмпатия вот причина по которой появился наш проект миссия эмпи осознанно использовать технологии искусственного интеллекта чтобы создать безопасное виртуальное пространство для поддержки инклюзивного образования стирать границы укреплять развитие общества в котором У каждого есть возможность быть услышанным где каждый включён каждый оцен по достоинству наша целевая аудитория включает родителей которым нуж поддержка ребят с особыми образовательными потребностями и без них медицинских экспертов преподавателей тьюторов и учебных ассистентов Что отличает мпи от других проектов для инклюзивного образования доступность в основе нашего дизайна мобильное приложение мпи направлено на разнообразную целевую аудиторию А ещё\"\n",
            "\n",
            "\n",
            "CONCISE SUMMARY:\n",
            "\n",
            "The project's mission is to create a safe and accessible virtual space for inclusive education using artificial intelligence technology. The project is driven by personal experiences and a desire to address the challenges faced by students with special needs. The target audience includes parents, medical experts, teachers, tutors, and assistants. The project's unique feature is its focus on accessibility, with a mobile app designed to cater to a diverse range of users.\n",
            "\n",
            "Write a concise summary of the following:\n",
            "\n",
            "\n",
            "\"на разнообразную целевую аудиторию А ещё пользователей будет сопровождать Дружелюбный виртуальный ассистент по имени МК поможет вам разобраться в сложных вопросах расскажет о том какие существуют инклюзивные образовательные программы А ещё он будет вашим личным и верным навигатором по мобильному приложению небольшой секрет М - это приложение для умных часов на платформе Android несколько инструментов для психологического и ментального благополучия приложение для часов ответ на мои собственные потребности я хочу поделиться с друзьями тем что разрабатываю для себя самой техники релаксации и дыхательные упражнения будут в вашем кармане о главном эмпи ориентирован на русскоязычную аудиторию в основе нашей разработки осознанное использование генеративного искусственного интеллекта и этичное использование умных алгоритмов Спасибо что присоединились к нам в этом путешествии Только вместе мы сможем построить настоящее инклюзивное общество Добро пожаловать в эмпи\"\n",
            "\n",
            "\n",
            "CONCISE SUMMARY:\n",
            "\n",
            "The Friendly Virtual Assistant named MK will help users understand complex questions and provide information on inclusive educational programs. MK will also serve as a personal and loyal guide through a mobile application called M, which includes tools for psychological and mental well-being. The application is designed for smartwatches on the Android platform. The main focus of the development is on the Russian-speaking audience. The use of generative artificial intelligence and ethical use of smart algorithms are emphasized in the\"\n",
            "\n",
            "\n",
            "CONCISE SUMMARY:\n",
            "\n",
            "The Friendly Virtual Assistant named MK will help users understand complex questions and provide information on inclusive educational programs. MK will also serve as a personal and loyal guide through a mobile application called M, which includes tools for psychological and mental well-being. The application is designed for smartwatches on the Android platform. The main focus of the development is on the Russian-speaking audience. The use of generative artificial intelligence and ethical use of smart algorithms are emphasized in the\"\n",
            "\n",
            "\n",
            "CONCISE SUMMARY:\n",
            "\n",
            "The Friendly Virtual Assistant named MK will help users understand complex questions and provide information on inclusive educational programs. MK will also serve as a personal and loyal guide through a mobile application called M, which includes tools for psychological and mental well-being. The application is designed for smartwatches on the Android platform. The main focus of the development is on the Russian-speaking audience. The use of generative artificial intelligence and ethical use of smart algorithms are emphasized in the\"\n",
            "\n",
            "\n",
            "CONCISE SUMMARY:\n",
            "\n",
            "The Friendly Virtual Assistant named MK will help users understand complex questions and provide information on inclusive educational programs. MK will also serve as a personal and loyal guide through a mobile application called M, which includes tools for psychological and mental well-being. The application is designed for smartwatches on the Android platform. The main focus of the development is on the Russian-speaking audience. The use of generative artificial intelligence and ethical use of smart algorithms are emphasized in the\"\n",
            "\n",
            "\n",
            "CONCISE SUMMARY:\u001b[0m\n",
            "\n",
            "\u001b[1m> Finished chain.\u001b[0m\n",
            "\n",
            "\u001b[1m> Finished chain.\u001b[0m\n"
          ]
        },
        {
          "output_type": "error",
          "ename": "ValueError",
          "evalue": "A single document was longer than the context length, we cannot handle this.",
          "traceback": [
            "\u001b[0;31m---------------------------------------------------------------------------\u001b[0m",
            "\u001b[0;31mValueError\u001b[0m                                Traceback (most recent call last)",
            "\u001b[0;32m<ipython-input-43-42ad6e61a04b>\u001b[0m in \u001b[0;36m<cell line: 2>\u001b[0;34m()\u001b[0m\n\u001b[1;32m      1\u001b[0m \u001b[0mchain\u001b[0m \u001b[0;34m=\u001b[0m \u001b[0mload_summarize_chain\u001b[0m\u001b[0;34m(\u001b[0m\u001b[0mllm\u001b[0m\u001b[0;34m=\u001b[0m\u001b[0mhf\u001b[0m\u001b[0;34m,\u001b[0m \u001b[0mchain_type\u001b[0m\u001b[0;34m=\u001b[0m\u001b[0;34m'map_reduce'\u001b[0m\u001b[0;34m,\u001b[0m \u001b[0mverbose\u001b[0m\u001b[0;34m=\u001b[0m\u001b[0;32mTrue\u001b[0m\u001b[0;34m)\u001b[0m\u001b[0;34m\u001b[0m\u001b[0;34m\u001b[0m\u001b[0m\n\u001b[0;32m----> 2\u001b[0;31m \u001b[0msummary\u001b[0m \u001b[0;34m=\u001b[0m \u001b[0mchain\u001b[0m\u001b[0;34m.\u001b[0m\u001b[0mrun\u001b[0m\u001b[0;34m(\u001b[0m\u001b[0minput_documents\u001b[0m\u001b[0;34m=\u001b[0m\u001b[0mtexts\u001b[0m\u001b[0;34m)\u001b[0m\u001b[0;34m\u001b[0m\u001b[0;34m\u001b[0m\u001b[0m\n\u001b[0m\u001b[1;32m      3\u001b[0m \u001b[0msummary\u001b[0m\u001b[0;34m[\u001b[0m\u001b[0;34m-\u001b[0m\u001b[0;36m500\u001b[0m\u001b[0;34m:\u001b[0m\u001b[0;34m]\u001b[0m\u001b[0;34m\u001b[0m\u001b[0;34m\u001b[0m\u001b[0m\n",
            "\u001b[0;32m/usr/local/lib/python3.10/dist-packages/langchain_core/_api/deprecation.py\u001b[0m in \u001b[0;36mwarning_emitting_wrapper\u001b[0;34m(*args, **kwargs)\u001b[0m\n\u001b[1;32m    146\u001b[0m                 \u001b[0mwarned\u001b[0m \u001b[0;34m=\u001b[0m \u001b[0;32mTrue\u001b[0m\u001b[0;34m\u001b[0m\u001b[0;34m\u001b[0m\u001b[0m\n\u001b[1;32m    147\u001b[0m                 \u001b[0memit_warning\u001b[0m\u001b[0;34m(\u001b[0m\u001b[0;34m)\u001b[0m\u001b[0;34m\u001b[0m\u001b[0;34m\u001b[0m\u001b[0m\n\u001b[0;32m--> 148\u001b[0;31m             \u001b[0;32mreturn\u001b[0m \u001b[0mwrapped\u001b[0m\u001b[0;34m(\u001b[0m\u001b[0;34m*\u001b[0m\u001b[0margs\u001b[0m\u001b[0;34m,\u001b[0m \u001b[0;34m**\u001b[0m\u001b[0mkwargs\u001b[0m\u001b[0;34m)\u001b[0m\u001b[0;34m\u001b[0m\u001b[0;34m\u001b[0m\u001b[0m\n\u001b[0m\u001b[1;32m    149\u001b[0m \u001b[0;34m\u001b[0m\u001b[0m\n\u001b[1;32m    150\u001b[0m         \u001b[0;32masync\u001b[0m \u001b[0;32mdef\u001b[0m \u001b[0mawarning_emitting_wrapper\u001b[0m\u001b[0;34m(\u001b[0m\u001b[0;34m*\u001b[0m\u001b[0margs\u001b[0m\u001b[0;34m:\u001b[0m \u001b[0mAny\u001b[0m\u001b[0;34m,\u001b[0m \u001b[0;34m**\u001b[0m\u001b[0mkwargs\u001b[0m\u001b[0;34m:\u001b[0m \u001b[0mAny\u001b[0m\u001b[0;34m)\u001b[0m \u001b[0;34m->\u001b[0m \u001b[0mAny\u001b[0m\u001b[0;34m:\u001b[0m\u001b[0;34m\u001b[0m\u001b[0;34m\u001b[0m\u001b[0m\n",
            "\u001b[0;32m/usr/local/lib/python3.10/dist-packages/langchain/chains/base.py\u001b[0m in \u001b[0;36mrun\u001b[0;34m(self, callbacks, tags, metadata, *args, **kwargs)\u001b[0m\n\u001b[1;32m    603\u001b[0m \u001b[0;34m\u001b[0m\u001b[0m\n\u001b[1;32m    604\u001b[0m         \u001b[0;32mif\u001b[0m \u001b[0mkwargs\u001b[0m \u001b[0;32mand\u001b[0m \u001b[0;32mnot\u001b[0m \u001b[0margs\u001b[0m\u001b[0;34m:\u001b[0m\u001b[0;34m\u001b[0m\u001b[0;34m\u001b[0m\u001b[0m\n\u001b[0;32m--> 605\u001b[0;31m             return self(kwargs, callbacks=callbacks, tags=tags, metadata=metadata)[\n\u001b[0m\u001b[1;32m    606\u001b[0m                 \u001b[0m_output_key\u001b[0m\u001b[0;34m\u001b[0m\u001b[0;34m\u001b[0m\u001b[0m\n\u001b[1;32m    607\u001b[0m             ]\n",
            "\u001b[0;32m/usr/local/lib/python3.10/dist-packages/langchain_core/_api/deprecation.py\u001b[0m in \u001b[0;36mwarning_emitting_wrapper\u001b[0;34m(*args, **kwargs)\u001b[0m\n\u001b[1;32m    146\u001b[0m                 \u001b[0mwarned\u001b[0m \u001b[0;34m=\u001b[0m \u001b[0;32mTrue\u001b[0m\u001b[0;34m\u001b[0m\u001b[0;34m\u001b[0m\u001b[0m\n\u001b[1;32m    147\u001b[0m                 \u001b[0memit_warning\u001b[0m\u001b[0;34m(\u001b[0m\u001b[0;34m)\u001b[0m\u001b[0;34m\u001b[0m\u001b[0;34m\u001b[0m\u001b[0m\n\u001b[0;32m--> 148\u001b[0;31m             \u001b[0;32mreturn\u001b[0m \u001b[0mwrapped\u001b[0m\u001b[0;34m(\u001b[0m\u001b[0;34m*\u001b[0m\u001b[0margs\u001b[0m\u001b[0;34m,\u001b[0m \u001b[0;34m**\u001b[0m\u001b[0mkwargs\u001b[0m\u001b[0;34m)\u001b[0m\u001b[0;34m\u001b[0m\u001b[0;34m\u001b[0m\u001b[0m\n\u001b[0m\u001b[1;32m    149\u001b[0m \u001b[0;34m\u001b[0m\u001b[0m\n\u001b[1;32m    150\u001b[0m         \u001b[0;32masync\u001b[0m \u001b[0;32mdef\u001b[0m \u001b[0mawarning_emitting_wrapper\u001b[0m\u001b[0;34m(\u001b[0m\u001b[0;34m*\u001b[0m\u001b[0margs\u001b[0m\u001b[0;34m:\u001b[0m \u001b[0mAny\u001b[0m\u001b[0;34m,\u001b[0m \u001b[0;34m**\u001b[0m\u001b[0mkwargs\u001b[0m\u001b[0;34m:\u001b[0m \u001b[0mAny\u001b[0m\u001b[0;34m)\u001b[0m \u001b[0;34m->\u001b[0m \u001b[0mAny\u001b[0m\u001b[0;34m:\u001b[0m\u001b[0;34m\u001b[0m\u001b[0;34m\u001b[0m\u001b[0m\n",
            "\u001b[0;32m/usr/local/lib/python3.10/dist-packages/langchain/chains/base.py\u001b[0m in \u001b[0;36m__call__\u001b[0;34m(self, inputs, return_only_outputs, callbacks, tags, metadata, run_name, include_run_info)\u001b[0m\n\u001b[1;32m    381\u001b[0m         }\n\u001b[1;32m    382\u001b[0m \u001b[0;34m\u001b[0m\u001b[0m\n\u001b[0;32m--> 383\u001b[0;31m         return self.invoke(\n\u001b[0m\u001b[1;32m    384\u001b[0m             \u001b[0minputs\u001b[0m\u001b[0;34m,\u001b[0m\u001b[0;34m\u001b[0m\u001b[0;34m\u001b[0m\u001b[0m\n\u001b[1;32m    385\u001b[0m             \u001b[0mcast\u001b[0m\u001b[0;34m(\u001b[0m\u001b[0mRunnableConfig\u001b[0m\u001b[0;34m,\u001b[0m \u001b[0;34m{\u001b[0m\u001b[0mk\u001b[0m\u001b[0;34m:\u001b[0m \u001b[0mv\u001b[0m \u001b[0;32mfor\u001b[0m \u001b[0mk\u001b[0m\u001b[0;34m,\u001b[0m \u001b[0mv\u001b[0m \u001b[0;32min\u001b[0m \u001b[0mconfig\u001b[0m\u001b[0;34m.\u001b[0m\u001b[0mitems\u001b[0m\u001b[0;34m(\u001b[0m\u001b[0;34m)\u001b[0m \u001b[0;32mif\u001b[0m \u001b[0mv\u001b[0m \u001b[0;32mis\u001b[0m \u001b[0;32mnot\u001b[0m \u001b[0;32mNone\u001b[0m\u001b[0;34m}\u001b[0m\u001b[0;34m)\u001b[0m\u001b[0;34m,\u001b[0m\u001b[0;34m\u001b[0m\u001b[0;34m\u001b[0m\u001b[0m\n",
            "\u001b[0;32m/usr/local/lib/python3.10/dist-packages/langchain/chains/base.py\u001b[0m in \u001b[0;36minvoke\u001b[0;34m(self, input, config, **kwargs)\u001b[0m\n\u001b[1;32m    164\u001b[0m         \u001b[0;32mexcept\u001b[0m \u001b[0mBaseException\u001b[0m \u001b[0;32mas\u001b[0m \u001b[0me\u001b[0m\u001b[0;34m:\u001b[0m\u001b[0;34m\u001b[0m\u001b[0;34m\u001b[0m\u001b[0m\n\u001b[1;32m    165\u001b[0m             \u001b[0mrun_manager\u001b[0m\u001b[0;34m.\u001b[0m\u001b[0mon_chain_error\u001b[0m\u001b[0;34m(\u001b[0m\u001b[0me\u001b[0m\u001b[0;34m)\u001b[0m\u001b[0;34m\u001b[0m\u001b[0;34m\u001b[0m\u001b[0m\n\u001b[0;32m--> 166\u001b[0;31m             \u001b[0;32mraise\u001b[0m \u001b[0me\u001b[0m\u001b[0;34m\u001b[0m\u001b[0;34m\u001b[0m\u001b[0m\n\u001b[0m\u001b[1;32m    167\u001b[0m         \u001b[0mrun_manager\u001b[0m\u001b[0;34m.\u001b[0m\u001b[0mon_chain_end\u001b[0m\u001b[0;34m(\u001b[0m\u001b[0moutputs\u001b[0m\u001b[0;34m)\u001b[0m\u001b[0;34m\u001b[0m\u001b[0;34m\u001b[0m\u001b[0m\n\u001b[1;32m    168\u001b[0m \u001b[0;34m\u001b[0m\u001b[0m\n",
            "\u001b[0;32m/usr/local/lib/python3.10/dist-packages/langchain/chains/base.py\u001b[0m in \u001b[0;36minvoke\u001b[0;34m(self, input, config, **kwargs)\u001b[0m\n\u001b[1;32m    154\u001b[0m             \u001b[0mself\u001b[0m\u001b[0;34m.\u001b[0m\u001b[0m_validate_inputs\u001b[0m\u001b[0;34m(\u001b[0m\u001b[0minputs\u001b[0m\u001b[0;34m)\u001b[0m\u001b[0;34m\u001b[0m\u001b[0;34m\u001b[0m\u001b[0m\n\u001b[1;32m    155\u001b[0m             outputs = (\n\u001b[0;32m--> 156\u001b[0;31m                 \u001b[0mself\u001b[0m\u001b[0;34m.\u001b[0m\u001b[0m_call\u001b[0m\u001b[0;34m(\u001b[0m\u001b[0minputs\u001b[0m\u001b[0;34m,\u001b[0m \u001b[0mrun_manager\u001b[0m\u001b[0;34m=\u001b[0m\u001b[0mrun_manager\u001b[0m\u001b[0;34m)\u001b[0m\u001b[0;34m\u001b[0m\u001b[0;34m\u001b[0m\u001b[0m\n\u001b[0m\u001b[1;32m    157\u001b[0m                 \u001b[0;32mif\u001b[0m \u001b[0mnew_arg_supported\u001b[0m\u001b[0;34m\u001b[0m\u001b[0;34m\u001b[0m\u001b[0m\n\u001b[1;32m    158\u001b[0m                 \u001b[0;32melse\u001b[0m \u001b[0mself\u001b[0m\u001b[0;34m.\u001b[0m\u001b[0m_call\u001b[0m\u001b[0;34m(\u001b[0m\u001b[0minputs\u001b[0m\u001b[0;34m)\u001b[0m\u001b[0;34m\u001b[0m\u001b[0;34m\u001b[0m\u001b[0m\n",
            "\u001b[0;32m/usr/local/lib/python3.10/dist-packages/langchain/chains/combine_documents/base.py\u001b[0m in \u001b[0;36m_call\u001b[0;34m(self, inputs, run_manager)\u001b[0m\n\u001b[1;32m    135\u001b[0m         \u001b[0;31m# Other keys are assumed to be needed for LLM prediction\u001b[0m\u001b[0;34m\u001b[0m\u001b[0;34m\u001b[0m\u001b[0m\n\u001b[1;32m    136\u001b[0m         \u001b[0mother_keys\u001b[0m \u001b[0;34m=\u001b[0m \u001b[0;34m{\u001b[0m\u001b[0mk\u001b[0m\u001b[0;34m:\u001b[0m \u001b[0mv\u001b[0m \u001b[0;32mfor\u001b[0m \u001b[0mk\u001b[0m\u001b[0;34m,\u001b[0m \u001b[0mv\u001b[0m \u001b[0;32min\u001b[0m \u001b[0minputs\u001b[0m\u001b[0;34m.\u001b[0m\u001b[0mitems\u001b[0m\u001b[0;34m(\u001b[0m\u001b[0;34m)\u001b[0m \u001b[0;32mif\u001b[0m \u001b[0mk\u001b[0m \u001b[0;34m!=\u001b[0m \u001b[0mself\u001b[0m\u001b[0;34m.\u001b[0m\u001b[0minput_key\u001b[0m\u001b[0;34m}\u001b[0m\u001b[0;34m\u001b[0m\u001b[0;34m\u001b[0m\u001b[0m\n\u001b[0;32m--> 137\u001b[0;31m         output, extra_return_dict = self.combine_docs(\n\u001b[0m\u001b[1;32m    138\u001b[0m             \u001b[0mdocs\u001b[0m\u001b[0;34m,\u001b[0m \u001b[0mcallbacks\u001b[0m\u001b[0;34m=\u001b[0m\u001b[0m_run_manager\u001b[0m\u001b[0;34m.\u001b[0m\u001b[0mget_child\u001b[0m\u001b[0;34m(\u001b[0m\u001b[0;34m)\u001b[0m\u001b[0;34m,\u001b[0m \u001b[0;34m**\u001b[0m\u001b[0mother_keys\u001b[0m\u001b[0;34m\u001b[0m\u001b[0;34m\u001b[0m\u001b[0m\n\u001b[1;32m    139\u001b[0m         )\n",
            "\u001b[0;32m/usr/local/lib/python3.10/dist-packages/langchain/chains/combine_documents/map_reduce.py\u001b[0m in \u001b[0;36mcombine_docs\u001b[0;34m(self, docs, token_max, callbacks, **kwargs)\u001b[0m\n\u001b[1;32m    235\u001b[0m             \u001b[0;32mfor\u001b[0m \u001b[0mi\u001b[0m\u001b[0;34m,\u001b[0m \u001b[0mr\u001b[0m \u001b[0;32min\u001b[0m \u001b[0menumerate\u001b[0m\u001b[0;34m(\u001b[0m\u001b[0mmap_results\u001b[0m\u001b[0;34m)\u001b[0m\u001b[0;34m\u001b[0m\u001b[0;34m\u001b[0m\u001b[0m\n\u001b[1;32m    236\u001b[0m         ]\n\u001b[0;32m--> 237\u001b[0;31m         result, extra_return_dict = self.reduce_documents_chain.combine_docs(\n\u001b[0m\u001b[1;32m    238\u001b[0m             \u001b[0mresult_docs\u001b[0m\u001b[0;34m,\u001b[0m \u001b[0mtoken_max\u001b[0m\u001b[0;34m=\u001b[0m\u001b[0mtoken_max\u001b[0m\u001b[0;34m,\u001b[0m \u001b[0mcallbacks\u001b[0m\u001b[0;34m=\u001b[0m\u001b[0mcallbacks\u001b[0m\u001b[0;34m,\u001b[0m \u001b[0;34m**\u001b[0m\u001b[0mkwargs\u001b[0m\u001b[0;34m\u001b[0m\u001b[0;34m\u001b[0m\u001b[0m\n\u001b[1;32m    239\u001b[0m         )\n",
            "\u001b[0;32m/usr/local/lib/python3.10/dist-packages/langchain/chains/combine_documents/reduce.py\u001b[0m in \u001b[0;36mcombine_docs\u001b[0;34m(self, docs, token_max, callbacks, **kwargs)\u001b[0m\n\u001b[1;32m    241\u001b[0m             \u001b[0melement\u001b[0m \u001b[0mreturned\u001b[0m \u001b[0;32mis\u001b[0m \u001b[0ma\u001b[0m \u001b[0mdictionary\u001b[0m \u001b[0mof\u001b[0m \u001b[0mother\u001b[0m \u001b[0mkeys\u001b[0m \u001b[0mto\u001b[0m \u001b[0;32mreturn\u001b[0m\u001b[0;34m.\u001b[0m\u001b[0;34m\u001b[0m\u001b[0;34m\u001b[0m\u001b[0m\n\u001b[1;32m    242\u001b[0m         \"\"\"\n\u001b[0;32m--> 243\u001b[0;31m         result_docs, extra_return_dict = self._collapse(\n\u001b[0m\u001b[1;32m    244\u001b[0m             \u001b[0mdocs\u001b[0m\u001b[0;34m,\u001b[0m \u001b[0mtoken_max\u001b[0m\u001b[0;34m=\u001b[0m\u001b[0mtoken_max\u001b[0m\u001b[0;34m,\u001b[0m \u001b[0mcallbacks\u001b[0m\u001b[0;34m=\u001b[0m\u001b[0mcallbacks\u001b[0m\u001b[0;34m,\u001b[0m \u001b[0;34m**\u001b[0m\u001b[0mkwargs\u001b[0m\u001b[0;34m\u001b[0m\u001b[0;34m\u001b[0m\u001b[0m\n\u001b[1;32m    245\u001b[0m         )\n",
            "\u001b[0;32m/usr/local/lib/python3.10/dist-packages/langchain/chains/combine_documents/reduce.py\u001b[0m in \u001b[0;36m_collapse\u001b[0;34m(self, docs, token_max, callbacks, **kwargs)\u001b[0m\n\u001b[1;32m    296\u001b[0m         \u001b[0mretries\u001b[0m\u001b[0;34m:\u001b[0m \u001b[0mint\u001b[0m \u001b[0;34m=\u001b[0m \u001b[0;36m0\u001b[0m\u001b[0;34m\u001b[0m\u001b[0;34m\u001b[0m\u001b[0m\n\u001b[1;32m    297\u001b[0m         \u001b[0;32mwhile\u001b[0m \u001b[0mnum_tokens\u001b[0m \u001b[0;32mis\u001b[0m \u001b[0;32mnot\u001b[0m \u001b[0;32mNone\u001b[0m \u001b[0;32mand\u001b[0m \u001b[0mnum_tokens\u001b[0m \u001b[0;34m>\u001b[0m \u001b[0m_token_max\u001b[0m\u001b[0;34m:\u001b[0m\u001b[0;34m\u001b[0m\u001b[0;34m\u001b[0m\u001b[0m\n\u001b[0;32m--> 298\u001b[0;31m             new_result_doc_list = split_list_of_docs(\n\u001b[0m\u001b[1;32m    299\u001b[0m                 \u001b[0mresult_docs\u001b[0m\u001b[0;34m,\u001b[0m \u001b[0mlength_func\u001b[0m\u001b[0;34m,\u001b[0m \u001b[0m_token_max\u001b[0m\u001b[0;34m,\u001b[0m \u001b[0;34m**\u001b[0m\u001b[0mkwargs\u001b[0m\u001b[0;34m\u001b[0m\u001b[0;34m\u001b[0m\u001b[0m\n\u001b[1;32m    300\u001b[0m             )\n",
            "\u001b[0;32m/usr/local/lib/python3.10/dist-packages/langchain/chains/combine_documents/reduce.py\u001b[0m in \u001b[0;36msplit_list_of_docs\u001b[0;34m(docs, length_func, token_max, **kwargs)\u001b[0m\n\u001b[1;32m     48\u001b[0m         \u001b[0;32mif\u001b[0m \u001b[0m_num_tokens\u001b[0m \u001b[0;34m>\u001b[0m \u001b[0mtoken_max\u001b[0m\u001b[0;34m:\u001b[0m\u001b[0;34m\u001b[0m\u001b[0;34m\u001b[0m\u001b[0m\n\u001b[1;32m     49\u001b[0m             \u001b[0;32mif\u001b[0m \u001b[0mlen\u001b[0m\u001b[0;34m(\u001b[0m\u001b[0m_sub_result_docs\u001b[0m\u001b[0;34m)\u001b[0m \u001b[0;34m==\u001b[0m \u001b[0;36m1\u001b[0m\u001b[0;34m:\u001b[0m\u001b[0;34m\u001b[0m\u001b[0;34m\u001b[0m\u001b[0m\n\u001b[0;32m---> 50\u001b[0;31m                 raise ValueError(\n\u001b[0m\u001b[1;32m     51\u001b[0m                     \u001b[0;34m\"A single document was longer than the context length,\"\u001b[0m\u001b[0;34m\u001b[0m\u001b[0;34m\u001b[0m\u001b[0m\n\u001b[1;32m     52\u001b[0m                     \u001b[0;34m\" we cannot handle this.\"\u001b[0m\u001b[0;34m\u001b[0m\u001b[0;34m\u001b[0m\u001b[0m\n",
            "\u001b[0;31mValueError\u001b[0m: A single document was longer than the context length, we cannot handle this."
          ]
        }
      ]
    },
    {
      "cell_type": "code",
      "source": [
        "chain = load_summarize_chain(llm=hf, chain_type='refine', verbose=True)\n",
        "summary = chain.run(input_documents=texts)"
      ],
      "metadata": {
        "colab": {
          "base_uri": "https://localhost:8080/"
        },
        "id": "6VXAUw7bby7y",
        "outputId": "4594ee4e-2771-4826-bdd1-935b60bc2efb"
      },
      "execution_count": 44,
      "outputs": [
        {
          "output_type": "stream",
          "name": "stderr",
          "text": [
            "Setting `pad_token_id` to `eos_token_id`:2 for open-end generation.\n"
          ]
        },
        {
          "output_type": "stream",
          "name": "stdout",
          "text": [
            "\n",
            "\n",
            "\u001b[1m> Entering new RefineDocumentsChain chain...\u001b[0m\n",
            "\n",
            "\n",
            "\u001b[1m> Entering new LLMChain chain...\u001b[0m\n",
            "Prompt after formatting:\n",
            "\u001b[32;1m\u001b[1;3mWrite a concise summary of the following:\n",
            "\n",
            "\n",
            "\"соцсети небезопасны Травля угрозы преследования по данным социологических исследований более 10% пользователей интернета сталкивались с ситуациями представляющими реальную опасность и не менее 40% хотя бы раз страдали от нарушения личных границ в онлайн пространстве соцсети недоступны для всех по данным всемирной организации здравоохранения каждый шестой человек в мире имеет ограничение здоровья чтобы интернет доступным для каждого консорциум всемирной паутины разработал минимальные требования руководство по обеспечению доступности веб-контенту 97% веб-страниц игнорируют эти требования такими сайтами не может пользоваться человек с ограничениями слуха зрения опорнодвигательного аппарата ментальными особенностями социальные сети вызывают зависимость научно доказано что яркие привлекательные интерфейсы мобильных приложений прово в нашем мозге выработку гормона дофамина гормона удовольствия результат настоящая зависимость наш организм постоянно просит листать ленту Он нуждается в этом На физическом уровне\"\n",
            "\n",
            "\n",
            "CONCISE SUMMARY:\u001b[0m\n"
          ]
        },
        {
          "output_type": "stream",
          "name": "stderr",
          "text": [
            "Setting `pad_token_id` to `eos_token_id`:2 for open-end generation.\n"
          ]
        },
        {
          "output_type": "stream",
          "name": "stdout",
          "text": [
            "\n",
            "\u001b[1m> Finished chain.\u001b[0m\n",
            "\n",
            "\n",
            "\u001b[1m> Entering new LLMChain chain...\u001b[0m\n",
            "Prompt after formatting:\n",
            "\u001b[32;1m\u001b[1;3mYour job is to produce a final summary.\n",
            "We have provided an existing summary up to a certain point: Write a concise summary of the following:\n",
            "\n",
            "\n",
            "\"соцсети небезопасны Травля угрозы преследования по данным социологических исследований более 10% пользователей интернета сталкивались с ситуациями представляющими реальную опасность и не менее 40% хотя бы раз страдали от нарушения личных границ в онлайн пространстве соцсети недоступны для всех по данным всемирной организации здравоохранения каждый шестой человек в мире имеет ограничение здоровья чтобы интернет доступным для каждого консорциум всемирной паутины разработал минимальные требования руководство по обеспечению доступности веб-контенту 97% веб-страниц игнорируют эти требования такими сайтами не может пользоваться человек с ограничениями слуха зрения опорнодвигательного аппарата ментальными особенностями социальные сети вызывают зависимость научно доказано что яркие привлекательные интерфейсы мобильных приложений прово в нашем мозге выработку гормона дофамина гормона удовольствия результат настоящая зависимость наш организм постоянно просит листать ленту Он нуждается в этом На физическом уровне\"\n",
            "\n",
            "\n",
            "CONCISE SUMMARY:\n",
            "\n",
            "Social media is not safe according to sociological research, more than 10% of internet users have encountered situations that posed a real threat, and at least 40% have experienced violations of personal boundaries in online spaces. Social media is not accessible to everyone due to various disabilities, and only 3% of websites meet the minimum accessibility requirements set by the World Health Organization. Scientific research has shown that social media addiction is caused by the release of dop\n",
            "We have the opportunity to refine the existing summary (only if needed) with some more context below.\n",
            "------------\n",
            "ленту Он нуждается в этом На физическом уровне поэтому сегодня большинство людей не способны отложить телефон в сторону мпи - другая социальная сеть мпи - это закрытая система это значит что стать пользователю можно только по приглашению потому что безопасность важнее мпи доступен для всех мы не просто придерживаемся рекомендаций из руководства по обеспечению доступности веб-контенту мы ориентированы на тех для кого доступность жизненно необходима наша разработка инклюзивная это значит она для всех эмби про ответственность любые разработки связанные с определёнными рисками мы проводим научные исследования о том как снизить любые риски как грамотно внедрить искусственный интеллект Как сделать интерфейс нашего программного комплекса не только комфортно для использования но и безопасным для наших будущих пользователей Потому что м - это про любовь Меня зовут Виктория фирсанова Я основательница проекта эмпи эмпатия и процессоры для инклюзии Сегодня я расскажу вам о миссии нашего проекта и поделюсь частичкой\n",
            "------------\n",
            "Given the new context, refine the original summary.\n",
            "If the context isn't useful, return the original summary.\u001b[0m\n"
          ]
        },
        {
          "output_type": "stream",
          "name": "stderr",
          "text": [
            "Setting `pad_token_id` to `eos_token_id`:2 for open-end generation.\n"
          ]
        },
        {
          "output_type": "stream",
          "name": "stdout",
          "text": [
            "\n",
            "\u001b[1m> Finished chain.\u001b[0m\n",
            "\n",
            "\n",
            "\u001b[1m> Entering new LLMChain chain...\u001b[0m\n",
            "Prompt after formatting:\n",
            "\u001b[32;1m\u001b[1;3mYour job is to produce a final summary.\n",
            "We have provided an existing summary up to a certain point: Your job is to produce a final summary.\n",
            "We have provided an existing summary up to a certain point: Write a concise summary of the following:\n",
            "\n",
            "\n",
            "\"соцсети небезопасны Травля угрозы преследования по данным социологических исследований более 10% пользователей интернета сталкивались с ситуациями представляющими реальную опасность и не менее 40% хотя бы раз страдали от нарушения личных границ в онлайн пространстве соцсети недоступны для всех по данным всемирной организации здравоохранения каждый шестой человек в мире имеет ограничение здоровья чтобы интернет доступным для каждого консорциум всемирной паутины разработал минимальные требования руководство по обеспечению доступности веб-контенту 97% веб-страниц игнорируют эти требования такими сайтами не может пользоваться человек с ограничениями слуха зрения опорнодвигательного аппарата ментальными особенностями социальные сети вызывают зависимость научно доказано что яркие привлекательные интерфейсы мобильных приложений прово в нашем мозге выработку гормона дофамина гормона удовольствия результат настоящая зависимость наш организм постоянно просит листать ленту Он нуждается в этом На физическом уровне\"\n",
            "\n",
            "\n",
            "CONCISE SUMMARY:\n",
            "\n",
            "Social media is not safe according to sociological research, more than 10% of internet users have encountered situations that posed a real threat, and at least 40% have experienced violations of personal boundaries in online spaces. Social media is not accessible to everyone due to various disabilities, and only 3% of websites meet the minimum accessibility requirements set by the World Health Organization. Scientific research has shown that social media addiction is caused by the release of dop\n",
            "We have the opportunity to refine the existing summary (only if needed) with some more context below.\n",
            "------------\n",
            "ленту Он нуждается в этом На физическом уровне поэтому сегодня большинство людей не способны отложить телефон в сторону мпи - другая социальная сеть мпи - это закрытая система это значит что стать пользователю можно только по приглашению потому что безопасность важнее мпи доступен для всех мы не просто придерживаемся рекомендаций из руководства по обеспечению доступности веб-контенту мы ориентированы на тех для кого доступность жизненно необходима наша разработка инклюзивная это значит она для всех эмби про ответственность любые разработки связанные с определёнными рисками мы проводим научные исследования о том как снизить любые риски как грамотно внедрить искусственный интеллект Как сделать интерфейс нашего программного комплекса не только комфортно для использования но и безопасным для наших будущих пользователей Потому что м - это про любовь Меня зовут Виктория фирсанова Я основательница проекта эмпи эмпатия и процессоры для инклюзии Сегодня я расскажу вам о миссии нашего проекта и поделюсь частичкой\n",
            "------------\n",
            "Given the new context, refine the original summary.\n",
            "If the context isn't useful, return the original summary.\n",
            "We have the opportunity to refine the existing summary (only if needed) with some more context below.\n",
            "------------\n",
            "вам о миссии нашего проекта и поделюсь частичкой этого удивительного путешествия мой интерес к инклюзии и созданию безопасной доступной среды связан с личные истории я училась в инклюзивной среде и собственными глазами видела С какими трудностями сталкиваются студенты с особыми потребностями эмпатия вот причина по которой появился наш проект миссия эмпи осознанно использовать технологии искусственного интеллекта чтобы создать безопасное виртуальное пространство для поддержки инклюзивного образования стирать границы укреплять развитие общества в котором У каждого есть возможность быть услышанным где каждый включён каждый оцен по достоинству наша целевая аудитория включает родителей которым нуж поддержка ребят с особыми образовательными потребностями и без них медицинских экспертов преподавателей тьюторов и учебных ассистентов Что отличает мпи от других проектов для инклюзивного образования доступность в основе нашего дизайна мобильное приложение мпи направлено на разнообразную целевую аудиторию А ещё\n",
            "------------\n",
            "Given the new context, refine the original summary.\n",
            "If the context isn't useful, return the original summary.\u001b[0m\n"
          ]
        },
        {
          "output_type": "stream",
          "name": "stderr",
          "text": [
            "Setting `pad_token_id` to `eos_token_id`:2 for open-end generation.\n"
          ]
        },
        {
          "output_type": "stream",
          "name": "stdout",
          "text": [
            "\n",
            "\u001b[1m> Finished chain.\u001b[0m\n",
            "\n",
            "\n",
            "\u001b[1m> Entering new LLMChain chain...\u001b[0m\n",
            "Prompt after formatting:\n",
            "\u001b[32;1m\u001b[1;3mYour job is to produce a final summary.\n",
            "We have provided an existing summary up to a certain point: Your job is to produce a final summary.\n",
            "We have provided an existing summary up to a certain point: Your job is to produce a final summary.\n",
            "We have provided an existing summary up to a certain point: Write a concise summary of the following:\n",
            "\n",
            "\n",
            "\"соцсети небезопасны Травля угрозы преследования по данным социологических исследований более 10% пользователей интернета сталкивались с ситуациями представляющими реальную опасность и не менее 40% хотя бы раз страдали от нарушения личных границ в онлайн пространстве соцсети недоступны для всех по данным всемирной организации здравоохранения каждый шестой человек в мире имеет ограничение здоровья чтобы интернет доступным для каждого консорциум всемирной паутины разработал минимальные требования руководство по обеспечению доступности веб-контенту 97% веб-страниц игнорируют эти требования такими сайтами не может пользоваться человек с ограничениями слуха зрения опорнодвигательного аппарата ментальными особенностями социальные сети вызывают зависимость научно доказано что яркие привлекательные интерфейсы мобильных приложений прово в нашем мозге выработку гормона дофамина гормона удовольствия результат настоящая зависимость наш организм постоянно просит листать ленту Он нуждается в этом На физическом уровне\"\n",
            "\n",
            "\n",
            "CONCISE SUMMARY:\n",
            "\n",
            "Social media is not safe according to sociological research, more than 10% of internet users have encountered situations that posed a real threat, and at least 40% have experienced violations of personal boundaries in online spaces. Social media is not accessible to everyone due to various disabilities, and only 3% of websites meet the minimum accessibility requirements set by the World Health Organization. Scientific research has shown that social media addiction is caused by the release of dop\n",
            "We have the opportunity to refine the existing summary (only if needed) with some more context below.\n",
            "------------\n",
            "ленту Он нуждается в этом На физическом уровне поэтому сегодня большинство людей не способны отложить телефон в сторону мпи - другая социальная сеть мпи - это закрытая система это значит что стать пользователю можно только по приглашению потому что безопасность важнее мпи доступен для всех мы не просто придерживаемся рекомендаций из руководства по обеспечению доступности веб-контенту мы ориентированы на тех для кого доступность жизненно необходима наша разработка инклюзивная это значит она для всех эмби про ответственность любые разработки связанные с определёнными рисками мы проводим научные исследования о том как снизить любые риски как грамотно внедрить искусственный интеллект Как сделать интерфейс нашего программного комплекса не только комфортно для использования но и безопасным для наших будущих пользователей Потому что м - это про любовь Меня зовут Виктория фирсанова Я основательница проекта эмпи эмпатия и процессоры для инклюзии Сегодня я расскажу вам о миссии нашего проекта и поделюсь частичкой\n",
            "------------\n",
            "Given the new context, refine the original summary.\n",
            "If the context isn't useful, return the original summary.\n",
            "We have the opportunity to refine the existing summary (only if needed) with some more context below.\n",
            "------------\n",
            "вам о миссии нашего проекта и поделюсь частичкой этого удивительного путешествия мой интерес к инклюзии и созданию безопасной доступной среды связан с личные истории я училась в инклюзивной среде и собственными глазами видела С какими трудностями сталкиваются студенты с особыми потребностями эмпатия вот причина по которой появился наш проект миссия эмпи осознанно использовать технологии искусственного интеллекта чтобы создать безопасное виртуальное пространство для поддержки инклюзивного образования стирать границы укреплять развитие общества в котором У каждого есть возможность быть услышанным где каждый включён каждый оцен по достоинству наша целевая аудитория включает родителей которым нуж поддержка ребят с особыми образовательными потребностями и без них медицинских экспертов преподавателей тьюторов и учебных ассистентов Что отличает мпи от других проектов для инклюзивного образования доступность в основе нашего дизайна мобильное приложение мпи направлено на разнообразную целевую аудиторию А ещё\n",
            "------------\n",
            "Given the new context, refine the original summary.\n",
            "If the context isn't useful, return the original summary.\n",
            "We have the opportunity to refine the existing summary (only if needed) with some more context below.\n",
            "------------\n",
            "поддержки инклюзивного образования и создания безопасного виртуального пространства для поддержки инклюзивного образования миссия эмпи осознанно использовать технологии искусственного интеллекта чтобы создать безопасное вирту\n",
            "We have the opportunity to refine the existing summary (only if needed) with some more context below.\n",
            "------------\n",
            "на разнообразную целевую аудиторию А ещё пользователей будет сопровождать Дружелюбный виртуальный ассистент по имени МК поможет вам разобраться в сложных вопросах расскажет о том какие существуют инклюзивные образовательные программы А ещё он будет вашим личным и верным навигатором по мобильному приложению небольшой секрет М - это приложение для умных часов на платформе Android несколько инструментов для психологического и ментального благополучия приложение для часов ответ на мои собственные потребности я хочу поделиться с друзьями тем что разрабатываю для себя самой техники релаксации и дыхательные упражнения будут в вашем кармане о главном эмпи ориентирован на русскоязычную аудиторию в основе нашей разработки осознанное использование генеративного искусственного интеллекта и этичное использование умных алгоритмов Спасибо что присоединились к нам в этом путешествии Только вместе мы сможем построить настоящее инклюзивное общество Добро пожаловать в эмпи\n",
            "------------\n",
            "Given the new context, refine the original summary.\n",
            "If the context isn't useful, return the original summary.\u001b[0m\n",
            "\n",
            "\u001b[1m> Finished chain.\u001b[0m\n",
            "\n",
            "\u001b[1m> Finished chain.\u001b[0m\n"
          ]
        }
      ]
    },
    {
      "cell_type": "code",
      "source": [
        "chain.llm_chain.prompt.template = \\\n",
        "\"\"\"Создай краткое описание для следующего транскрипта:\n",
        "\n",
        "\"{text}\"\n",
        "\"\"\""
      ],
      "metadata": {
        "id": "v8YQngCFcjig"
      },
      "execution_count": 53,
      "outputs": []
    },
    {
      "cell_type": "code",
      "source": [
        "summary = chain.run(input_documents=texts)"
      ],
      "metadata": {
        "colab": {
          "base_uri": "https://localhost:8080/"
        },
        "id": "gZ62hQeMdlZ1",
        "outputId": "8eb33293-8741-4011-ec45-5e4a03e71c59"
      },
      "execution_count": 54,
      "outputs": [
        {
          "output_type": "stream",
          "name": "stderr",
          "text": [
            "Setting `pad_token_id` to `eos_token_id`:2 for open-end generation.\n"
          ]
        },
        {
          "output_type": "stream",
          "name": "stdout",
          "text": [
            "\n",
            "\n",
            "\u001b[1m> Entering new StuffDocumentsChain chain...\u001b[0m\n",
            "\n",
            "\n",
            "\u001b[1m> Entering new LLMChain chain...\u001b[0m\n",
            "Prompt after formatting:\n",
            "\u001b[32;1m\u001b[1;3mСоздай краткое описание для следующего транскрипта:\n",
            "\n",
            "\"соцсети небезопасны Травля угрозы преследования по данным социологических исследований более 10% пользователей интернета сталкивались с ситуациями представляющими реальную опасность и не менее 40% хотя бы раз страдали от нарушения личных границ в онлайн пространстве соцсети недоступны для всех по данным всемирной организации здравоохранения каждый шестой человек в мире имеет ограничение здоровья чтобы интернет доступным для каждого консорциум всемирной паутины разработал минимальные требования руководство по обеспечению доступности веб-контенту 97% веб-страниц игнорируют эти требования такими сайтами не может пользоваться человек с ограничениями слуха зрения опорнодвигательного аппарата ментальными особенностями социальные сети вызывают зависимость научно доказано что яркие привлекательные интерфейсы мобильных приложений прово в нашем мозге выработку гормона дофамина гормона удовольствия результат настоящая зависимость наш организм постоянно просит листать ленту Он нуждается в этом На физическом уровне\n",
            "\n",
            "ленту Он нуждается в этом На физическом уровне поэтому сегодня большинство людей не способны отложить телефон в сторону мпи - другая социальная сеть мпи - это закрытая система это значит что стать пользователю можно только по приглашению потому что безопасность важнее мпи доступен для всех мы не просто придерживаемся рекомендаций из руководства по обеспечению доступности веб-контенту мы ориентированы на тех для кого доступность жизненно необходима наша разработка инклюзивная это значит она для всех эмби про ответственность любые разработки связанные с определёнными рисками мы проводим научные исследования о том как снизить любые риски как грамотно внедрить искусственный интеллект Как сделать интерфейс нашего программного комплекса не только комфортно для использования но и безопасным для наших будущих пользователей Потому что м - это про любовь Меня зовут Виктория фирсанова Я основательница проекта эмпи эмпатия и процессоры для инклюзии Сегодня я расскажу вам о миссии нашего проекта и поделюсь частичкой\n",
            "\n",
            "вам о миссии нашего проекта и поделюсь частичкой этого удивительного путешествия мой интерес к инклюзии и созданию безопасной доступной среды связан с личные истории я училась в инклюзивной среде и собственными глазами видела С какими трудностями сталкиваются студенты с особыми потребностями эмпатия вот причина по которой появился наш проект миссия эмпи осознанно использовать технологии искусственного интеллекта чтобы создать безопасное виртуальное пространство для поддержки инклюзивного образования стирать границы укреплять развитие общества в котором У каждого есть возможность быть услышанным где каждый включён каждый оцен по достоинству наша целевая аудитория включает родителей которым нуж поддержка ребят с особыми образовательными потребностями и без них медицинских экспертов преподавателей тьюторов и учебных ассистентов Что отличает мпи от других проектов для инклюзивного образования доступность в основе нашего дизайна мобильное приложение мпи направлено на разнообразную целевую аудиторию А ещё\n",
            "\n",
            "на разнообразную целевую аудиторию А ещё пользователей будет сопровождать Дружелюбный виртуальный ассистент по имени МК поможет вам разобраться в сложных вопросах расскажет о том какие существуют инклюзивные образовательные программы А ещё он будет вашим личным и верным навигатором по мобильному приложению небольшой секрет М - это приложение для умных часов на платформе Android несколько инструментов для психологического и ментального благополучия приложение для часов ответ на мои собственные потребности я хочу поделиться с друзьями тем что разрабатываю для себя самой техники релаксации и дыхательные упражнения будут в вашем кармане о главном эмпи ориентирован на русскоязычную аудиторию в основе нашей разработки осознанное использование генеративного искусственного интеллекта и этичное использование умных алгоритмов Спасибо что присоединились к нам в этом путешествии Только вместе мы сможем построить настоящее инклюзивное общество Добро пожаловать в эмпи\"\n",
            "\u001b[0m\n",
            "\n",
            "\u001b[1m> Finished chain.\u001b[0m\n",
            "\n",
            "\u001b[1m> Finished chain.\u001b[0m\n"
          ]
        }
      ]
    },
    {
      "cell_type": "code",
      "source": [
        "summary"
      ],
      "metadata": {
        "colab": {
          "base_uri": "https://localhost:8080/",
          "height": 369
        },
        "id": "ygkFW023dwk9",
        "outputId": "9450bbe9-d61a-47f9-8701-9dfb09598168"
      },
      "execution_count": 56,
      "outputs": [
        {
          "output_type": "execute_result",
          "data": {
            "text/plain": [
              "'Создай краткое описание для следующего транскрипта:\\n\\n\"соцсети небезопасны Травля угрозы преследования по данным социологических исследований более 10% пользователей интернета сталкивались с ситуациями представляющими реальную опасность и не менее 40% хотя бы раз страдали от нарушения личных границ в онлайн пространстве соцсети недоступны для всех по данным всемирной организации здравоохранения каждый шестой человек в мире имеет ограничение здоровья чтобы интернет доступным для каждого консорциум всемирной паутины разработал минимальные требования руководство по обеспечению доступности веб-контенту 97% веб-страниц игнорируют эти требования такими сайтами не может пользоваться человек с ограничениями слуха зрения опорнодвигательного аппарата ментальными особенностями социальные сети вызывают зависимость научно доказано что яркие привлекательные интерфейсы мобильных приложений прово в нашем мозге выработку гормона дофамина гормона удовольствия результат настоящая зависимость наш организм постоянно просит листать ленту Он нуждается в этом На физическом уровне\\n\\nленту Он нуждается в этом На физическом уровне поэтому сегодня большинство людей не способны отложить телефон в сторону мпи - другая социальная сеть мпи - это закрытая система это значит что стать пользователю можно только по приглашению потому что безопасность важнее мпи доступен для всех мы не просто придерживаемся рекомендаций из руководства по обеспечению доступности веб-контенту мы ориентированы на тех для кого доступность жизненно необходима наша разработка инклюзивная это значит она для всех эмби про ответственность любые разработки связанные с определёнными рисками мы проводим научные исследования о том как снизить любые риски как грамотно внедрить искусственный интеллект Как сделать интерфейс нашего программного комплекса не только комфортно для использования но и безопасным для наших будущих пользователей Потому что м - это про любовь Меня зовут Виктория фирсанова Я основательница проекта эмпи эмпатия и процессоры для инклюзии Сегодня я расскажу вам о миссии нашего проекта и поделюсь частичкой\\n\\nвам о миссии нашего проекта и поделюсь частичкой этого удивительного путешествия мой интерес к инклюзии и созданию безопасной доступной среды связан с личные истории я училась в инклюзивной среде и собственными глазами видела С какими трудностями сталкиваются студенты с особыми потребностями эмпатия вот причина по которой появился наш проект миссия эмпи осознанно использовать технологии искусственного интеллекта чтобы создать безопасное виртуальное пространство для поддержки инклюзивного образования стирать границы укреплять развитие общества в котором У каждого есть возможность быть услышанным где каждый включён каждый оцен по достоинству наша целевая аудитория включает родителей которым нуж поддержка ребят с особыми образовательными потребностями и без них медицинских экспертов преподавателей тьюторов и учебных ассистентов Что отличает мпи от других проектов для инклюзивного образования доступность в основе нашего дизайна мобильное приложение мпи направлено на разнообразную целевую аудиторию А ещё\\n\\nна разнообразную целевую аудиторию А ещё пользователей будет сопровождать Дружелюбный виртуальный ассистент по имени МК поможет вам разобраться в сложных вопросах расскажет о том какие существуют инклюзивные образовательные программы А ещё он будет вашим личным и верным навигатором по мобильному приложению небольшой секрет М - это приложение для умных часов на платформе Android несколько инструментов для психологического и ментального благополучия приложение для часов ответ на мои собственные потребности я хочу поделиться с друзьями тем что разрабатываю для себя самой техники релаксации и дыхательные упражнения будут в вашем кармане о главном эмпи ориентирован на русскоязычную аудиторию в основе нашей разработки осознанное использование генеративного искусственного интеллекта и этичное использование умных алгоритмов Спасибо что присоединились к нам в этом путешествии Только вместе мы сможем построить настоящее инклюзивное общество Добро пожаловать в эмпи\"\\n\\n\\n\\n\\n\\n\\n\\n\\n\\n\\n\\n\\n\\n\\n\\n\\n\\n\\n\\n\\n\\n\\n\\n\\n\\n\\n\\n\\n\\n\\n\\n\\n\\n\\n\\n\\n\\n\\n\\n\\n\\n\\n\\n\\n\\n\\n\\n\\n\\n\\n\\n\\n\\n\\n\\n\\n\\n\\n\\n\\n\\n\\n\\n\\n\\n\\n\\n\\n\\n\\n\\n\\n\\n\\n\\n\\n\\n\\n\\n\\n\\n\\n\\n\\n\\n\\n\\n\\n\\n\\n\\n\\n\\n\\n\\n\\n\\n\\n\\n\\n'"
            ],
            "application/vnd.google.colaboratory.intrinsic+json": {
              "type": "string"
            }
          },
          "metadata": {},
          "execution_count": 56
        }
      ]
    }
  ]
}