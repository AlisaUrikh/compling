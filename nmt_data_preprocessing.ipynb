{
  "nbformat": 4,
  "nbformat_minor": 0,
  "metadata": {
    "colab": {
      "provenance": [],
      "authorship_tag": "ABX9TyMnf8+UI21vwIpMgnnjni8P",
      "include_colab_link": true
    },
    "kernelspec": {
      "name": "python3",
      "display_name": "Python 3"
    },
    "language_info": {
      "name": "python"
    },
    "widgets": {
      "application/vnd.jupyter.widget-state+json": {
        "8d5be328e8a4457f8a3dd61e05f4a7cb": {
          "model_module": "@jupyter-widgets/controls",
          "model_name": "HBoxModel",
          "model_module_version": "1.5.0",
          "state": {
            "_dom_classes": [],
            "_model_module": "@jupyter-widgets/controls",
            "_model_module_version": "1.5.0",
            "_model_name": "HBoxModel",
            "_view_count": null,
            "_view_module": "@jupyter-widgets/controls",
            "_view_module_version": "1.5.0",
            "_view_name": "HBoxView",
            "box_style": "",
            "children": [
              "IPY_MODEL_d2c0bf9b14484dce93b61d639242328f",
              "IPY_MODEL_b4a23906af914894bdade51f78e02a91",
              "IPY_MODEL_7b197202c40d42849b6d3ef60933022c"
            ],
            "layout": "IPY_MODEL_0b79147e311e4854940b6ced765dbb3b"
          }
        },
        "d2c0bf9b14484dce93b61d639242328f": {
          "model_module": "@jupyter-widgets/controls",
          "model_name": "HTMLModel",
          "model_module_version": "1.5.0",
          "state": {
            "_dom_classes": [],
            "_model_module": "@jupyter-widgets/controls",
            "_model_module_version": "1.5.0",
            "_model_name": "HTMLModel",
            "_view_count": null,
            "_view_module": "@jupyter-widgets/controls",
            "_view_module_version": "1.5.0",
            "_view_name": "HTMLView",
            "description": "",
            "description_tooltip": null,
            "layout": "IPY_MODEL_3da3cb10cf044735a4af6e5c1e3c659d",
            "placeholder": "​",
            "style": "IPY_MODEL_cbb437d11fea4476b82e2786338d44b2",
            "value": "Downloading builder script: 100%"
          }
        },
        "b4a23906af914894bdade51f78e02a91": {
          "model_module": "@jupyter-widgets/controls",
          "model_name": "FloatProgressModel",
          "model_module_version": "1.5.0",
          "state": {
            "_dom_classes": [],
            "_model_module": "@jupyter-widgets/controls",
            "_model_module_version": "1.5.0",
            "_model_name": "FloatProgressModel",
            "_view_count": null,
            "_view_module": "@jupyter-widgets/controls",
            "_view_module_version": "1.5.0",
            "_view_name": "ProgressView",
            "bar_style": "success",
            "description": "",
            "description_tooltip": null,
            "layout": "IPY_MODEL_5c72f52326834ddf8d87c75716a5f04e",
            "max": 5937,
            "min": 0,
            "orientation": "horizontal",
            "style": "IPY_MODEL_5c716e48f96d4fd386c0408c1ec95734",
            "value": 5937
          }
        },
        "7b197202c40d42849b6d3ef60933022c": {
          "model_module": "@jupyter-widgets/controls",
          "model_name": "HTMLModel",
          "model_module_version": "1.5.0",
          "state": {
            "_dom_classes": [],
            "_model_module": "@jupyter-widgets/controls",
            "_model_module_version": "1.5.0",
            "_model_name": "HTMLModel",
            "_view_count": null,
            "_view_module": "@jupyter-widgets/controls",
            "_view_module_version": "1.5.0",
            "_view_name": "HTMLView",
            "description": "",
            "description_tooltip": null,
            "layout": "IPY_MODEL_3d7d9b47347b4e33992f1a771d4b5aac",
            "placeholder": "​",
            "style": "IPY_MODEL_5c308640bbc84eef92a6dc551855f474",
            "value": " 5.94k/5.94k [00:00&lt;00:00, 299kB/s]"
          }
        },
        "0b79147e311e4854940b6ced765dbb3b": {
          "model_module": "@jupyter-widgets/base",
          "model_name": "LayoutModel",
          "model_module_version": "1.2.0",
          "state": {
            "_model_module": "@jupyter-widgets/base",
            "_model_module_version": "1.2.0",
            "_model_name": "LayoutModel",
            "_view_count": null,
            "_view_module": "@jupyter-widgets/base",
            "_view_module_version": "1.2.0",
            "_view_name": "LayoutView",
            "align_content": null,
            "align_items": null,
            "align_self": null,
            "border": null,
            "bottom": null,
            "display": null,
            "flex": null,
            "flex_flow": null,
            "grid_area": null,
            "grid_auto_columns": null,
            "grid_auto_flow": null,
            "grid_auto_rows": null,
            "grid_column": null,
            "grid_gap": null,
            "grid_row": null,
            "grid_template_areas": null,
            "grid_template_columns": null,
            "grid_template_rows": null,
            "height": null,
            "justify_content": null,
            "justify_items": null,
            "left": null,
            "margin": null,
            "max_height": null,
            "max_width": null,
            "min_height": null,
            "min_width": null,
            "object_fit": null,
            "object_position": null,
            "order": null,
            "overflow": null,
            "overflow_x": null,
            "overflow_y": null,
            "padding": null,
            "right": null,
            "top": null,
            "visibility": null,
            "width": null
          }
        },
        "3da3cb10cf044735a4af6e5c1e3c659d": {
          "model_module": "@jupyter-widgets/base",
          "model_name": "LayoutModel",
          "model_module_version": "1.2.0",
          "state": {
            "_model_module": "@jupyter-widgets/base",
            "_model_module_version": "1.2.0",
            "_model_name": "LayoutModel",
            "_view_count": null,
            "_view_module": "@jupyter-widgets/base",
            "_view_module_version": "1.2.0",
            "_view_name": "LayoutView",
            "align_content": null,
            "align_items": null,
            "align_self": null,
            "border": null,
            "bottom": null,
            "display": null,
            "flex": null,
            "flex_flow": null,
            "grid_area": null,
            "grid_auto_columns": null,
            "grid_auto_flow": null,
            "grid_auto_rows": null,
            "grid_column": null,
            "grid_gap": null,
            "grid_row": null,
            "grid_template_areas": null,
            "grid_template_columns": null,
            "grid_template_rows": null,
            "height": null,
            "justify_content": null,
            "justify_items": null,
            "left": null,
            "margin": null,
            "max_height": null,
            "max_width": null,
            "min_height": null,
            "min_width": null,
            "object_fit": null,
            "object_position": null,
            "order": null,
            "overflow": null,
            "overflow_x": null,
            "overflow_y": null,
            "padding": null,
            "right": null,
            "top": null,
            "visibility": null,
            "width": null
          }
        },
        "cbb437d11fea4476b82e2786338d44b2": {
          "model_module": "@jupyter-widgets/controls",
          "model_name": "DescriptionStyleModel",
          "model_module_version": "1.5.0",
          "state": {
            "_model_module": "@jupyter-widgets/controls",
            "_model_module_version": "1.5.0",
            "_model_name": "DescriptionStyleModel",
            "_view_count": null,
            "_view_module": "@jupyter-widgets/base",
            "_view_module_version": "1.2.0",
            "_view_name": "StyleView",
            "description_width": ""
          }
        },
        "5c72f52326834ddf8d87c75716a5f04e": {
          "model_module": "@jupyter-widgets/base",
          "model_name": "LayoutModel",
          "model_module_version": "1.2.0",
          "state": {
            "_model_module": "@jupyter-widgets/base",
            "_model_module_version": "1.2.0",
            "_model_name": "LayoutModel",
            "_view_count": null,
            "_view_module": "@jupyter-widgets/base",
            "_view_module_version": "1.2.0",
            "_view_name": "LayoutView",
            "align_content": null,
            "align_items": null,
            "align_self": null,
            "border": null,
            "bottom": null,
            "display": null,
            "flex": null,
            "flex_flow": null,
            "grid_area": null,
            "grid_auto_columns": null,
            "grid_auto_flow": null,
            "grid_auto_rows": null,
            "grid_column": null,
            "grid_gap": null,
            "grid_row": null,
            "grid_template_areas": null,
            "grid_template_columns": null,
            "grid_template_rows": null,
            "height": null,
            "justify_content": null,
            "justify_items": null,
            "left": null,
            "margin": null,
            "max_height": null,
            "max_width": null,
            "min_height": null,
            "min_width": null,
            "object_fit": null,
            "object_position": null,
            "order": null,
            "overflow": null,
            "overflow_x": null,
            "overflow_y": null,
            "padding": null,
            "right": null,
            "top": null,
            "visibility": null,
            "width": null
          }
        },
        "5c716e48f96d4fd386c0408c1ec95734": {
          "model_module": "@jupyter-widgets/controls",
          "model_name": "ProgressStyleModel",
          "model_module_version": "1.5.0",
          "state": {
            "_model_module": "@jupyter-widgets/controls",
            "_model_module_version": "1.5.0",
            "_model_name": "ProgressStyleModel",
            "_view_count": null,
            "_view_module": "@jupyter-widgets/base",
            "_view_module_version": "1.2.0",
            "_view_name": "StyleView",
            "bar_color": null,
            "description_width": ""
          }
        },
        "3d7d9b47347b4e33992f1a771d4b5aac": {
          "model_module": "@jupyter-widgets/base",
          "model_name": "LayoutModel",
          "model_module_version": "1.2.0",
          "state": {
            "_model_module": "@jupyter-widgets/base",
            "_model_module_version": "1.2.0",
            "_model_name": "LayoutModel",
            "_view_count": null,
            "_view_module": "@jupyter-widgets/base",
            "_view_module_version": "1.2.0",
            "_view_name": "LayoutView",
            "align_content": null,
            "align_items": null,
            "align_self": null,
            "border": null,
            "bottom": null,
            "display": null,
            "flex": null,
            "flex_flow": null,
            "grid_area": null,
            "grid_auto_columns": null,
            "grid_auto_flow": null,
            "grid_auto_rows": null,
            "grid_column": null,
            "grid_gap": null,
            "grid_row": null,
            "grid_template_areas": null,
            "grid_template_columns": null,
            "grid_template_rows": null,
            "height": null,
            "justify_content": null,
            "justify_items": null,
            "left": null,
            "margin": null,
            "max_height": null,
            "max_width": null,
            "min_height": null,
            "min_width": null,
            "object_fit": null,
            "object_position": null,
            "order": null,
            "overflow": null,
            "overflow_x": null,
            "overflow_y": null,
            "padding": null,
            "right": null,
            "top": null,
            "visibility": null,
            "width": null
          }
        },
        "5c308640bbc84eef92a6dc551855f474": {
          "model_module": "@jupyter-widgets/controls",
          "model_name": "DescriptionStyleModel",
          "model_module_version": "1.5.0",
          "state": {
            "_model_module": "@jupyter-widgets/controls",
            "_model_module_version": "1.5.0",
            "_model_name": "DescriptionStyleModel",
            "_view_count": null,
            "_view_module": "@jupyter-widgets/base",
            "_view_module_version": "1.2.0",
            "_view_name": "StyleView",
            "description_width": ""
          }
        },
        "b8d68d903e8f48dcb47e3da4acaa93fd": {
          "model_module": "@jupyter-widgets/controls",
          "model_name": "HBoxModel",
          "model_module_version": "1.5.0",
          "state": {
            "_dom_classes": [],
            "_model_module": "@jupyter-widgets/controls",
            "_model_module_version": "1.5.0",
            "_model_name": "HBoxModel",
            "_view_count": null,
            "_view_module": "@jupyter-widgets/controls",
            "_view_module_version": "1.5.0",
            "_view_name": "HBoxView",
            "box_style": "",
            "children": [
              "IPY_MODEL_da3eac4ceb3d48b091b4c245a613796b",
              "IPY_MODEL_d7f1b9c38fea43c9acd06be47c26f3d3",
              "IPY_MODEL_0bf0d17c4ea641e58228019d311b706a"
            ],
            "layout": "IPY_MODEL_5ae81410b1fe45d6959d6fc4b92e9f8b"
          }
        },
        "da3eac4ceb3d48b091b4c245a613796b": {
          "model_module": "@jupyter-widgets/controls",
          "model_name": "HTMLModel",
          "model_module_version": "1.5.0",
          "state": {
            "_dom_classes": [],
            "_model_module": "@jupyter-widgets/controls",
            "_model_module_version": "1.5.0",
            "_model_name": "HTMLModel",
            "_view_count": null,
            "_view_module": "@jupyter-widgets/controls",
            "_view_module_version": "1.5.0",
            "_view_name": "HTMLView",
            "description": "",
            "description_tooltip": null,
            "layout": "IPY_MODEL_68105fabcc204a5b8da67836808cbfe0",
            "placeholder": "​",
            "style": "IPY_MODEL_2f0c9082aaf341ddb9b8e507b7a09faa",
            "value": "Downloading extra modules: "
          }
        },
        "d7f1b9c38fea43c9acd06be47c26f3d3": {
          "model_module": "@jupyter-widgets/controls",
          "model_name": "FloatProgressModel",
          "model_module_version": "1.5.0",
          "state": {
            "_dom_classes": [],
            "_model_module": "@jupyter-widgets/controls",
            "_model_module_version": "1.5.0",
            "_model_name": "FloatProgressModel",
            "_view_count": null,
            "_view_module": "@jupyter-widgets/controls",
            "_view_module_version": "1.5.0",
            "_view_name": "ProgressView",
            "bar_style": "success",
            "description": "",
            "description_tooltip": null,
            "layout": "IPY_MODEL_08dcc5ef051046dab47fd63728a5882b",
            "max": 1554,
            "min": 0,
            "orientation": "horizontal",
            "style": "IPY_MODEL_f0ff305a132f4cd1a3e891e2c84c5a98",
            "value": 1554
          }
        },
        "0bf0d17c4ea641e58228019d311b706a": {
          "model_module": "@jupyter-widgets/controls",
          "model_name": "HTMLModel",
          "model_module_version": "1.5.0",
          "state": {
            "_dom_classes": [],
            "_model_module": "@jupyter-widgets/controls",
            "_model_module_version": "1.5.0",
            "_model_name": "HTMLModel",
            "_view_count": null,
            "_view_module": "@jupyter-widgets/controls",
            "_view_module_version": "1.5.0",
            "_view_name": "HTMLView",
            "description": "",
            "description_tooltip": null,
            "layout": "IPY_MODEL_6fc5c27b1ff8446aaf810dfde57617f8",
            "placeholder": "​",
            "style": "IPY_MODEL_83e05dc80e85436882f8977f9b6e9362",
            "value": " 4.07k/? [00:00&lt;00:00, 174kB/s]"
          }
        },
        "5ae81410b1fe45d6959d6fc4b92e9f8b": {
          "model_module": "@jupyter-widgets/base",
          "model_name": "LayoutModel",
          "model_module_version": "1.2.0",
          "state": {
            "_model_module": "@jupyter-widgets/base",
            "_model_module_version": "1.2.0",
            "_model_name": "LayoutModel",
            "_view_count": null,
            "_view_module": "@jupyter-widgets/base",
            "_view_module_version": "1.2.0",
            "_view_name": "LayoutView",
            "align_content": null,
            "align_items": null,
            "align_self": null,
            "border": null,
            "bottom": null,
            "display": null,
            "flex": null,
            "flex_flow": null,
            "grid_area": null,
            "grid_auto_columns": null,
            "grid_auto_flow": null,
            "grid_auto_rows": null,
            "grid_column": null,
            "grid_gap": null,
            "grid_row": null,
            "grid_template_areas": null,
            "grid_template_columns": null,
            "grid_template_rows": null,
            "height": null,
            "justify_content": null,
            "justify_items": null,
            "left": null,
            "margin": null,
            "max_height": null,
            "max_width": null,
            "min_height": null,
            "min_width": null,
            "object_fit": null,
            "object_position": null,
            "order": null,
            "overflow": null,
            "overflow_x": null,
            "overflow_y": null,
            "padding": null,
            "right": null,
            "top": null,
            "visibility": null,
            "width": null
          }
        },
        "68105fabcc204a5b8da67836808cbfe0": {
          "model_module": "@jupyter-widgets/base",
          "model_name": "LayoutModel",
          "model_module_version": "1.2.0",
          "state": {
            "_model_module": "@jupyter-widgets/base",
            "_model_module_version": "1.2.0",
            "_model_name": "LayoutModel",
            "_view_count": null,
            "_view_module": "@jupyter-widgets/base",
            "_view_module_version": "1.2.0",
            "_view_name": "LayoutView",
            "align_content": null,
            "align_items": null,
            "align_self": null,
            "border": null,
            "bottom": null,
            "display": null,
            "flex": null,
            "flex_flow": null,
            "grid_area": null,
            "grid_auto_columns": null,
            "grid_auto_flow": null,
            "grid_auto_rows": null,
            "grid_column": null,
            "grid_gap": null,
            "grid_row": null,
            "grid_template_areas": null,
            "grid_template_columns": null,
            "grid_template_rows": null,
            "height": null,
            "justify_content": null,
            "justify_items": null,
            "left": null,
            "margin": null,
            "max_height": null,
            "max_width": null,
            "min_height": null,
            "min_width": null,
            "object_fit": null,
            "object_position": null,
            "order": null,
            "overflow": null,
            "overflow_x": null,
            "overflow_y": null,
            "padding": null,
            "right": null,
            "top": null,
            "visibility": null,
            "width": null
          }
        },
        "2f0c9082aaf341ddb9b8e507b7a09faa": {
          "model_module": "@jupyter-widgets/controls",
          "model_name": "DescriptionStyleModel",
          "model_module_version": "1.5.0",
          "state": {
            "_model_module": "@jupyter-widgets/controls",
            "_model_module_version": "1.5.0",
            "_model_name": "DescriptionStyleModel",
            "_view_count": null,
            "_view_module": "@jupyter-widgets/base",
            "_view_module_version": "1.2.0",
            "_view_name": "StyleView",
            "description_width": ""
          }
        },
        "08dcc5ef051046dab47fd63728a5882b": {
          "model_module": "@jupyter-widgets/base",
          "model_name": "LayoutModel",
          "model_module_version": "1.2.0",
          "state": {
            "_model_module": "@jupyter-widgets/base",
            "_model_module_version": "1.2.0",
            "_model_name": "LayoutModel",
            "_view_count": null,
            "_view_module": "@jupyter-widgets/base",
            "_view_module_version": "1.2.0",
            "_view_name": "LayoutView",
            "align_content": null,
            "align_items": null,
            "align_self": null,
            "border": null,
            "bottom": null,
            "display": null,
            "flex": null,
            "flex_flow": null,
            "grid_area": null,
            "grid_auto_columns": null,
            "grid_auto_flow": null,
            "grid_auto_rows": null,
            "grid_column": null,
            "grid_gap": null,
            "grid_row": null,
            "grid_template_areas": null,
            "grid_template_columns": null,
            "grid_template_rows": null,
            "height": null,
            "justify_content": null,
            "justify_items": null,
            "left": null,
            "margin": null,
            "max_height": null,
            "max_width": null,
            "min_height": null,
            "min_width": null,
            "object_fit": null,
            "object_position": null,
            "order": null,
            "overflow": null,
            "overflow_x": null,
            "overflow_y": null,
            "padding": null,
            "right": null,
            "top": null,
            "visibility": null,
            "width": null
          }
        },
        "f0ff305a132f4cd1a3e891e2c84c5a98": {
          "model_module": "@jupyter-widgets/controls",
          "model_name": "ProgressStyleModel",
          "model_module_version": "1.5.0",
          "state": {
            "_model_module": "@jupyter-widgets/controls",
            "_model_module_version": "1.5.0",
            "_model_name": "ProgressStyleModel",
            "_view_count": null,
            "_view_module": "@jupyter-widgets/base",
            "_view_module_version": "1.2.0",
            "_view_name": "StyleView",
            "bar_color": null,
            "description_width": ""
          }
        },
        "6fc5c27b1ff8446aaf810dfde57617f8": {
          "model_module": "@jupyter-widgets/base",
          "model_name": "LayoutModel",
          "model_module_version": "1.2.0",
          "state": {
            "_model_module": "@jupyter-widgets/base",
            "_model_module_version": "1.2.0",
            "_model_name": "LayoutModel",
            "_view_count": null,
            "_view_module": "@jupyter-widgets/base",
            "_view_module_version": "1.2.0",
            "_view_name": "LayoutView",
            "align_content": null,
            "align_items": null,
            "align_self": null,
            "border": null,
            "bottom": null,
            "display": null,
            "flex": null,
            "flex_flow": null,
            "grid_area": null,
            "grid_auto_columns": null,
            "grid_auto_flow": null,
            "grid_auto_rows": null,
            "grid_column": null,
            "grid_gap": null,
            "grid_row": null,
            "grid_template_areas": null,
            "grid_template_columns": null,
            "grid_template_rows": null,
            "height": null,
            "justify_content": null,
            "justify_items": null,
            "left": null,
            "margin": null,
            "max_height": null,
            "max_width": null,
            "min_height": null,
            "min_width": null,
            "object_fit": null,
            "object_position": null,
            "order": null,
            "overflow": null,
            "overflow_x": null,
            "overflow_y": null,
            "padding": null,
            "right": null,
            "top": null,
            "visibility": null,
            "width": null
          }
        },
        "83e05dc80e85436882f8977f9b6e9362": {
          "model_module": "@jupyter-widgets/controls",
          "model_name": "DescriptionStyleModel",
          "model_module_version": "1.5.0",
          "state": {
            "_model_module": "@jupyter-widgets/controls",
            "_model_module_version": "1.5.0",
            "_model_name": "DescriptionStyleModel",
            "_view_count": null,
            "_view_module": "@jupyter-widgets/base",
            "_view_module_version": "1.2.0",
            "_view_name": "StyleView",
            "description_width": ""
          }
        },
        "7b5230b458594028b700b5a40a87df92": {
          "model_module": "@jupyter-widgets/controls",
          "model_name": "HBoxModel",
          "model_module_version": "1.5.0",
          "state": {
            "_dom_classes": [],
            "_model_module": "@jupyter-widgets/controls",
            "_model_module_version": "1.5.0",
            "_model_name": "HBoxModel",
            "_view_count": null,
            "_view_module": "@jupyter-widgets/controls",
            "_view_module_version": "1.5.0",
            "_view_name": "HBoxView",
            "box_style": "",
            "children": [
              "IPY_MODEL_70cf0367b17b4096abc38debe9d8ac5c",
              "IPY_MODEL_0ca1e1b9c78f42058c0679cc8e863853",
              "IPY_MODEL_de454f2f42f547259490b68fae1d8e3a"
            ],
            "layout": "IPY_MODEL_d38f5cc650fe407797828b8de1d0587b"
          }
        },
        "70cf0367b17b4096abc38debe9d8ac5c": {
          "model_module": "@jupyter-widgets/controls",
          "model_name": "HTMLModel",
          "model_module_version": "1.5.0",
          "state": {
            "_dom_classes": [],
            "_model_module": "@jupyter-widgets/controls",
            "_model_module_version": "1.5.0",
            "_model_name": "HTMLModel",
            "_view_count": null,
            "_view_module": "@jupyter-widgets/controls",
            "_view_module_version": "1.5.0",
            "_view_name": "HTMLView",
            "description": "",
            "description_tooltip": null,
            "layout": "IPY_MODEL_7062a71fcb3e457ca34338140896be67",
            "placeholder": "​",
            "style": "IPY_MODEL_5218c8c282364cd2a767c463a85ebfaa",
            "value": "Downloading extra modules: 100%"
          }
        },
        "0ca1e1b9c78f42058c0679cc8e863853": {
          "model_module": "@jupyter-widgets/controls",
          "model_name": "FloatProgressModel",
          "model_module_version": "1.5.0",
          "state": {
            "_dom_classes": [],
            "_model_module": "@jupyter-widgets/controls",
            "_model_module_version": "1.5.0",
            "_model_name": "FloatProgressModel",
            "_view_count": null,
            "_view_module": "@jupyter-widgets/controls",
            "_view_module_version": "1.5.0",
            "_view_name": "ProgressView",
            "bar_style": "success",
            "description": "",
            "description_tooltip": null,
            "layout": "IPY_MODEL_a9b98824ec1b4dc3b295714865af5a23",
            "max": 3344,
            "min": 0,
            "orientation": "horizontal",
            "style": "IPY_MODEL_6ea00bdc0c164825828276fb4c2b439b",
            "value": 3344
          }
        },
        "de454f2f42f547259490b68fae1d8e3a": {
          "model_module": "@jupyter-widgets/controls",
          "model_name": "HTMLModel",
          "model_module_version": "1.5.0",
          "state": {
            "_dom_classes": [],
            "_model_module": "@jupyter-widgets/controls",
            "_model_module_version": "1.5.0",
            "_model_name": "HTMLModel",
            "_view_count": null,
            "_view_module": "@jupyter-widgets/controls",
            "_view_module_version": "1.5.0",
            "_view_name": "HTMLView",
            "description": "",
            "description_tooltip": null,
            "layout": "IPY_MODEL_d1dc9f0e3ef34b1692c0249c698c1459",
            "placeholder": "​",
            "style": "IPY_MODEL_835959bc62cb43179c66dda062663ed5",
            "value": " 3.34k/3.34k [00:00&lt;00:00, 179kB/s]"
          }
        },
        "d38f5cc650fe407797828b8de1d0587b": {
          "model_module": "@jupyter-widgets/base",
          "model_name": "LayoutModel",
          "model_module_version": "1.2.0",
          "state": {
            "_model_module": "@jupyter-widgets/base",
            "_model_module_version": "1.2.0",
            "_model_name": "LayoutModel",
            "_view_count": null,
            "_view_module": "@jupyter-widgets/base",
            "_view_module_version": "1.2.0",
            "_view_name": "LayoutView",
            "align_content": null,
            "align_items": null,
            "align_self": null,
            "border": null,
            "bottom": null,
            "display": null,
            "flex": null,
            "flex_flow": null,
            "grid_area": null,
            "grid_auto_columns": null,
            "grid_auto_flow": null,
            "grid_auto_rows": null,
            "grid_column": null,
            "grid_gap": null,
            "grid_row": null,
            "grid_template_areas": null,
            "grid_template_columns": null,
            "grid_template_rows": null,
            "height": null,
            "justify_content": null,
            "justify_items": null,
            "left": null,
            "margin": null,
            "max_height": null,
            "max_width": null,
            "min_height": null,
            "min_width": null,
            "object_fit": null,
            "object_position": null,
            "order": null,
            "overflow": null,
            "overflow_x": null,
            "overflow_y": null,
            "padding": null,
            "right": null,
            "top": null,
            "visibility": null,
            "width": null
          }
        },
        "7062a71fcb3e457ca34338140896be67": {
          "model_module": "@jupyter-widgets/base",
          "model_name": "LayoutModel",
          "model_module_version": "1.2.0",
          "state": {
            "_model_module": "@jupyter-widgets/base",
            "_model_module_version": "1.2.0",
            "_model_name": "LayoutModel",
            "_view_count": null,
            "_view_module": "@jupyter-widgets/base",
            "_view_module_version": "1.2.0",
            "_view_name": "LayoutView",
            "align_content": null,
            "align_items": null,
            "align_self": null,
            "border": null,
            "bottom": null,
            "display": null,
            "flex": null,
            "flex_flow": null,
            "grid_area": null,
            "grid_auto_columns": null,
            "grid_auto_flow": null,
            "grid_auto_rows": null,
            "grid_column": null,
            "grid_gap": null,
            "grid_row": null,
            "grid_template_areas": null,
            "grid_template_columns": null,
            "grid_template_rows": null,
            "height": null,
            "justify_content": null,
            "justify_items": null,
            "left": null,
            "margin": null,
            "max_height": null,
            "max_width": null,
            "min_height": null,
            "min_width": null,
            "object_fit": null,
            "object_position": null,
            "order": null,
            "overflow": null,
            "overflow_x": null,
            "overflow_y": null,
            "padding": null,
            "right": null,
            "top": null,
            "visibility": null,
            "width": null
          }
        },
        "5218c8c282364cd2a767c463a85ebfaa": {
          "model_module": "@jupyter-widgets/controls",
          "model_name": "DescriptionStyleModel",
          "model_module_version": "1.5.0",
          "state": {
            "_model_module": "@jupyter-widgets/controls",
            "_model_module_version": "1.5.0",
            "_model_name": "DescriptionStyleModel",
            "_view_count": null,
            "_view_module": "@jupyter-widgets/base",
            "_view_module_version": "1.2.0",
            "_view_name": "StyleView",
            "description_width": ""
          }
        },
        "a9b98824ec1b4dc3b295714865af5a23": {
          "model_module": "@jupyter-widgets/base",
          "model_name": "LayoutModel",
          "model_module_version": "1.2.0",
          "state": {
            "_model_module": "@jupyter-widgets/base",
            "_model_module_version": "1.2.0",
            "_model_name": "LayoutModel",
            "_view_count": null,
            "_view_module": "@jupyter-widgets/base",
            "_view_module_version": "1.2.0",
            "_view_name": "LayoutView",
            "align_content": null,
            "align_items": null,
            "align_self": null,
            "border": null,
            "bottom": null,
            "display": null,
            "flex": null,
            "flex_flow": null,
            "grid_area": null,
            "grid_auto_columns": null,
            "grid_auto_flow": null,
            "grid_auto_rows": null,
            "grid_column": null,
            "grid_gap": null,
            "grid_row": null,
            "grid_template_areas": null,
            "grid_template_columns": null,
            "grid_template_rows": null,
            "height": null,
            "justify_content": null,
            "justify_items": null,
            "left": null,
            "margin": null,
            "max_height": null,
            "max_width": null,
            "min_height": null,
            "min_width": null,
            "object_fit": null,
            "object_position": null,
            "order": null,
            "overflow": null,
            "overflow_x": null,
            "overflow_y": null,
            "padding": null,
            "right": null,
            "top": null,
            "visibility": null,
            "width": null
          }
        },
        "6ea00bdc0c164825828276fb4c2b439b": {
          "model_module": "@jupyter-widgets/controls",
          "model_name": "ProgressStyleModel",
          "model_module_version": "1.5.0",
          "state": {
            "_model_module": "@jupyter-widgets/controls",
            "_model_module_version": "1.5.0",
            "_model_name": "ProgressStyleModel",
            "_view_count": null,
            "_view_module": "@jupyter-widgets/base",
            "_view_module_version": "1.2.0",
            "_view_name": "StyleView",
            "bar_color": null,
            "description_width": ""
          }
        },
        "d1dc9f0e3ef34b1692c0249c698c1459": {
          "model_module": "@jupyter-widgets/base",
          "model_name": "LayoutModel",
          "model_module_version": "1.2.0",
          "state": {
            "_model_module": "@jupyter-widgets/base",
            "_model_module_version": "1.2.0",
            "_model_name": "LayoutModel",
            "_view_count": null,
            "_view_module": "@jupyter-widgets/base",
            "_view_module_version": "1.2.0",
            "_view_name": "LayoutView",
            "align_content": null,
            "align_items": null,
            "align_self": null,
            "border": null,
            "bottom": null,
            "display": null,
            "flex": null,
            "flex_flow": null,
            "grid_area": null,
            "grid_auto_columns": null,
            "grid_auto_flow": null,
            "grid_auto_rows": null,
            "grid_column": null,
            "grid_gap": null,
            "grid_row": null,
            "grid_template_areas": null,
            "grid_template_columns": null,
            "grid_template_rows": null,
            "height": null,
            "justify_content": null,
            "justify_items": null,
            "left": null,
            "margin": null,
            "max_height": null,
            "max_width": null,
            "min_height": null,
            "min_width": null,
            "object_fit": null,
            "object_position": null,
            "order": null,
            "overflow": null,
            "overflow_x": null,
            "overflow_y": null,
            "padding": null,
            "right": null,
            "top": null,
            "visibility": null,
            "width": null
          }
        },
        "835959bc62cb43179c66dda062663ed5": {
          "model_module": "@jupyter-widgets/controls",
          "model_name": "DescriptionStyleModel",
          "model_module_version": "1.5.0",
          "state": {
            "_model_module": "@jupyter-widgets/controls",
            "_model_module_version": "1.5.0",
            "_model_name": "DescriptionStyleModel",
            "_view_count": null,
            "_view_module": "@jupyter-widgets/base",
            "_view_module_version": "1.2.0",
            "_view_name": "StyleView",
            "description_width": ""
          }
        }
      }
    }
  },
  "cells": [
    {
      "cell_type": "markdown",
      "metadata": {
        "id": "view-in-github",
        "colab_type": "text"
      },
      "source": [
        "<a href=\"https://colab.research.google.com/github/vifirsanova/compling/blob/main/nmt_data_preprocessing.ipynb\" target=\"_parent\"><img src=\"https://colab.research.google.com/assets/colab-badge.svg\" alt=\"Open In Colab\"/></a>"
      ]
    },
    {
      "cell_type": "markdown",
      "source": [
        "`Курс \"Компьютерная лингвистика\" | НИУ ВШЭ Санкт-Петербург 2024 (c) В.И. Фирсанова`"
      ],
      "metadata": {
        "id": "mQvakFO6NW9e"
      }
    },
    {
      "cell_type": "markdown",
      "source": [
        "# Нейросетевой машинный перевод: подготовка данных к машинному обучению"
      ],
      "metadata": {
        "id": "mG7BGK5QYMUe"
      }
    },
    {
      "cell_type": "markdown",
      "source": [
        "План занятия:\n",
        "\n",
        "I. Знакомимся с процессом подготовки данных к машинному обучению\n",
        "\n",
        "II. Вместе проходим туториал TensorFlow и осваиваем модель кодер-декодер на примере рекуррентной нейросети"
      ],
      "metadata": {
        "id": "Zqijo01Tagqd"
      }
    },
    {
      "cell_type": "markdown",
      "source": [
        "Загрузка данных"
      ],
      "metadata": {
        "id": "9C2JcKk4YR3t"
      }
    },
    {
      "cell_type": "code",
      "source": [
        "!wget https://raw.githubusercontent.com/vifirsanova/compling/main/data/toy_data.en\n",
        "!wget https://raw.githubusercontent.com/vifirsanova/compling/main/data/toy_data.ru"
      ],
      "metadata": {
        "colab": {
          "base_uri": "https://localhost:8080/"
        },
        "id": "HTzdykF64NA2",
        "outputId": "3fe1a0cc-6df5-435d-bb5f-0144e5043dfb"
      },
      "execution_count": 1,
      "outputs": [
        {
          "output_type": "stream",
          "name": "stdout",
          "text": [
            "--2024-02-08 13:31:58--  https://raw.githubusercontent.com/vifirsanova/compling/main/data/toy_data.en\n",
            "Resolving raw.githubusercontent.com (raw.githubusercontent.com)... 185.199.108.133, 185.199.109.133, 185.199.110.133, ...\n",
            "Connecting to raw.githubusercontent.com (raw.githubusercontent.com)|185.199.108.133|:443... connected.\n",
            "HTTP request sent, awaiting response... 200 OK\n",
            "Length: 1590 (1.6K) [text/plain]\n",
            "Saving to: ‘toy_data.en.4’\n",
            "\n",
            "\rtoy_data.en.4         0%[                    ]       0  --.-KB/s               \rtoy_data.en.4       100%[===================>]   1.55K  --.-KB/s    in 0s      \n",
            "\n",
            "2024-02-08 13:31:58 (30.8 MB/s) - ‘toy_data.en.4’ saved [1590/1590]\n",
            "\n",
            "--2024-02-08 13:31:58--  https://raw.githubusercontent.com/vifirsanova/compling/main/data/toy_data.ru\n",
            "Resolving raw.githubusercontent.com (raw.githubusercontent.com)... 185.199.108.133, 185.199.109.133, 185.199.110.133, ...\n",
            "Connecting to raw.githubusercontent.com (raw.githubusercontent.com)|185.199.108.133|:443... connected.\n",
            "HTTP request sent, awaiting response... 200 OK\n",
            "Length: 2501 (2.4K) [text/plain]\n",
            "Saving to: ‘toy_data.ru.4’\n",
            "\n",
            "toy_data.ru.4       100%[===================>]   2.44K  --.-KB/s    in 0s      \n",
            "\n",
            "2024-02-08 13:31:59 (34.1 MB/s) - ‘toy_data.ru.4’ saved [2501/2501]\n",
            "\n"
          ]
        }
      ]
    },
    {
      "cell_type": "markdown",
      "source": [
        "Импорт библиотек"
      ],
      "metadata": {
        "id": "RIbJJZcTYUQQ"
      }
    },
    {
      "cell_type": "code",
      "source": [
        "import numpy as np\n",
        "\n",
        "from sklearn.model_selection import train_test_split\n",
        "\n",
        "import tensorflow as tf"
      ],
      "metadata": {
        "id": "tLHJ1Sv14flo"
      },
      "execution_count": 2,
      "outputs": []
    },
    {
      "cell_type": "markdown",
      "source": [
        "Запись данных в переменные"
      ],
      "metadata": {
        "id": "JXDVWi6yYX07"
      }
    },
    {
      "cell_type": "code",
      "source": [
        "def load_data(path):\n",
        "  with open(path, 'r', encoding='utf-8') as f:\n",
        "    return np.array(f.read().split('\\n'))"
      ],
      "metadata": {
        "id": "BtA7pYP-4U0Y"
      },
      "execution_count": 3,
      "outputs": []
    },
    {
      "cell_type": "code",
      "source": [
        "x_data, y_data = load_data('toy_data.ru'), load_data('toy_data.en')\n",
        "\n",
        "print(\"Данные языка X:\\n\", x_data[5])\n",
        "print(\"Данные языка Y:\\n\", y_data[5])"
      ],
      "metadata": {
        "colab": {
          "base_uri": "https://localhost:8080/"
        },
        "id": "1Xy2YT7O3zen",
        "outputId": "ccb836b1-5263-4e43-c129-785951c5707c"
      },
      "execution_count": 4,
      "outputs": [
        {
          "output_type": "stream",
          "name": "stdout",
          "text": [
            "Данные языка X:\n",
            "     Я люблю тебя.\n",
            "Данные языка Y:\n",
            "     I love you.\n"
          ]
        }
      ]
    },
    {
      "cell_type": "markdown",
      "source": [
        "Создаем выборки"
      ],
      "metadata": {
        "id": "E_5j8QYBYkMM"
      }
    },
    {
      "cell_type": "code",
      "source": [
        "x_train, x_test, y_train, y_test = train_test_split(x_data, y_data)\n",
        "\n",
        "print(\"Тестовые данные языка X:\\n\", x_test)\n",
        "print(\"Тестовые данные языка Y:\\n\", y_test)"
      ],
      "metadata": {
        "colab": {
          "base_uri": "https://localhost:8080/"
        },
        "id": "TCATNl2o5kRm",
        "outputId": "ad075a26-32b6-4df8-8f8e-27fc951aff6e"
      },
      "execution_count": 5,
      "outputs": [
        {
          "output_type": "stream",
          "name": "stdout",
          "text": [
            "Тестовые данные языка X:\n",
            " ['    Давай встретимся завтра.'\n",
            " '    Что ты обычно говоришь в таких ситуациях?'\n",
            " '    Что ты любишь делать в свободное время?'\n",
            " '    Что ты хочешь сказать этим?' '    Какие книги ты читаешь?'\n",
            " '    Каков твой родной язык?'\n",
            " '    Что ты хотел бы заказать в этом ресторане?'\n",
            " '    Что ты хочешь сказать?' '    Какие у тебя планы на будущее?'\n",
            " '    Я не понимаю.' '    Что ты думаешь о этом месте?'\n",
            " '    Какой прекрасный день!' '    Какие фильмы ты любишь смотреть?']\n",
            "Тестовые данные языка Y:\n",
            " [\"    Let's meet tomorrow.\"\n",
            " '    What do you usually say in such situations?'\n",
            " '    What do you like to do in your free time?'\n",
            " '    What do you mean by that?' '    What books do you read?'\n",
            " '    What is your native language?'\n",
            " '    What would you like to order in this restaurant?'\n",
            " '    What do you want to say?' '    What are your plans for the future?'\n",
            " \"    I don't understand.\" '    What do you think about this place?'\n",
            " '    What a beautiful day!' '    What movies do you like to watch?']\n"
          ]
        }
      ]
    },
    {
      "cell_type": "markdown",
      "source": [
        "Создаем объекты Dataset\n",
        "\n",
        "**Тензор** - объект векторного пространства V конечной размерности n\n",
        "\n",
        "*shape* - размерность тензора\n",
        "\n",
        "*dtype* - какие данные хранятся в объекте\n",
        "\n",
        "**Батч** - некий отрезок данных; на батчи обычно деляться данные для машинного обучения"
      ],
      "metadata": {
        "id": "2d02UYJsYoUF"
      }
    },
    {
      "cell_type": "code",
      "source": [
        "train_dataset = tf.data.Dataset.from_tensor_slices((x_train, y_train)).batch(64).shuffle(len(x_data))\n",
        "test_dataset = tf.data.Dataset.from_tensor_slices((x_test, y_test)).batch(64).shuffle(len(x_data))\n",
        "\n",
        "for x_strings, y_strings in train_dataset.take(1):\n",
        "  print(\"Образец tf-датасета, данные языка X:\\n\", x_strings[1:3])\n",
        "  print(\"\\nОбразец tf-датасета, данные языка Y:\\n\", y_strings[1:3])"
      ],
      "metadata": {
        "colab": {
          "base_uri": "https://localhost:8080/"
        },
        "id": "Gl2QRYyy42mk",
        "outputId": "8e95d306-fea4-422b-e6f0-5391e44a1704"
      },
      "execution_count": 25,
      "outputs": [
        {
          "output_type": "stream",
          "name": "stdout",
          "text": [
            "Образец tf-датасета, данные языка X:\n",
            " tf.Tensor(\n",
            "[b'    \\xd0\\xa7\\xd1\\x82\\xd0\\xbe \\xd1\\x82\\xd1\\x8b \\xd0\\xb4\\xd0\\xb5\\xd0\\xbb\\xd0\\xb0\\xd0\\xb5\\xd1\\x88\\xd1\\x8c \\xd0\\xb2\\xd0\\xb5\\xd1\\x87\\xd0\\xb5\\xd1\\x80\\xd0\\xbe\\xd0\\xbc?'\n",
            " b'    \\xd0\\x9a\\xd0\\xb0\\xd0\\xba\\xd0\\xb8\\xd0\\xb5 \\xd1\\x83 \\xd1\\x82\\xd0\\xb5\\xd0\\xb1\\xd1\\x8f \\xd1\\x85\\xd0\\xbe\\xd0\\xb1\\xd0\\xb1\\xd0\\xb8?'], shape=(2,), dtype=string)\n",
            "\n",
            "Образец tf-датасета, данные языка Y:\n",
            " tf.Tensor([b'    What do you do in the evening?' b'    What are your hobbies?'], shape=(2,), dtype=string)\n"
          ]
        }
      ]
    },
    {
      "cell_type": "markdown",
      "source": [
        "Предобработка данных: чистка и токенизация"
      ],
      "metadata": {
        "id": "Y1xMNAbMZuQk"
      }
    },
    {
      "cell_type": "code",
      "source": [
        "def tokenize(text):\n",
        "  # к нижнему регистру\n",
        "  text_lower = tf.strings.lower(text, encoding='utf-8')\n",
        "  # оставим знаки препинания и все буквы латиницы и кириллицы\n",
        "  text_clean = tf.strings.regex_replace(text_lower, '[^ a-zа-я.?!,]', '')\n",
        "  # добавим пробел перед знаками препинания (для токенизации знаков)\n",
        "  text_punct = tf.strings.regex_replace(text_clean, '[.?!,]', r' \\0 ')\n",
        "  # избавимся от лишних пробелов\n",
        "  text = tf.strings.strip(text_punct)\n",
        "  # добавим метки начала (sos: start of the sentence) и конца (eos: end of the sentence) предложений\n",
        "  return tf.strings.join(['<SOS>', text, '<EOS>'], separator=' ')"
      ],
      "metadata": {
        "id": "eZOMmu1s8udM"
      },
      "execution_count": 29,
      "outputs": []
    },
    {
      "cell_type": "code",
      "source": [
        "print(\"Образец токенизации:\\n\", tokenize(tf.constant(\"Как твои дела?\")).numpy().decode())"
      ],
      "metadata": {
        "colab": {
          "base_uri": "https://localhost:8080/"
        },
        "id": "n49wA3yM_ulB",
        "outputId": "7fa2e3c7-ffa8-42e3-c48b-2b3ee011a759"
      },
      "execution_count": 32,
      "outputs": [
        {
          "output_type": "stream",
          "name": "stdout",
          "text": [
            "Образец токенизации:\n",
            " <SOS> как твои дела ? <EOS>\n"
          ]
        }
      ]
    },
    {
      "cell_type": "markdown",
      "source": [
        "Кодирование (векторизация): готовим данные для \"скармливания\" их модели"
      ],
      "metadata": {
        "id": "knE3JvQeZ0Er"
      }
    },
    {
      "cell_type": "code",
      "source": [
        "x_text_processor = tf.keras.layers.TextVectorization(standardize=tokenize, ragged=True)\n",
        "\n",
        "x_text_processor.adapt(train_dataset.map(lambda x, target: x))\n",
        "print(\"Образец обучающего словаря языка X:\\n\", x_text_processor.get_vocabulary()[:10])\n",
        "print(\"\\nОбразец закодированного текста X:\\n\\tТекст:\", x_strings[1].numpy().decode(), \"\\n\\tКодирование:\", x_text_processor(x_strings[1]))\n",
        "\n",
        "y_text_processor = tf.keras.layers.TextVectorization(standardize=tokenize, ragged=True)\n",
        "\n",
        "y_text_processor.adapt(train_dataset.map(lambda x, target: target))\n",
        "print(\"\\nОбразец обучающего словаря языка Y:\\n\", y_text_processor.get_vocabulary()[:10])\n",
        "print(\"\\nОбразец закодированного текста X:\\n\\tТекст:\", y_strings[1].numpy().decode(), \"\\n\\tКодирование:\", y_text_processor(y_strings[1]))"
      ],
      "metadata": {
        "colab": {
          "base_uri": "https://localhost:8080/"
        },
        "id": "QhNqOjwS_8GS",
        "outputId": "fa7598db-8de6-4851-a72b-5adb2738ef11"
      },
      "execution_count": 67,
      "outputs": [
        {
          "output_type": "stream",
          "name": "stdout",
          "text": [
            "Образец обучающего словаря языка X:\n",
            " ['', '[UNK]', '<SOS>', '<EOS>', '?', 'ты', 'как', 'что', 'тебя', 'у']\n",
            "\n",
            "Образец закодированного текста X:\n",
            "\tТекст:     Что ты делаешь вечером? \n",
            "\tКодирование: tf.Tensor([ 2  7  5 28 89  4  3], shape=(7,), dtype=int64)\n",
            "\n",
            "Образец обучающего словаря языка Y:\n",
            " ['', '[UNK]', '<SOS>', '<EOS>', '?', 'you', 'what', 'do', 'your', 'how']\n",
            "\n",
            "Образец закодированного текста X:\n",
            "\tТекст:     What do you do in the evening? \n",
            "\tКодирование: tf.Tensor([ 2  6  7  5  7 23 10 73  4  3], shape=(10,), dtype=int64)\n"
          ]
        }
      ]
    },
    {
      "cell_type": "code",
      "source": [
        "def encode(x, y):\n",
        "  # обработка текстов (текст -> словарь -> замена слов их ID'шками из словаря)\n",
        "  x_encoded = x_text_processor(x).to_tensor()\n",
        "  y_encoded = y_text_processor(y)\n",
        "  # (x_encoded, y_encoded) -> ((x_encoded, y_input), y_label) для keras.Model.fit\n",
        "  # Keras принимает (inputs, labels)\n",
        "  # inputs = (x_encoded, y_input)\n",
        "  # labels = y_label\n",
        "  # y_label += следующий за y_input токен\n",
        "  y_input = y_encoded[:,:-1].to_tensor()\n",
        "  y_label = y_encoded[:,1:].to_tensor()\n",
        "  return (x_encoded, y_input), y_label"
      ],
      "metadata": {
        "id": "espfq8SLCPkZ"
      },
      "execution_count": 70,
      "outputs": []
    },
    {
      "cell_type": "code",
      "source": [
        "train = train_dataset.map(encode, tf.data.AUTOTUNE)\n",
        "test = test_dataset.map(encode, tf.data.AUTOTUNE)\n",
        "\n",
        "for (x_encoded_token, y_input_token), y_label_token in train.take(1):\n",
        "  print(\"Закодированный текст x:\")\n",
        "  print(x_encoded_token[1, :10].numpy())\n",
        "  print(\"\\nЗакодированный текст y:\")\n",
        "  print(y_input_token[1, :10].numpy())\n",
        "  print(\"\\nТот же текст y мы сдвинули на 1 токен вперед:\")\n",
        "  print(y_label_token[1, :10].numpy())"
      ],
      "metadata": {
        "colab": {
          "base_uri": "https://localhost:8080/"
        },
        "id": "m-CwqUCECmoP",
        "outputId": "9b4f74af-b26b-43a8-b6b9-3ec2f1433e38"
      },
      "execution_count": 80,
      "outputs": [
        {
          "output_type": "stream",
          "name": "stdout",
          "text": [
            "Закодированный текст x:\n",
            "[ 2  7  5 28 89  4  3  0  0  0]\n",
            "\n",
            "Закодированный текст y:\n",
            "[ 2  6  7  5  7 23 10 73  4  0]\n",
            "\n",
            "Тот же текст y мы сдвинули на 1 токен вперед:\n",
            "[ 6  7  5  7 23 10 73  4  3  0]\n"
          ]
        }
      ]
    },
    {
      "cell_type": "markdown",
      "source": [
        "Задание:\n",
        "\n",
        "1. **По желанию**\n",
        "\n",
        "* Ознакомиться с [туториалом TensorFlow](https://www.tensorflow.org/text/tutorials/nmt_with_attention) по машинному переводу\n",
        "\n",
        "* Адаптировать препроцессинг на основе этого воркбука и обучить модель из туториала TensorFlow на данных `toy_data.ru` и `toy_data.en`\n",
        "\n",
        "2. **Обязательно**\n",
        "\n",
        "* Ниже: образец подсчета BLEU-Score для системы машинного перевода. Вспомните, как считается BLEU и опишите своими словами форумулу расчета и интерпретацию результатов. Ответьте на следующие вопросы:\n",
        "\n",
        "  * Что значит кандидат и референс?\n",
        "  * Для чего подойдет BLEU-Score: подсчета отдельных переводов или результатов работы системы на целом корпусе?\n",
        "  * Какие \"скоры\" считаются высокими, а какие - низкими?\n",
        "  \n",
        "* Проанализируйте результаты в ячейках ниже. Порассуждайте:\n",
        "\n",
        "  * На ваш взгляд, какие слова, контексты вызвали трудности у автоматической системы?\n",
        "  * Руководствуясь знаниями о том, как работают нейросети, предположите, что вызвало ошибки."
      ],
      "metadata": {
        "id": "QqGQiqnKLifx"
      }
    },
    {
      "cell_type": "code",
      "source": [
        "!pip install evaluate"
      ],
      "metadata": {
        "id": "JiB4EwOsPRE8"
      },
      "execution_count": null,
      "outputs": []
    },
    {
      "cell_type": "code",
      "source": [
        "import evaluate\n",
        "\n",
        "predictions = [\n",
        "    \"In addition to the usual hockey, there is an underwater and even ice version of this game.\", #  Помимо обычного хоккея, существует подводная и даже подлёдная разновидности этой игры.\n",
        "    \"You reap what you sow.\", # Что посеешь - то и пожнешь.\n",
        "    \"Also, justice is how we distribute the small resources.\" # Также, справедливость - это и то, как мы распределяем малые ресурсы.\n",
        "    ]\n",
        "\n",
        "references = [\n",
        "    [\"In addition to conventional hockey, there is an underwater and even under-ice variety of this game.\"], #  Помимо обычного хоккея, существует подводная и даже подлёдная разновидности этой игры.\n",
        "    [\"What goes around comes around.\"], # Что посеешь - то и пожнешь.\n",
        "    [\"Fairness also has to do with how we distribute scarce resources.\"], # Также, справедливость - это и то, как мы распределяем малые ресурсы.\n",
        "    ]\n",
        "\n",
        "bleu = evaluate.load(\"bleu\")\n",
        "results = bleu.compute(predictions=predictions, references=references)\n",
        "\n",
        "print(results)"
      ],
      "metadata": {
        "colab": {
          "base_uri": "https://localhost:8080/",
          "height": 150,
          "referenced_widgets": [
            "8d5be328e8a4457f8a3dd61e05f4a7cb",
            "d2c0bf9b14484dce93b61d639242328f",
            "b4a23906af914894bdade51f78e02a91",
            "7b197202c40d42849b6d3ef60933022c",
            "0b79147e311e4854940b6ced765dbb3b",
            "3da3cb10cf044735a4af6e5c1e3c659d",
            "cbb437d11fea4476b82e2786338d44b2",
            "5c72f52326834ddf8d87c75716a5f04e",
            "5c716e48f96d4fd386c0408c1ec95734",
            "3d7d9b47347b4e33992f1a771d4b5aac",
            "5c308640bbc84eef92a6dc551855f474",
            "b8d68d903e8f48dcb47e3da4acaa93fd",
            "da3eac4ceb3d48b091b4c245a613796b",
            "d7f1b9c38fea43c9acd06be47c26f3d3",
            "0bf0d17c4ea641e58228019d311b706a",
            "5ae81410b1fe45d6959d6fc4b92e9f8b",
            "68105fabcc204a5b8da67836808cbfe0",
            "2f0c9082aaf341ddb9b8e507b7a09faa",
            "08dcc5ef051046dab47fd63728a5882b",
            "f0ff305a132f4cd1a3e891e2c84c5a98",
            "6fc5c27b1ff8446aaf810dfde57617f8",
            "83e05dc80e85436882f8977f9b6e9362",
            "7b5230b458594028b700b5a40a87df92",
            "70cf0367b17b4096abc38debe9d8ac5c",
            "0ca1e1b9c78f42058c0679cc8e863853",
            "de454f2f42f547259490b68fae1d8e3a",
            "d38f5cc650fe407797828b8de1d0587b",
            "7062a71fcb3e457ca34338140896be67",
            "5218c8c282364cd2a767c463a85ebfaa",
            "a9b98824ec1b4dc3b295714865af5a23",
            "6ea00bdc0c164825828276fb4c2b439b",
            "d1dc9f0e3ef34b1692c0249c698c1459",
            "835959bc62cb43179c66dda062663ed5"
          ]
        },
        "id": "e7uEHzktPJbB",
        "outputId": "10fcfee4-8d31-46a0-f321-bf64a8e2c955"
      },
      "execution_count": 83,
      "outputs": [
        {
          "output_type": "display_data",
          "data": {
            "text/plain": [
              "Downloading builder script:   0%|          | 0.00/5.94k [00:00<?, ?B/s]"
            ],
            "application/vnd.jupyter.widget-view+json": {
              "version_major": 2,
              "version_minor": 0,
              "model_id": "8d5be328e8a4457f8a3dd61e05f4a7cb"
            }
          },
          "metadata": {}
        },
        {
          "output_type": "display_data",
          "data": {
            "text/plain": [
              "Downloading extra modules:   0%|          | 0.00/1.55k [00:00<?, ?B/s]"
            ],
            "application/vnd.jupyter.widget-view+json": {
              "version_major": 2,
              "version_minor": 0,
              "model_id": "b8d68d903e8f48dcb47e3da4acaa93fd"
            }
          },
          "metadata": {}
        },
        {
          "output_type": "display_data",
          "data": {
            "text/plain": [
              "Downloading extra modules:   0%|          | 0.00/3.34k [00:00<?, ?B/s]"
            ],
            "application/vnd.jupyter.widget-view+json": {
              "version_major": 2,
              "version_minor": 0,
              "model_id": "7b5230b458594028b700b5a40a87df92"
            }
          },
          "metadata": {}
        },
        {
          "output_type": "stream",
          "name": "stdout",
          "text": [
            "{'bleu': 0.374360558192794, 'precisions': [0.5833333333333334, 0.45454545454545453, 0.3333333333333333, 0.2222222222222222], 'brevity_penalty': 1.0, 'length_ratio': 1.0, 'translation_length': 36, 'reference_length': 36}\n"
          ]
        }
      ]
    }
  ]
}