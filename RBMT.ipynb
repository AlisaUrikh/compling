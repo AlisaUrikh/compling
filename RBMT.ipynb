{
  "nbformat": 4,
  "nbformat_minor": 0,
  "metadata": {
    "colab": {
      "provenance": [],
      "toc_visible": true,
      "authorship_tag": "ABX9TyP3kxjDt5Pnl/TyCpJRxzJQ",
      "include_colab_link": true
    },
    "kernelspec": {
      "name": "python3",
      "display_name": "Python 3"
    },
    "language_info": {
      "name": "python"
    }
  },
  "cells": [
    {
      "cell_type": "markdown",
      "metadata": {
        "id": "view-in-github",
        "colab_type": "text"
      },
      "source": [
        "<a href=\"https://colab.research.google.com/github/vifirsanova/compling/blob/main/RBMT.ipynb\" target=\"_parent\"><img src=\"https://colab.research.google.com/assets/colab-badge.svg\" alt=\"Open In Colab\"/></a>"
      ]
    },
    {
      "cell_type": "markdown",
      "source": [
        "# Машинный перевод на основе правил"
      ],
      "metadata": {
        "id": "8p-v1IgpIRYZ"
      }
    },
    {
      "cell_type": "markdown",
      "source": [
        "## Архитектура системы машинного перевода на основе правил"
      ],
      "metadata": {
        "id": "c3jPaPsEIWiQ"
      }
    },
    {
      "cell_type": "markdown",
      "source": [
        "## DIY-модель"
      ],
      "metadata": {
        "id": "BjbCUUahIjPV"
      }
    },
    {
      "cell_type": "markdown",
      "source": [
        "Базовая модель"
      ],
      "metadata": {
        "id": "emEzBo6MJOsV"
      }
    },
    {
      "cell_type": "markdown",
      "source": [
        "Добавляем правила в базовую модель"
      ],
      "metadata": {
        "id": "IBKjeh7TJRdn"
      }
    },
    {
      "cell_type": "markdown",
      "source": [
        "Создаем языковые правила"
      ],
      "metadata": {
        "id": "oKkZQHS3JV3l"
      }
    },
    {
      "cell_type": "markdown",
      "source": [
        "## Apertium"
      ],
      "metadata": {
        "id": "L3D2CYXgIy25"
      }
    },
    {
      "cell_type": "markdown",
      "source": [
        "Что такое Apertium?"
      ],
      "metadata": {
        "id": "FgPq_Ip1JbeZ"
      }
    },
    {
      "cell_type": "markdown",
      "source": [
        "### APY Apertium"
      ],
      "metadata": {
        "id": "uwSkBpCAJgD4"
      }
    },
    {
      "cell_type": "markdown",
      "source": [
        "Что такое APY?"
      ],
      "metadata": {
        "id": "PAvRGr1hKHzT"
      }
    },
    {
      "cell_type": "markdown",
      "source": [
        "Переводим с помощью APY"
      ],
      "metadata": {
        "id": "uR-O3V39J347"
      }
    },
    {
      "cell_type": "markdown",
      "source": [
        "### Компоненты Apertium"
      ],
      "metadata": {
        "id": "_PQ6FtIUJoGx"
      }
    },
    {
      "cell_type": "markdown",
      "source": [
        "Анализатор"
      ],
      "metadata": {
        "id": "EK4uZsvHKedO"
      }
    },
    {
      "cell_type": "code",
      "source": [
        "# запускаем"
      ],
      "metadata": {
        "id": "T4Gm8sVOIVkq"
      },
      "execution_count": null,
      "outputs": []
    },
    {
      "cell_type": "markdown",
      "source": [
        "Как работает анализатор?"
      ],
      "metadata": {
        "id": "LHC2a-VeLBGJ"
      }
    },
    {
      "cell_type": "markdown",
      "source": [
        "Генератор"
      ],
      "metadata": {
        "id": "vYLIQxnHKfne"
      }
    },
    {
      "cell_type": "code",
      "source": [
        "# запускаем"
      ],
      "metadata": {
        "id": "dL-DIm-XLEKA"
      },
      "execution_count": null,
      "outputs": []
    },
    {
      "cell_type": "markdown",
      "source": [
        "Как работает генератор?"
      ],
      "metadata": {
        "id": "mNYoJgOALEKC"
      }
    },
    {
      "cell_type": "markdown",
      "source": [
        "Теггер"
      ],
      "metadata": {
        "id": "vbyaFXoTKgxF"
      }
    },
    {
      "cell_type": "code",
      "source": [
        "# запускаем"
      ],
      "metadata": {
        "id": "6aD_uEgGLGS1"
      },
      "execution_count": null,
      "outputs": []
    },
    {
      "cell_type": "markdown",
      "source": [
        "Как работает теггер?"
      ],
      "metadata": {
        "id": "EblEThY-LGS2"
      }
    },
    {
      "cell_type": "markdown",
      "source": [
        "Перевод"
      ],
      "metadata": {
        "id": "rLtvdgbkKhuD"
      }
    },
    {
      "cell_type": "code",
      "source": [
        "# запускаем"
      ],
      "metadata": {
        "id": "TNSbnIknLHzR"
      },
      "execution_count": null,
      "outputs": []
    },
    {
      "cell_type": "markdown",
      "source": [
        "Как работает перевод?"
      ],
      "metadata": {
        "id": "qE-JiJbWLHzS"
      }
    },
    {
      "cell_type": "markdown",
      "source": [
        "# Домашнее задание"
      ],
      "metadata": {
        "id": "chAGRqOnLNyA"
      }
    },
    {
      "cell_type": "markdown",
      "source": [
        "Представьте, что вы работаете аналитиком в проекте по разработке системы машинного перевода. Ваша команда создает систему машинного перевода на основе правил. Прежде чем ваши коллеги приступят к разработке системы, вам, как аналитику, нужно описать архитектуру будущей системы.\n",
        "\n",
        "Опишите структуру своей системы машинного перевода на основе правила в формате псевдокода. В процессе работы вам нужно будет ответить на следующие вопросы:\n",
        "\n",
        "+ Какую языковую пару обрабатывает ваша система?\n",
        "+ Какие виды анализа и предварительной обработки данных вы применяете?\n",
        "+ Какие языковые правила вам нужно описать?\n",
        "+ Как ваша система будет генерировать результат, т.е. перевод?"
      ],
      "metadata": {
        "id": "H5rNupyNLWKr"
      }
    },
    {
      "cell_type": "code",
      "source": [
        "# образец псевдокода"
      ],
      "metadata": {
        "id": "cD781trJLPrG"
      },
      "execution_count": null,
      "outputs": []
    }
  ]
}