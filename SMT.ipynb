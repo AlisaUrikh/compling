{
  "nbformat": 4,
  "nbformat_minor": 0,
  "metadata": {
    "colab": {
      "provenance": [],
      "authorship_tag": "ABX9TyMqgDPbhRTOLuy1QrSlA0Zs",
      "include_colab_link": true
    },
    "kernelspec": {
      "name": "python3",
      "display_name": "Python 3"
    },
    "language_info": {
      "name": "python"
    }
  },
  "cells": [
    {
      "cell_type": "markdown",
      "metadata": {
        "id": "view-in-github",
        "colab_type": "text"
      },
      "source": [
        "<a href=\"https://colab.research.google.com/github/vifirsanova/compling/blob/main/SMT.ipynb\" target=\"_parent\"><img src=\"https://colab.research.google.com/assets/colab-badge.svg\" alt=\"Open In Colab\"/></a>"
      ]
    },
    {
      "cell_type": "markdown",
      "source": [
        "```Курс \"Компьютерная лингвистика\" | НИУ ВШЭ Санкт-Петербург\n",
        "2024 (c) В.И. Фирсанова```"
      ],
      "metadata": {
        "id": "GThBUzFy06JK"
      }
    },
    {
      "cell_type": "markdown",
      "source": [
        "# Tiny SMT\n",
        "\n",
        "*Обзор*\n",
        "\n",
        "**Введение (20 минут)**\n",
        "\n",
        "1. **Компоненты SMT (15 минут)**\n",
        "   - Определение SMT\n",
        "   - Компоненты: параллельные корпуса, выравнивание, языковая модель, модель перевода, декодер\n",
        "\n",
        "2. **Загрузка библиотек (5 минут)**\n",
        "   - Библиотеки для обработки текстов: NLTK, Spacy\n",
        "   - Библиотеки для машинного обучения: Scikit-learn\n",
        "\n",
        "**Tiny SMT (60 минут)**\n",
        "\n",
        "**1: Препроцессинг (15 минут)**\n",
        "\n",
        "1. **Паралелльные корпуса (5 минут)**\n",
        "   - Полезные ресурсы\n",
        "   - Загрузка датасета EN-DE\n",
        "\n",
        "2. **Подготовка данных (10 минут)**\n",
        "   - Чистка данных\n",
        "   - Токенизация\n",
        "\n",
        "**2: Модель SMT (20 минут)**\n",
        "\n",
        "1. **IBM 1 EM (10 минут)**\n",
        "   - Алгоритм Expectation-Maximization\n",
        "   - Пишем t-модель с нуля!\n",
        "\n",
        "2. **LM (10 минут)**\n",
        "   - Биграммная языковая модель\n",
        "   - Пишем крошечную LM\n",
        "\n",
        "**3: Оценка результатов (10 минут)**\n",
        "\n",
        "1. **BLEU Score (5 минут)**\n",
        "   - Как считать BLEU\n",
        "   - Оцениваем нашу модель\n",
        "\n",
        "2. **Интерпретация результатов (5 минут)**\n",
        "   - Генерация примеров\n",
        "   - Интерпретация!\n",
        "\n",
        "**Домашнее задание:**\n",
        "\n",
        "- Обучить модель на корпусе EN-RU"
      ],
      "metadata": {
        "id": "THDL2A3O0WiY"
      }
    },
    {
      "cell_type": "code",
      "execution_count": null,
      "metadata": {
        "id": "rco8-RsO0JPf"
      },
      "outputs": [],
      "source": []
    }
  ]
}